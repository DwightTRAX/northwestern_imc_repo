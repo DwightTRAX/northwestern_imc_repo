{
 "cells": [
  {
   "cell_type": "code",
   "execution_count": 1,
   "metadata": {},
   "outputs": [],
   "source": [
    "import glob\n",
    "import numpy as np\n",
    "import pandas as pd\n",
    "import seaborn as sns\n",
    "#import src.visuals as vs\n",
    "from matplotlib import pyplot as plt\n",
    "#from IPython.display import display # Allows the use of display() for DataFrames\n",
    "from scipy.stats import norm\n",
    "# Import supplementary visualizations code visuals.py\n",
    "#import lightgbm as lgb\n",
    "from sklearn.model_selection import train_test_split,GridSearchCV\n",
    "from sklearn.feature_selection import SelectKBest, f_classif\n",
    "from sklearn.linear_model import LogisticRegression\n",
    "from collections import Counter\n",
    "\n",
    "from imblearn.under_sampling import RandomUnderSampler\n",
    "from imblearn.over_sampling import SMOTE\n",
    "from sklearn.preprocessing import MinMaxScaler\n",
    "from sklearn.preprocessing import StandardScaler\n",
    "#from lightgbm.sklearn import LGBMClassifier\n",
    "\n",
    "from sklearn.metrics import classification_report\n",
    "from sklearn.metrics import f1_score,fbeta_score,make_scorer,roc_auc_score\n",
    "from sklearn.metrics import precision_recall_curve\n",
    "from sklearn.metrics import average_precision_score\n",
    "from sklearn.metrics import confusion_matrix\n",
    "from sklearn.cluster import KMeans\n",
    "from sklearn.metrics import silhouette_samples, silhouette_score\n",
    "\n",
    "import matplotlib.cm as cm\n",
    "import pickle\n",
    "\n",
    "from sklearn.externals import joblib\n",
    "seed = 3"
   ]
  },
  {
   "cell_type": "code",
   "execution_count": 2,
   "metadata": {},
   "outputs": [],
   "source": [
    "bc = pd.read_csv('data/branded_content_events.csv')\n",
    "ai = pd.read_csv('data/app_install_events.csv')\n",
    "ck = pd.read_csv('data/checkout_events.csv')"
   ]
  },
  {
   "cell_type": "markdown",
   "metadata": {},
   "source": [
    "### data quality check"
   ]
  },
  {
   "cell_type": "code",
   "execution_count": 3,
   "metadata": {},
   "outputs": [
    {
     "name": "stdout",
     "output_type": "stream",
     "text": [
      "<class 'pandas.core.frame.DataFrame'>\n",
      "RangeIndex: 2024077 entries, 0 to 2024076\n",
      "Data columns (total 4 columns):\n",
      "platform         2024077 non-null object\n",
      "campaign_name    2024077 non-null object\n",
      "event_time       2024077 non-null int64\n",
      "uid              2024077 non-null object\n",
      "dtypes: int64(1), object(3)\n",
      "memory usage: 61.8+ MB\n"
     ]
    }
   ],
   "source": [
    "bc.info(null_counts=True)"
   ]
  },
  {
   "cell_type": "code",
   "execution_count": 4,
   "metadata": {},
   "outputs": [],
   "source": [
    "bc = bc.drop_duplicates()"
   ]
  },
  {
   "cell_type": "code",
   "execution_count": 5,
   "metadata": {},
   "outputs": [],
   "source": [
    "bc.rename(columns={'event_time': 'ad_event_time'}, inplace=True)"
   ]
  },
  {
   "cell_type": "code",
   "execution_count": 12,
   "metadata": {},
   "outputs": [
    {
     "data": {
      "text/plain": [
       "(2023418, 4)"
      ]
     },
     "execution_count": 12,
     "metadata": {},
     "output_type": "execute_result"
    }
   ],
   "source": [
    "bc.shape"
   ]
  },
  {
   "cell_type": "code",
   "execution_count": null,
   "metadata": {},
   "outputs": [],
   "source": [
    "bc['event_date_time'] = pd.to_datetime(bc['event_time'],unit='s')\n",
    "bc['event_date'] = bc['event_date_time'].dt.date"
   ]
  },
  {
   "cell_type": "code",
   "execution_count": null,
   "metadata": {},
   "outputs": [],
   "source": [
    "bc.head()"
   ]
  },
  {
   "cell_type": "code",
   "execution_count": null,
   "metadata": {},
   "outputs": [],
   "source": [
    "bc['evet_dow'] = bc['event_date_time'].dt.dayofweek"
   ]
  },
  {
   "cell_type": "code",
   "execution_count": null,
   "metadata": {},
   "outputs": [],
   "source": [
    "ad_cnt = bc.groupby('event_date')['uid'].count().reset_index().sort_values(by='event_date')"
   ]
  },
  {
   "cell_type": "code",
   "execution_count": null,
   "metadata": {},
   "outputs": [],
   "source": [
    "plt.plot(ad_cnt['event_date'],ad_cnt['uid'],'o--')\n",
    "plt.title('uid count over advertise time')\n",
    "plt.xlabel('ad date')\n",
    "plt.ylabel('Number of uid')"
   ]
  },
  {
   "cell_type": "code",
   "execution_count": null,
   "metadata": {},
   "outputs": [],
   "source": [
    "fig, ax = plt.subplots(figsize=(18, 6))\n",
    "ax.plot(ad_cnt['event_date'],ad_cnt['uid'],'o--')\n",
    "ax.set_title('ads count')\n",
    "ax.set_xlabel('ads date')\n",
    "fig.autofmt_xdate(rotation=90)\n",
    "#plt.xticks(x, labels, rotation='vertical')\n",
    "ax.set_ylabel('Number of ads')"
   ]
  },
  {
   "cell_type": "code",
   "execution_count": null,
   "metadata": {},
   "outputs": [],
   "source": [
    "bc.head()"
   ]
  },
  {
   "cell_type": "code",
   "execution_count": 25,
   "metadata": {},
   "outputs": [
    {
     "data": {
      "text/plain": [
       "iPhone     1381740\n",
       "Android     641678\n",
       "Name: platform, dtype: int64"
      ]
     },
     "execution_count": 25,
     "metadata": {},
     "output_type": "execute_result"
    }
   ],
   "source": [
    "bc['platform'].value_counts()"
   ]
  },
  {
   "cell_type": "code",
   "execution_count": null,
   "metadata": {},
   "outputs": [],
   "source": [
    "top_5_list = bc['campaign_name'].value_counts().nlargest(5).index.tolist()"
   ]
  },
  {
   "cell_type": "code",
   "execution_count": null,
   "metadata": {},
   "outputs": [],
   "source": [
    "bc['campaign_name'] = np.where(bc['campaign_name'].isin(top_5_list),bc['campaign_name'],'non_top_5')"
   ]
  },
  {
   "cell_type": "code",
   "execution_count": null,
   "metadata": {},
   "outputs": [],
   "source": [
    "sign_week_perf = bc.groupby(['day_of_week'],as_index=False)['target'].mean()\n",
    "fig, ax = plt.subplots()\n",
    "plt.bar(sign_week_perf['day_of_week'], sign_week_perf['target'])"
   ]
  },
  {
   "cell_type": "code",
   "execution_count": 26,
   "metadata": {},
   "outputs": [
    {
     "data": {
      "text/plain": [
       "1690513"
      ]
     },
     "execution_count": 26,
     "metadata": {},
     "output_type": "execute_result"
    }
   ],
   "source": [
    "bc['uid'].nunique()"
   ]
  },
  {
   "cell_type": "code",
   "execution_count": null,
   "metadata": {},
   "outputs": [],
   "source": [
    "bc[['uid','campaign_name','platform']].drop_duplicates().shape"
   ]
  },
  {
   "cell_type": "code",
   "execution_count": null,
   "metadata": {},
   "outputs": [],
   "source": [
    "bc = bc.sort_values(by='event_time').drop_duplicates(subset=['uid','campaign_name','platform'], keep='last')"
   ]
  },
  {
   "cell_type": "code",
   "execution_count": null,
   "metadata": {},
   "outputs": [],
   "source": [
    "### App Install"
   ]
  },
  {
   "cell_type": "code",
   "execution_count": 6,
   "metadata": {},
   "outputs": [
    {
     "name": "stdout",
     "output_type": "stream",
     "text": [
      "<class 'pandas.core.frame.DataFrame'>\n",
      "RangeIndex: 143149 entries, 0 to 143148\n",
      "Data columns (total 5 columns):\n",
      "uid           62213 non-null object\n",
      "device_id     143149 non-null object\n",
      "event_time    143149 non-null int64\n",
      "article_id    62213 non-null float64\n",
      "source        143149 non-null object\n",
      "dtypes: float64(1), int64(1), object(3)\n",
      "memory usage: 5.5+ MB\n"
     ]
    }
   ],
   "source": [
    "ai.info(null_counts=True)"
   ]
  },
  {
   "cell_type": "code",
   "execution_count": 7,
   "metadata": {},
   "outputs": [],
   "source": [
    "ai = ai.drop_duplicates()"
   ]
  },
  {
   "cell_type": "code",
   "execution_count": 8,
   "metadata": {},
   "outputs": [],
   "source": [
    "ai.rename(columns={'event_time': 'ai_event_time'}, inplace=True)"
   ]
  },
  {
   "cell_type": "code",
   "execution_count": null,
   "metadata": {},
   "outputs": [],
   "source": [
    "ai_uid_isnull = ai[ai['uid'].isnull()]\n",
    "ai_uid_notnull = ai[ai['uid'].notnull()]"
   ]
  },
  {
   "cell_type": "code",
   "execution_count": null,
   "metadata": {},
   "outputs": [],
   "source": [
    "ai_uid_isnull['source'].value_counts()"
   ]
  },
  {
   "cell_type": "code",
   "execution_count": null,
   "metadata": {},
   "outputs": [],
   "source": [
    "ai_uid_notnull['source'].value_counts()"
   ]
  },
  {
   "cell_type": "code",
   "execution_count": null,
   "metadata": {},
   "outputs": [],
   "source": [
    "ai.info(null_counts=True)"
   ]
  },
  {
   "cell_type": "code",
   "execution_count": null,
   "metadata": {},
   "outputs": [],
   "source": [
    "ai['source'].value_counts()"
   ]
  },
  {
   "cell_type": "code",
   "execution_count": null,
   "metadata": {},
   "outputs": [],
   "source": [
    "ai_uid_null = ai[ai['uid'].isnull()]"
   ]
  },
  {
   "cell_type": "code",
   "execution_count": null,
   "metadata": {},
   "outputs": [],
   "source": [
    "ai_uid_null['source'].value_counts()"
   ]
  },
  {
   "cell_type": "code",
   "execution_count": null,
   "metadata": {},
   "outputs": [],
   "source": [
    "ai['']"
   ]
  },
  {
   "cell_type": "code",
   "execution_count": null,
   "metadata": {},
   "outputs": [],
   "source": []
  },
  {
   "cell_type": "code",
   "execution_count": null,
   "metadata": {},
   "outputs": [],
   "source": [
    "### checkout"
   ]
  },
  {
   "cell_type": "code",
   "execution_count": 9,
   "metadata": {},
   "outputs": [
    {
     "name": "stdout",
     "output_type": "stream",
     "text": [
      "<class 'pandas.core.frame.DataFrame'>\n",
      "RangeIndex: 17334 entries, 0 to 17333\n",
      "Data columns (total 4 columns):\n",
      "device_id          17186 non-null object\n",
      "checkout_time      17334 non-null int64\n",
      "checkout_status    17334 non-null object\n",
      "trial_converted    16303 non-null float64\n",
      "dtypes: float64(1), int64(1), object(2)\n",
      "memory usage: 541.8+ KB\n"
     ]
    }
   ],
   "source": [
    "ck.info(null_counts=True)"
   ]
  },
  {
   "cell_type": "code",
   "execution_count": 18,
   "metadata": {},
   "outputs": [],
   "source": [
    "ck = ck.drop_duplicates()"
   ]
  },
  {
   "cell_type": "code",
   "execution_count": 20,
   "metadata": {},
   "outputs": [
    {
     "data": {
      "text/plain": [
       "array(['trial_started', 'direct_purchase'], dtype=object)"
      ]
     },
     "execution_count": 20,
     "metadata": {},
     "output_type": "execute_result"
    }
   ],
   "source": [
    "ck['checkout_status'].unique()"
   ]
  },
  {
   "cell_type": "code",
   "execution_count": 21,
   "metadata": {},
   "outputs": [
    {
     "data": {
      "text/plain": [
       "array([ 1.,  0., nan])"
      ]
     },
     "execution_count": 21,
     "metadata": {},
     "output_type": "execute_result"
    }
   ],
   "source": [
    "ck['trial_converted'].unique()"
   ]
  },
  {
   "cell_type": "code",
   "execution_count": null,
   "metadata": {},
   "outputs": [],
   "source": [
    "ck = ck.dropna(axis='device_id')"
   ]
  },
  {
   "cell_type": "code",
   "execution_count": null,
   "metadata": {},
   "outputs": [],
   "source": [
    "ck.rename(columns={'event_time': 'ck_event_time'}, inplace=True)"
   ]
  },
  {
   "cell_type": "code",
   "execution_count": null,
   "metadata": {},
   "outputs": [],
   "source": []
  },
  {
   "cell_type": "code",
   "execution_count": null,
   "metadata": {},
   "outputs": [],
   "source": [
    "### super join"
   ]
  },
  {
   "cell_type": "code",
   "execution_count": 10,
   "metadata": {},
   "outputs": [],
   "source": [
    "t1 = pd.merge(bc, ai, on='uid', how='left')\n",
    "t2 = pd.merge(t1, ck, on='device_id', how='left')"
   ]
  },
  {
   "cell_type": "code",
   "execution_count": 11,
   "metadata": {},
   "outputs": [
    {
     "name": "stdout",
     "output_type": "stream",
     "text": [
      "<class 'pandas.core.frame.DataFrame'>\n",
      "Int64Index: 289984515 entries, 0 to 289984514\n",
      "Data columns (total 11 columns):\n",
      "platform           289984515 non-null object\n",
      "campaign_name      289984515 non-null object\n",
      "ad_event_time      289984515 non-null int64\n",
      "uid                289984515 non-null object\n",
      "device_id          65095 non-null object\n",
      "ai_event_time      65095 non-null float64\n",
      "article_id         65095 non-null float64\n",
      "source             65095 non-null object\n",
      "checkout_time      289923045 non-null float64\n",
      "checkout_status    289923045 non-null object\n",
      "trial_converted    276210560 non-null float64\n",
      "dtypes: float64(4), int64(1), object(6)\n",
      "memory usage: 25.9+ GB\n"
     ]
    }
   ],
   "source": [
    "t2.info(null_counts=True)"
   ]
  },
  {
   "cell_type": "code",
   "execution_count": null,
   "metadata": {},
   "outputs": [],
   "source": [
    "# What can you tell us about the effectiveness of our ad campaigns in terms of generating paid subscriptions?\n",
    "# Ans: number of ads VS number of subscribers"
   ]
  },
  {
   "cell_type": "code",
   "execution_count": 14,
   "metadata": {},
   "outputs": [],
   "source": [
    "uid_bc_lst = list(bc['uid'].unique())"
   ]
  },
  {
   "cell_type": "code",
   "execution_count": 17,
   "metadata": {},
   "outputs": [],
   "source": [
    "did_ai_lst = list(ai.loc[ai['uid'].isin(uid_bc_lst),'device_id'].unique())"
   ]
  },
  {
   "cell_type": "code",
   "execution_count": 23,
   "metadata": {},
   "outputs": [
    {
     "name": "stderr",
     "output_type": "stream",
     "text": [
      "/Users/dwightliu/anaconda3/lib/python3.6/site-packages/ipykernel_launcher.py:3: SettingWithCopyWarning: \n",
      "A value is trying to be set on a copy of a slice from a DataFrame.\n",
      "Try using .loc[row_indexer,col_indexer] = value instead\n",
      "\n",
      "See the caveats in the documentation: http://pandas.pydata.org/pandas-docs/stable/indexing.html#indexing-view-versus-copy\n",
      "  This is separate from the ipykernel package so we can avoid doing imports until\n"
     ]
    }
   ],
   "source": [
    "ck_ad = ck[ck['device_id'].isin(did_ai_lst)]\n",
    "ck_ad['acquired'] = np.where( (ck_ad['checkout_status'] == 'direct_purchase'), 1, \n",
    "         np.where( (ck_ad['checkout_status'] == 'trial_started') & (ck_ad['trial_converted'] == 1), 1, 0) \n",
    "        )"
   ]
  },
  {
   "cell_type": "code",
   "execution_count": 24,
   "metadata": {},
   "outputs": [
    {
     "data": {
      "text/plain": [
       "1008"
      ]
     },
     "execution_count": 24,
     "metadata": {},
     "output_type": "execute_result"
    }
   ],
   "source": [
    "ck_ad['acquired'].sum()"
   ]
  },
  {
   "cell_type": "code",
   "execution_count": 27,
   "metadata": {},
   "outputs": [
    {
     "data": {
      "text/plain": [
       "0.04981669630298831"
      ]
     },
     "execution_count": 27,
     "metadata": {},
     "output_type": "execute_result"
    }
   ],
   "source": [
    "100*1008/2023418"
   ]
  },
  {
   "cell_type": "code",
   "execution_count": null,
   "metadata": {},
   "outputs": [],
   "source": [
    "#What is our general time to acquisition from seeing the ad to getting a paid subscriber? \n",
    "#(Assume trial conversion always takes exactly 7 days)"
   ]
  },
  {
   "cell_type": "code",
   "execution_count": 28,
   "metadata": {},
   "outputs": [],
   "source": [
    "ck_acq = ck_ad[ck_ad['acquired'] == 1].copy()"
   ]
  },
  {
   "cell_type": "code",
   "execution_count": 29,
   "metadata": {},
   "outputs": [],
   "source": [
    "ck_acq['acquired_type'] = np.where((ck_acq['checkout_status'] == 'direct_purchase'), 'direct', 'through_trial')"
   ]
  },
  {
   "cell_type": "code",
   "execution_count": 30,
   "metadata": {},
   "outputs": [],
   "source": [
    "ck_acq = ck_acq[['device_id','checkout_time','acquired_type']].copy()"
   ]
  },
  {
   "cell_type": "code",
   "execution_count": 31,
   "metadata": {},
   "outputs": [],
   "source": [
    "ai_need = ai[['uid','device_id']].drop_duplicates().copy()"
   ]
  },
  {
   "cell_type": "code",
   "execution_count": 35,
   "metadata": {},
   "outputs": [
    {
     "data": {
      "text/plain": [
       "Index(['platform', 'campaign_name', 'ad_event_time', 'uid'], dtype='object')"
      ]
     },
     "execution_count": 35,
     "metadata": {},
     "output_type": "execute_result"
    }
   ],
   "source": [
    "bc.columns"
   ]
  },
  {
   "cell_type": "code",
   "execution_count": 36,
   "metadata": {},
   "outputs": [],
   "source": [
    "bc_need = bc[['uid','ad_event_time']].drop_duplicates().sort_values(by='ad_event_time').drop_duplicates(subset='uid', keep='last')"
   ]
  },
  {
   "cell_type": "code",
   "execution_count": 37,
   "metadata": {},
   "outputs": [],
   "source": [
    "m1 = pd.merge(ck_acq, ai_need, on='device_id', how='inner')"
   ]
  },
  {
   "cell_type": "code",
   "execution_count": 38,
   "metadata": {},
   "outputs": [],
   "source": [
    "m2 = pd.merge(m1, bc_need, on='uid', how='inner')"
   ]
  },
  {
   "cell_type": "code",
   "execution_count": 41,
   "metadata": {},
   "outputs": [
    {
     "data": {
      "text/plain": [
       "Index(['device_id', 'checkout_time', 'acquired_type', 'uid', 'ad_event_time'], dtype='object')"
      ]
     },
     "execution_count": 41,
     "metadata": {},
     "output_type": "execute_result"
    }
   ],
   "source": [
    "m2.columns"
   ]
  },
  {
   "cell_type": "code",
   "execution_count": 44,
   "metadata": {},
   "outputs": [],
   "source": [
    "m2['checkout_time'] = pd.to_datetime(m2['checkout_time'])\n",
    "m2['ad_event_time'] = pd.to_datetime(m2['ad_event_time'])\n",
    "m2['day_to_acq'] = m2['checkout_time']-m2['ad_event_time']\n",
    "m2['day_to_acq'] = m2['day_to_acq'].dt.days"
   ]
  },
  {
   "cell_type": "code",
   "execution_count": 45,
   "metadata": {},
   "outputs": [],
   "source": [
    "m2['day_to_acq'] = np.where(m2['acquired_type'] == 'through_trial', m2['day_to_acq'] + 7, m2['day_to_acq'])"
   ]
  },
  {
   "cell_type": "code",
   "execution_count": 46,
   "metadata": {},
   "outputs": [
    {
     "data": {
      "text/plain": [
       "6.521825396825397"
      ]
     },
     "execution_count": 46,
     "metadata": {},
     "output_type": "execute_result"
    }
   ],
   "source": [
    "m2['day_to_acq'].mean()"
   ]
  },
  {
   "cell_type": "code",
   "execution_count": null,
   "metadata": {},
   "outputs": [],
   "source": []
  },
  {
   "cell_type": "code",
   "execution_count": 47,
   "metadata": {},
   "outputs": [],
   "source": [
    "maxima = bc.groupby('uid')['ad_event_time'].max()\n",
    "bc['max_event'] = bc['uid'].map(maxima)"
   ]
  },
  {
   "cell_type": "code",
   "execution_count": 48,
   "metadata": {},
   "outputs": [],
   "source": [
    "check = bc[bc['max_event'] == bc['ad_event_time']]"
   ]
  },
  {
   "cell_type": "code",
   "execution_count": 49,
   "metadata": {},
   "outputs": [
    {
     "data": {
      "text/plain": [
       "(1690514, 5)"
      ]
     },
     "execution_count": 49,
     "metadata": {},
     "output_type": "execute_result"
    }
   ],
   "source": [
    "check.shape"
   ]
  },
  {
   "cell_type": "code",
   "execution_count": 50,
   "metadata": {},
   "outputs": [
    {
     "data": {
      "text/plain": [
       "1690513"
      ]
     },
     "execution_count": 50,
     "metadata": {},
     "output_type": "execute_result"
    }
   ],
   "source": [
    "check['uid'].nunique()"
   ]
  },
  {
   "cell_type": "code",
   "execution_count": 51,
   "metadata": {},
   "outputs": [
    {
     "data": {
      "text/html": [
       "<div>\n",
       "<style scoped>\n",
       "    .dataframe tbody tr th:only-of-type {\n",
       "        vertical-align: middle;\n",
       "    }\n",
       "\n",
       "    .dataframe tbody tr th {\n",
       "        vertical-align: top;\n",
       "    }\n",
       "\n",
       "    .dataframe thead th {\n",
       "        text-align: right;\n",
       "    }\n",
       "</style>\n",
       "<table border=\"1\" class=\"dataframe\">\n",
       "  <thead>\n",
       "    <tr style=\"text-align: right;\">\n",
       "      <th></th>\n",
       "      <th>platform</th>\n",
       "      <th>campaign_name</th>\n",
       "      <th>ad_event_time</th>\n",
       "      <th>uid</th>\n",
       "      <th>max_event</th>\n",
       "    </tr>\n",
       "  </thead>\n",
       "  <tbody>\n",
       "    <tr>\n",
       "      <th>1261760</th>\n",
       "      <td>Android</td>\n",
       "      <td>author_35</td>\n",
       "      <td>1552951651</td>\n",
       "      <td>0ec028</td>\n",
       "      <td>1552951651</td>\n",
       "    </tr>\n",
       "  </tbody>\n",
       "</table>\n",
       "</div>"
      ],
      "text/plain": [
       "        platform campaign_name  ad_event_time     uid   max_event\n",
       "1261760  Android     author_35     1552951651  0ec028  1552951651"
      ]
     },
     "execution_count": 51,
     "metadata": {},
     "output_type": "execute_result"
    }
   ],
   "source": [
    "check[check['uid'].duplicated()]"
   ]
  },
  {
   "cell_type": "code",
   "execution_count": 52,
   "metadata": {},
   "outputs": [
    {
     "data": {
      "text/html": [
       "<div>\n",
       "<style scoped>\n",
       "    .dataframe tbody tr th:only-of-type {\n",
       "        vertical-align: middle;\n",
       "    }\n",
       "\n",
       "    .dataframe tbody tr th {\n",
       "        vertical-align: top;\n",
       "    }\n",
       "\n",
       "    .dataframe thead th {\n",
       "        text-align: right;\n",
       "    }\n",
       "</style>\n",
       "<table border=\"1\" class=\"dataframe\">\n",
       "  <thead>\n",
       "    <tr style=\"text-align: right;\">\n",
       "      <th></th>\n",
       "      <th>platform</th>\n",
       "      <th>campaign_name</th>\n",
       "      <th>ad_event_time</th>\n",
       "      <th>uid</th>\n",
       "      <th>max_event</th>\n",
       "    </tr>\n",
       "  </thead>\n",
       "  <tbody>\n",
       "    <tr>\n",
       "      <th>612463</th>\n",
       "      <td>Android</td>\n",
       "      <td>author_88</td>\n",
       "      <td>1552083650</td>\n",
       "      <td>0ec028</td>\n",
       "      <td>1552951651</td>\n",
       "    </tr>\n",
       "    <tr>\n",
       "      <th>640633</th>\n",
       "      <td>Android</td>\n",
       "      <td>author_88</td>\n",
       "      <td>1551924319</td>\n",
       "      <td>0ec028</td>\n",
       "      <td>1552951651</td>\n",
       "    </tr>\n",
       "    <tr>\n",
       "      <th>660898</th>\n",
       "      <td>Android</td>\n",
       "      <td>author_88</td>\n",
       "      <td>1552046496</td>\n",
       "      <td>0ec028</td>\n",
       "      <td>1552951651</td>\n",
       "    </tr>\n",
       "    <tr>\n",
       "      <th>691501</th>\n",
       "      <td>Android</td>\n",
       "      <td>author_88</td>\n",
       "      <td>1552261694</td>\n",
       "      <td>0ec028</td>\n",
       "      <td>1552951651</td>\n",
       "    </tr>\n",
       "    <tr>\n",
       "      <th>723754</th>\n",
       "      <td>Android</td>\n",
       "      <td>author_88</td>\n",
       "      <td>1552059757</td>\n",
       "      <td>0ec028</td>\n",
       "      <td>1552951651</td>\n",
       "    </tr>\n",
       "    <tr>\n",
       "      <th>870617</th>\n",
       "      <td>Android</td>\n",
       "      <td>author_88</td>\n",
       "      <td>1552071411</td>\n",
       "      <td>0ec028</td>\n",
       "      <td>1552951651</td>\n",
       "    </tr>\n",
       "    <tr>\n",
       "      <th>894378</th>\n",
       "      <td>Android</td>\n",
       "      <td>author_88</td>\n",
       "      <td>1552390274</td>\n",
       "      <td>0ec028</td>\n",
       "      <td>1552951651</td>\n",
       "    </tr>\n",
       "    <tr>\n",
       "      <th>906340</th>\n",
       "      <td>Android</td>\n",
       "      <td>author_88</td>\n",
       "      <td>1552268507</td>\n",
       "      <td>0ec028</td>\n",
       "      <td>1552951651</td>\n",
       "    </tr>\n",
       "    <tr>\n",
       "      <th>1018421</th>\n",
       "      <td>Android</td>\n",
       "      <td>author_35</td>\n",
       "      <td>1552671125</td>\n",
       "      <td>0ec028</td>\n",
       "      <td>1552951651</td>\n",
       "    </tr>\n",
       "    <tr>\n",
       "      <th>1041944</th>\n",
       "      <td>Android</td>\n",
       "      <td>author_88</td>\n",
       "      <td>1552321550</td>\n",
       "      <td>0ec028</td>\n",
       "      <td>1552951651</td>\n",
       "    </tr>\n",
       "    <tr>\n",
       "      <th>1065824</th>\n",
       "      <td>Android</td>\n",
       "      <td>author_35</td>\n",
       "      <td>1552588305</td>\n",
       "      <td>0ec028</td>\n",
       "      <td>1552951651</td>\n",
       "    </tr>\n",
       "    <tr>\n",
       "      <th>1233439</th>\n",
       "      <td>Android</td>\n",
       "      <td>author_88</td>\n",
       "      <td>1552951651</td>\n",
       "      <td>0ec028</td>\n",
       "      <td>1552951651</td>\n",
       "    </tr>\n",
       "    <tr>\n",
       "      <th>1246619</th>\n",
       "      <td>Android</td>\n",
       "      <td>author_35</td>\n",
       "      <td>1552646242</td>\n",
       "      <td>0ec028</td>\n",
       "      <td>1552951651</td>\n",
       "    </tr>\n",
       "    <tr>\n",
       "      <th>1261760</th>\n",
       "      <td>Android</td>\n",
       "      <td>author_35</td>\n",
       "      <td>1552951651</td>\n",
       "      <td>0ec028</td>\n",
       "      <td>1552951651</td>\n",
       "    </tr>\n",
       "  </tbody>\n",
       "</table>\n",
       "</div>"
      ],
      "text/plain": [
       "        platform campaign_name  ad_event_time     uid   max_event\n",
       "612463   Android     author_88     1552083650  0ec028  1552951651\n",
       "640633   Android     author_88     1551924319  0ec028  1552951651\n",
       "660898   Android     author_88     1552046496  0ec028  1552951651\n",
       "691501   Android     author_88     1552261694  0ec028  1552951651\n",
       "723754   Android     author_88     1552059757  0ec028  1552951651\n",
       "870617   Android     author_88     1552071411  0ec028  1552951651\n",
       "894378   Android     author_88     1552390274  0ec028  1552951651\n",
       "906340   Android     author_88     1552268507  0ec028  1552951651\n",
       "1018421  Android     author_35     1552671125  0ec028  1552951651\n",
       "1041944  Android     author_88     1552321550  0ec028  1552951651\n",
       "1065824  Android     author_35     1552588305  0ec028  1552951651\n",
       "1233439  Android     author_88     1552951651  0ec028  1552951651\n",
       "1246619  Android     author_35     1552646242  0ec028  1552951651\n",
       "1261760  Android     author_35     1552951651  0ec028  1552951651"
      ]
     },
     "execution_count": 52,
     "metadata": {},
     "output_type": "execute_result"
    }
   ],
   "source": [
    "bc[bc['uid'] == '0ec028']"
   ]
  },
  {
   "cell_type": "code",
   "execution_count": null,
   "metadata": {},
   "outputs": [],
   "source": [
    "'''\n",
    "#Business goal\n",
    "We want to expand the spend on the sponsored content strategy while maintaining a level of efficiency. \n",
    "\n",
    "#The Questions\n",
    "\n",
    "-\tWhat can you tell us about the effectiveness of our ad campaigns in terms of generating paid subscriptions?\n",
    "-\tWhat is our general time to acquisition from seeing the ad to getting a paid subscriber? (Assume trial conversion always takes exactly 7 days)\n",
    "-\tWhat are the factors that affect the conversion rate to a paid subscription and what do you think that tells us about these visitors?\n",
    "\n",
    "#Additional Discussion\n",
    "-\tWhat would you recommend the performance marketing manager do? What would you recommend the product manager do? \n",
    "-\tWhat additional information would make this analysis more “complete” or actionable? If given that information and more time, how would that change your analysis?\n",
    "'''"
   ]
  },
  {
   "cell_type": "code",
   "execution_count": null,
   "metadata": {},
   "outputs": [],
   "source": []
  },
  {
   "cell_type": "code",
   "execution_count": null,
   "metadata": {},
   "outputs": [],
   "source": []
  }
 ],
 "metadata": {
  "kernelspec": {
   "display_name": "Python 3",
   "language": "python",
   "name": "python3"
  },
  "language_info": {
   "codemirror_mode": {
    "name": "ipython",
    "version": 3
   },
   "file_extension": ".py",
   "mimetype": "text/x-python",
   "name": "python",
   "nbconvert_exporter": "python",
   "pygments_lexer": "ipython3",
   "version": "3.6.5"
  }
 },
 "nbformat": 4,
 "nbformat_minor": 2
}
