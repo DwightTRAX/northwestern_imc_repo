{
 "cells": [
  {
   "cell_type": "code",
   "execution_count": 1,
   "metadata": {},
   "outputs": [
    {
     "name": "stderr",
     "output_type": "stream",
     "text": [
      "/Users/dwightliu/opt/anaconda3/lib/python3.7/site-packages/sklearn/externals/joblib/__init__.py:15: DeprecationWarning: sklearn.externals.joblib is deprecated in 0.21 and will be removed in 0.23. Please import this functionality directly from joblib, which can be installed with: pip install joblib. If this warning is raised when loading pickled models, you may need to re-serialize those models with scikit-learn 0.21+.\n",
      "  warnings.warn(msg, category=DeprecationWarning)\n"
     ]
    }
   ],
   "source": [
    "import glob\n",
    "import numpy as np\n",
    "import pandas as pd\n",
    "import seaborn as sns\n",
    "#import src.visuals as vs\n",
    "from matplotlib import pyplot as plt\n",
    "#from IPython.display import display # Allows the use of display() for DataFrames\n",
    "from scipy.stats import norm\n",
    "# Import supplementary visualizations code visuals.py\n",
    "#import lightgbm as lgb\n",
    "from sklearn.model_selection import train_test_split,GridSearchCV\n",
    "from sklearn.feature_selection import SelectKBest, f_classif\n",
    "from sklearn.linear_model import LogisticRegression\n",
    "from collections import Counter\n",
    "\n",
    "from imblearn.under_sampling import RandomUnderSampler\n",
    "from imblearn.over_sampling import SMOTE\n",
    "from sklearn.preprocessing import MinMaxScaler\n",
    "from sklearn.preprocessing import StandardScaler\n",
    "#from lightgbm.sklearn import LGBMClassifier\n",
    "\n",
    "from sklearn.metrics import classification_report\n",
    "from sklearn.metrics import f1_score,fbeta_score,make_scorer,roc_auc_score\n",
    "from sklearn.metrics import precision_recall_curve\n",
    "from sklearn.metrics import average_precision_score\n",
    "from sklearn.metrics import confusion_matrix\n",
    "from sklearn.cluster import KMeans\n",
    "from sklearn.metrics import silhouette_samples, silhouette_score\n",
    "\n",
    "import matplotlib.cm as cm\n",
    "import pickle\n",
    "\n",
    "from sklearn.externals import joblib\n",
    "seed = 3"
   ]
  },
  {
   "cell_type": "code",
   "execution_count": 2,
   "metadata": {},
   "outputs": [],
   "source": [
    "bc = pd.read_csv('data/branded_content_events.csv')\n",
    "ai = pd.read_csv('data/app_install_events.csv')\n",
    "ck = pd.read_csv('data/checkout_events.csv')"
   ]
  },
  {
   "cell_type": "markdown",
   "metadata": {},
   "source": [
    "### data quality check"
   ]
  },
  {
   "cell_type": "code",
   "execution_count": 3,
   "metadata": {},
   "outputs": [
    {
     "name": "stdout",
     "output_type": "stream",
     "text": [
      "<class 'pandas.core.frame.DataFrame'>\n",
      "RangeIndex: 2024077 entries, 0 to 2024076\n",
      "Data columns (total 4 columns):\n",
      "platform         2024077 non-null object\n",
      "campaign_name    2024077 non-null object\n",
      "event_time       2024077 non-null int64\n",
      "uid              2024077 non-null object\n",
      "dtypes: int64(1), object(3)\n",
      "memory usage: 61.8+ MB\n"
     ]
    }
   ],
   "source": [
    "bc.info(null_counts=True)"
   ]
  },
  {
   "cell_type": "code",
   "execution_count": 4,
   "metadata": {},
   "outputs": [
    {
     "data": {
      "text/plain": [
       "1690513"
      ]
     },
     "execution_count": 4,
     "metadata": {},
     "output_type": "execute_result"
    }
   ],
   "source": [
    "bc['uid'].nunique()"
   ]
  },
  {
   "cell_type": "code",
   "execution_count": 5,
   "metadata": {},
   "outputs": [],
   "source": [
    "bc = bc.drop_duplicates()"
   ]
  },
  {
   "cell_type": "code",
   "execution_count": 6,
   "metadata": {},
   "outputs": [],
   "source": [
    "bc.rename(columns={'event_time': 'ad_event_time'}, inplace=True)"
   ]
  },
  {
   "cell_type": "code",
   "execution_count": 7,
   "metadata": {},
   "outputs": [
    {
     "data": {
      "text/plain": [
       "(2023418, 4)"
      ]
     },
     "execution_count": 7,
     "metadata": {},
     "output_type": "execute_result"
    }
   ],
   "source": [
    "bc.shape"
   ]
  },
  {
   "cell_type": "markdown",
   "metadata": {},
   "source": [
    "### EDA"
   ]
  },
  {
   "cell_type": "code",
   "execution_count": 8,
   "metadata": {},
   "outputs": [],
   "source": [
    "bc['ad_event_time'] = pd.to_datetime(bc['ad_event_time'],unit='s')\n",
    "bc['ad_event_date'] = bc['ad_event_time'].dt.date"
   ]
  },
  {
   "cell_type": "code",
   "execution_count": 9,
   "metadata": {},
   "outputs": [
    {
     "data": {
      "text/html": [
       "<div>\n",
       "<style scoped>\n",
       "    .dataframe tbody tr th:only-of-type {\n",
       "        vertical-align: middle;\n",
       "    }\n",
       "\n",
       "    .dataframe tbody tr th {\n",
       "        vertical-align: top;\n",
       "    }\n",
       "\n",
       "    .dataframe thead th {\n",
       "        text-align: right;\n",
       "    }\n",
       "</style>\n",
       "<table border=\"1\" class=\"dataframe\">\n",
       "  <thead>\n",
       "    <tr style=\"text-align: right;\">\n",
       "      <th></th>\n",
       "      <th>platform</th>\n",
       "      <th>campaign_name</th>\n",
       "      <th>ad_event_time</th>\n",
       "      <th>uid</th>\n",
       "      <th>ad_event_date</th>\n",
       "    </tr>\n",
       "  </thead>\n",
       "  <tbody>\n",
       "    <tr>\n",
       "      <td>0</td>\n",
       "      <td>iPhone</td>\n",
       "      <td>author_88</td>\n",
       "      <td>2019-03-01 00:00:00</td>\n",
       "      <td>15a862</td>\n",
       "      <td>2019-03-01</td>\n",
       "    </tr>\n",
       "    <tr>\n",
       "      <td>1</td>\n",
       "      <td>iPhone</td>\n",
       "      <td>author_219</td>\n",
       "      <td>2019-03-01 00:00:01</td>\n",
       "      <td>0a9627</td>\n",
       "      <td>2019-03-01</td>\n",
       "    </tr>\n",
       "    <tr>\n",
       "      <td>2</td>\n",
       "      <td>iPhone</td>\n",
       "      <td>author_88</td>\n",
       "      <td>2019-03-01 00:00:02</td>\n",
       "      <td>073ae4</td>\n",
       "      <td>2019-03-01</td>\n",
       "    </tr>\n",
       "    <tr>\n",
       "      <td>3</td>\n",
       "      <td>iPhone</td>\n",
       "      <td>author_88</td>\n",
       "      <td>2019-03-01 00:00:04</td>\n",
       "      <td>12aff3</td>\n",
       "      <td>2019-03-01</td>\n",
       "    </tr>\n",
       "    <tr>\n",
       "      <td>4</td>\n",
       "      <td>iPhone</td>\n",
       "      <td>author_88</td>\n",
       "      <td>2019-03-01 00:00:04</td>\n",
       "      <td>1a0528</td>\n",
       "      <td>2019-03-01</td>\n",
       "    </tr>\n",
       "  </tbody>\n",
       "</table>\n",
       "</div>"
      ],
      "text/plain": [
       "  platform campaign_name       ad_event_time     uid ad_event_date\n",
       "0   iPhone     author_88 2019-03-01 00:00:00  15a862    2019-03-01\n",
       "1   iPhone    author_219 2019-03-01 00:00:01  0a9627    2019-03-01\n",
       "2   iPhone     author_88 2019-03-01 00:00:02  073ae4    2019-03-01\n",
       "3   iPhone     author_88 2019-03-01 00:00:04  12aff3    2019-03-01\n",
       "4   iPhone     author_88 2019-03-01 00:00:04  1a0528    2019-03-01"
      ]
     },
     "execution_count": 9,
     "metadata": {},
     "output_type": "execute_result"
    }
   ],
   "source": [
    "bc.head()"
   ]
  },
  {
   "cell_type": "code",
   "execution_count": 10,
   "metadata": {},
   "outputs": [],
   "source": [
    "bc['ad_dow'] = bc['ad_event_time'].dt.dayofweek"
   ]
  },
  {
   "cell_type": "code",
   "execution_count": 11,
   "metadata": {},
   "outputs": [],
   "source": [
    "bc['ad_hour'] = bc['ad_event_time'].dt.hour"
   ]
  },
  {
   "cell_type": "code",
   "execution_count": 12,
   "metadata": {},
   "outputs": [],
   "source": [
    "ad_cnt = bc.groupby('ad_event_date')['uid'].count().reset_index().sort_values(by='ad_event_date')"
   ]
  },
  {
   "cell_type": "code",
   "execution_count": 13,
   "metadata": {},
   "outputs": [
    {
     "name": "stderr",
     "output_type": "stream",
     "text": [
      "/Users/dwightliu/opt/anaconda3/lib/python3.7/site-packages/pandas/plotting/_matplotlib/converter.py:103: FutureWarning: Using an implicitly registered datetime converter for a matplotlib plotting method. The converter was registered by pandas on import. Future versions of pandas will require you to explicitly register matplotlib converters.\n",
      "\n",
      "To register the converters:\n",
      "\t>>> from pandas.plotting import register_matplotlib_converters\n",
      "\t>>> register_matplotlib_converters()\n",
      "  warnings.warn(msg, FutureWarning)\n"
     ]
    },
    {
     "data": {
      "text/plain": [
       "Text(0, 0.5, 'Number of ads')"
      ]
     },
     "execution_count": 13,
     "metadata": {},
     "output_type": "execute_result"
    },
    {
     "data": {
      "image/png": "[encoded data removed]",
      "text/plain": [
       "<Figure size 1296x432 with 1 Axes>"
      ]
     },
     "metadata": {
      "needs_background": "light"
     },
     "output_type": "display_data"
    }
   ],
   "source": [
    "fig, ax = plt.subplots(figsize=(18, 6))\n",
    "ax.plot(ad_cnt['ad_event_date'],ad_cnt['uid'],'o--')\n",
    "ax.set_title('ads count')\n",
    "ax.set_xlabel('ads date')\n",
    "fig.autofmt_xdate(rotation=90)\n",
    "ax.set_ylabel('Number of ads')"
   ]
  },
  {
   "cell_type": "code",
   "execution_count": 14,
   "metadata": {},
   "outputs": [
    {
     "data": {
      "image/png": "[encoded data removed]",
      "text/plain": [
       "<Figure size 1152x432 with 1 Axes>"
      ]
     },
     "metadata": {
      "needs_background": "light"
     },
     "output_type": "display_data"
    }
   ],
   "source": [
    "plt.figure(figsize=(16, 6))\n",
    "ax = sns.countplot(x=\"ad_dow\", data=bc)"
   ]
  },
  {
   "cell_type": "code",
   "execution_count": 15,
   "metadata": {},
   "outputs": [
    {
     "data": {
      "image/png": "[encoded data removed]",
      "text/plain": [
       "<Figure size 1152x432 with 1 Axes>"
      ]
     },
     "metadata": {
      "needs_background": "light"
     },
     "output_type": "display_data"
    }
   ],
   "source": [
    "plt.figure(figsize=(16, 6))\n",
    "ax = sns.countplot(x=\"ad_hour\", data=bc)"
   ]
  },
  {
   "cell_type": "code",
   "execution_count": 16,
   "metadata": {},
   "outputs": [
    {
     "data": {
      "image/png": "[encoded data removed]",
      "text/plain": [
       "<Figure size 720x432 with 1 Axes>"
      ]
     },
     "metadata": {
      "needs_background": "light"
     },
     "output_type": "display_data"
    }
   ],
   "source": [
    "plt.figure(figsize=(10, 6))\n",
    "ax = sns.countplot(x=\"platform\", data=bc)"
   ]
  },
  {
   "cell_type": "code",
   "execution_count": 17,
   "metadata": {},
   "outputs": [],
   "source": [
    "top_ten_list = bc['campaign_name'].value_counts().nlargest(10).index.tolist()"
   ]
  },
  {
   "cell_type": "code",
   "execution_count": 18,
   "metadata": {},
   "outputs": [],
   "source": [
    "bc['campaign_name_std'] = np.where(bc['campaign_name'].isin(top_ten_list),bc['campaign_name'],'non_top_ten')"
   ]
  },
  {
   "cell_type": "code",
   "execution_count": 19,
   "metadata": {},
   "outputs": [
    {
     "data": {
      "image/png": "[encoded data removed]",
      "text/plain": [
       "<Figure size 1152x432 with 1 Axes>"
      ]
     },
     "metadata": {
      "needs_background": "light"
     },
     "output_type": "display_data"
    }
   ],
   "source": [
    "plt.figure(figsize=(16, 6))\n",
    "ax = sns.countplot(x=\"campaign_name_std\", data=bc)"
   ]
  },
  {
   "cell_type": "code",
   "execution_count": 20,
   "metadata": {},
   "outputs": [
    {
     "data": {
      "text/plain": [
       "281"
      ]
     },
     "execution_count": 20,
     "metadata": {},
     "output_type": "execute_result"
    }
   ],
   "source": [
    "bc['campaign_name'].nunique()"
   ]
  },
  {
   "cell_type": "code",
   "execution_count": 21,
   "metadata": {},
   "outputs": [],
   "source": [
    "### App Install"
   ]
  },
  {
   "cell_type": "code",
   "execution_count": 22,
   "metadata": {},
   "outputs": [
    {
     "name": "stdout",
     "output_type": "stream",
     "text": [
      "<class 'pandas.core.frame.DataFrame'>\n",
      "RangeIndex: 143149 entries, 0 to 143148\n",
      "Data columns (total 5 columns):\n",
      "uid           62213 non-null object\n",
      "device_id     143149 non-null object\n",
      "event_time    143149 non-null int64\n",
      "article_id    62213 non-null float64\n",
      "source        143149 non-null object\n",
      "dtypes: float64(1), int64(1), object(3)\n",
      "memory usage: 5.5+ MB\n"
     ]
    }
   ],
   "source": [
    "ai.info(null_counts=True)"
   ]
  },
  {
   "cell_type": "code",
   "execution_count": 23,
   "metadata": {},
   "outputs": [],
   "source": [
    "ai = ai.drop_duplicates()"
   ]
  },
  {
   "cell_type": "code",
   "execution_count": 24,
   "metadata": {},
   "outputs": [],
   "source": [
    "ai.rename(columns={'event_time': 'ai_event_time'}, inplace=True)"
   ]
  },
  {
   "cell_type": "code",
   "execution_count": 25,
   "metadata": {},
   "outputs": [
    {
     "name": "stdout",
     "output_type": "stream",
     "text": [
      "<class 'pandas.core.frame.DataFrame'>\n",
      "Int64Index: 143146 entries, 0 to 143148\n",
      "Data columns (total 5 columns):\n",
      "uid              62212 non-null object\n",
      "device_id        143146 non-null object\n",
      "ai_event_time    143146 non-null int64\n",
      "article_id       62212 non-null float64\n",
      "source           143146 non-null object\n",
      "dtypes: float64(1), int64(1), object(3)\n",
      "memory usage: 6.6+ MB\n"
     ]
    }
   ],
   "source": [
    "ai.info()"
   ]
  },
  {
   "cell_type": "code",
   "execution_count": null,
   "metadata": {},
   "outputs": [],
   "source": []
  },
  {
   "cell_type": "code",
   "execution_count": 26,
   "metadata": {},
   "outputs": [
    {
     "data": {
      "image/png": "[encoded data removed]",
      "text/plain": [
       "<Figure size 720x432 with 1 Axes>"
      ]
     },
     "metadata": {
      "needs_background": "light"
     },
     "output_type": "display_data"
    }
   ],
   "source": [
    "plt.figure(figsize=(10, 6))\n",
    "ax = sns.countplot(x=\"source\", data=ai)"
   ]
  },
  {
   "cell_type": "code",
   "execution_count": 27,
   "metadata": {},
   "outputs": [],
   "source": [
    "ai['ai_event_time'] = pd.to_datetime(ai['ai_event_time'],unit='s')\n",
    "ai['ai_event_date'] = ai['ai_event_time'].dt.date\n",
    "ai['ai_dow'] = ai['ai_event_time'].dt.dayofweek\n",
    "ai['ai_hour'] = ai['ai_event_time'].dt.hour"
   ]
  },
  {
   "cell_type": "code",
   "execution_count": 28,
   "metadata": {},
   "outputs": [],
   "source": [
    "ai_cnt = ai.groupby('ai_event_date').size().to_frame('ai_cnt').reset_index().sort_values(by='ai_event_date')"
   ]
  },
  {
   "cell_type": "code",
   "execution_count": 29,
   "metadata": {},
   "outputs": [
    {
     "data": {
      "text/plain": [
       "Text(0, 0.5, 'Number of ads')"
      ]
     },
     "execution_count": 29,
     "metadata": {},
     "output_type": "execute_result"
    },
    {
     "data": {
      "image/png": "[encoded data removed]",
      "text/plain": [
       "<Figure size 1296x432 with 1 Axes>"
      ]
     },
     "metadata": {
      "needs_background": "light"
     },
     "output_type": "display_data"
    }
   ],
   "source": [
    "fig, ax = plt.subplots(figsize=(18, 6))\n",
    "ax.plot(ai_cnt['ai_event_date'],ai_cnt['ai_cnt'],'o--')\n",
    "ax.set_title('install count')\n",
    "ax.set_xlabel('install date')\n",
    "fig.autofmt_xdate(rotation=90)\n",
    "ax.set_ylabel('Number of ads')"
   ]
  },
  {
   "cell_type": "code",
   "execution_count": 30,
   "metadata": {},
   "outputs": [],
   "source": [
    "ai_uid_isnull = ai[ai['uid'].isnull()]\n",
    "ai_uid_notnull = ai[ai['uid'].notnull()]"
   ]
  },
  {
   "cell_type": "code",
   "execution_count": 31,
   "metadata": {},
   "outputs": [
    {
     "data": {
      "text/html": [
       "<div>\n",
       "<style scoped>\n",
       "    .dataframe tbody tr th:only-of-type {\n",
       "        vertical-align: middle;\n",
       "    }\n",
       "\n",
       "    .dataframe tbody tr th {\n",
       "        vertical-align: top;\n",
       "    }\n",
       "\n",
       "    .dataframe thead th {\n",
       "        text-align: right;\n",
       "    }\n",
       "</style>\n",
       "<table border=\"1\" class=\"dataframe\">\n",
       "  <thead>\n",
       "    <tr style=\"text-align: right;\">\n",
       "      <th></th>\n",
       "      <th>article_id</th>\n",
       "      <th>ai_dow</th>\n",
       "      <th>ai_hour</th>\n",
       "    </tr>\n",
       "  </thead>\n",
       "  <tbody>\n",
       "    <tr>\n",
       "      <td>count</td>\n",
       "      <td>0.0</td>\n",
       "      <td>80934.000000</td>\n",
       "      <td>80934.000000</td>\n",
       "    </tr>\n",
       "    <tr>\n",
       "      <td>mean</td>\n",
       "      <td>NaN</td>\n",
       "      <td>2.999283</td>\n",
       "      <td>12.187746</td>\n",
       "    </tr>\n",
       "    <tr>\n",
       "      <td>std</td>\n",
       "      <td>NaN</td>\n",
       "      <td>1.932088</td>\n",
       "      <td>7.504729</td>\n",
       "    </tr>\n",
       "    <tr>\n",
       "      <td>min</td>\n",
       "      <td>NaN</td>\n",
       "      <td>0.000000</td>\n",
       "      <td>0.000000</td>\n",
       "    </tr>\n",
       "    <tr>\n",
       "      <td>25%</td>\n",
       "      <td>NaN</td>\n",
       "      <td>1.000000</td>\n",
       "      <td>4.000000</td>\n",
       "    </tr>\n",
       "    <tr>\n",
       "      <td>50%</td>\n",
       "      <td>NaN</td>\n",
       "      <td>3.000000</td>\n",
       "      <td>14.000000</td>\n",
       "    </tr>\n",
       "    <tr>\n",
       "      <td>75%</td>\n",
       "      <td>NaN</td>\n",
       "      <td>5.000000</td>\n",
       "      <td>18.000000</td>\n",
       "    </tr>\n",
       "    <tr>\n",
       "      <td>max</td>\n",
       "      <td>NaN</td>\n",
       "      <td>6.000000</td>\n",
       "      <td>23.000000</td>\n",
       "    </tr>\n",
       "  </tbody>\n",
       "</table>\n",
       "</div>"
      ],
      "text/plain": [
       "       article_id        ai_dow       ai_hour\n",
       "count         0.0  80934.000000  80934.000000\n",
       "mean          NaN      2.999283     12.187746\n",
       "std           NaN      1.932088      7.504729\n",
       "min           NaN      0.000000      0.000000\n",
       "25%           NaN      1.000000      4.000000\n",
       "50%           NaN      3.000000     14.000000\n",
       "75%           NaN      5.000000     18.000000\n",
       "max           NaN      6.000000     23.000000"
      ]
     },
     "execution_count": 31,
     "metadata": {},
     "output_type": "execute_result"
    }
   ],
   "source": [
    "ai_uid_isnull.describe()"
   ]
  },
  {
   "cell_type": "code",
   "execution_count": 32,
   "metadata": {},
   "outputs": [
    {
     "data": {
      "text/html": [
       "<div>\n",
       "<style scoped>\n",
       "    .dataframe tbody tr th:only-of-type {\n",
       "        vertical-align: middle;\n",
       "    }\n",
       "\n",
       "    .dataframe tbody tr th {\n",
       "        vertical-align: top;\n",
       "    }\n",
       "\n",
       "    .dataframe thead th {\n",
       "        text-align: right;\n",
       "    }\n",
       "</style>\n",
       "<table border=\"1\" class=\"dataframe\">\n",
       "  <thead>\n",
       "    <tr style=\"text-align: right;\">\n",
       "      <th></th>\n",
       "      <th>article_id</th>\n",
       "      <th>ai_dow</th>\n",
       "      <th>ai_hour</th>\n",
       "    </tr>\n",
       "  </thead>\n",
       "  <tbody>\n",
       "    <tr>\n",
       "      <td>count</td>\n",
       "      <td>62212.000000</td>\n",
       "      <td>62212.000000</td>\n",
       "      <td>62212.000000</td>\n",
       "    </tr>\n",
       "    <tr>\n",
       "      <td>mean</td>\n",
       "      <td>4156.216807</td>\n",
       "      <td>2.822253</td>\n",
       "      <td>11.735003</td>\n",
       "    </tr>\n",
       "    <tr>\n",
       "      <td>std</td>\n",
       "      <td>791.619978</td>\n",
       "      <td>1.832151</td>\n",
       "      <td>7.799330</td>\n",
       "    </tr>\n",
       "    <tr>\n",
       "      <td>min</td>\n",
       "      <td>3047.000000</td>\n",
       "      <td>0.000000</td>\n",
       "      <td>0.000000</td>\n",
       "    </tr>\n",
       "    <tr>\n",
       "      <td>25%</td>\n",
       "      <td>3405.000000</td>\n",
       "      <td>1.000000</td>\n",
       "      <td>3.000000</td>\n",
       "    </tr>\n",
       "    <tr>\n",
       "      <td>50%</td>\n",
       "      <td>4130.000000</td>\n",
       "      <td>3.000000</td>\n",
       "      <td>13.000000</td>\n",
       "    </tr>\n",
       "    <tr>\n",
       "      <td>75%</td>\n",
       "      <td>4834.000000</td>\n",
       "      <td>4.000000</td>\n",
       "      <td>19.000000</td>\n",
       "    </tr>\n",
       "    <tr>\n",
       "      <td>max</td>\n",
       "      <td>5596.000000</td>\n",
       "      <td>6.000000</td>\n",
       "      <td>23.000000</td>\n",
       "    </tr>\n",
       "  </tbody>\n",
       "</table>\n",
       "</div>"
      ],
      "text/plain": [
       "         article_id        ai_dow       ai_hour\n",
       "count  62212.000000  62212.000000  62212.000000\n",
       "mean    4156.216807      2.822253     11.735003\n",
       "std      791.619978      1.832151      7.799330\n",
       "min     3047.000000      0.000000      0.000000\n",
       "25%     3405.000000      1.000000      3.000000\n",
       "50%     4130.000000      3.000000     13.000000\n",
       "75%     4834.000000      4.000000     19.000000\n",
       "max     5596.000000      6.000000     23.000000"
      ]
     },
     "execution_count": 32,
     "metadata": {},
     "output_type": "execute_result"
    }
   ],
   "source": [
    "ai_uid_notnull.describe()"
   ]
  },
  {
   "cell_type": "code",
   "execution_count": 33,
   "metadata": {},
   "outputs": [
    {
     "name": "stderr",
     "output_type": "stream",
     "text": [
      "/Users/dwightliu/opt/anaconda3/lib/python3.7/site-packages/ipykernel_launcher.py:1: SettingWithCopyWarning: \n",
      "A value is trying to be set on a copy of a slice from a DataFrame.\n",
      "Try using .loc[row_indexer,col_indexer] = value instead\n",
      "\n",
      "See the caveats in the documentation: http://pandas.pydata.org/pandas-docs/stable/user_guide/indexing.html#returning-a-view-versus-a-copy\n",
      "  \"\"\"Entry point for launching an IPython kernel.\n"
     ]
    }
   ],
   "source": [
    "ai_uid_notnull['article_id'] = ai_uid_notnull['article_id'].astype(int)"
   ]
  },
  {
   "cell_type": "code",
   "execution_count": 34,
   "metadata": {},
   "outputs": [
    {
     "data": {
      "text/plain": [
       "3172    10606\n",
       "3505     3293\n",
       "5335     2806\n",
       "4656     1904\n",
       "5077     1788\n",
       "        ...  \n",
       "4301        1\n",
       "4397        1\n",
       "4429        1\n",
       "4557        1\n",
       "4146        1\n",
       "Name: article_id, Length: 2550, dtype: int64"
      ]
     },
     "execution_count": 34,
     "metadata": {},
     "output_type": "execute_result"
    }
   ],
   "source": [
    "ai_uid_notnull['article_id'].value_counts()"
   ]
  },
  {
   "cell_type": "code",
   "execution_count": 35,
   "metadata": {},
   "outputs": [
    {
     "name": "stderr",
     "output_type": "stream",
     "text": [
      "/Users/dwightliu/opt/anaconda3/lib/python3.7/site-packages/ipykernel_launcher.py:2: SettingWithCopyWarning: \n",
      "A value is trying to be set on a copy of a slice from a DataFrame.\n",
      "Try using .loc[row_indexer,col_indexer] = value instead\n",
      "\n",
      "See the caveats in the documentation: http://pandas.pydata.org/pandas-docs/stable/user_guide/indexing.html#returning-a-view-versus-a-copy\n",
      "  \n"
     ]
    }
   ],
   "source": [
    "article_top_ten_list = ai_uid_notnull['article_id'].value_counts().nlargest(10).index.tolist()\n",
    "ai_uid_notnull['article_id_std'] = np.where(ai_uid_notnull['article_id'].isin(article_top_ten_list),ai_uid_notnull['article_id'],'non_top_ten')"
   ]
  },
  {
   "cell_type": "code",
   "execution_count": 36,
   "metadata": {},
   "outputs": [
    {
     "data": {
      "image/png": "[encoded data removed]",
      "text/plain": [
       "<Figure size 1152x432 with 1 Axes>"
      ]
     },
     "metadata": {
      "needs_background": "light"
     },
     "output_type": "display_data"
    }
   ],
   "source": [
    "plt.figure(figsize=(16, 6))\n",
    "ax = sns.countplot(x=\"article_id_std\", data=ai_uid_notnull)"
   ]
  },
  {
   "cell_type": "code",
   "execution_count": 37,
   "metadata": {},
   "outputs": [],
   "source": [
    "### checkout"
   ]
  },
  {
   "cell_type": "code",
   "execution_count": 38,
   "metadata": {},
   "outputs": [
    {
     "name": "stdout",
     "output_type": "stream",
     "text": [
      "<class 'pandas.core.frame.DataFrame'>\n",
      "RangeIndex: 17334 entries, 0 to 17333\n",
      "Data columns (total 4 columns):\n",
      "device_id          17186 non-null object\n",
      "checkout_time      17334 non-null int64\n",
      "checkout_status    17334 non-null object\n",
      "trial_converted    16303 non-null float64\n",
      "dtypes: float64(1), int64(1), object(2)\n",
      "memory usage: 541.8+ KB\n"
     ]
    }
   ],
   "source": [
    "ck.info(null_counts=True)"
   ]
  },
  {
   "cell_type": "code",
   "execution_count": 39,
   "metadata": {},
   "outputs": [],
   "source": [
    "ck = ck.drop_duplicates()"
   ]
  },
  {
   "cell_type": "code",
   "execution_count": 40,
   "metadata": {},
   "outputs": [],
   "source": [
    "ck['checkout_time'] = pd.to_datetime(ck['checkout_time'],unit='s')"
   ]
  },
  {
   "cell_type": "code",
   "execution_count": 41,
   "metadata": {},
   "outputs": [
    {
     "data": {
      "text/html": [
       "<div>\n",
       "<style scoped>\n",
       "    .dataframe tbody tr th:only-of-type {\n",
       "        vertical-align: middle;\n",
       "    }\n",
       "\n",
       "    .dataframe tbody tr th {\n",
       "        vertical-align: top;\n",
       "    }\n",
       "\n",
       "    .dataframe thead th {\n",
       "        text-align: right;\n",
       "    }\n",
       "</style>\n",
       "<table border=\"1\" class=\"dataframe\">\n",
       "  <thead>\n",
       "    <tr style=\"text-align: right;\">\n",
       "      <th></th>\n",
       "      <th>device_id</th>\n",
       "      <th>checkout_time</th>\n",
       "      <th>checkout_status</th>\n",
       "      <th>trial_converted</th>\n",
       "    </tr>\n",
       "  </thead>\n",
       "  <tbody>\n",
       "    <tr>\n",
       "      <td>0</td>\n",
       "      <td>be6-8d92a4-15483</td>\n",
       "      <td>2019-03-09 14:56:59</td>\n",
       "      <td>trial_started</td>\n",
       "      <td>1.0</td>\n",
       "    </tr>\n",
       "    <tr>\n",
       "      <td>1</td>\n",
       "      <td>be6-8d92a4-0a029</td>\n",
       "      <td>2019-03-13 13:33:58</td>\n",
       "      <td>trial_started</td>\n",
       "      <td>1.0</td>\n",
       "    </tr>\n",
       "    <tr>\n",
       "      <td>2</td>\n",
       "      <td>be6-8d92a4-0a851</td>\n",
       "      <td>2019-03-14 18:58:01</td>\n",
       "      <td>trial_started</td>\n",
       "      <td>1.0</td>\n",
       "    </tr>\n",
       "    <tr>\n",
       "      <td>3</td>\n",
       "      <td>be6-8d92a4-13f97</td>\n",
       "      <td>2019-03-29 04:56:48</td>\n",
       "      <td>trial_started</td>\n",
       "      <td>1.0</td>\n",
       "    </tr>\n",
       "    <tr>\n",
       "      <td>4</td>\n",
       "      <td>be6-8d92a4-1269e</td>\n",
       "      <td>2019-03-07 17:38:20</td>\n",
       "      <td>trial_started</td>\n",
       "      <td>1.0</td>\n",
       "    </tr>\n",
       "  </tbody>\n",
       "</table>\n",
       "</div>"
      ],
      "text/plain": [
       "          device_id       checkout_time checkout_status  trial_converted\n",
       "0  be6-8d92a4-15483 2019-03-09 14:56:59   trial_started              1.0\n",
       "1  be6-8d92a4-0a029 2019-03-13 13:33:58   trial_started              1.0\n",
       "2  be6-8d92a4-0a851 2019-03-14 18:58:01   trial_started              1.0\n",
       "3  be6-8d92a4-13f97 2019-03-29 04:56:48   trial_started              1.0\n",
       "4  be6-8d92a4-1269e 2019-03-07 17:38:20   trial_started              1.0"
      ]
     },
     "execution_count": 41,
     "metadata": {},
     "output_type": "execute_result"
    }
   ],
   "source": [
    "ck.head()"
   ]
  },
  {
   "cell_type": "code",
   "execution_count": 42,
   "metadata": {},
   "outputs": [
    {
     "name": "stdout",
     "output_type": "stream",
     "text": [
      "<class 'pandas.core.frame.DataFrame'>\n",
      "Int64Index: 17333 entries, 0 to 17333\n",
      "Data columns (total 4 columns):\n",
      "device_id          17186 non-null object\n",
      "checkout_time      17333 non-null datetime64[ns]\n",
      "checkout_status    17333 non-null object\n",
      "trial_converted    16302 non-null float64\n",
      "dtypes: datetime64[ns](1), float64(1), object(2)\n",
      "memory usage: 677.1+ KB\n"
     ]
    }
   ],
   "source": [
    "ck.info(null_counts=True)"
   ]
  },
  {
   "cell_type": "markdown",
   "metadata": {},
   "source": [
    "# What can you tell us about the effectiveness of our ad campaigns in terms of generating paid subscriptions?"
   ]
  },
  {
   "cell_type": "code",
   "execution_count": 43,
   "metadata": {},
   "outputs": [],
   "source": [
    "uid_bc_lst = list(bc['uid'].unique())"
   ]
  },
  {
   "cell_type": "code",
   "execution_count": 44,
   "metadata": {},
   "outputs": [],
   "source": [
    "did_ai_lst = list(ai.loc[ai['uid'].isin(uid_bc_lst),'device_id'].unique())"
   ]
  },
  {
   "cell_type": "code",
   "execution_count": 45,
   "metadata": {},
   "outputs": [
    {
     "name": "stderr",
     "output_type": "stream",
     "text": [
      "/Users/dwightliu/opt/anaconda3/lib/python3.7/site-packages/ipykernel_launcher.py:3: SettingWithCopyWarning: \n",
      "A value is trying to be set on a copy of a slice from a DataFrame.\n",
      "Try using .loc[row_indexer,col_indexer] = value instead\n",
      "\n",
      "See the caveats in the documentation: http://pandas.pydata.org/pandas-docs/stable/user_guide/indexing.html#returning-a-view-versus-a-copy\n",
      "  This is separate from the ipykernel package so we can avoid doing imports until\n"
     ]
    }
   ],
   "source": [
    "ck_ad = ck[ck['device_id'].isin(did_ai_lst)]\n",
    "ck_ad['acquired'] = np.where( (ck_ad['checkout_status'] == 'direct_purchase'), 1, \n",
    "         np.where( (ck_ad['checkout_status'] == 'trial_started') & (ck_ad['trial_converted'] == 1), 1, 0) \n",
    "        )"
   ]
  },
  {
   "cell_type": "code",
   "execution_count": null,
   "metadata": {},
   "outputs": [],
   "source": []
  },
  {
   "cell_type": "code",
   "execution_count": 46,
   "metadata": {},
   "outputs": [
    {
     "name": "stdout",
     "output_type": "stream",
     "text": [
      "total adtertisement we show in Facebook:  2023418\n",
      "total customers we acquired:  1008\n",
      "conversion rate: 0.0498%\n"
     ]
    }
   ],
   "source": [
    "print('total adtertisement we show in Facebook: ',bc.shape[0])\n",
    "print('total customers we acquired: ',ck_ad['acquired'].sum())\n",
    "print('conversion rate: {}%'.format(round(100*ck_ad['acquired'].sum()/bc.shape[0],4)))"
   ]
  },
  {
   "cell_type": "markdown",
   "metadata": {},
   "source": [
    "# What is our general time to acquisition from seeing the ad to getting a paid subscriber? (Assume trial conversion always takes exactly 7 days)"
   ]
  },
  {
   "cell_type": "code",
   "execution_count": 47,
   "metadata": {},
   "outputs": [],
   "source": [
    "ck_acq = ck_ad[ck_ad['acquired'] == 1].copy()"
   ]
  },
  {
   "cell_type": "code",
   "execution_count": 48,
   "metadata": {},
   "outputs": [],
   "source": [
    "ck_acq['acquired_type'] = np.where((ck_acq['checkout_status'] == 'direct_purchase'), 'direct', 'through_trial')"
   ]
  },
  {
   "cell_type": "code",
   "execution_count": 49,
   "metadata": {},
   "outputs": [],
   "source": [
    "ck_acq = ck_acq[['device_id','checkout_time','acquired_type']].copy()"
   ]
  },
  {
   "cell_type": "code",
   "execution_count": 50,
   "metadata": {},
   "outputs": [],
   "source": [
    "ai_need = ai[['uid','device_id']].drop_duplicates().copy()"
   ]
  },
  {
   "cell_type": "code",
   "execution_count": 51,
   "metadata": {},
   "outputs": [
    {
     "data": {
      "text/plain": [
       "Index(['platform', 'campaign_name', 'ad_event_time', 'uid', 'ad_event_date',\n",
       "       'ad_dow', 'ad_hour', 'campaign_name_std'],\n",
       "      dtype='object')"
      ]
     },
     "execution_count": 51,
     "metadata": {},
     "output_type": "execute_result"
    }
   ],
   "source": [
    "bc.columns"
   ]
  },
  {
   "cell_type": "code",
   "execution_count": 52,
   "metadata": {},
   "outputs": [],
   "source": [
    "bc_need = bc[['uid','ad_event_time']].drop_duplicates().sort_values(by='ad_event_time').drop_duplicates(subset='uid', keep='first')"
   ]
  },
  {
   "cell_type": "code",
   "execution_count": 53,
   "metadata": {},
   "outputs": [],
   "source": [
    "m1 = pd.merge(ck_acq, ai_need, on='device_id', how='inner')"
   ]
  },
  {
   "cell_type": "code",
   "execution_count": 54,
   "metadata": {},
   "outputs": [],
   "source": [
    "m2 = pd.merge(m1, bc_need, on='uid', how='inner')"
   ]
  },
  {
   "cell_type": "code",
   "execution_count": 55,
   "metadata": {},
   "outputs": [
    {
     "data": {
      "text/plain": [
       "Index(['device_id', 'checkout_time', 'acquired_type', 'uid', 'ad_event_time'], dtype='object')"
      ]
     },
     "execution_count": 55,
     "metadata": {},
     "output_type": "execute_result"
    }
   ],
   "source": [
    "m2.columns"
   ]
  },
  {
   "cell_type": "code",
   "execution_count": 56,
   "metadata": {},
   "outputs": [
    {
     "data": {
      "text/html": [
       "<div>\n",
       "<style scoped>\n",
       "    .dataframe tbody tr th:only-of-type {\n",
       "        vertical-align: middle;\n",
       "    }\n",
       "\n",
       "    .dataframe tbody tr th {\n",
       "        vertical-align: top;\n",
       "    }\n",
       "\n",
       "    .dataframe thead th {\n",
       "        text-align: right;\n",
       "    }\n",
       "</style>\n",
       "<table border=\"1\" class=\"dataframe\">\n",
       "  <thead>\n",
       "    <tr style=\"text-align: right;\">\n",
       "      <th></th>\n",
       "      <th>device_id</th>\n",
       "      <th>checkout_time</th>\n",
       "      <th>acquired_type</th>\n",
       "      <th>uid</th>\n",
       "      <th>ad_event_time</th>\n",
       "    </tr>\n",
       "  </thead>\n",
       "  <tbody>\n",
       "    <tr>\n",
       "      <td>0</td>\n",
       "      <td>be6-8d92a4-0a029</td>\n",
       "      <td>2019-03-13 13:33:58</td>\n",
       "      <td>through_trial</td>\n",
       "      <td>116184</td>\n",
       "      <td>2019-03-13 13:32:20</td>\n",
       "    </tr>\n",
       "    <tr>\n",
       "      <td>1</td>\n",
       "      <td>be6-8d92a4-0a851</td>\n",
       "      <td>2019-03-14 18:58:01</td>\n",
       "      <td>through_trial</td>\n",
       "      <td>18cd91</td>\n",
       "      <td>2019-03-14 18:55:14</td>\n",
       "    </tr>\n",
       "    <tr>\n",
       "      <td>2</td>\n",
       "      <td>be6-8d92a4-1291f</td>\n",
       "      <td>2019-03-15 03:38:39</td>\n",
       "      <td>through_trial</td>\n",
       "      <td>04c9b0</td>\n",
       "      <td>2019-03-03 02:37:19</td>\n",
       "    </tr>\n",
       "    <tr>\n",
       "      <td>3</td>\n",
       "      <td>be6-8d92a4-03420</td>\n",
       "      <td>2019-03-16 14:36:56</td>\n",
       "      <td>through_trial</td>\n",
       "      <td>12ec30</td>\n",
       "      <td>2019-03-16 14:33:54</td>\n",
       "    </tr>\n",
       "    <tr>\n",
       "      <td>4</td>\n",
       "      <td>be6-8d92a4-10f02</td>\n",
       "      <td>2019-03-05 00:20:16</td>\n",
       "      <td>through_trial</td>\n",
       "      <td>183c2e</td>\n",
       "      <td>2019-03-05 00:17:22</td>\n",
       "    </tr>\n",
       "  </tbody>\n",
       "</table>\n",
       "</div>"
      ],
      "text/plain": [
       "          device_id       checkout_time  acquired_type     uid  \\\n",
       "0  be6-8d92a4-0a029 2019-03-13 13:33:58  through_trial  116184   \n",
       "1  be6-8d92a4-0a851 2019-03-14 18:58:01  through_trial  18cd91   \n",
       "2  be6-8d92a4-1291f 2019-03-15 03:38:39  through_trial  04c9b0   \n",
       "3  be6-8d92a4-03420 2019-03-16 14:36:56  through_trial  12ec30   \n",
       "4  be6-8d92a4-10f02 2019-03-05 00:20:16  through_trial  183c2e   \n",
       "\n",
       "        ad_event_time  \n",
       "0 2019-03-13 13:32:20  \n",
       "1 2019-03-14 18:55:14  \n",
       "2 2019-03-03 02:37:19  \n",
       "3 2019-03-16 14:33:54  \n",
       "4 2019-03-05 00:17:22  "
      ]
     },
     "execution_count": 56,
     "metadata": {},
     "output_type": "execute_result"
    }
   ],
   "source": [
    "m2.head()"
   ]
  },
  {
   "cell_type": "code",
   "execution_count": 57,
   "metadata": {},
   "outputs": [],
   "source": [
    "#m2['checkout_time'] = pd.to_datetime(m2['checkout_time'])\n",
    "#m2['ad_event_time'] = pd.to_datetime(m2['ad_event_time'])\n",
    "m2['day_to_acq'] = m2['checkout_time']-m2['ad_event_time']\n",
    "m2['day_to_acq'] = m2['day_to_acq'].dt.days"
   ]
  },
  {
   "cell_type": "code",
   "execution_count": 58,
   "metadata": {},
   "outputs": [
    {
     "data": {
      "text/html": [
       "<div>\n",
       "<style scoped>\n",
       "    .dataframe tbody tr th:only-of-type {\n",
       "        vertical-align: middle;\n",
       "    }\n",
       "\n",
       "    .dataframe tbody tr th {\n",
       "        vertical-align: top;\n",
       "    }\n",
       "\n",
       "    .dataframe thead th {\n",
       "        text-align: right;\n",
       "    }\n",
       "</style>\n",
       "<table border=\"1\" class=\"dataframe\">\n",
       "  <thead>\n",
       "    <tr style=\"text-align: right;\">\n",
       "      <th></th>\n",
       "      <th>device_id</th>\n",
       "      <th>checkout_time</th>\n",
       "      <th>acquired_type</th>\n",
       "      <th>uid</th>\n",
       "      <th>ad_event_time</th>\n",
       "      <th>day_to_acq</th>\n",
       "    </tr>\n",
       "  </thead>\n",
       "  <tbody>\n",
       "    <tr>\n",
       "      <td>0</td>\n",
       "      <td>be6-8d92a4-0a029</td>\n",
       "      <td>2019-03-13 13:33:58</td>\n",
       "      <td>through_trial</td>\n",
       "      <td>116184</td>\n",
       "      <td>2019-03-13 13:32:20</td>\n",
       "      <td>0</td>\n",
       "    </tr>\n",
       "    <tr>\n",
       "      <td>1</td>\n",
       "      <td>be6-8d92a4-0a851</td>\n",
       "      <td>2019-03-14 18:58:01</td>\n",
       "      <td>through_trial</td>\n",
       "      <td>18cd91</td>\n",
       "      <td>2019-03-14 18:55:14</td>\n",
       "      <td>0</td>\n",
       "    </tr>\n",
       "    <tr>\n",
       "      <td>2</td>\n",
       "      <td>be6-8d92a4-1291f</td>\n",
       "      <td>2019-03-15 03:38:39</td>\n",
       "      <td>through_trial</td>\n",
       "      <td>04c9b0</td>\n",
       "      <td>2019-03-03 02:37:19</td>\n",
       "      <td>12</td>\n",
       "    </tr>\n",
       "    <tr>\n",
       "      <td>3</td>\n",
       "      <td>be6-8d92a4-03420</td>\n",
       "      <td>2019-03-16 14:36:56</td>\n",
       "      <td>through_trial</td>\n",
       "      <td>12ec30</td>\n",
       "      <td>2019-03-16 14:33:54</td>\n",
       "      <td>0</td>\n",
       "    </tr>\n",
       "    <tr>\n",
       "      <td>4</td>\n",
       "      <td>be6-8d92a4-10f02</td>\n",
       "      <td>2019-03-05 00:20:16</td>\n",
       "      <td>through_trial</td>\n",
       "      <td>183c2e</td>\n",
       "      <td>2019-03-05 00:17:22</td>\n",
       "      <td>0</td>\n",
       "    </tr>\n",
       "    <tr>\n",
       "      <td>...</td>\n",
       "      <td>...</td>\n",
       "      <td>...</td>\n",
       "      <td>...</td>\n",
       "      <td>...</td>\n",
       "      <td>...</td>\n",
       "      <td>...</td>\n",
       "    </tr>\n",
       "    <tr>\n",
       "      <td>1003</td>\n",
       "      <td>be6-8d92a4-07f96</td>\n",
       "      <td>2019-03-25 11:14:52</td>\n",
       "      <td>direct</td>\n",
       "      <td>09853c</td>\n",
       "      <td>2019-03-25 11:12:37</td>\n",
       "      <td>0</td>\n",
       "    </tr>\n",
       "    <tr>\n",
       "      <td>1004</td>\n",
       "      <td>be6-8d92a4-1d057</td>\n",
       "      <td>2019-03-23 15:31:04</td>\n",
       "      <td>direct</td>\n",
       "      <td>03d87f</td>\n",
       "      <td>2019-03-23 15:24:49</td>\n",
       "      <td>0</td>\n",
       "    </tr>\n",
       "    <tr>\n",
       "      <td>1005</td>\n",
       "      <td>be6-8d92a4-199ae</td>\n",
       "      <td>2019-03-18 11:47:56</td>\n",
       "      <td>direct</td>\n",
       "      <td>05ced7</td>\n",
       "      <td>2019-03-12 02:17:23</td>\n",
       "      <td>6</td>\n",
       "    </tr>\n",
       "    <tr>\n",
       "      <td>1006</td>\n",
       "      <td>be6-8d92a4-0f363</td>\n",
       "      <td>2019-03-28 17:04:47</td>\n",
       "      <td>direct</td>\n",
       "      <td>0144eb</td>\n",
       "      <td>2019-03-26 06:14:55</td>\n",
       "      <td>2</td>\n",
       "    </tr>\n",
       "    <tr>\n",
       "      <td>1007</td>\n",
       "      <td>be6-8d92a4-20e83</td>\n",
       "      <td>2019-03-29 14:22:54</td>\n",
       "      <td>direct</td>\n",
       "      <td>17f32d</td>\n",
       "      <td>2019-03-27 12:06:17</td>\n",
       "      <td>2</td>\n",
       "    </tr>\n",
       "  </tbody>\n",
       "</table>\n",
       "<p>1008 rows × 6 columns</p>\n",
       "</div>"
      ],
      "text/plain": [
       "             device_id       checkout_time  acquired_type     uid  \\\n",
       "0     be6-8d92a4-0a029 2019-03-13 13:33:58  through_trial  116184   \n",
       "1     be6-8d92a4-0a851 2019-03-14 18:58:01  through_trial  18cd91   \n",
       "2     be6-8d92a4-1291f 2019-03-15 03:38:39  through_trial  04c9b0   \n",
       "3     be6-8d92a4-03420 2019-03-16 14:36:56  through_trial  12ec30   \n",
       "4     be6-8d92a4-10f02 2019-03-05 00:20:16  through_trial  183c2e   \n",
       "...                ...                 ...            ...     ...   \n",
       "1003  be6-8d92a4-07f96 2019-03-25 11:14:52         direct  09853c   \n",
       "1004  be6-8d92a4-1d057 2019-03-23 15:31:04         direct  03d87f   \n",
       "1005  be6-8d92a4-199ae 2019-03-18 11:47:56         direct  05ced7   \n",
       "1006  be6-8d92a4-0f363 2019-03-28 17:04:47         direct  0144eb   \n",
       "1007  be6-8d92a4-20e83 2019-03-29 14:22:54         direct  17f32d   \n",
       "\n",
       "           ad_event_time  day_to_acq  \n",
       "0    2019-03-13 13:32:20           0  \n",
       "1    2019-03-14 18:55:14           0  \n",
       "2    2019-03-03 02:37:19          12  \n",
       "3    2019-03-16 14:33:54           0  \n",
       "4    2019-03-05 00:17:22           0  \n",
       "...                  ...         ...  \n",
       "1003 2019-03-25 11:12:37           0  \n",
       "1004 2019-03-23 15:24:49           0  \n",
       "1005 2019-03-12 02:17:23           6  \n",
       "1006 2019-03-26 06:14:55           2  \n",
       "1007 2019-03-27 12:06:17           2  \n",
       "\n",
       "[1008 rows x 6 columns]"
      ]
     },
     "execution_count": 58,
     "metadata": {},
     "output_type": "execute_result"
    }
   ],
   "source": [
    "m2"
   ]
  },
  {
   "cell_type": "code",
   "execution_count": 59,
   "metadata": {},
   "outputs": [],
   "source": [
    "m2['day_to_acq'] = np.where(m2['acquired_type'] == 'through_trial', m2['day_to_acq'] + 7, m2['day_to_acq'])"
   ]
  },
  {
   "cell_type": "code",
   "execution_count": 60,
   "metadata": {},
   "outputs": [
    {
     "data": {
      "text/plain": [
       "8.490079365079366"
      ]
     },
     "execution_count": 60,
     "metadata": {},
     "output_type": "execute_result"
    }
   ],
   "source": [
    "m2['day_to_acq'].mean()"
   ]
  },
  {
   "cell_type": "code",
   "execution_count": 61,
   "metadata": {},
   "outputs": [
    {
     "data": {
      "text/html": [
       "<div>\n",
       "<style scoped>\n",
       "    .dataframe tbody tr th:only-of-type {\n",
       "        vertical-align: middle;\n",
       "    }\n",
       "\n",
       "    .dataframe tbody tr th {\n",
       "        vertical-align: top;\n",
       "    }\n",
       "\n",
       "    .dataframe thead th {\n",
       "        text-align: right;\n",
       "    }\n",
       "</style>\n",
       "<table border=\"1\" class=\"dataframe\">\n",
       "  <thead>\n",
       "    <tr style=\"text-align: right;\">\n",
       "      <th></th>\n",
       "      <th>device_id</th>\n",
       "      <th>checkout_time</th>\n",
       "      <th>acquired_type</th>\n",
       "      <th>uid</th>\n",
       "      <th>ad_event_time</th>\n",
       "      <th>day_to_acq</th>\n",
       "    </tr>\n",
       "  </thead>\n",
       "  <tbody>\n",
       "  </tbody>\n",
       "</table>\n",
       "</div>"
      ],
      "text/plain": [
       "Empty DataFrame\n",
       "Columns: [device_id, checkout_time, acquired_type, uid, ad_event_time, day_to_acq]\n",
       "Index: []"
      ]
     },
     "execution_count": 61,
     "metadata": {},
     "output_type": "execute_result"
    }
   ],
   "source": [
    "m2[m2['day_to_acq'] < 0]"
   ]
  },
  {
   "cell_type": "code",
   "execution_count": 62,
   "metadata": {},
   "outputs": [],
   "source": [
    "cnt_map = bc.groupby('uid')['ad_event_time'].size()\n",
    "bc['contact_times'] = bc['uid'].map(cnt_map)"
   ]
  },
  {
   "cell_type": "code",
   "execution_count": 63,
   "metadata": {},
   "outputs": [
    {
     "data": {
      "text/plain": [
       "49"
      ]
     },
     "execution_count": 63,
     "metadata": {},
     "output_type": "execute_result"
    }
   ],
   "source": [
    "bc['contact_times'].max()"
   ]
  },
  {
   "cell_type": "code",
   "execution_count": 64,
   "metadata": {},
   "outputs": [],
   "source": [
    "check = bc[bc['contact_times'] == 49]"
   ]
  },
  {
   "cell_type": "code",
   "execution_count": 65,
   "metadata": {},
   "outputs": [],
   "source": [
    "contacts = bc[['uid','contact_times']].drop_duplicates()"
   ]
  },
  {
   "cell_type": "code",
   "execution_count": 66,
   "metadata": {},
   "outputs": [
    {
     "data": {
      "text/plain": [
       "<matplotlib.axes._subplots.AxesSubplot at 0x106dfbf10>"
      ]
     },
     "execution_count": 66,
     "metadata": {},
     "output_type": "execute_result"
    },
    {
     "data": {
      "image/png": "[encoded data removed]",
      "text/plain": [
       "<Figure size 432x288 with 1 Axes>"
      ]
     },
     "metadata": {
      "needs_background": "light"
     },
     "output_type": "display_data"
    }
   ],
   "source": [
    "contacts['contact_times'].hist(bins=75)"
   ]
  },
  {
   "cell_type": "markdown",
   "metadata": {},
   "source": [
    "### modeling prep"
   ]
  },
  {
   "cell_type": "code",
   "execution_count": 67,
   "metadata": {},
   "outputs": [
    {
     "name": "stdout",
     "output_type": "stream",
     "text": [
      "<class 'pandas.core.frame.DataFrame'>\n",
      "Int64Index: 2023418 entries, 0 to 2024076\n",
      "Data columns (total 9 columns):\n",
      "platform             2023418 non-null object\n",
      "campaign_name        2023418 non-null object\n",
      "ad_event_time        2023418 non-null datetime64[ns]\n",
      "uid                  2023418 non-null object\n",
      "ad_event_date        2023418 non-null object\n",
      "ad_dow               2023418 non-null int64\n",
      "ad_hour              2023418 non-null int64\n",
      "campaign_name_std    2023418 non-null object\n",
      "contact_times        2023418 non-null int64\n",
      "dtypes: datetime64[ns](1), int64(3), object(5)\n",
      "memory usage: 154.4+ MB\n"
     ]
    }
   ],
   "source": [
    "bc.info(null_counts=True)"
   ]
  },
  {
   "cell_type": "code",
   "execution_count": 68,
   "metadata": {},
   "outputs": [],
   "source": [
    "minima = bc.groupby('uid')['ad_event_time'].min()\n",
    "bc['min_event'] = bc['uid'].map(minima)"
   ]
  },
  {
   "cell_type": "code",
   "execution_count": 69,
   "metadata": {},
   "outputs": [],
   "source": [
    "bc_need = bc[bc['min_event'] == bc['ad_event_time']].copy()"
   ]
  },
  {
   "cell_type": "code",
   "execution_count": 70,
   "metadata": {},
   "outputs": [
    {
     "data": {
      "text/html": [
       "<div>\n",
       "<style scoped>\n",
       "    .dataframe tbody tr th:only-of-type {\n",
       "        vertical-align: middle;\n",
       "    }\n",
       "\n",
       "    .dataframe tbody tr th {\n",
       "        vertical-align: top;\n",
       "    }\n",
       "\n",
       "    .dataframe thead th {\n",
       "        text-align: right;\n",
       "    }\n",
       "</style>\n",
       "<table border=\"1\" class=\"dataframe\">\n",
       "  <thead>\n",
       "    <tr style=\"text-align: right;\">\n",
       "      <th></th>\n",
       "      <th>platform</th>\n",
       "      <th>campaign_name</th>\n",
       "      <th>ad_event_time</th>\n",
       "      <th>uid</th>\n",
       "      <th>ad_event_date</th>\n",
       "      <th>ad_dow</th>\n",
       "      <th>ad_hour</th>\n",
       "      <th>campaign_name_std</th>\n",
       "      <th>contact_times</th>\n",
       "      <th>min_event</th>\n",
       "    </tr>\n",
       "  </thead>\n",
       "  <tbody>\n",
       "    <tr>\n",
       "      <td>0</td>\n",
       "      <td>iPhone</td>\n",
       "      <td>author_88</td>\n",
       "      <td>2019-03-01 00:00:00</td>\n",
       "      <td>15a862</td>\n",
       "      <td>2019-03-01</td>\n",
       "      <td>4</td>\n",
       "      <td>0</td>\n",
       "      <td>author_88</td>\n",
       "      <td>1</td>\n",
       "      <td>2019-03-01 00:00:00</td>\n",
       "    </tr>\n",
       "    <tr>\n",
       "      <td>1</td>\n",
       "      <td>iPhone</td>\n",
       "      <td>author_219</td>\n",
       "      <td>2019-03-01 00:00:01</td>\n",
       "      <td>0a9627</td>\n",
       "      <td>2019-03-01</td>\n",
       "      <td>4</td>\n",
       "      <td>0</td>\n",
       "      <td>non_top_ten</td>\n",
       "      <td>1</td>\n",
       "      <td>2019-03-01 00:00:01</td>\n",
       "    </tr>\n",
       "    <tr>\n",
       "      <td>2</td>\n",
       "      <td>iPhone</td>\n",
       "      <td>author_88</td>\n",
       "      <td>2019-03-01 00:00:02</td>\n",
       "      <td>073ae4</td>\n",
       "      <td>2019-03-01</td>\n",
       "      <td>4</td>\n",
       "      <td>0</td>\n",
       "      <td>author_88</td>\n",
       "      <td>1</td>\n",
       "      <td>2019-03-01 00:00:02</td>\n",
       "    </tr>\n",
       "    <tr>\n",
       "      <td>3</td>\n",
       "      <td>iPhone</td>\n",
       "      <td>author_88</td>\n",
       "      <td>2019-03-01 00:00:04</td>\n",
       "      <td>12aff3</td>\n",
       "      <td>2019-03-01</td>\n",
       "      <td>4</td>\n",
       "      <td>0</td>\n",
       "      <td>author_88</td>\n",
       "      <td>2</td>\n",
       "      <td>2019-03-01 00:00:04</td>\n",
       "    </tr>\n",
       "    <tr>\n",
       "      <td>4</td>\n",
       "      <td>iPhone</td>\n",
       "      <td>author_88</td>\n",
       "      <td>2019-03-01 00:00:04</td>\n",
       "      <td>1a0528</td>\n",
       "      <td>2019-03-01</td>\n",
       "      <td>4</td>\n",
       "      <td>0</td>\n",
       "      <td>author_88</td>\n",
       "      <td>1</td>\n",
       "      <td>2019-03-01 00:00:04</td>\n",
       "    </tr>\n",
       "    <tr>\n",
       "      <td>...</td>\n",
       "      <td>...</td>\n",
       "      <td>...</td>\n",
       "      <td>...</td>\n",
       "      <td>...</td>\n",
       "      <td>...</td>\n",
       "      <td>...</td>\n",
       "      <td>...</td>\n",
       "      <td>...</td>\n",
       "      <td>...</td>\n",
       "      <td>...</td>\n",
       "    </tr>\n",
       "    <tr>\n",
       "      <td>2024070</td>\n",
       "      <td>iPhone</td>\n",
       "      <td>author_147</td>\n",
       "      <td>2019-03-30 22:02:54</td>\n",
       "      <td>13b5ab</td>\n",
       "      <td>2019-03-30</td>\n",
       "      <td>5</td>\n",
       "      <td>22</td>\n",
       "      <td>non_top_ten</td>\n",
       "      <td>1</td>\n",
       "      <td>2019-03-30 22:02:54</td>\n",
       "    </tr>\n",
       "    <tr>\n",
       "      <td>2024071</td>\n",
       "      <td>iPhone</td>\n",
       "      <td>author_147</td>\n",
       "      <td>2019-03-30 22:11:31</td>\n",
       "      <td>145f14</td>\n",
       "      <td>2019-03-30</td>\n",
       "      <td>5</td>\n",
       "      <td>22</td>\n",
       "      <td>non_top_ten</td>\n",
       "      <td>2</td>\n",
       "      <td>2019-03-30 22:11:31</td>\n",
       "    </tr>\n",
       "    <tr>\n",
       "      <td>2024073</td>\n",
       "      <td>iPhone</td>\n",
       "      <td>author_147</td>\n",
       "      <td>2019-03-30 22:45:36</td>\n",
       "      <td>16b38a</td>\n",
       "      <td>2019-03-30</td>\n",
       "      <td>5</td>\n",
       "      <td>22</td>\n",
       "      <td>non_top_ten</td>\n",
       "      <td>1</td>\n",
       "      <td>2019-03-30 22:45:36</td>\n",
       "    </tr>\n",
       "    <tr>\n",
       "      <td>2024075</td>\n",
       "      <td>iPhone</td>\n",
       "      <td>author_219</td>\n",
       "      <td>2019-03-30 23:23:48</td>\n",
       "      <td>099086</td>\n",
       "      <td>2019-03-30</td>\n",
       "      <td>5</td>\n",
       "      <td>23</td>\n",
       "      <td>non_top_ten</td>\n",
       "      <td>1</td>\n",
       "      <td>2019-03-30 23:23:48</td>\n",
       "    </tr>\n",
       "    <tr>\n",
       "      <td>2024076</td>\n",
       "      <td>Android</td>\n",
       "      <td>author_147</td>\n",
       "      <td>2019-03-30 23:57:31</td>\n",
       "      <td>139beb</td>\n",
       "      <td>2019-03-30</td>\n",
       "      <td>5</td>\n",
       "      <td>23</td>\n",
       "      <td>non_top_ten</td>\n",
       "      <td>1</td>\n",
       "      <td>2019-03-30 23:57:31</td>\n",
       "    </tr>\n",
       "  </tbody>\n",
       "</table>\n",
       "<p>1690513 rows × 10 columns</p>\n",
       "</div>"
      ],
      "text/plain": [
       "        platform campaign_name       ad_event_time     uid ad_event_date  \\\n",
       "0         iPhone     author_88 2019-03-01 00:00:00  15a862    2019-03-01   \n",
       "1         iPhone    author_219 2019-03-01 00:00:01  0a9627    2019-03-01   \n",
       "2         iPhone     author_88 2019-03-01 00:00:02  073ae4    2019-03-01   \n",
       "3         iPhone     author_88 2019-03-01 00:00:04  12aff3    2019-03-01   \n",
       "4         iPhone     author_88 2019-03-01 00:00:04  1a0528    2019-03-01   \n",
       "...          ...           ...                 ...     ...           ...   \n",
       "2024070   iPhone    author_147 2019-03-30 22:02:54  13b5ab    2019-03-30   \n",
       "2024071   iPhone    author_147 2019-03-30 22:11:31  145f14    2019-03-30   \n",
       "2024073   iPhone    author_147 2019-03-30 22:45:36  16b38a    2019-03-30   \n",
       "2024075   iPhone    author_219 2019-03-30 23:23:48  099086    2019-03-30   \n",
       "2024076  Android    author_147 2019-03-30 23:57:31  139beb    2019-03-30   \n",
       "\n",
       "         ad_dow  ad_hour campaign_name_std  contact_times           min_event  \n",
       "0             4        0         author_88              1 2019-03-01 00:00:00  \n",
       "1             4        0       non_top_ten              1 2019-03-01 00:00:01  \n",
       "2             4        0         author_88              1 2019-03-01 00:00:02  \n",
       "3             4        0         author_88              2 2019-03-01 00:00:04  \n",
       "4             4        0         author_88              1 2019-03-01 00:00:04  \n",
       "...         ...      ...               ...            ...                 ...  \n",
       "2024070       5       22       non_top_ten              1 2019-03-30 22:02:54  \n",
       "2024071       5       22       non_top_ten              2 2019-03-30 22:11:31  \n",
       "2024073       5       22       non_top_ten              1 2019-03-30 22:45:36  \n",
       "2024075       5       23       non_top_ten              1 2019-03-30 23:23:48  \n",
       "2024076       5       23       non_top_ten              1 2019-03-30 23:57:31  \n",
       "\n",
       "[1690513 rows x 10 columns]"
      ]
     },
     "execution_count": 70,
     "metadata": {},
     "output_type": "execute_result"
    }
   ],
   "source": [
    "bc_need"
   ]
  },
  {
   "cell_type": "code",
   "execution_count": 71,
   "metadata": {},
   "outputs": [],
   "source": [
    "need_cols = ['uid','ad_dow','ad_hour','contact_times','campaign_name_std','platform']"
   ]
  },
  {
   "cell_type": "code",
   "execution_count": 72,
   "metadata": {},
   "outputs": [],
   "source": [
    "part1 = bc_need[need_cols].copy()"
   ]
  },
  {
   "cell_type": "code",
   "execution_count": 73,
   "metadata": {},
   "outputs": [],
   "source": [
    "### part2"
   ]
  },
  {
   "cell_type": "code",
   "execution_count": 74,
   "metadata": {},
   "outputs": [
    {
     "name": "stdout",
     "output_type": "stream",
     "text": [
      "<class 'pandas.core.frame.DataFrame'>\n",
      "Int64Index: 62212 entries, 1 to 143109\n",
      "Data columns (total 9 columns):\n",
      "uid               62212 non-null object\n",
      "device_id         62212 non-null object\n",
      "ai_event_time     62212 non-null datetime64[ns]\n",
      "article_id        62212 non-null int64\n",
      "source            62212 non-null object\n",
      "ai_event_date     62212 non-null object\n",
      "ai_dow            62212 non-null int64\n",
      "ai_hour           62212 non-null int64\n",
      "article_id_std    62212 non-null object\n",
      "dtypes: datetime64[ns](1), int64(3), object(5)\n",
      "memory usage: 7.2+ MB\n"
     ]
    }
   ],
   "source": [
    "ai_uid_notnull.info()"
   ]
  },
  {
   "cell_type": "code",
   "execution_count": 75,
   "metadata": {},
   "outputs": [
    {
     "data": {
      "text/plain": [
       "61805"
      ]
     },
     "execution_count": 75,
     "metadata": {},
     "output_type": "execute_result"
    }
   ],
   "source": [
    "ai_uid_notnull['uid'].nunique()"
   ]
  },
  {
   "cell_type": "code",
   "execution_count": 76,
   "metadata": {},
   "outputs": [
    {
     "data": {
      "text/plain": [
       "(62181, 2)"
      ]
     },
     "execution_count": 76,
     "metadata": {},
     "output_type": "execute_result"
    }
   ],
   "source": [
    "ai_uid_notnull[['uid','device_id']].drop_duplicates().shape"
   ]
  },
  {
   "cell_type": "code",
   "execution_count": 77,
   "metadata": {},
   "outputs": [],
   "source": [
    "ai_need = ai_uid_notnull.sort_values(by='ai_event_time').drop_duplicates(subset=['uid','device_id'], keep='first')"
   ]
  },
  {
   "cell_type": "code",
   "execution_count": 80,
   "metadata": {},
   "outputs": [],
   "source": [
    "need_cols = ['uid','device_id','source','ai_dow','ai_hour','article_id_std']"
   ]
  },
  {
   "cell_type": "code",
   "execution_count": 81,
   "metadata": {},
   "outputs": [],
   "source": [
    "part2 = ai_need[need_cols].copy()"
   ]
  },
  {
   "cell_type": "code",
   "execution_count": 82,
   "metadata": {},
   "outputs": [],
   "source": [
    "### part3"
   ]
  },
  {
   "cell_type": "code",
   "execution_count": 83,
   "metadata": {},
   "outputs": [
    {
     "data": {
      "text/html": [
       "<div>\n",
       "<style scoped>\n",
       "    .dataframe tbody tr th:only-of-type {\n",
       "        vertical-align: middle;\n",
       "    }\n",
       "\n",
       "    .dataframe tbody tr th {\n",
       "        vertical-align: top;\n",
       "    }\n",
       "\n",
       "    .dataframe thead th {\n",
       "        text-align: right;\n",
       "    }\n",
       "</style>\n",
       "<table border=\"1\" class=\"dataframe\">\n",
       "  <thead>\n",
       "    <tr style=\"text-align: right;\">\n",
       "      <th></th>\n",
       "      <th>uid</th>\n",
       "      <th>ad_dow</th>\n",
       "      <th>ad_hour</th>\n",
       "      <th>contact_times</th>\n",
       "      <th>campaign_name_std</th>\n",
       "      <th>platform</th>\n",
       "    </tr>\n",
       "  </thead>\n",
       "  <tbody>\n",
       "    <tr>\n",
       "      <td>0</td>\n",
       "      <td>15a862</td>\n",
       "      <td>4</td>\n",
       "      <td>0</td>\n",
       "      <td>1</td>\n",
       "      <td>author_88</td>\n",
       "      <td>iPhone</td>\n",
       "    </tr>\n",
       "    <tr>\n",
       "      <td>1</td>\n",
       "      <td>0a9627</td>\n",
       "      <td>4</td>\n",
       "      <td>0</td>\n",
       "      <td>1</td>\n",
       "      <td>non_top_ten</td>\n",
       "      <td>iPhone</td>\n",
       "    </tr>\n",
       "    <tr>\n",
       "      <td>2</td>\n",
       "      <td>073ae4</td>\n",
       "      <td>4</td>\n",
       "      <td>0</td>\n",
       "      <td>1</td>\n",
       "      <td>author_88</td>\n",
       "      <td>iPhone</td>\n",
       "    </tr>\n",
       "    <tr>\n",
       "      <td>3</td>\n",
       "      <td>12aff3</td>\n",
       "      <td>4</td>\n",
       "      <td>0</td>\n",
       "      <td>2</td>\n",
       "      <td>author_88</td>\n",
       "      <td>iPhone</td>\n",
       "    </tr>\n",
       "    <tr>\n",
       "      <td>4</td>\n",
       "      <td>1a0528</td>\n",
       "      <td>4</td>\n",
       "      <td>0</td>\n",
       "      <td>1</td>\n",
       "      <td>author_88</td>\n",
       "      <td>iPhone</td>\n",
       "    </tr>\n",
       "    <tr>\n",
       "      <td>...</td>\n",
       "      <td>...</td>\n",
       "      <td>...</td>\n",
       "      <td>...</td>\n",
       "      <td>...</td>\n",
       "      <td>...</td>\n",
       "      <td>...</td>\n",
       "    </tr>\n",
       "    <tr>\n",
       "      <td>2024070</td>\n",
       "      <td>13b5ab</td>\n",
       "      <td>5</td>\n",
       "      <td>22</td>\n",
       "      <td>1</td>\n",
       "      <td>non_top_ten</td>\n",
       "      <td>iPhone</td>\n",
       "    </tr>\n",
       "    <tr>\n",
       "      <td>2024071</td>\n",
       "      <td>145f14</td>\n",
       "      <td>5</td>\n",
       "      <td>22</td>\n",
       "      <td>2</td>\n",
       "      <td>non_top_ten</td>\n",
       "      <td>iPhone</td>\n",
       "    </tr>\n",
       "    <tr>\n",
       "      <td>2024073</td>\n",
       "      <td>16b38a</td>\n",
       "      <td>5</td>\n",
       "      <td>22</td>\n",
       "      <td>1</td>\n",
       "      <td>non_top_ten</td>\n",
       "      <td>iPhone</td>\n",
       "    </tr>\n",
       "    <tr>\n",
       "      <td>2024075</td>\n",
       "      <td>099086</td>\n",
       "      <td>5</td>\n",
       "      <td>23</td>\n",
       "      <td>1</td>\n",
       "      <td>non_top_ten</td>\n",
       "      <td>iPhone</td>\n",
       "    </tr>\n",
       "    <tr>\n",
       "      <td>2024076</td>\n",
       "      <td>139beb</td>\n",
       "      <td>5</td>\n",
       "      <td>23</td>\n",
       "      <td>1</td>\n",
       "      <td>non_top_ten</td>\n",
       "      <td>Android</td>\n",
       "    </tr>\n",
       "  </tbody>\n",
       "</table>\n",
       "<p>1690513 rows × 6 columns</p>\n",
       "</div>"
      ],
      "text/plain": [
       "            uid  ad_dow  ad_hour  contact_times campaign_name_std platform\n",
       "0        15a862       4        0              1         author_88   iPhone\n",
       "1        0a9627       4        0              1       non_top_ten   iPhone\n",
       "2        073ae4       4        0              1         author_88   iPhone\n",
       "3        12aff3       4        0              2         author_88   iPhone\n",
       "4        1a0528       4        0              1         author_88   iPhone\n",
       "...         ...     ...      ...            ...               ...      ...\n",
       "2024070  13b5ab       5       22              1       non_top_ten   iPhone\n",
       "2024071  145f14       5       22              2       non_top_ten   iPhone\n",
       "2024073  16b38a       5       22              1       non_top_ten   iPhone\n",
       "2024075  099086       5       23              1       non_top_ten   iPhone\n",
       "2024076  139beb       5       23              1       non_top_ten  Android\n",
       "\n",
       "[1690513 rows x 6 columns]"
      ]
     },
     "execution_count": 83,
     "metadata": {},
     "output_type": "execute_result"
    }
   ],
   "source": [
    "part1"
   ]
  },
  {
   "cell_type": "code",
   "execution_count": 84,
   "metadata": {},
   "outputs": [
    {
     "data": {
      "text/html": [
       "<div>\n",
       "<style scoped>\n",
       "    .dataframe tbody tr th:only-of-type {\n",
       "        vertical-align: middle;\n",
       "    }\n",
       "\n",
       "    .dataframe tbody tr th {\n",
       "        vertical-align: top;\n",
       "    }\n",
       "\n",
       "    .dataframe thead th {\n",
       "        text-align: right;\n",
       "    }\n",
       "</style>\n",
       "<table border=\"1\" class=\"dataframe\">\n",
       "  <thead>\n",
       "    <tr style=\"text-align: right;\">\n",
       "      <th></th>\n",
       "      <th>uid</th>\n",
       "      <th>device_id</th>\n",
       "      <th>source</th>\n",
       "      <th>ai_dow</th>\n",
       "      <th>ai_hour</th>\n",
       "      <th>article_id_std</th>\n",
       "    </tr>\n",
       "  </thead>\n",
       "  <tbody>\n",
       "    <tr>\n",
       "      <td>852</td>\n",
       "      <td>0248b3</td>\n",
       "      <td>be6-8d92a4-0f239</td>\n",
       "      <td>facebook_ads</td>\n",
       "      <td>4</td>\n",
       "      <td>0</td>\n",
       "      <td>3172</td>\n",
       "    </tr>\n",
       "    <tr>\n",
       "      <td>853</td>\n",
       "      <td>15dcf1</td>\n",
       "      <td>be6-8d92a4-0fc5f</td>\n",
       "      <td>facebook_ads</td>\n",
       "      <td>4</td>\n",
       "      <td>0</td>\n",
       "      <td>non_top_ten</td>\n",
       "    </tr>\n",
       "    <tr>\n",
       "      <td>854</td>\n",
       "      <td>0fe17f</td>\n",
       "      <td>be6-8d92a4-0034e</td>\n",
       "      <td>facebook_ads</td>\n",
       "      <td>4</td>\n",
       "      <td>0</td>\n",
       "      <td>3172</td>\n",
       "    </tr>\n",
       "    <tr>\n",
       "      <td>10861</td>\n",
       "      <td>114b04</td>\n",
       "      <td>be6-8d92a4-13ba5</td>\n",
       "      <td>facebook_ads</td>\n",
       "      <td>4</td>\n",
       "      <td>0</td>\n",
       "      <td>3172</td>\n",
       "    </tr>\n",
       "    <tr>\n",
       "      <td>4377</td>\n",
       "      <td>0517ea</td>\n",
       "      <td>be6-8d92a4-231e1</td>\n",
       "      <td>facebook_ads</td>\n",
       "      <td>4</td>\n",
       "      <td>0</td>\n",
       "      <td>3172</td>\n",
       "    </tr>\n",
       "    <tr>\n",
       "      <td>...</td>\n",
       "      <td>...</td>\n",
       "      <td>...</td>\n",
       "      <td>...</td>\n",
       "      <td>...</td>\n",
       "      <td>...</td>\n",
       "      <td>...</td>\n",
       "    </tr>\n",
       "    <tr>\n",
       "      <td>142795</td>\n",
       "      <td>082d72</td>\n",
       "      <td>be6-8d92a4-16b79</td>\n",
       "      <td>facebook_ads</td>\n",
       "      <td>5</td>\n",
       "      <td>23</td>\n",
       "      <td>4382</td>\n",
       "    </tr>\n",
       "    <tr>\n",
       "      <td>142809</td>\n",
       "      <td>03dfe0</td>\n",
       "      <td>be6-8d92a4-00c5e</td>\n",
       "      <td>organic</td>\n",
       "      <td>5</td>\n",
       "      <td>23</td>\n",
       "      <td>non_top_ten</td>\n",
       "    </tr>\n",
       "    <tr>\n",
       "      <td>142956</td>\n",
       "      <td>117f72</td>\n",
       "      <td>be6-8d92a4-17435</td>\n",
       "      <td>organic</td>\n",
       "      <td>5</td>\n",
       "      <td>23</td>\n",
       "      <td>non_top_ten</td>\n",
       "    </tr>\n",
       "    <tr>\n",
       "      <td>142816</td>\n",
       "      <td>1208f2</td>\n",
       "      <td>be6-8d92a4-2242c</td>\n",
       "      <td>facebook_ads</td>\n",
       "      <td>5</td>\n",
       "      <td>23</td>\n",
       "      <td>non_top_ten</td>\n",
       "    </tr>\n",
       "    <tr>\n",
       "      <td>142964</td>\n",
       "      <td>0e142e</td>\n",
       "      <td>be6-8d92a4-055ae</td>\n",
       "      <td>organic</td>\n",
       "      <td>5</td>\n",
       "      <td>23</td>\n",
       "      <td>non_top_ten</td>\n",
       "    </tr>\n",
       "  </tbody>\n",
       "</table>\n",
       "<p>62181 rows × 6 columns</p>\n",
       "</div>"
      ],
      "text/plain": [
       "           uid         device_id        source  ai_dow  ai_hour article_id_std\n",
       "852     0248b3  be6-8d92a4-0f239  facebook_ads       4        0           3172\n",
       "853     15dcf1  be6-8d92a4-0fc5f  facebook_ads       4        0    non_top_ten\n",
       "854     0fe17f  be6-8d92a4-0034e  facebook_ads       4        0           3172\n",
       "10861   114b04  be6-8d92a4-13ba5  facebook_ads       4        0           3172\n",
       "4377    0517ea  be6-8d92a4-231e1  facebook_ads       4        0           3172\n",
       "...        ...               ...           ...     ...      ...            ...\n",
       "142795  082d72  be6-8d92a4-16b79  facebook_ads       5       23           4382\n",
       "142809  03dfe0  be6-8d92a4-00c5e       organic       5       23    non_top_ten\n",
       "142956  117f72  be6-8d92a4-17435       organic       5       23    non_top_ten\n",
       "142816  1208f2  be6-8d92a4-2242c  facebook_ads       5       23    non_top_ten\n",
       "142964  0e142e  be6-8d92a4-055ae       organic       5       23    non_top_ten\n",
       "\n",
       "[62181 rows x 6 columns]"
      ]
     },
     "execution_count": 84,
     "metadata": {},
     "output_type": "execute_result"
    }
   ],
   "source": [
    "part2"
   ]
  },
  {
   "cell_type": "code",
   "execution_count": 85,
   "metadata": {},
   "outputs": [],
   "source": [
    "converted_device_id_lst = list(ck_acq['device_id'].unique())"
   ]
  },
  {
   "cell_type": "code",
   "execution_count": 86,
   "metadata": {},
   "outputs": [],
   "source": [
    "part2['converted'] = np.where(part2['device_id'].isin(converted_device_id_lst),1,0)"
   ]
  },
  {
   "cell_type": "code",
   "execution_count": 87,
   "metadata": {},
   "outputs": [],
   "source": [
    "t = pd.merge(part1,part2,on='uid',how='left')"
   ]
  },
  {
   "cell_type": "code",
   "execution_count": 88,
   "metadata": {},
   "outputs": [],
   "source": [
    "t['app_converted'] = np.where(t['device_id'].isnull(),0,1)"
   ]
  },
  {
   "cell_type": "code",
   "execution_count": 89,
   "metadata": {},
   "outputs": [],
   "source": [
    "t['converted'] = t['converted'].fillna(0)"
   ]
  },
  {
   "cell_type": "code",
   "execution_count": 90,
   "metadata": {},
   "outputs": [
    {
     "data": {
      "text/plain": [
       "0.0005949884935376324"
      ]
     },
     "execution_count": 90,
     "metadata": {},
     "output_type": "execute_result"
    }
   ],
   "source": [
    "t['converted'].mean()"
   ]
  },
  {
   "cell_type": "code",
   "execution_count": 91,
   "metadata": {},
   "outputs": [
    {
     "data": {
      "text/plain": [
       "0.025479228928033008"
      ]
     },
     "execution_count": 91,
     "metadata": {},
     "output_type": "execute_result"
    }
   ],
   "source": [
    "t['app_converted'].mean()"
   ]
  },
  {
   "cell_type": "code",
   "execution_count": 92,
   "metadata": {},
   "outputs": [
    {
     "data": {
      "text/html": [
       "<div>\n",
       "<style scoped>\n",
       "    .dataframe tbody tr th:only-of-type {\n",
       "        vertical-align: middle;\n",
       "    }\n",
       "\n",
       "    .dataframe tbody tr th {\n",
       "        vertical-align: top;\n",
       "    }\n",
       "\n",
       "    .dataframe thead th {\n",
       "        text-align: right;\n",
       "    }\n",
       "</style>\n",
       "<table border=\"1\" class=\"dataframe\">\n",
       "  <thead>\n",
       "    <tr style=\"text-align: right;\">\n",
       "      <th></th>\n",
       "      <th>uid</th>\n",
       "      <th>ad_dow</th>\n",
       "      <th>ad_hour</th>\n",
       "      <th>contact_times</th>\n",
       "      <th>campaign_name_std</th>\n",
       "      <th>platform</th>\n",
       "      <th>device_id</th>\n",
       "      <th>source</th>\n",
       "      <th>ai_dow</th>\n",
       "      <th>ai_hour</th>\n",
       "      <th>article_id_std</th>\n",
       "      <th>converted</th>\n",
       "      <th>app_converted</th>\n",
       "    </tr>\n",
       "  </thead>\n",
       "  <tbody>\n",
       "    <tr>\n",
       "      <td>0</td>\n",
       "      <td>15a862</td>\n",
       "      <td>4</td>\n",
       "      <td>0</td>\n",
       "      <td>1</td>\n",
       "      <td>author_88</td>\n",
       "      <td>iPhone</td>\n",
       "      <td>NaN</td>\n",
       "      <td>NaN</td>\n",
       "      <td>NaN</td>\n",
       "      <td>NaN</td>\n",
       "      <td>NaN</td>\n",
       "      <td>0.0</td>\n",
       "      <td>0</td>\n",
       "    </tr>\n",
       "    <tr>\n",
       "      <td>1</td>\n",
       "      <td>0a9627</td>\n",
       "      <td>4</td>\n",
       "      <td>0</td>\n",
       "      <td>1</td>\n",
       "      <td>non_top_ten</td>\n",
       "      <td>iPhone</td>\n",
       "      <td>NaN</td>\n",
       "      <td>NaN</td>\n",
       "      <td>NaN</td>\n",
       "      <td>NaN</td>\n",
       "      <td>NaN</td>\n",
       "      <td>0.0</td>\n",
       "      <td>0</td>\n",
       "    </tr>\n",
       "    <tr>\n",
       "      <td>2</td>\n",
       "      <td>073ae4</td>\n",
       "      <td>4</td>\n",
       "      <td>0</td>\n",
       "      <td>1</td>\n",
       "      <td>author_88</td>\n",
       "      <td>iPhone</td>\n",
       "      <td>NaN</td>\n",
       "      <td>NaN</td>\n",
       "      <td>NaN</td>\n",
       "      <td>NaN</td>\n",
       "      <td>NaN</td>\n",
       "      <td>0.0</td>\n",
       "      <td>0</td>\n",
       "    </tr>\n",
       "    <tr>\n",
       "      <td>3</td>\n",
       "      <td>12aff3</td>\n",
       "      <td>4</td>\n",
       "      <td>0</td>\n",
       "      <td>2</td>\n",
       "      <td>author_88</td>\n",
       "      <td>iPhone</td>\n",
       "      <td>NaN</td>\n",
       "      <td>NaN</td>\n",
       "      <td>NaN</td>\n",
       "      <td>NaN</td>\n",
       "      <td>NaN</td>\n",
       "      <td>0.0</td>\n",
       "      <td>0</td>\n",
       "    </tr>\n",
       "    <tr>\n",
       "      <td>4</td>\n",
       "      <td>1a0528</td>\n",
       "      <td>4</td>\n",
       "      <td>0</td>\n",
       "      <td>1</td>\n",
       "      <td>author_88</td>\n",
       "      <td>iPhone</td>\n",
       "      <td>NaN</td>\n",
       "      <td>NaN</td>\n",
       "      <td>NaN</td>\n",
       "      <td>NaN</td>\n",
       "      <td>NaN</td>\n",
       "      <td>0.0</td>\n",
       "      <td>0</td>\n",
       "    </tr>\n",
       "    <tr>\n",
       "      <td>...</td>\n",
       "      <td>...</td>\n",
       "      <td>...</td>\n",
       "      <td>...</td>\n",
       "      <td>...</td>\n",
       "      <td>...</td>\n",
       "      <td>...</td>\n",
       "      <td>...</td>\n",
       "      <td>...</td>\n",
       "      <td>...</td>\n",
       "      <td>...</td>\n",
       "      <td>...</td>\n",
       "      <td>...</td>\n",
       "      <td>...</td>\n",
       "    </tr>\n",
       "    <tr>\n",
       "      <td>1690784</td>\n",
       "      <td>13b5ab</td>\n",
       "      <td>5</td>\n",
       "      <td>22</td>\n",
       "      <td>1</td>\n",
       "      <td>non_top_ten</td>\n",
       "      <td>iPhone</td>\n",
       "      <td>NaN</td>\n",
       "      <td>NaN</td>\n",
       "      <td>NaN</td>\n",
       "      <td>NaN</td>\n",
       "      <td>NaN</td>\n",
       "      <td>0.0</td>\n",
       "      <td>0</td>\n",
       "    </tr>\n",
       "    <tr>\n",
       "      <td>1690785</td>\n",
       "      <td>145f14</td>\n",
       "      <td>5</td>\n",
       "      <td>22</td>\n",
       "      <td>2</td>\n",
       "      <td>non_top_ten</td>\n",
       "      <td>iPhone</td>\n",
       "      <td>NaN</td>\n",
       "      <td>NaN</td>\n",
       "      <td>NaN</td>\n",
       "      <td>NaN</td>\n",
       "      <td>NaN</td>\n",
       "      <td>0.0</td>\n",
       "      <td>0</td>\n",
       "    </tr>\n",
       "    <tr>\n",
       "      <td>1690786</td>\n",
       "      <td>16b38a</td>\n",
       "      <td>5</td>\n",
       "      <td>22</td>\n",
       "      <td>1</td>\n",
       "      <td>non_top_ten</td>\n",
       "      <td>iPhone</td>\n",
       "      <td>be6-8d92a4-1c0c0</td>\n",
       "      <td>facebook_ads</td>\n",
       "      <td>5.0</td>\n",
       "      <td>22.0</td>\n",
       "      <td>non_top_ten</td>\n",
       "      <td>0.0</td>\n",
       "      <td>1</td>\n",
       "    </tr>\n",
       "    <tr>\n",
       "      <td>1690787</td>\n",
       "      <td>099086</td>\n",
       "      <td>5</td>\n",
       "      <td>23</td>\n",
       "      <td>1</td>\n",
       "      <td>non_top_ten</td>\n",
       "      <td>iPhone</td>\n",
       "      <td>NaN</td>\n",
       "      <td>NaN</td>\n",
       "      <td>NaN</td>\n",
       "      <td>NaN</td>\n",
       "      <td>NaN</td>\n",
       "      <td>0.0</td>\n",
       "      <td>0</td>\n",
       "    </tr>\n",
       "    <tr>\n",
       "      <td>1690788</td>\n",
       "      <td>139beb</td>\n",
       "      <td>5</td>\n",
       "      <td>23</td>\n",
       "      <td>1</td>\n",
       "      <td>non_top_ten</td>\n",
       "      <td>Android</td>\n",
       "      <td>NaN</td>\n",
       "      <td>NaN</td>\n",
       "      <td>NaN</td>\n",
       "      <td>NaN</td>\n",
       "      <td>NaN</td>\n",
       "      <td>0.0</td>\n",
       "      <td>0</td>\n",
       "    </tr>\n",
       "  </tbody>\n",
       "</table>\n",
       "<p>1690789 rows × 13 columns</p>\n",
       "</div>"
      ],
      "text/plain": [
       "            uid  ad_dow  ad_hour  contact_times campaign_name_std platform  \\\n",
       "0        15a862       4        0              1         author_88   iPhone   \n",
       "1        0a9627       4        0              1       non_top_ten   iPhone   \n",
       "2        073ae4       4        0              1         author_88   iPhone   \n",
       "3        12aff3       4        0              2         author_88   iPhone   \n",
       "4        1a0528       4        0              1         author_88   iPhone   \n",
       "...         ...     ...      ...            ...               ...      ...   \n",
       "1690784  13b5ab       5       22              1       non_top_ten   iPhone   \n",
       "1690785  145f14       5       22              2       non_top_ten   iPhone   \n",
       "1690786  16b38a       5       22              1       non_top_ten   iPhone   \n",
       "1690787  099086       5       23              1       non_top_ten   iPhone   \n",
       "1690788  139beb       5       23              1       non_top_ten  Android   \n",
       "\n",
       "                device_id        source  ai_dow  ai_hour article_id_std  \\\n",
       "0                     NaN           NaN     NaN      NaN            NaN   \n",
       "1                     NaN           NaN     NaN      NaN            NaN   \n",
       "2                     NaN           NaN     NaN      NaN            NaN   \n",
       "3                     NaN           NaN     NaN      NaN            NaN   \n",
       "4                     NaN           NaN     NaN      NaN            NaN   \n",
       "...                   ...           ...     ...      ...            ...   \n",
       "1690784               NaN           NaN     NaN      NaN            NaN   \n",
       "1690785               NaN           NaN     NaN      NaN            NaN   \n",
       "1690786  be6-8d92a4-1c0c0  facebook_ads     5.0     22.0    non_top_ten   \n",
       "1690787               NaN           NaN     NaN      NaN            NaN   \n",
       "1690788               NaN           NaN     NaN      NaN            NaN   \n",
       "\n",
       "         converted  app_converted  \n",
       "0              0.0              0  \n",
       "1              0.0              0  \n",
       "2              0.0              0  \n",
       "3              0.0              0  \n",
       "4              0.0              0  \n",
       "...            ...            ...  \n",
       "1690784        0.0              0  \n",
       "1690785        0.0              0  \n",
       "1690786        0.0              1  \n",
       "1690787        0.0              0  \n",
       "1690788        0.0              0  \n",
       "\n",
       "[1690789 rows x 13 columns]"
      ]
     },
     "execution_count": 92,
     "metadata": {},
     "output_type": "execute_result"
    }
   ],
   "source": [
    "t"
   ]
  },
  {
   "cell_type": "code",
   "execution_count": null,
   "metadata": {},
   "outputs": [],
   "source": [
    "### first model "
   ]
  },
  {
   "cell_type": "code",
   "execution_count": 101,
   "metadata": {},
   "outputs": [],
   "source": [
    "data = t[['ad_dow','ad_hour','contact_times','campaign_name_std','platform','app_converted','converted']]"
   ]
  },
  {
   "cell_type": "code",
   "execution_count": 103,
   "metadata": {},
   "outputs": [
    {
     "data": {
      "text/plain": [
       "0.0005949884935376324"
      ]
     },
     "execution_count": 103,
     "metadata": {},
     "output_type": "execute_result"
    }
   ],
   "source": [
    "data['converted'].mean()"
   ]
  },
  {
   "cell_type": "code",
   "execution_count": 104,
   "metadata": {},
   "outputs": [
    {
     "data": {
      "image/png": "[encoded data removed]",
      "text/plain": [
       "<Figure size 1296x576 with 3 Axes>"
      ]
     },
     "metadata": {
      "needs_background": "light"
     },
     "output_type": "display_data"
    }
   ],
   "source": [
    "# Visualization of different countries\n",
    "fig, ax = plt.subplots(nrows=1, ncols=3, figsize=(18, 8))\n",
    "sns.countplot(x='ad_dow', hue='app_converted', data=data, ax=ax[0],palette=\"Set3\")\n",
    "ax[0].set_title('Count Plot of advertisement day of week', fontsize=12)\n",
    "sns.barplot(x='ad_dow', y='app_converted', data=data, ax=ax[1],palette=\"Set3\");\n",
    "ax[1].set_title('Mean App _install Conversion Rate per day of week', fontsize=12)\n",
    "sns.barplot(x='ad_dow', y='converted', data=data, ax=ax[2],palette=\"Set3\");\n",
    "ax[2].set_title('Mean App _install Conversion Rate per day of week', fontsize=12)\n",
    "plt.tight_layout()\n",
    "plt.show()"
   ]
  },
  {
   "cell_type": "code",
   "execution_count": 106,
   "metadata": {},
   "outputs": [
    {
     "data": {
      "image/png": "[encoded data removed]",
      "text/plain": [
       "<Figure size 1296x576 with 3 Axes>"
      ]
     },
     "metadata": {
      "needs_background": "light"
     },
     "output_type": "display_data"
    }
   ],
   "source": [
    "fig, ax = plt.subplots(nrows=1, ncols=3, figsize=(18, 8))\n",
    "sns.countplot(x='ad_hour', hue='app_converted', data=data, ax=ax[0],palette=\"Set3\")\n",
    "ax[0].set_title('Count Plot of advertisement day of week', fontsize=12)\n",
    "sns.barplot(x='ad_hour', y='app_converted', data=data, ax=ax[1],palette=\"Set3\");\n",
    "ax[1].set_title('Mean App _install Conversion Rate per day of week', fontsize=12)\n",
    "sns.barplot(x='ad_hour', y='converted', data=data, ax=ax[2],palette=\"Set3\");\n",
    "ax[2].set_title('Mean App _install Conversion Rate per day of week', fontsize=12)\n",
    "plt.tight_layout()\n",
    "plt.show()"
   ]
  },
  {
   "cell_type": "code",
   "execution_count": 108,
   "metadata": {},
   "outputs": [
    {
     "data": {
      "image/png": "[encoded data removed]",
      "text/plain": [
       "<Figure size 1296x576 with 3 Axes>"
      ]
     },
     "metadata": {
      "needs_background": "light"
     },
     "output_type": "display_data"
    }
   ],
   "source": [
    "fig, ax = plt.subplots(nrows=1, ncols=3, figsize=(18, 8))\n",
    "sns.countplot(x='contact_times', hue='app_converted', data=data, ax=ax[0],palette=\"Set3\")\n",
    "ax[0].set_title('Count Plot of advertisement day of week', fontsize=12)\n",
    "sns.barplot(x='contact_times', y='app_converted', data=data, ax=ax[1],palette=\"Set3\");\n",
    "ax[1].set_title('Mean App _install Conversion Rate per day of week', fontsize=12)\n",
    "sns.barplot(x='contact_times', y='converted', data=data, ax=ax[2],palette=\"Set3\");\n",
    "ax[2].set_title('Mean App _install Conversion Rate per day of week', fontsize=12)\n",
    "plt.tight_layout()\n",
    "plt.show()"
   ]
  },
  {
   "cell_type": "code",
   "execution_count": null,
   "metadata": {},
   "outputs": [],
   "source": [
    "fig, ax = plt.subplots(nrows=1, ncols=3, figsize=(18, 8))\n",
    "sns.countplot(x='platform', hue='app_converted', data=data, ax=ax[0],palette=\"Set3\")\n",
    "ax[0].set_title('Count Plot of advertisement day of week', fontsize=12)\n",
    "sns.barplot(x='platform', y='app_converted', data=data, ax=ax[1],palette=\"Set3\");\n",
    "ax[1].set_title('Mean App _install Conversion Rate per day of week', fontsize=12)\n",
    "sns.barplot(x='platform', y='converted', data=data, ax=ax[2],palette=\"Set3\");\n",
    "ax[2].set_title('Mean App _install Conversion Rate per day of week', fontsize=12)\n",
    "plt.tight_layout()\n",
    "plt.show()"
   ]
  },
  {
   "cell_type": "code",
   "execution_count": null,
   "metadata": {},
   "outputs": [],
   "source": [
    "'''\n",
    "#Business goal\n",
    "We want to expand the spend on the sponsored content strategy while maintaining a level of efficiency. \n",
    "\n",
    "#The Questions\n",
    "\n",
    "-\tWhat can you tell us about the effectiveness of our ad campaigns in terms of generating paid subscriptions?\n",
    "-\tWhat is our general time to acquisition from seeing the ad to getting a paid subscriber? (Assume trial conversion always takes exactly 7 days)\n",
    "-\tWhat are the factors that affect the conversion rate to a paid subscription and what do you think that tells us about these visitors?\n",
    "\n",
    "#Additional Discussion\n",
    "-\tWhat would you recommend the performance marketing manager do? What would you recommend the product manager do? \n",
    "-\tWhat additional information would make this analysis more “complete” or actionable? If given that information and more time, how would that change your analysis?\n",
    "'''"
   ]
  },
  {
   "cell_type": "code",
   "execution_count": null,
   "metadata": {},
   "outputs": [],
   "source": []
  },
  {
   "cell_type": "code",
   "execution_count": null,
   "metadata": {},
   "outputs": [],
   "source": []
  }
 ],
 "metadata": {
  "kernelspec": {
   "display_name": "Python 3",
   "language": "python",
   "name": "python3"
  },
  "language_info": {
   "codemirror_mode": {
    "name": "ipython",
    "version": 3
   },
   "file_extension": ".py",
   "mimetype": "text/x-python",
   "name": "python",
   "nbconvert_exporter": "python",
   "pygments_lexer": "ipython3",
   "version": "3.7.4"
  }
 },
 "nbformat": 4,
 "nbformat_minor": 2
}
