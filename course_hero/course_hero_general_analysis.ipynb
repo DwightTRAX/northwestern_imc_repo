{
 "cells": [
  {
   "cell_type": "code",
   "execution_count": 1,
   "metadata": {},
   "outputs": [],
   "source": [
    "import scipy.stats as scs\n",
    "import numpy as np\n",
    "import pandas as pd\n",
    "\n",
    "import matplotlib.pyplot as plt\n",
    "import matplotlib.dates as mdates\n",
    "from sklearn.metrics import auc, roc_curve, classification_report\n",
    "import seaborn as sns\n",
    "from dateutil.relativedelta import relativedelta"
   ]
  },
  {
   "cell_type": "code",
   "execution_count": 2,
   "metadata": {},
   "outputs": [],
   "source": [
    "df1 = pd.read_csv('course_hero_data/DS_interview_doc.csv')\n",
    "df2 = pd.read_csv('course_hero_data/DS_interview_paid_unlock.csv')"
   ]
  },
  {
   "cell_type": "code",
   "execution_count": 3,
   "metadata": {},
   "outputs": [
    {
     "name": "stdout",
     "output_type": "stream",
     "text": [
      "<class 'pandas.core.frame.DataFrame'>\n",
      "RangeIndex: 10000 entries, 0 to 9999\n",
      "Data columns (total 18 columns):\n",
      "New_ID                10000 non-null int64\n",
      "date                  10000 non-null object\n",
      "year_month            10000 non-null object\n",
      "byte_size             10000 non-null int64\n",
      "filetype              10000 non-null object\n",
      "school_country        10000 non-null object\n",
      "school_name           10000 non-null object\n",
      "school_type           10000 non-null object\n",
      "enrollment            9932 non-null float64\n",
      "first_subject_name    10000 non-null object\n",
      "tag                   9999 non-null object\n",
      "page_count            10000 non-null float64\n",
      "hqd_score             9789 non-null float64\n",
      "is_mcq                415 non-null float64\n",
      "top_keywords          10000 non-null int64\n",
      "language              9575 non-null object\n",
      "course_id_            10000 non-null int64\n",
      "user_id_              10000 non-null int64\n",
      "dtypes: float64(4), int64(5), object(9)\n",
      "memory usage: 1.4+ MB\n"
     ]
    }
   ],
   "source": [
    "df1.info()"
   ]
  },
  {
   "cell_type": "code",
   "execution_count": 4,
   "metadata": {},
   "outputs": [
    {
     "name": "stdout",
     "output_type": "stream",
     "text": [
      "<class 'pandas.core.frame.DataFrame'>\n",
      "RangeIndex: 38868 entries, 0 to 38867\n",
      "Data columns (total 3 columns):\n",
      "New_ID         38868 non-null int64\n",
      "unlock_date    38868 non-null object\n",
      "unlock_cnt     38868 non-null int64\n",
      "dtypes: int64(2), object(1)\n",
      "memory usage: 911.0+ KB\n"
     ]
    }
   ],
   "source": [
    "df2.info()"
   ]
  },
  {
   "cell_type": "code",
   "execution_count": 5,
   "metadata": {},
   "outputs": [],
   "source": [
    "percent_missing = df1.isnull().sum() * 100 / len(df1)\n",
    "missing_value_df = pd.DataFrame({'column_name': df1.columns,\n",
    "                                 'percent_missing': percent_missing})"
   ]
  },
  {
   "cell_type": "code",
   "execution_count": 6,
   "metadata": {},
   "outputs": [
    {
     "data": {
      "text/html": [
       "<div>\n",
       "<style scoped>\n",
       "    .dataframe tbody tr th:only-of-type {\n",
       "        vertical-align: middle;\n",
       "    }\n",
       "\n",
       "    .dataframe tbody tr th {\n",
       "        vertical-align: top;\n",
       "    }\n",
       "\n",
       "    .dataframe thead th {\n",
       "        text-align: right;\n",
       "    }\n",
       "</style>\n",
       "<table border=\"1\" class=\"dataframe\">\n",
       "  <thead>\n",
       "    <tr style=\"text-align: right;\">\n",
       "      <th></th>\n",
       "      <th>column_name</th>\n",
       "      <th>percent_missing</th>\n",
       "    </tr>\n",
       "  </thead>\n",
       "  <tbody>\n",
       "    <tr>\n",
       "      <th>enrollment</th>\n",
       "      <td>enrollment</td>\n",
       "      <td>0.68</td>\n",
       "    </tr>\n",
       "    <tr>\n",
       "      <th>tag</th>\n",
       "      <td>tag</td>\n",
       "      <td>0.01</td>\n",
       "    </tr>\n",
       "    <tr>\n",
       "      <th>hqd_score</th>\n",
       "      <td>hqd_score</td>\n",
       "      <td>2.11</td>\n",
       "    </tr>\n",
       "    <tr>\n",
       "      <th>is_mcq</th>\n",
       "      <td>is_mcq</td>\n",
       "      <td>95.85</td>\n",
       "    </tr>\n",
       "    <tr>\n",
       "      <th>language</th>\n",
       "      <td>language</td>\n",
       "      <td>4.25</td>\n",
       "    </tr>\n",
       "  </tbody>\n",
       "</table>\n",
       "</div>"
      ],
      "text/plain": [
       "           column_name  percent_missing\n",
       "enrollment  enrollment             0.68\n",
       "tag                tag             0.01\n",
       "hqd_score    hqd_score             2.11\n",
       "is_mcq          is_mcq            95.85\n",
       "language      language             4.25"
      ]
     },
     "execution_count": 6,
     "metadata": {},
     "output_type": "execute_result"
    }
   ],
   "source": [
    "missing_value_df[missing_value_df['percent_missing'] > 0]"
   ]
  },
  {
   "cell_type": "code",
   "execution_count": 7,
   "metadata": {},
   "outputs": [
    {
     "data": {
      "text/html": [
       "<div>\n",
       "<style scoped>\n",
       "    .dataframe tbody tr th:only-of-type {\n",
       "        vertical-align: middle;\n",
       "    }\n",
       "\n",
       "    .dataframe tbody tr th {\n",
       "        vertical-align: top;\n",
       "    }\n",
       "\n",
       "    .dataframe thead th {\n",
       "        text-align: right;\n",
       "    }\n",
       "</style>\n",
       "<table border=\"1\" class=\"dataframe\">\n",
       "  <thead>\n",
       "    <tr style=\"text-align: right;\">\n",
       "      <th></th>\n",
       "      <th>New_ID</th>\n",
       "      <th>date</th>\n",
       "      <th>year_month</th>\n",
       "      <th>byte_size</th>\n",
       "      <th>filetype</th>\n",
       "      <th>school_country</th>\n",
       "      <th>school_name</th>\n",
       "      <th>school_type</th>\n",
       "      <th>enrollment</th>\n",
       "      <th>first_subject_name</th>\n",
       "      <th>tag</th>\n",
       "      <th>page_count</th>\n",
       "      <th>hqd_score</th>\n",
       "      <th>is_mcq</th>\n",
       "      <th>top_keywords</th>\n",
       "      <th>language</th>\n",
       "      <th>course_id_</th>\n",
       "      <th>user_id_</th>\n",
       "    </tr>\n",
       "  </thead>\n",
       "  <tbody>\n",
       "    <tr>\n",
       "      <th>0</th>\n",
       "      <td>880</td>\n",
       "      <td>2017-11-19</td>\n",
       "      <td>2017-11</td>\n",
       "      <td>48940</td>\n",
       "      <td>docx</td>\n",
       "      <td>United States</td>\n",
       "      <td>Fordham University</td>\n",
       "      <td>HIGHER</td>\n",
       "      <td>17901.0</td>\n",
       "      <td>accounting</td>\n",
       "      <td>paper</td>\n",
       "      <td>4.0</td>\n",
       "      <td>0.95683</td>\n",
       "      <td>NaN</td>\n",
       "      <td>1</td>\n",
       "      <td>NaN</td>\n",
       "      <td>0</td>\n",
       "      <td>0</td>\n",
       "    </tr>\n",
       "    <tr>\n",
       "      <th>1</th>\n",
       "      <td>881</td>\n",
       "      <td>2016-06-10</td>\n",
       "      <td>2016-06</td>\n",
       "      <td>5336</td>\n",
       "      <td>docx</td>\n",
       "      <td>United States</td>\n",
       "      <td>Rio Salado Community College</td>\n",
       "      <td>HIGHER</td>\n",
       "      <td>6086.0</td>\n",
       "      <td>economics</td>\n",
       "      <td>paper</td>\n",
       "      <td>1.0</td>\n",
       "      <td>0.77776</td>\n",
       "      <td>NaN</td>\n",
       "      <td>0</td>\n",
       "      <td>english</td>\n",
       "      <td>1</td>\n",
       "      <td>1</td>\n",
       "    </tr>\n",
       "    <tr>\n",
       "      <th>2</th>\n",
       "      <td>882</td>\n",
       "      <td>2017-03-20</td>\n",
       "      <td>2017-03</td>\n",
       "      <td>18034</td>\n",
       "      <td>docx</td>\n",
       "      <td>United States</td>\n",
       "      <td>University of Phoenix</td>\n",
       "      <td>HIGHER</td>\n",
       "      <td>212044.0</td>\n",
       "      <td>sociology</td>\n",
       "      <td>paper</td>\n",
       "      <td>3.0</td>\n",
       "      <td>0.94462</td>\n",
       "      <td>NaN</td>\n",
       "      <td>1</td>\n",
       "      <td>english</td>\n",
       "      <td>2</td>\n",
       "      <td>2</td>\n",
       "    </tr>\n",
       "    <tr>\n",
       "      <th>3</th>\n",
       "      <td>883</td>\n",
       "      <td>2018-01-28</td>\n",
       "      <td>2018-01</td>\n",
       "      <td>16518</td>\n",
       "      <td>docx</td>\n",
       "      <td>Canada</td>\n",
       "      <td>University of Waterloo</td>\n",
       "      <td>HIGHER</td>\n",
       "      <td>36670.0</td>\n",
       "      <td>history</td>\n",
       "      <td>notes</td>\n",
       "      <td>3.0</td>\n",
       "      <td>0.96980</td>\n",
       "      <td>NaN</td>\n",
       "      <td>0</td>\n",
       "      <td>english</td>\n",
       "      <td>3</td>\n",
       "      <td>3</td>\n",
       "    </tr>\n",
       "    <tr>\n",
       "      <th>4</th>\n",
       "      <td>884</td>\n",
       "      <td>2017-06-11</td>\n",
       "      <td>2017-06</td>\n",
       "      <td>88860</td>\n",
       "      <td>docx</td>\n",
       "      <td>United States</td>\n",
       "      <td>University of California, Santa Barbara</td>\n",
       "      <td>HIGHER</td>\n",
       "      <td>25833.0</td>\n",
       "      <td>sociology</td>\n",
       "      <td>notes</td>\n",
       "      <td>4.0</td>\n",
       "      <td>0.96610</td>\n",
       "      <td>NaN</td>\n",
       "      <td>1</td>\n",
       "      <td>english</td>\n",
       "      <td>4</td>\n",
       "      <td>4</td>\n",
       "    </tr>\n",
       "  </tbody>\n",
       "</table>\n",
       "</div>"
      ],
      "text/plain": [
       "   New_ID        date year_month  byte_size filetype school_country  \\\n",
       "0     880  2017-11-19    2017-11      48940     docx  United States   \n",
       "1     881  2016-06-10    2016-06       5336     docx  United States   \n",
       "2     882  2017-03-20    2017-03      18034     docx  United States   \n",
       "3     883  2018-01-28    2018-01      16518     docx         Canada   \n",
       "4     884  2017-06-11    2017-06      88860     docx  United States   \n",
       "\n",
       "                               school_name school_type  enrollment  \\\n",
       "0                       Fordham University      HIGHER     17901.0   \n",
       "1             Rio Salado Community College      HIGHER      6086.0   \n",
       "2                    University of Phoenix      HIGHER    212044.0   \n",
       "3                   University of Waterloo      HIGHER     36670.0   \n",
       "4  University of California, Santa Barbara      HIGHER     25833.0   \n",
       "\n",
       "  first_subject_name    tag  page_count  hqd_score  is_mcq  top_keywords  \\\n",
       "0         accounting  paper         4.0    0.95683     NaN             1   \n",
       "1          economics  paper         1.0    0.77776     NaN             0   \n",
       "2          sociology  paper         3.0    0.94462     NaN             1   \n",
       "3            history  notes         3.0    0.96980     NaN             0   \n",
       "4          sociology  notes         4.0    0.96610     NaN             1   \n",
       "\n",
       "  language  course_id_  user_id_  \n",
       "0      NaN           0         0  \n",
       "1  english           1         1  \n",
       "2  english           2         2  \n",
       "3  english           3         3  \n",
       "4  english           4         4  "
      ]
     },
     "execution_count": 7,
     "metadata": {},
     "output_type": "execute_result"
    }
   ],
   "source": [
    "df1.head()"
   ]
  },
  {
   "cell_type": "code",
   "execution_count": 8,
   "metadata": {},
   "outputs": [
    {
     "data": {
      "text/html": [
       "<div>\n",
       "<style scoped>\n",
       "    .dataframe tbody tr th:only-of-type {\n",
       "        vertical-align: middle;\n",
       "    }\n",
       "\n",
       "    .dataframe tbody tr th {\n",
       "        vertical-align: top;\n",
       "    }\n",
       "\n",
       "    .dataframe thead th {\n",
       "        text-align: right;\n",
       "    }\n",
       "</style>\n",
       "<table border=\"1\" class=\"dataframe\">\n",
       "  <thead>\n",
       "    <tr style=\"text-align: right;\">\n",
       "      <th></th>\n",
       "      <th>New_ID</th>\n",
       "      <th>unlock_date</th>\n",
       "      <th>unlock_cnt</th>\n",
       "    </tr>\n",
       "  </thead>\n",
       "  <tbody>\n",
       "    <tr>\n",
       "      <th>0</th>\n",
       "      <td>6488</td>\n",
       "      <td>2016-07-25</td>\n",
       "      <td>1</td>\n",
       "    </tr>\n",
       "    <tr>\n",
       "      <th>1</th>\n",
       "      <td>6488</td>\n",
       "      <td>2017-05-03</td>\n",
       "      <td>1</td>\n",
       "    </tr>\n",
       "    <tr>\n",
       "      <th>2</th>\n",
       "      <td>6488</td>\n",
       "      <td>2017-05-03</td>\n",
       "      <td>1</td>\n",
       "    </tr>\n",
       "    <tr>\n",
       "      <th>3</th>\n",
       "      <td>6488</td>\n",
       "      <td>2017-10-28</td>\n",
       "      <td>1</td>\n",
       "    </tr>\n",
       "    <tr>\n",
       "      <th>4</th>\n",
       "      <td>6488</td>\n",
       "      <td>2018-01-24</td>\n",
       "      <td>1</td>\n",
       "    </tr>\n",
       "  </tbody>\n",
       "</table>\n",
       "</div>"
      ],
      "text/plain": [
       "   New_ID unlock_date  unlock_cnt\n",
       "0    6488  2016-07-25           1\n",
       "1    6488  2017-05-03           1\n",
       "2    6488  2017-05-03           1\n",
       "3    6488  2017-10-28           1\n",
       "4    6488  2018-01-24           1"
      ]
     },
     "execution_count": 8,
     "metadata": {},
     "output_type": "execute_result"
    }
   ],
   "source": [
    "df2.head()"
   ]
  },
  {
   "cell_type": "code",
   "execution_count": 9,
   "metadata": {},
   "outputs": [],
   "source": [
    "df1['date'] = pd.to_datetime(df1['date'], format = '%Y-%m-%d')\n",
    "df2['unlock_date'] = pd.to_datetime(df2['unlock_date'], format = '%Y-%m-%d')"
   ]
  },
  {
   "cell_type": "code",
   "execution_count": 10,
   "metadata": {},
   "outputs": [
    {
     "name": "stdout",
     "output_type": "stream",
     "text": [
      "DS_interview_doc min date:  2016-06-01 00:00:00\n",
      "DS_interview_doc max date:  2018-03-31 00:00:00\n",
      "DS_interview_paid_unlock min date:  2016-06-15 00:00:00\n",
      "DS_interview_paid_unlock max date:  2021-01-27 00:00:00\n"
     ]
    }
   ],
   "source": [
    "print('DS_interview_doc min date: ',df1['date'].min())\n",
    "print('DS_interview_doc max date: ',df1['date'].max())\n",
    "print('DS_interview_paid_unlock min date: ',df2['unlock_date'].min())\n",
    "print('DS_interview_paid_unlock max date: ',df2['unlock_date'].max())"
   ]
  },
  {
   "cell_type": "code",
   "execution_count": 11,
   "metadata": {},
   "outputs": [],
   "source": [
    "df11 = df1[['New_ID', 'date']].copy()\n",
    "df_high = df11.merge(df2, on='New_ID')"
   ]
  },
  {
   "cell_type": "code",
   "execution_count": 12,
   "metadata": {},
   "outputs": [],
   "source": [
    "df_target = df_high[ (df_high['date'] + pd.DateOffset(months=24)) >= df_high['unlock_date']]"
   ]
  },
  {
   "cell_type": "code",
   "execution_count": 13,
   "metadata": {},
   "outputs": [],
   "source": [
    "df_target = df_target.groupby('New_ID')['unlock_cnt'].sum().reset_index()\n",
    "df_target['is_high'] = np.where(df_target['unlock_cnt'] >= 3,1,0)"
   ]
  },
  {
   "cell_type": "code",
   "execution_count": 14,
   "metadata": {},
   "outputs": [
    {
     "data": {
      "text/plain": [
       "1612"
      ]
     },
     "execution_count": 14,
     "metadata": {},
     "output_type": "execute_result"
    }
   ],
   "source": [
    "df_target['is_high'].sum()"
   ]
  },
  {
   "cell_type": "code",
   "execution_count": 15,
   "metadata": {},
   "outputs": [],
   "source": [
    "df = df1.merge(df_target[['New_ID','unlock_cnt','is_high']], on='New_ID', how='left')\n",
    "df['is_high'].fillna(0, inplace=True)\n",
    "df['unlock_cnt'].fillna(0, inplace=True)"
   ]
  },
  {
   "cell_type": "code",
   "execution_count": 16,
   "metadata": {},
   "outputs": [
    {
     "data": {
      "text/plain": [
       "0.1612"
      ]
     },
     "execution_count": 16,
     "metadata": {},
     "output_type": "execute_result"
    }
   ],
   "source": [
    "df['is_high'].mean()"
   ]
  },
  {
   "cell_type": "code",
   "execution_count": 17,
   "metadata": {},
   "outputs": [
    {
     "data": {
      "text/plain": [
       "<matplotlib.axes._subplots.AxesSubplot at 0x7fee0a60c550>"
      ]
     },
     "execution_count": 17,
     "metadata": {},
     "output_type": "execute_result"
    },
    {
     "data": {
      "image/png": "[encoded data removed]",
      "text/plain": [
       "<Figure size 432x288 with 1 Axes>"
      ]
     },
     "metadata": {
      "needs_background": "light"
     },
     "output_type": "display_data"
    }
   ],
   "source": [
    "df.plot(y = 'unlock_cnt', kind = 'hist', bins=30)"
   ]
  },
  {
   "cell_type": "code",
   "execution_count": 18,
   "metadata": {},
   "outputs": [
    {
     "data": {
      "text/html": [
       "<div>\n",
       "<style scoped>\n",
       "    .dataframe tbody tr th:only-of-type {\n",
       "        vertical-align: middle;\n",
       "    }\n",
       "\n",
       "    .dataframe tbody tr th {\n",
       "        vertical-align: top;\n",
       "    }\n",
       "\n",
       "    .dataframe thead th {\n",
       "        text-align: right;\n",
       "    }\n",
       "</style>\n",
       "<table border=\"1\" class=\"dataframe\">\n",
       "  <thead>\n",
       "    <tr style=\"text-align: right;\">\n",
       "      <th></th>\n",
       "      <th>unlock_cnt</th>\n",
       "    </tr>\n",
       "  </thead>\n",
       "  <tbody>\n",
       "    <tr>\n",
       "      <th>count</th>\n",
       "      <td>10000.000000</td>\n",
       "    </tr>\n",
       "    <tr>\n",
       "      <th>mean</th>\n",
       "      <td>2.195200</td>\n",
       "    </tr>\n",
       "    <tr>\n",
       "      <th>std</th>\n",
       "      <td>9.484845</td>\n",
       "    </tr>\n",
       "    <tr>\n",
       "      <th>min</th>\n",
       "      <td>0.000000</td>\n",
       "    </tr>\n",
       "    <tr>\n",
       "      <th>25%</th>\n",
       "      <td>0.000000</td>\n",
       "    </tr>\n",
       "    <tr>\n",
       "      <th>50%</th>\n",
       "      <td>0.000000</td>\n",
       "    </tr>\n",
       "    <tr>\n",
       "      <th>75%</th>\n",
       "      <td>1.000000</td>\n",
       "    </tr>\n",
       "    <tr>\n",
       "      <th>max</th>\n",
       "      <td>352.000000</td>\n",
       "    </tr>\n",
       "  </tbody>\n",
       "</table>\n",
       "</div>"
      ],
      "text/plain": [
       "         unlock_cnt\n",
       "count  10000.000000\n",
       "mean       2.195200\n",
       "std        9.484845\n",
       "min        0.000000\n",
       "25%        0.000000\n",
       "50%        0.000000\n",
       "75%        1.000000\n",
       "max      352.000000"
      ]
     },
     "execution_count": 18,
     "metadata": {},
     "output_type": "execute_result"
    }
   ],
   "source": [
    "df[['unlock_cnt']].describe()"
   ]
  },
  {
   "cell_type": "code",
   "execution_count": 19,
   "metadata": {},
   "outputs": [
    {
     "data": {
      "text/html": [
       "<div>\n",
       "<style scoped>\n",
       "    .dataframe tbody tr th:only-of-type {\n",
       "        vertical-align: middle;\n",
       "    }\n",
       "\n",
       "    .dataframe tbody tr th {\n",
       "        vertical-align: top;\n",
       "    }\n",
       "\n",
       "    .dataframe thead th {\n",
       "        text-align: right;\n",
       "    }\n",
       "</style>\n",
       "<table border=\"1\" class=\"dataframe\">\n",
       "  <thead>\n",
       "    <tr style=\"text-align: right;\">\n",
       "      <th></th>\n",
       "      <th>New_ID</th>\n",
       "      <th>date</th>\n",
       "      <th>year_month</th>\n",
       "      <th>byte_size</th>\n",
       "      <th>filetype</th>\n",
       "      <th>school_country</th>\n",
       "      <th>school_name</th>\n",
       "      <th>school_type</th>\n",
       "      <th>enrollment</th>\n",
       "      <th>first_subject_name</th>\n",
       "      <th>tag</th>\n",
       "      <th>page_count</th>\n",
       "      <th>hqd_score</th>\n",
       "      <th>is_mcq</th>\n",
       "      <th>top_keywords</th>\n",
       "      <th>language</th>\n",
       "      <th>course_id_</th>\n",
       "      <th>user_id_</th>\n",
       "      <th>unlock_cnt</th>\n",
       "      <th>is_high</th>\n",
       "    </tr>\n",
       "  </thead>\n",
       "  <tbody>\n",
       "    <tr>\n",
       "      <th>5576</th>\n",
       "      <td>6456</td>\n",
       "      <td>2018-02-27</td>\n",
       "      <td>2018-02</td>\n",
       "      <td>640272</td>\n",
       "      <td>docx</td>\n",
       "      <td>United States</td>\n",
       "      <td>Chamberlain College of Nursing</td>\n",
       "      <td>HIGHER</td>\n",
       "      <td>25569.0</td>\n",
       "      <td>nursing</td>\n",
       "      <td>assessment</td>\n",
       "      <td>224.0</td>\n",
       "      <td>0.86397</td>\n",
       "      <td>1.0</td>\n",
       "      <td>1</td>\n",
       "      <td>en</td>\n",
       "      <td>5467</td>\n",
       "      <td>5508</td>\n",
       "      <td>352.0</td>\n",
       "      <td>1.0</td>\n",
       "    </tr>\n",
       "    <tr>\n",
       "      <th>8400</th>\n",
       "      <td>9280</td>\n",
       "      <td>2017-02-01</td>\n",
       "      <td>2017-02</td>\n",
       "      <td>22921</td>\n",
       "      <td>docx</td>\n",
       "      <td>United States</td>\n",
       "      <td>Walden University</td>\n",
       "      <td>HIGHER</td>\n",
       "      <td>52799.0</td>\n",
       "      <td>nursing</td>\n",
       "      <td>assessment</td>\n",
       "      <td>4.0</td>\n",
       "      <td>0.98229</td>\n",
       "      <td>NaN</td>\n",
       "      <td>1</td>\n",
       "      <td>english</td>\n",
       "      <td>8177</td>\n",
       "      <td>8256</td>\n",
       "      <td>224.0</td>\n",
       "      <td>1.0</td>\n",
       "    </tr>\n",
       "    <tr>\n",
       "      <th>5984</th>\n",
       "      <td>6864</td>\n",
       "      <td>2017-09-20</td>\n",
       "      <td>2017-09</td>\n",
       "      <td>44268</td>\n",
       "      <td>docx</td>\n",
       "      <td>United States</td>\n",
       "      <td>American Military University</td>\n",
       "      <td>HIGHER</td>\n",
       "      <td>46420.0</td>\n",
       "      <td>electrical_engineering</td>\n",
       "      <td>assessment</td>\n",
       "      <td>4.0</td>\n",
       "      <td>0.96594</td>\n",
       "      <td>NaN</td>\n",
       "      <td>1</td>\n",
       "      <td>english</td>\n",
       "      <td>5864</td>\n",
       "      <td>5904</td>\n",
       "      <td>217.0</td>\n",
       "      <td>1.0</td>\n",
       "    </tr>\n",
       "    <tr>\n",
       "      <th>4260</th>\n",
       "      <td>5140</td>\n",
       "      <td>2017-07-08</td>\n",
       "      <td>2017-07</td>\n",
       "      <td>86009</td>\n",
       "      <td>docx</td>\n",
       "      <td>United States</td>\n",
       "      <td>Aims Community College</td>\n",
       "      <td>HIGHER</td>\n",
       "      <td>7966.0</td>\n",
       "      <td>mathematics</td>\n",
       "      <td>assessment</td>\n",
       "      <td>3.0</td>\n",
       "      <td>0.94523</td>\n",
       "      <td>NaN</td>\n",
       "      <td>1</td>\n",
       "      <td>english</td>\n",
       "      <td>4197</td>\n",
       "      <td>4223</td>\n",
       "      <td>215.0</td>\n",
       "      <td>1.0</td>\n",
       "    </tr>\n",
       "    <tr>\n",
       "      <th>245</th>\n",
       "      <td>1125</td>\n",
       "      <td>2017-09-26</td>\n",
       "      <td>2017-09</td>\n",
       "      <td>330761</td>\n",
       "      <td>docx</td>\n",
       "      <td>United States</td>\n",
       "      <td>Straighterline</td>\n",
       "      <td>HIGHER</td>\n",
       "      <td>70000.0</td>\n",
       "      <td>business</td>\n",
       "      <td>assessment</td>\n",
       "      <td>4.0</td>\n",
       "      <td>0.95673</td>\n",
       "      <td>NaN</td>\n",
       "      <td>1</td>\n",
       "      <td>english</td>\n",
       "      <td>244</td>\n",
       "      <td>244</td>\n",
       "      <td>181.0</td>\n",
       "      <td>1.0</td>\n",
       "    </tr>\n",
       "    <tr>\n",
       "      <th>5318</th>\n",
       "      <td>6198</td>\n",
       "      <td>2017-10-28</td>\n",
       "      <td>2017-10</td>\n",
       "      <td>16189</td>\n",
       "      <td>docx</td>\n",
       "      <td>United States</td>\n",
       "      <td>Southern New Hampshire University</td>\n",
       "      <td>HIGHER</td>\n",
       "      <td>104068.0</td>\n",
       "      <td>communications</td>\n",
       "      <td>paper</td>\n",
       "      <td>2.0</td>\n",
       "      <td>0.94608</td>\n",
       "      <td>NaN</td>\n",
       "      <td>0</td>\n",
       "      <td>english</td>\n",
       "      <td>5221</td>\n",
       "      <td>5258</td>\n",
       "      <td>171.0</td>\n",
       "      <td>1.0</td>\n",
       "    </tr>\n",
       "    <tr>\n",
       "      <th>4269</th>\n",
       "      <td>5149</td>\n",
       "      <td>2018-03-13</td>\n",
       "      <td>2018-03</td>\n",
       "      <td>38193</td>\n",
       "      <td>docx</td>\n",
       "      <td>United States</td>\n",
       "      <td>Western Governors University</td>\n",
       "      <td>HIGHER</td>\n",
       "      <td>110534.0</td>\n",
       "      <td>nursing</td>\n",
       "      <td>paper</td>\n",
       "      <td>19.0</td>\n",
       "      <td>0.95188</td>\n",
       "      <td>NaN</td>\n",
       "      <td>1</td>\n",
       "      <td>en</td>\n",
       "      <td>4204</td>\n",
       "      <td>4232</td>\n",
       "      <td>166.0</td>\n",
       "      <td>1.0</td>\n",
       "    </tr>\n",
       "    <tr>\n",
       "      <th>6221</th>\n",
       "      <td>7101</td>\n",
       "      <td>2017-11-17</td>\n",
       "      <td>2017-11</td>\n",
       "      <td>721272</td>\n",
       "      <td>pdf</td>\n",
       "      <td>United States</td>\n",
       "      <td>University of Texas</td>\n",
       "      <td>HIGHER</td>\n",
       "      <td>51832.0</td>\n",
       "      <td>nursing</td>\n",
       "      <td>syllabi</td>\n",
       "      <td>9.0</td>\n",
       "      <td>0.88563</td>\n",
       "      <td>NaN</td>\n",
       "      <td>1</td>\n",
       "      <td>english</td>\n",
       "      <td>6093</td>\n",
       "      <td>6137</td>\n",
       "      <td>158.0</td>\n",
       "      <td>1.0</td>\n",
       "    </tr>\n",
       "    <tr>\n",
       "      <th>5280</th>\n",
       "      <td>6160</td>\n",
       "      <td>2017-10-25</td>\n",
       "      <td>2017-10</td>\n",
       "      <td>6206</td>\n",
       "      <td>docx</td>\n",
       "      <td>United States</td>\n",
       "      <td>University of North Carolina, Greensboro</td>\n",
       "      <td>HIGHER</td>\n",
       "      <td>22138.0</td>\n",
       "      <td>economics</td>\n",
       "      <td>assessment</td>\n",
       "      <td>2.0</td>\n",
       "      <td>0.95927</td>\n",
       "      <td>1.0</td>\n",
       "      <td>0</td>\n",
       "      <td>english</td>\n",
       "      <td>5184</td>\n",
       "      <td>5220</td>\n",
       "      <td>147.0</td>\n",
       "      <td>1.0</td>\n",
       "    </tr>\n",
       "    <tr>\n",
       "      <th>5542</th>\n",
       "      <td>6422</td>\n",
       "      <td>2017-07-01</td>\n",
       "      <td>2017-07</td>\n",
       "      <td>111616</td>\n",
       "      <td>doc</td>\n",
       "      <td>United States</td>\n",
       "      <td>University of Phoenix</td>\n",
       "      <td>HIGHER</td>\n",
       "      <td>212044.0</td>\n",
       "      <td>management</td>\n",
       "      <td>paper</td>\n",
       "      <td>6.0</td>\n",
       "      <td>0.94283</td>\n",
       "      <td>NaN</td>\n",
       "      <td>0</td>\n",
       "      <td>english</td>\n",
       "      <td>5435</td>\n",
       "      <td>5474</td>\n",
       "      <td>146.0</td>\n",
       "      <td>1.0</td>\n",
       "    </tr>\n",
       "    <tr>\n",
       "      <th>7056</th>\n",
       "      <td>7936</td>\n",
       "      <td>2017-04-02</td>\n",
       "      <td>2017-04</td>\n",
       "      <td>12070</td>\n",
       "      <td>xlsx</td>\n",
       "      <td>United States</td>\n",
       "      <td>Fordham University</td>\n",
       "      <td>HIGHER</td>\n",
       "      <td>17901.0</td>\n",
       "      <td>accounting</td>\n",
       "      <td>assessment</td>\n",
       "      <td>2.0</td>\n",
       "      <td>0.82486</td>\n",
       "      <td>NaN</td>\n",
       "      <td>1</td>\n",
       "      <td>english</td>\n",
       "      <td>6898</td>\n",
       "      <td>6947</td>\n",
       "      <td>131.0</td>\n",
       "      <td>1.0</td>\n",
       "    </tr>\n",
       "    <tr>\n",
       "      <th>7547</th>\n",
       "      <td>8427</td>\n",
       "      <td>2017-06-14</td>\n",
       "      <td>2017-06</td>\n",
       "      <td>122097</td>\n",
       "      <td>docx</td>\n",
       "      <td>United States</td>\n",
       "      <td>Walden University</td>\n",
       "      <td>HIGHER</td>\n",
       "      <td>52799.0</td>\n",
       "      <td>nursing</td>\n",
       "      <td>paper</td>\n",
       "      <td>7.0</td>\n",
       "      <td>0.96444</td>\n",
       "      <td>NaN</td>\n",
       "      <td>1</td>\n",
       "      <td>english</td>\n",
       "      <td>7369</td>\n",
       "      <td>7426</td>\n",
       "      <td>130.0</td>\n",
       "      <td>1.0</td>\n",
       "    </tr>\n",
       "    <tr>\n",
       "      <th>9080</th>\n",
       "      <td>9960</td>\n",
       "      <td>2016-10-01</td>\n",
       "      <td>2016-10</td>\n",
       "      <td>132664</td>\n",
       "      <td>pdf</td>\n",
       "      <td>United States</td>\n",
       "      <td>Richard J. Daley College, City Colleges of Chi...</td>\n",
       "      <td>HIGHER</td>\n",
       "      <td>12625.0</td>\n",
       "      <td>sociology</td>\n",
       "      <td>assessment</td>\n",
       "      <td>4.0</td>\n",
       "      <td>0.77798</td>\n",
       "      <td>NaN</td>\n",
       "      <td>0</td>\n",
       "      <td>english</td>\n",
       "      <td>8826</td>\n",
       "      <td>8918</td>\n",
       "      <td>129.0</td>\n",
       "      <td>1.0</td>\n",
       "    </tr>\n",
       "    <tr>\n",
       "      <th>118</th>\n",
       "      <td>998</td>\n",
       "      <td>2018-01-08</td>\n",
       "      <td>2018-01</td>\n",
       "      <td>28677</td>\n",
       "      <td>docx</td>\n",
       "      <td>United States</td>\n",
       "      <td>Southern New Hampshire University</td>\n",
       "      <td>HIGHER</td>\n",
       "      <td>104068.0</td>\n",
       "      <td>sociology</td>\n",
       "      <td>paper</td>\n",
       "      <td>5.0</td>\n",
       "      <td>0.95202</td>\n",
       "      <td>NaN</td>\n",
       "      <td>1</td>\n",
       "      <td>english</td>\n",
       "      <td>118</td>\n",
       "      <td>118</td>\n",
       "      <td>103.0</td>\n",
       "      <td>1.0</td>\n",
       "    </tr>\n",
       "    <tr>\n",
       "      <th>5904</th>\n",
       "      <td>6784</td>\n",
       "      <td>2017-09-04</td>\n",
       "      <td>2017-09</td>\n",
       "      <td>97429</td>\n",
       "      <td>docx</td>\n",
       "      <td>United States</td>\n",
       "      <td>California State University, Monterey Bay</td>\n",
       "      <td>HIGHER</td>\n",
       "      <td>7801.0</td>\n",
       "      <td>finance</td>\n",
       "      <td>assessment</td>\n",
       "      <td>20.0</td>\n",
       "      <td>0.95352</td>\n",
       "      <td>1.0</td>\n",
       "      <td>1</td>\n",
       "      <td>english</td>\n",
       "      <td>5785</td>\n",
       "      <td>5825</td>\n",
       "      <td>103.0</td>\n",
       "      <td>1.0</td>\n",
       "    </tr>\n",
       "  </tbody>\n",
       "</table>\n",
       "</div>"
      ],
      "text/plain": [
       "      New_ID       date year_month  byte_size filetype school_country  \\\n",
       "5576    6456 2018-02-27    2018-02     640272     docx  United States   \n",
       "8400    9280 2017-02-01    2017-02      22921     docx  United States   \n",
       "5984    6864 2017-09-20    2017-09      44268     docx  United States   \n",
       "4260    5140 2017-07-08    2017-07      86009     docx  United States   \n",
       "245     1125 2017-09-26    2017-09     330761     docx  United States   \n",
       "5318    6198 2017-10-28    2017-10      16189     docx  United States   \n",
       "4269    5149 2018-03-13    2018-03      38193     docx  United States   \n",
       "6221    7101 2017-11-17    2017-11     721272      pdf  United States   \n",
       "5280    6160 2017-10-25    2017-10       6206     docx  United States   \n",
       "5542    6422 2017-07-01    2017-07     111616      doc  United States   \n",
       "7056    7936 2017-04-02    2017-04      12070     xlsx  United States   \n",
       "7547    8427 2017-06-14    2017-06     122097     docx  United States   \n",
       "9080    9960 2016-10-01    2016-10     132664      pdf  United States   \n",
       "118      998 2018-01-08    2018-01      28677     docx  United States   \n",
       "5904    6784 2017-09-04    2017-09      97429     docx  United States   \n",
       "\n",
       "                                            school_name school_type  \\\n",
       "5576                     Chamberlain College of Nursing      HIGHER   \n",
       "8400                                  Walden University      HIGHER   \n",
       "5984                       American Military University      HIGHER   \n",
       "4260                             Aims Community College      HIGHER   \n",
       "245                                      Straighterline      HIGHER   \n",
       "5318                  Southern New Hampshire University      HIGHER   \n",
       "4269                       Western Governors University      HIGHER   \n",
       "6221                                University of Texas      HIGHER   \n",
       "5280           University of North Carolina, Greensboro      HIGHER   \n",
       "5542                              University of Phoenix      HIGHER   \n",
       "7056                                 Fordham University      HIGHER   \n",
       "7547                                  Walden University      HIGHER   \n",
       "9080  Richard J. Daley College, City Colleges of Chi...      HIGHER   \n",
       "118                   Southern New Hampshire University      HIGHER   \n",
       "5904          California State University, Monterey Bay      HIGHER   \n",
       "\n",
       "      enrollment      first_subject_name         tag  page_count  hqd_score  \\\n",
       "5576     25569.0                 nursing  assessment       224.0    0.86397   \n",
       "8400     52799.0                 nursing  assessment         4.0    0.98229   \n",
       "5984     46420.0  electrical_engineering  assessment         4.0    0.96594   \n",
       "4260      7966.0             mathematics  assessment         3.0    0.94523   \n",
       "245      70000.0                business  assessment         4.0    0.95673   \n",
       "5318    104068.0          communications       paper         2.0    0.94608   \n",
       "4269    110534.0                 nursing       paper        19.0    0.95188   \n",
       "6221     51832.0                 nursing     syllabi         9.0    0.88563   \n",
       "5280     22138.0               economics  assessment         2.0    0.95927   \n",
       "5542    212044.0              management       paper         6.0    0.94283   \n",
       "7056     17901.0              accounting  assessment         2.0    0.82486   \n",
       "7547     52799.0                 nursing       paper         7.0    0.96444   \n",
       "9080     12625.0               sociology  assessment         4.0    0.77798   \n",
       "118     104068.0               sociology       paper         5.0    0.95202   \n",
       "5904      7801.0                 finance  assessment        20.0    0.95352   \n",
       "\n",
       "      is_mcq  top_keywords language  course_id_  user_id_  unlock_cnt  is_high  \n",
       "5576     1.0             1       en        5467      5508       352.0      1.0  \n",
       "8400     NaN             1  english        8177      8256       224.0      1.0  \n",
       "5984     NaN             1  english        5864      5904       217.0      1.0  \n",
       "4260     NaN             1  english        4197      4223       215.0      1.0  \n",
       "245      NaN             1  english         244       244       181.0      1.0  \n",
       "5318     NaN             0  english        5221      5258       171.0      1.0  \n",
       "4269     NaN             1       en        4204      4232       166.0      1.0  \n",
       "6221     NaN             1  english        6093      6137       158.0      1.0  \n",
       "5280     1.0             0  english        5184      5220       147.0      1.0  \n",
       "5542     NaN             0  english        5435      5474       146.0      1.0  \n",
       "7056     NaN             1  english        6898      6947       131.0      1.0  \n",
       "7547     NaN             1  english        7369      7426       130.0      1.0  \n",
       "9080     NaN             0  english        8826      8918       129.0      1.0  \n",
       "118      NaN             1  english         118       118       103.0      1.0  \n",
       "5904     1.0             1  english        5785      5825       103.0      1.0  "
      ]
     },
     "execution_count": 19,
     "metadata": {},
     "output_type": "execute_result"
    }
   ],
   "source": [
    "df[df['unlock_cnt'] > 100].sort_values(by='unlock_cnt',ascending=False)"
   ]
  },
  {
   "cell_type": "code",
   "execution_count": 20,
   "metadata": {},
   "outputs": [
    {
     "name": "stdout",
     "output_type": "stream",
     "text": [
      "<class 'pandas.core.frame.DataFrame'>\n",
      "Int64Index: 10000 entries, 0 to 9999\n",
      "Data columns (total 20 columns):\n",
      "New_ID                10000 non-null int64\n",
      "date                  10000 non-null datetime64[ns]\n",
      "year_month            10000 non-null object\n",
      "byte_size             10000 non-null int64\n",
      "filetype              10000 non-null object\n",
      "school_country        10000 non-null object\n",
      "school_name           10000 non-null object\n",
      "school_type           10000 non-null object\n",
      "enrollment            9932 non-null float64\n",
      "first_subject_name    10000 non-null object\n",
      "tag                   9999 non-null object\n",
      "page_count            10000 non-null float64\n",
      "hqd_score             9789 non-null float64\n",
      "is_mcq                415 non-null float64\n",
      "top_keywords          10000 non-null int64\n",
      "language              9575 non-null object\n",
      "course_id_            10000 non-null int64\n",
      "user_id_              10000 non-null int64\n",
      "unlock_cnt            10000 non-null float64\n",
      "is_high               10000 non-null float64\n",
      "dtypes: datetime64[ns](1), float64(6), int64(5), object(8)\n",
      "memory usage: 1.6+ MB\n"
     ]
    }
   ],
   "source": [
    "df.info()"
   ]
  },
  {
   "cell_type": "code",
   "execution_count": 21,
   "metadata": {},
   "outputs": [],
   "source": [
    "df['year'] = df['year_month'].str.split('-').str[0].astype(int)"
   ]
  },
  {
   "cell_type": "code",
   "execution_count": 22,
   "metadata": {},
   "outputs": [
    {
     "data": {
      "text/plain": [
       "3"
      ]
     },
     "execution_count": 22,
     "metadata": {},
     "output_type": "execute_result"
    }
   ],
   "source": [
    "df['year'].nunique()"
   ]
  },
  {
   "cell_type": "code",
   "execution_count": 23,
   "metadata": {},
   "outputs": [
    {
     "data": {
      "image/png": "[encoded data removed]",
      "text/plain": [
       "<Figure size 1296x432 with 2 Axes>"
      ]
     },
     "metadata": {
      "needs_background": "light"
     },
     "output_type": "display_data"
    }
   ],
   "source": [
    "fig, ax = plt.subplots(nrows=1, ncols=2, figsize=(18, 6))\n",
    "sns.countplot(x='year', hue='is_high', data=df, ax=ax[0])\n",
    "ax[0].set_title('Count Plot of year', fontsize=16)\n",
    "#ax[0].set_yscale('log')\n",
    "sns.barplot(x='year', y='is_high', data=df, ax=ax[1]);\n",
    "ax[1].set_title('high quality rate per year', fontsize=16)\n",
    "plt.tight_layout()\n",
    "plt.show()"
   ]
  },
  {
   "cell_type": "code",
   "execution_count": 24,
   "metadata": {},
   "outputs": [],
   "source": [
    "def save_show_hists(num_1, num_2, bins, xtitle, label_1, label_2,\n",
    "                    xlog=False, delta=1):\n",
    "    \n",
    "    fig = plt.figure(figsize=(12, 8))\n",
    "    plt.yscale('log', nonposy='clip')\n",
    "    if xlog:\n",
    "        plt.xscale('log')\n",
    "        x_min = min(min(num_1) + delta, min(num_2) + delta)\n",
    "        x_max = max(max(num_1), max(num_2))\n",
    "        bins = np.logspace(np.log10(x_min), np.log10(x_max), bins)\n",
    "    elif type(bins) is int:\n",
    "        x_min = min(min(num_1), min(num_2))\n",
    "        x_max = max(max(num_1), max(num_2))\n",
    "        bins = np.linspace(x_min, x_max, bins)\n",
    "    plt.hist(num_1, bins=bins, density=True, label=label_1, alpha=0.4)\n",
    "    plt.hist(num_2, bins=bins, density=True, label=label_2, alpha=0.4)\n",
    "    plt.ylabel('normalized counts', fontsize=18)\n",
    "    plt.xlabel(xtitle, fontsize=18)\n",
    "    plt.legend()\n",
    "    plt.grid()"
   ]
  },
  {
   "cell_type": "code",
   "execution_count": 25,
   "metadata": {},
   "outputs": [
    {
     "data": {
      "image/png": "[encoded data removed]",
      "text/plain": [
       "<Figure size 864x576 with 1 Axes>"
      ]
     },
     "metadata": {
      "needs_background": "light"
     },
     "output_type": "display_data"
    }
   ],
   "source": [
    "num_1 = df[df['is_high'] == 1]['byte_size']\n",
    "num_2 = df[df['is_high'] == 0]['byte_size']\n",
    "save_show_hists(num_1, num_2, 30, 'byte_size VS is_high', 'is_high', 'not_high',True)"
   ]
  },
  {
   "cell_type": "code",
   "execution_count": 26,
   "metadata": {},
   "outputs": [],
   "source": [
    "top_ten_list = df['filetype'].value_counts().nlargest(10).index.tolist()\n",
    "df['filetype_std'] = np.where(df['filetype'].isin(top_ten_list),df['filetype'],'non_top_ten')"
   ]
  },
  {
   "cell_type": "code",
   "execution_count": 27,
   "metadata": {},
   "outputs": [
    {
     "data": {
      "image/png": "[encoded data removed]",
      "text/plain": [
       "<Figure size 1296x432 with 2 Axes>"
      ]
     },
     "metadata": {
      "needs_background": "light"
     },
     "output_type": "display_data"
    }
   ],
   "source": [
    "fig, ax = plt.subplots(nrows=1, ncols=2, figsize=(18, 6))\n",
    "sns.countplot(x='filetype_std', hue='is_high', data=df, ax=ax[0])\n",
    "ax[0].set_title('Count Plot of year', fontsize=16)\n",
    "#ax[0].set_yscale('log')\n",
    "sns.barplot(x='filetype_std', y='is_high', data=df, ax=ax[1]);\n",
    "ax[1].set_title('high quality rate per filetype', fontsize=16)\n",
    "plt.tight_layout()\n",
    "plt.show()"
   ]
  },
  {
   "cell_type": "code",
   "execution_count": 28,
   "metadata": {},
   "outputs": [],
   "source": [
    "top_ten_list = df['school_country'].value_counts().nlargest(10).index.tolist()\n",
    "df['school_country_std'] = np.where(df['school_country'].isin(top_ten_list),df['school_country'],'non_top_ten')"
   ]
  },
  {
   "cell_type": "code",
   "execution_count": 29,
   "metadata": {},
   "outputs": [
    {
     "data": {
      "image/png": "[encoded data removed]",
      "text/plain": [
       "<Figure size 1296x432 with 2 Axes>"
      ]
     },
     "metadata": {
      "needs_background": "light"
     },
     "output_type": "display_data"
    }
   ],
   "source": [
    "fig, ax = plt.subplots(nrows=1, ncols=2, figsize=(18, 6))\n",
    "sns.countplot(x='school_country_std', hue='is_high', data=df, ax=ax[0])\n",
    "ax[0].set_title('Count Plot of year', fontsize=16)\n",
    "#ax[0].set_yscale('log')\n",
    "sns.barplot(x='school_country_std', y='is_high', data=df, ax=ax[1]);\n",
    "ax[1].set_title('high quality rate per school_country_std', fontsize=16)\n",
    "plt.tight_layout()\n",
    "plt.show()"
   ]
  },
  {
   "cell_type": "code",
   "execution_count": 30,
   "metadata": {},
   "outputs": [],
   "source": [
    "top_ten_list = df['school_name'].value_counts().nlargest(10).index.tolist()\n",
    "df['school_name_std'] = np.where(df['school_name'].isin(top_ten_list),df['school_name'],'non_top_ten')"
   ]
  },
  {
   "cell_type": "code",
   "execution_count": 31,
   "metadata": {},
   "outputs": [
    {
     "data": {
      "image/png": "[encoded data removed]",
      "text/plain": [
       "<Figure size 864x864 with 2 Axes>"
      ]
     },
     "metadata": {
      "needs_background": "light"
     },
     "output_type": "display_data"
    }
   ],
   "source": [
    "fig, ax = plt.subplots(nrows=2, ncols=1, figsize=(12, 12))\n",
    "sns.countplot(x='school_name_std', hue='is_high', data=df, ax=ax[0])\n",
    "ax[0].set_title('Count Plot of school_name_std', fontsize=16)\n",
    "#ax[0].set_yscale('log')\n",
    "sns.barplot(x='school_name_std', y='is_high', data=df, ax=ax[1]);\n",
    "ax[1].set_title('Mean high Rate per school_name_std', fontsize=16)\n",
    "fig.autofmt_xdate()\n",
    "plt.tight_layout()\n",
    "plt.show()\n"
   ]
  },
  {
   "cell_type": "code",
   "execution_count": 32,
   "metadata": {},
   "outputs": [],
   "source": [
    "top_ten_list = df['school_type'].value_counts().nlargest(10).index.tolist()\n",
    "df['school_type_std'] = np.where(df['school_type'].isin(top_ten_list),df['school_type'],'non_top_ten')"
   ]
  },
  {
   "cell_type": "code",
   "execution_count": 33,
   "metadata": {},
   "outputs": [
    {
     "data": {
      "image/png": "[encoded data removed]",
      "text/plain": [
       "<Figure size 864x864 with 2 Axes>"
      ]
     },
     "metadata": {
      "needs_background": "light"
     },
     "output_type": "display_data"
    }
   ],
   "source": [
    "fig, ax = plt.subplots(nrows=2, ncols=1, figsize=(12, 12))\n",
    "sns.countplot(x='school_type_std', hue='is_high', data=df, ax=ax[0])\n",
    "ax[0].set_title('Count Plot of school_type_std', fontsize=16)\n",
    "#ax[0].set_yscale('log')\n",
    "sns.barplot(x='school_type_std', y='is_high', data=df, ax=ax[1]);\n",
    "ax[1].set_title('Mean high Rate per school_type_std', fontsize=16)\n",
    "fig.autofmt_xdate()\n",
    "plt.tight_layout()\n",
    "plt.show()"
   ]
  },
  {
   "cell_type": "code",
   "execution_count": 34,
   "metadata": {},
   "outputs": [],
   "source": [
    "top_ten_list = df['first_subject_name'].value_counts().nlargest(10).index.tolist()\n",
    "df['first_subject_name_std'] = np.where(df['first_subject_name'].isin(top_ten_list),df['first_subject_name'],'non_top_ten')"
   ]
  },
  {
   "cell_type": "code",
   "execution_count": 35,
   "metadata": {},
   "outputs": [
    {
     "data": {
      "image/png": "[encoded data removed]",
      "text/plain": [
       "<Figure size 864x864 with 2 Axes>"
      ]
     },
     "metadata": {
      "needs_background": "light"
     },
     "output_type": "display_data"
    }
   ],
   "source": [
    "fig, ax = plt.subplots(nrows=2, ncols=1, figsize=(12, 12))\n",
    "sns.countplot(x='first_subject_name_std', hue='is_high', data=df, ax=ax[0])\n",
    "ax[0].set_title('Count Plot of first_subject_name_std', fontsize=16)\n",
    "#ax[0].set_yscale('log')\n",
    "sns.barplot(x='first_subject_name_std', y='is_high', data=df, ax=ax[1]);\n",
    "ax[1].set_title('Mean high Rate per first_subject_name_std', fontsize=16)\n",
    "fig.autofmt_xdate()\n",
    "plt.tight_layout()\n",
    "plt.show()"
   ]
  }
 ],
 "metadata": {
  "kernelspec": {
   "display_name": "Python 3",
   "language": "python",
   "name": "python3"
  },
  "language_info": {
   "codemirror_mode": {
    "name": "ipython",
    "version": 3
   },
   "file_extension": ".py",
   "mimetype": "text/x-python",
   "name": "python",
   "nbconvert_exporter": "python",
   "pygments_lexer": "ipython3",
   "version": "3.7.4"
  }
 },
 "nbformat": 4,
 "nbformat_minor": 2
}
