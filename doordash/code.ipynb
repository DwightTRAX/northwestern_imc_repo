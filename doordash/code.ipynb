{
 "cells": [
  {
   "cell_type": "code",
   "execution_count": 1,
   "metadata": {},
   "outputs": [
    {
     "name": "stderr",
     "output_type": "stream",
     "text": [
      "/Users/dwight/opt/anaconda3/lib/python3.7/site-packages/dask/dataframe/utils.py:14: FutureWarning: pandas.util.testing is deprecated. Use the functions in the public API at pandas.testing instead.\n",
      "  import pandas.util.testing as tm\n"
     ]
    }
   ],
   "source": [
    "import logging\n",
    "import numpy as np\n",
    "import pandas as pd\n",
    "import seaborn as sns\n",
    "import matplotlib.pyplot as plt\n",
    "from datetime import date\n",
    "import datetime\n",
    "from datetime import datetime as dt\n",
    "#from sklearn.preprocessing import OneHotEncoder, LabelBinarizer\n",
    "from sklearn.model_selection import train_test_split,GridSearchCV, TimeSeriesSplit,RandomizedSearchCV, ParameterGrid\n",
    "from sklearn.feature_selection import f_regression, mutual_info_regression\n",
    "from sklearn.feature_selection import SelectKBest, f_classif\n",
    "from lightgbm.sklearn import LGBMRegressor\n",
    "#from sklearn.ensemble import RandomForestRegressor\n",
    "import scipy.sparse as sp\n",
    "from sklearn.feature_extraction import DictVectorizer\n",
    "from sklearn.metrics import mean_squared_error, r2_score, mean_squared_log_error,make_scorer\n",
    "from pdpbox import pdp, get_dataset, info_plots\n",
    "from sklearn.pipeline import Pipeline\n",
    "from scipy.sparse import vstack\n",
    "from pdpbox import pdp, info_plots\n",
    "seed=11"
   ]
  },
  {
   "cell_type": "code",
   "execution_count": 2,
   "metadata": {},
   "outputs": [],
   "source": [
    "data = pd.read_csv('data/historical_data.csv')\n",
    "test_data = pd.read_csv('data/predict_data.csv')"
   ]
  },
  {
   "cell_type": "code",
   "execution_count": 3,
   "metadata": {},
   "outputs": [
    {
     "data": {
      "text/html": [
       "<div>\n",
       "<style scoped>\n",
       "    .dataframe tbody tr th:only-of-type {\n",
       "        vertical-align: middle;\n",
       "    }\n",
       "\n",
       "    .dataframe tbody tr th {\n",
       "        vertical-align: top;\n",
       "    }\n",
       "\n",
       "    .dataframe thead th {\n",
       "        text-align: right;\n",
       "    }\n",
       "</style>\n",
       "<table border=\"1\" class=\"dataframe\">\n",
       "  <thead>\n",
       "    <tr style=\"text-align: right;\">\n",
       "      <th></th>\n",
       "      <th>market_id</th>\n",
       "      <th>created_at</th>\n",
       "      <th>actual_delivery_time</th>\n",
       "      <th>store_id</th>\n",
       "      <th>subtotal</th>\n",
       "      <th>total_onshift_dashers</th>\n",
       "      <th>total_busy_dashers</th>\n",
       "      <th>total_outstanding_orders</th>\n",
       "      <th>estimated_store_to_consumer_driving_duration</th>\n",
       "    </tr>\n",
       "  </thead>\n",
       "  <tbody>\n",
       "    <tr>\n",
       "      <th>0</th>\n",
       "      <td>1.0</td>\n",
       "      <td>2015-02-06 22:24:17</td>\n",
       "      <td>2015-02-06 23:27:16</td>\n",
       "      <td>1845</td>\n",
       "      <td>3441</td>\n",
       "      <td>33.0</td>\n",
       "      <td>14.0</td>\n",
       "      <td>21.0</td>\n",
       "      <td>861.0</td>\n",
       "    </tr>\n",
       "    <tr>\n",
       "      <th>1</th>\n",
       "      <td>2.0</td>\n",
       "      <td>2015-02-10 21:49:25</td>\n",
       "      <td>2015-02-10 22:56:29</td>\n",
       "      <td>5477</td>\n",
       "      <td>1900</td>\n",
       "      <td>1.0</td>\n",
       "      <td>2.0</td>\n",
       "      <td>2.0</td>\n",
       "      <td>690.0</td>\n",
       "    </tr>\n",
       "    <tr>\n",
       "      <th>2</th>\n",
       "      <td>3.0</td>\n",
       "      <td>2015-01-22 20:39:28</td>\n",
       "      <td>2015-01-22 21:09:09</td>\n",
       "      <td>5477</td>\n",
       "      <td>1900</td>\n",
       "      <td>1.0</td>\n",
       "      <td>0.0</td>\n",
       "      <td>0.0</td>\n",
       "      <td>690.0</td>\n",
       "    </tr>\n",
       "    <tr>\n",
       "      <th>3</th>\n",
       "      <td>3.0</td>\n",
       "      <td>2015-02-03 21:21:45</td>\n",
       "      <td>2015-02-03 22:13:00</td>\n",
       "      <td>5477</td>\n",
       "      <td>6900</td>\n",
       "      <td>1.0</td>\n",
       "      <td>1.0</td>\n",
       "      <td>2.0</td>\n",
       "      <td>289.0</td>\n",
       "    </tr>\n",
       "    <tr>\n",
       "      <th>4</th>\n",
       "      <td>3.0</td>\n",
       "      <td>2015-02-15 02:40:36</td>\n",
       "      <td>2015-02-15 03:20:26</td>\n",
       "      <td>5477</td>\n",
       "      <td>3900</td>\n",
       "      <td>6.0</td>\n",
       "      <td>6.0</td>\n",
       "      <td>9.0</td>\n",
       "      <td>650.0</td>\n",
       "    </tr>\n",
       "  </tbody>\n",
       "</table>\n",
       "</div>"
      ],
      "text/plain": [
       "   market_id           created_at actual_delivery_time  store_id  subtotal  \\\n",
       "0        1.0  2015-02-06 22:24:17  2015-02-06 23:27:16      1845      3441   \n",
       "1        2.0  2015-02-10 21:49:25  2015-02-10 22:56:29      5477      1900   \n",
       "2        3.0  2015-01-22 20:39:28  2015-01-22 21:09:09      5477      1900   \n",
       "3        3.0  2015-02-03 21:21:45  2015-02-03 22:13:00      5477      6900   \n",
       "4        3.0  2015-02-15 02:40:36  2015-02-15 03:20:26      5477      3900   \n",
       "\n",
       "   total_onshift_dashers  total_busy_dashers  total_outstanding_orders  \\\n",
       "0                   33.0                14.0                      21.0   \n",
       "1                    1.0                 2.0                       2.0   \n",
       "2                    1.0                 0.0                       0.0   \n",
       "3                    1.0                 1.0                       2.0   \n",
       "4                    6.0                 6.0                       9.0   \n",
       "\n",
       "   estimated_store_to_consumer_driving_duration  \n",
       "0                                         861.0  \n",
       "1                                         690.0  \n",
       "2                                         690.0  \n",
       "3                                         289.0  \n",
       "4                                         650.0  "
      ]
     },
     "execution_count": 3,
     "metadata": {},
     "output_type": "execute_result"
    }
   ],
   "source": [
    "data.head()"
   ]
  },
  {
   "cell_type": "code",
   "execution_count": 4,
   "metadata": {},
   "outputs": [
    {
     "data": {
      "text/plain": [
       "(197428, 9)"
      ]
     },
     "execution_count": 4,
     "metadata": {},
     "output_type": "execute_result"
    }
   ],
   "source": [
    "data.shape"
   ]
  },
  {
   "cell_type": "code",
   "execution_count": 5,
   "metadata": {},
   "outputs": [
    {
     "data": {
      "text/html": [
       "<div>\n",
       "<style scoped>\n",
       "    .dataframe tbody tr th:only-of-type {\n",
       "        vertical-align: middle;\n",
       "    }\n",
       "\n",
       "    .dataframe tbody tr th {\n",
       "        vertical-align: top;\n",
       "    }\n",
       "\n",
       "    .dataframe thead th {\n",
       "        text-align: right;\n",
       "    }\n",
       "</style>\n",
       "<table border=\"1\" class=\"dataframe\">\n",
       "  <thead>\n",
       "    <tr style=\"text-align: right;\">\n",
       "      <th></th>\n",
       "      <th>market_id</th>\n",
       "      <th>created_at</th>\n",
       "      <th>store_id</th>\n",
       "      <th>subtotal</th>\n",
       "      <th>total_onshift_dashers</th>\n",
       "      <th>total_busy_dashers</th>\n",
       "      <th>total_outstanding_orders</th>\n",
       "      <th>estimated_store_to_consumer_driving_duration</th>\n",
       "      <th>delivery_id</th>\n",
       "    </tr>\n",
       "  </thead>\n",
       "  <tbody>\n",
       "    <tr>\n",
       "      <th>0</th>\n",
       "      <td>3.0</td>\n",
       "      <td>2015-02-25 02:22:30</td>\n",
       "      <td>5477</td>\n",
       "      <td>7500</td>\n",
       "      <td>4.0</td>\n",
       "      <td>4.0</td>\n",
       "      <td>4.0</td>\n",
       "      <td>670.0</td>\n",
       "      <td>194096</td>\n",
       "    </tr>\n",
       "    <tr>\n",
       "      <th>1</th>\n",
       "      <td>3.0</td>\n",
       "      <td>2015-02-25 01:14:19</td>\n",
       "      <td>5477</td>\n",
       "      <td>7100</td>\n",
       "      <td>4.0</td>\n",
       "      <td>1.0</td>\n",
       "      <td>1.0</td>\n",
       "      <td>446.0</td>\n",
       "      <td>236895</td>\n",
       "    </tr>\n",
       "    <tr>\n",
       "      <th>2</th>\n",
       "      <td>4.0</td>\n",
       "      <td>2015-02-22 02:27:44</td>\n",
       "      <td>5477</td>\n",
       "      <td>4500</td>\n",
       "      <td>9.0</td>\n",
       "      <td>7.0</td>\n",
       "      <td>6.0</td>\n",
       "      <td>504.0</td>\n",
       "      <td>190868</td>\n",
       "    </tr>\n",
       "    <tr>\n",
       "      <th>3</th>\n",
       "      <td>3.0</td>\n",
       "      <td>2015-02-25 01:32:39</td>\n",
       "      <td>5477</td>\n",
       "      <td>1700</td>\n",
       "      <td>3.0</td>\n",
       "      <td>3.0</td>\n",
       "      <td>3.0</td>\n",
       "      <td>687.0</td>\n",
       "      <td>183076</td>\n",
       "    </tr>\n",
       "    <tr>\n",
       "      <th>4</th>\n",
       "      <td>1.0</td>\n",
       "      <td>2015-02-24 05:20:45</td>\n",
       "      <td>2841</td>\n",
       "      <td>3150</td>\n",
       "      <td>4.0</td>\n",
       "      <td>4.0</td>\n",
       "      <td>4.0</td>\n",
       "      <td>528.0</td>\n",
       "      <td>186200</td>\n",
       "    </tr>\n",
       "  </tbody>\n",
       "</table>\n",
       "</div>"
      ],
      "text/plain": [
       "   market_id           created_at  store_id  subtotal  total_onshift_dashers  \\\n",
       "0        3.0  2015-02-25 02:22:30      5477      7500                    4.0   \n",
       "1        3.0  2015-02-25 01:14:19      5477      7100                    4.0   \n",
       "2        4.0  2015-02-22 02:27:44      5477      4500                    9.0   \n",
       "3        3.0  2015-02-25 01:32:39      5477      1700                    3.0   \n",
       "4        1.0  2015-02-24 05:20:45      2841      3150                    4.0   \n",
       "\n",
       "   total_busy_dashers  total_outstanding_orders  \\\n",
       "0                 4.0                       4.0   \n",
       "1                 1.0                       1.0   \n",
       "2                 7.0                       6.0   \n",
       "3                 3.0                       3.0   \n",
       "4                 4.0                       4.0   \n",
       "\n",
       "   estimated_store_to_consumer_driving_duration  delivery_id  \n",
       "0                                         670.0       194096  \n",
       "1                                         446.0       236895  \n",
       "2                                         504.0       190868  \n",
       "3                                         687.0       183076  \n",
       "4                                         528.0       186200  "
      ]
     },
     "execution_count": 5,
     "metadata": {},
     "output_type": "execute_result"
    }
   ],
   "source": [
    "test_data.head()"
   ]
  },
  {
   "cell_type": "code",
   "execution_count": 6,
   "metadata": {},
   "outputs": [
    {
     "data": {
      "text/plain": [
       "(54778, 9)"
      ]
     },
     "execution_count": 6,
     "metadata": {},
     "output_type": "execute_result"
    }
   ],
   "source": [
    "test_data.shape"
   ]
  },
  {
   "cell_type": "code",
   "execution_count": 7,
   "metadata": {},
   "outputs": [
    {
     "name": "stdout",
     "output_type": "stream",
     "text": [
      "<class 'pandas.core.frame.DataFrame'>\n",
      "RangeIndex: 197428 entries, 0 to 197427\n",
      "Data columns (total 9 columns):\n",
      " #   Column                                        Non-Null Count   Dtype  \n",
      "---  ------                                        --------------   -----  \n",
      " 0   market_id                                     196441 non-null  float64\n",
      " 1   created_at                                    197428 non-null  object \n",
      " 2   actual_delivery_time                          197421 non-null  object \n",
      " 3   store_id                                      197428 non-null  int64  \n",
      " 4   subtotal                                      197428 non-null  int64  \n",
      " 5   total_onshift_dashers                         181166 non-null  float64\n",
      " 6   total_busy_dashers                            181166 non-null  float64\n",
      " 7   total_outstanding_orders                      181166 non-null  float64\n",
      " 8   estimated_store_to_consumer_driving_duration  196902 non-null  float64\n",
      "dtypes: float64(5), int64(2), object(2)\n",
      "memory usage: 13.6+ MB\n"
     ]
    }
   ],
   "source": [
    "data.info()"
   ]
  },
  {
   "cell_type": "code",
   "execution_count": 8,
   "metadata": {},
   "outputs": [],
   "source": [
    "data['created_at'] = pd.to_datetime(data['created_at'], format = '%Y-%m-%d %H:%M:%S', errors='coerce')\n",
    "test_data['created_at'] = pd.to_datetime(test_data['created_at'], format = '%Y-%m-%d %H:%M:%S', errors='coerce')\n",
    "data['actual_delivery_time'] = pd.to_datetime(data['actual_delivery_time'], format = '%Y-%m-%d %H:%M:%S', errors='coerce')"
   ]
  },
  {
   "cell_type": "code",
   "execution_count": 9,
   "metadata": {},
   "outputs": [],
   "source": [
    "data['created_date'] = data['created_at'].dt.date\n",
    "created_cnt = data.groupby('created_date')['store_id'].count().reset_index().sort_values(by='created_date')\n",
    "test_data['created_date'] = test_data['created_at'].dt.date\n",
    "test_created_cnt = test_data.groupby('created_date')['store_id'].count().reset_index().sort_values(by='created_date')"
   ]
  },
  {
   "cell_type": "code",
   "execution_count": 10,
   "metadata": {},
   "outputs": [
    {
     "data": {
      "text/html": [
       "<div>\n",
       "<style scoped>\n",
       "    .dataframe tbody tr th:only-of-type {\n",
       "        vertical-align: middle;\n",
       "    }\n",
       "\n",
       "    .dataframe tbody tr th {\n",
       "        vertical-align: top;\n",
       "    }\n",
       "\n",
       "    .dataframe thead th {\n",
       "        text-align: right;\n",
       "    }\n",
       "</style>\n",
       "<table border=\"1\" class=\"dataframe\">\n",
       "  <thead>\n",
       "    <tr style=\"text-align: right;\">\n",
       "      <th></th>\n",
       "      <th>created_date</th>\n",
       "      <th>store_id</th>\n",
       "    </tr>\n",
       "  </thead>\n",
       "  <tbody>\n",
       "    <tr>\n",
       "      <th>0</th>\n",
       "      <td>2014-10-19</td>\n",
       "      <td>1</td>\n",
       "    </tr>\n",
       "    <tr>\n",
       "      <th>1</th>\n",
       "      <td>2015-01-21</td>\n",
       "      <td>2088</td>\n",
       "    </tr>\n",
       "    <tr>\n",
       "      <th>2</th>\n",
       "      <td>2015-01-22</td>\n",
       "      <td>6001</td>\n",
       "    </tr>\n",
       "    <tr>\n",
       "      <th>3</th>\n",
       "      <td>2015-01-23</td>\n",
       "      <td>6611</td>\n",
       "    </tr>\n",
       "    <tr>\n",
       "      <th>4</th>\n",
       "      <td>2015-01-24</td>\n",
       "      <td>8230</td>\n",
       "    </tr>\n",
       "    <tr>\n",
       "      <th>5</th>\n",
       "      <td>2015-01-25</td>\n",
       "      <td>7934</td>\n",
       "    </tr>\n",
       "    <tr>\n",
       "      <th>6</th>\n",
       "      <td>2015-01-26</td>\n",
       "      <td>5478</td>\n",
       "    </tr>\n",
       "    <tr>\n",
       "      <th>7</th>\n",
       "      <td>2015-01-27</td>\n",
       "      <td>5524</td>\n",
       "    </tr>\n",
       "    <tr>\n",
       "      <th>8</th>\n",
       "      <td>2015-01-28</td>\n",
       "      <td>5669</td>\n",
       "    </tr>\n",
       "    <tr>\n",
       "      <th>9</th>\n",
       "      <td>2015-01-29</td>\n",
       "      <td>6038</td>\n",
       "    </tr>\n",
       "    <tr>\n",
       "      <th>10</th>\n",
       "      <td>2015-01-30</td>\n",
       "      <td>6763</td>\n",
       "    </tr>\n",
       "    <tr>\n",
       "      <th>11</th>\n",
       "      <td>2015-01-31</td>\n",
       "      <td>8146</td>\n",
       "    </tr>\n",
       "    <tr>\n",
       "      <th>12</th>\n",
       "      <td>2015-02-01</td>\n",
       "      <td>7724</td>\n",
       "    </tr>\n",
       "    <tr>\n",
       "      <th>13</th>\n",
       "      <td>2015-02-02</td>\n",
       "      <td>6715</td>\n",
       "    </tr>\n",
       "    <tr>\n",
       "      <th>14</th>\n",
       "      <td>2015-02-03</td>\n",
       "      <td>6369</td>\n",
       "    </tr>\n",
       "    <tr>\n",
       "      <th>15</th>\n",
       "      <td>2015-02-04</td>\n",
       "      <td>6113</td>\n",
       "    </tr>\n",
       "    <tr>\n",
       "      <th>16</th>\n",
       "      <td>2015-02-05</td>\n",
       "      <td>6850</td>\n",
       "    </tr>\n",
       "    <tr>\n",
       "      <th>17</th>\n",
       "      <td>2015-02-06</td>\n",
       "      <td>7118</td>\n",
       "    </tr>\n",
       "    <tr>\n",
       "      <th>18</th>\n",
       "      <td>2015-02-07</td>\n",
       "      <td>9149</td>\n",
       "    </tr>\n",
       "    <tr>\n",
       "      <th>19</th>\n",
       "      <td>2015-02-08</td>\n",
       "      <td>8874</td>\n",
       "    </tr>\n",
       "    <tr>\n",
       "      <th>20</th>\n",
       "      <td>2015-02-09</td>\n",
       "      <td>7278</td>\n",
       "    </tr>\n",
       "    <tr>\n",
       "      <th>21</th>\n",
       "      <td>2015-02-10</td>\n",
       "      <td>6091</td>\n",
       "    </tr>\n",
       "    <tr>\n",
       "      <th>22</th>\n",
       "      <td>2015-02-11</td>\n",
       "      <td>6403</td>\n",
       "    </tr>\n",
       "    <tr>\n",
       "      <th>23</th>\n",
       "      <td>2015-02-12</td>\n",
       "      <td>6784</td>\n",
       "    </tr>\n",
       "    <tr>\n",
       "      <th>24</th>\n",
       "      <td>2015-02-13</td>\n",
       "      <td>7383</td>\n",
       "    </tr>\n",
       "    <tr>\n",
       "      <th>25</th>\n",
       "      <td>2015-02-14</td>\n",
       "      <td>9016</td>\n",
       "    </tr>\n",
       "    <tr>\n",
       "      <th>26</th>\n",
       "      <td>2015-02-15</td>\n",
       "      <td>9087</td>\n",
       "    </tr>\n",
       "    <tr>\n",
       "      <th>27</th>\n",
       "      <td>2015-02-16</td>\n",
       "      <td>7932</td>\n",
       "    </tr>\n",
       "    <tr>\n",
       "      <th>28</th>\n",
       "      <td>2015-02-17</td>\n",
       "      <td>6078</td>\n",
       "    </tr>\n",
       "    <tr>\n",
       "      <th>29</th>\n",
       "      <td>2015-02-18</td>\n",
       "      <td>3981</td>\n",
       "    </tr>\n",
       "  </tbody>\n",
       "</table>\n",
       "</div>"
      ],
      "text/plain": [
       "   created_date  store_id\n",
       "0    2014-10-19         1\n",
       "1    2015-01-21      2088\n",
       "2    2015-01-22      6001\n",
       "3    2015-01-23      6611\n",
       "4    2015-01-24      8230\n",
       "5    2015-01-25      7934\n",
       "6    2015-01-26      5478\n",
       "7    2015-01-27      5524\n",
       "8    2015-01-28      5669\n",
       "9    2015-01-29      6038\n",
       "10   2015-01-30      6763\n",
       "11   2015-01-31      8146\n",
       "12   2015-02-01      7724\n",
       "13   2015-02-02      6715\n",
       "14   2015-02-03      6369\n",
       "15   2015-02-04      6113\n",
       "16   2015-02-05      6850\n",
       "17   2015-02-06      7118\n",
       "18   2015-02-07      9149\n",
       "19   2015-02-08      8874\n",
       "20   2015-02-09      7278\n",
       "21   2015-02-10      6091\n",
       "22   2015-02-11      6403\n",
       "23   2015-02-12      6784\n",
       "24   2015-02-13      7383\n",
       "25   2015-02-14      9016\n",
       "26   2015-02-15      9087\n",
       "27   2015-02-16      7932\n",
       "28   2015-02-17      6078\n",
       "29   2015-02-18      3981"
      ]
     },
     "execution_count": 10,
     "metadata": {},
     "output_type": "execute_result"
    }
   ],
   "source": [
    "created_cnt"
   ]
  },
  {
   "cell_type": "code",
   "execution_count": 11,
   "metadata": {},
   "outputs": [
    {
     "data": {
      "text/html": [
       "<div>\n",
       "<style scoped>\n",
       "    .dataframe tbody tr th:only-of-type {\n",
       "        vertical-align: middle;\n",
       "    }\n",
       "\n",
       "    .dataframe tbody tr th {\n",
       "        vertical-align: top;\n",
       "    }\n",
       "\n",
       "    .dataframe thead th {\n",
       "        text-align: right;\n",
       "    }\n",
       "</style>\n",
       "<table border=\"1\" class=\"dataframe\">\n",
       "  <thead>\n",
       "    <tr style=\"text-align: right;\">\n",
       "      <th></th>\n",
       "      <th>created_date</th>\n",
       "      <th>store_id</th>\n",
       "    </tr>\n",
       "  </thead>\n",
       "  <tbody>\n",
       "    <tr>\n",
       "      <th>0</th>\n",
       "      <td>2015-02-18</td>\n",
       "      <td>2388</td>\n",
       "    </tr>\n",
       "    <tr>\n",
       "      <th>1</th>\n",
       "      <td>2015-02-19</td>\n",
       "      <td>6775</td>\n",
       "    </tr>\n",
       "    <tr>\n",
       "      <th>2</th>\n",
       "      <td>2015-02-20</td>\n",
       "      <td>7512</td>\n",
       "    </tr>\n",
       "    <tr>\n",
       "      <th>3</th>\n",
       "      <td>2015-02-21</td>\n",
       "      <td>9987</td>\n",
       "    </tr>\n",
       "    <tr>\n",
       "      <th>4</th>\n",
       "      <td>2015-02-22</td>\n",
       "      <td>9466</td>\n",
       "    </tr>\n",
       "    <tr>\n",
       "      <th>5</th>\n",
       "      <td>2015-02-23</td>\n",
       "      <td>8081</td>\n",
       "    </tr>\n",
       "    <tr>\n",
       "      <th>6</th>\n",
       "      <td>2015-02-24</td>\n",
       "      <td>6344</td>\n",
       "    </tr>\n",
       "    <tr>\n",
       "      <th>7</th>\n",
       "      <td>2015-02-25</td>\n",
       "      <td>4225</td>\n",
       "    </tr>\n",
       "  </tbody>\n",
       "</table>\n",
       "</div>"
      ],
      "text/plain": [
       "  created_date  store_id\n",
       "0   2015-02-18      2388\n",
       "1   2015-02-19      6775\n",
       "2   2015-02-20      7512\n",
       "3   2015-02-21      9987\n",
       "4   2015-02-22      9466\n",
       "5   2015-02-23      8081\n",
       "6   2015-02-24      6344\n",
       "7   2015-02-25      4225"
      ]
     },
     "execution_count": 11,
     "metadata": {},
     "output_type": "execute_result"
    }
   ],
   "source": [
    "test_created_cnt"
   ]
  },
  {
   "cell_type": "code",
   "execution_count": 12,
   "metadata": {},
   "outputs": [],
   "source": [
    "### drop the 2014-10-19\n",
    "data = data[data['created_at'].dt.year >= 2015].copy()"
   ]
  },
  {
   "cell_type": "code",
   "execution_count": 13,
   "metadata": {},
   "outputs": [],
   "source": [
    "# if we don't know actual_delivery_time, we cannot use it for training\n",
    "data = data.dropna(subset=['actual_delivery_time'])"
   ]
  },
  {
   "cell_type": "code",
   "execution_count": 14,
   "metadata": {},
   "outputs": [],
   "source": [
    "### based on the train and test slice date and the description, \n",
    "### the time is UTC and we would like to convert to US/Pacific"
   ]
  },
  {
   "cell_type": "code",
   "execution_count": 15,
   "metadata": {},
   "outputs": [],
   "source": [
    "data['created_at'] = data['created_at'].dt.tz_localize(\"UTC\").dt.tz_convert('US/Pacific').dt.tz_localize(None)\n",
    "test_data['created_at'] = test_data['created_at'].dt.tz_localize(\"UTC\").dt.tz_convert('US/Pacific').dt.tz_localize(None)\n",
    "data['actual_delivery_time'] = data['actual_delivery_time'].dt.tz_localize(\"UTC\").dt.tz_convert('US/Pacific').dt.tz_localize(None)\n",
    "# create target variable\n",
    "data['target'] = (data['actual_delivery_time'] - data['created_at']).dt.total_seconds()"
   ]
  },
  {
   "cell_type": "code",
   "execution_count": 16,
   "metadata": {},
   "outputs": [
    {
     "name": "stdout",
     "output_type": "stream",
     "text": [
      "<class 'pandas.core.frame.DataFrame'>\n",
      "Int64Index: 197420 entries, 0 to 197427\n",
      "Data columns (total 11 columns):\n",
      " #   Column                                        Non-Null Count   Dtype         \n",
      "---  ------                                        --------------   -----         \n",
      " 0   market_id                                     196433 non-null  float64       \n",
      " 1   created_at                                    197420 non-null  datetime64[ns]\n",
      " 2   actual_delivery_time                          197420 non-null  datetime64[ns]\n",
      " 3   store_id                                      197420 non-null  int64         \n",
      " 4   subtotal                                      197420 non-null  int64         \n",
      " 5   total_onshift_dashers                         181159 non-null  float64       \n",
      " 6   total_busy_dashers                            181159 non-null  float64       \n",
      " 7   total_outstanding_orders                      181159 non-null  float64       \n",
      " 8   estimated_store_to_consumer_driving_duration  196894 non-null  float64       \n",
      " 9   created_date                                  197420 non-null  object        \n",
      " 10  target                                        197420 non-null  float64       \n",
      "dtypes: datetime64[ns](2), float64(6), int64(2), object(1)\n",
      "memory usage: 18.1+ MB\n"
     ]
    }
   ],
   "source": [
    "data.info()"
   ]
  },
  {
   "cell_type": "code",
   "execution_count": 17,
   "metadata": {},
   "outputs": [],
   "source": [
    "### EDA"
   ]
  },
  {
   "cell_type": "code",
   "execution_count": 18,
   "metadata": {},
   "outputs": [
    {
     "data": {
      "text/html": [
       "<div>\n",
       "<style scoped>\n",
       "    .dataframe tbody tr th:only-of-type {\n",
       "        vertical-align: middle;\n",
       "    }\n",
       "\n",
       "    .dataframe tbody tr th {\n",
       "        vertical-align: top;\n",
       "    }\n",
       "\n",
       "    .dataframe thead th {\n",
       "        text-align: right;\n",
       "    }\n",
       "</style>\n",
       "<table border=\"1\" class=\"dataframe\">\n",
       "  <thead>\n",
       "    <tr style=\"text-align: right;\">\n",
       "      <th></th>\n",
       "      <th>market_id</th>\n",
       "      <th>store_id</th>\n",
       "      <th>subtotal</th>\n",
       "      <th>total_onshift_dashers</th>\n",
       "      <th>total_busy_dashers</th>\n",
       "      <th>total_outstanding_orders</th>\n",
       "      <th>estimated_store_to_consumer_driving_duration</th>\n",
       "      <th>target</th>\n",
       "    </tr>\n",
       "  </thead>\n",
       "  <tbody>\n",
       "    <tr>\n",
       "      <th>count</th>\n",
       "      <td>196433.000000</td>\n",
       "      <td>197420.000000</td>\n",
       "      <td>197420.000000</td>\n",
       "      <td>181159.000000</td>\n",
       "      <td>181159.000000</td>\n",
       "      <td>181159.000000</td>\n",
       "      <td>196894.000000</td>\n",
       "      <td>197420.000000</td>\n",
       "    </tr>\n",
       "    <tr>\n",
       "      <th>mean</th>\n",
       "      <td>2.978710</td>\n",
       "      <td>3530.581248</td>\n",
       "      <td>2682.331380</td>\n",
       "      <td>44.806866</td>\n",
       "      <td>41.738787</td>\n",
       "      <td>58.047969</td>\n",
       "      <td>545.357766</td>\n",
       "      <td>2865.131294</td>\n",
       "    </tr>\n",
       "    <tr>\n",
       "      <th>std</th>\n",
       "      <td>1.524876</td>\n",
       "      <td>2053.498629</td>\n",
       "      <td>1823.109519</td>\n",
       "      <td>34.525913</td>\n",
       "      <td>32.145163</td>\n",
       "      <td>52.660056</td>\n",
       "      <td>219.354328</td>\n",
       "      <td>1613.285907</td>\n",
       "    </tr>\n",
       "    <tr>\n",
       "      <th>min</th>\n",
       "      <td>1.000000</td>\n",
       "      <td>1.000000</td>\n",
       "      <td>0.000000</td>\n",
       "      <td>-4.000000</td>\n",
       "      <td>-5.000000</td>\n",
       "      <td>-6.000000</td>\n",
       "      <td>0.000000</td>\n",
       "      <td>101.000000</td>\n",
       "    </tr>\n",
       "    <tr>\n",
       "      <th>25%</th>\n",
       "      <td>2.000000</td>\n",
       "      <td>1686.000000</td>\n",
       "      <td>1400.000000</td>\n",
       "      <td>17.000000</td>\n",
       "      <td>15.000000</td>\n",
       "      <td>17.000000</td>\n",
       "      <td>382.000000</td>\n",
       "      <td>2104.000000</td>\n",
       "    </tr>\n",
       "    <tr>\n",
       "      <th>50%</th>\n",
       "      <td>3.000000</td>\n",
       "      <td>3592.000000</td>\n",
       "      <td>2200.000000</td>\n",
       "      <td>37.000000</td>\n",
       "      <td>34.000000</td>\n",
       "      <td>41.000000</td>\n",
       "      <td>544.000000</td>\n",
       "      <td>2660.000000</td>\n",
       "    </tr>\n",
       "    <tr>\n",
       "      <th>75%</th>\n",
       "      <td>4.000000</td>\n",
       "      <td>5299.000000</td>\n",
       "      <td>3395.000000</td>\n",
       "      <td>65.000000</td>\n",
       "      <td>62.000000</td>\n",
       "      <td>85.000000</td>\n",
       "      <td>702.000000</td>\n",
       "      <td>3381.000000</td>\n",
       "    </tr>\n",
       "    <tr>\n",
       "      <th>max</th>\n",
       "      <td>6.000000</td>\n",
       "      <td>6987.000000</td>\n",
       "      <td>27100.000000</td>\n",
       "      <td>171.000000</td>\n",
       "      <td>154.000000</td>\n",
       "      <td>285.000000</td>\n",
       "      <td>2088.000000</td>\n",
       "      <td>373879.000000</td>\n",
       "    </tr>\n",
       "  </tbody>\n",
       "</table>\n",
       "</div>"
      ],
      "text/plain": [
       "           market_id       store_id       subtotal  total_onshift_dashers  \\\n",
       "count  196433.000000  197420.000000  197420.000000          181159.000000   \n",
       "mean        2.978710    3530.581248    2682.331380              44.806866   \n",
       "std         1.524876    2053.498629    1823.109519              34.525913   \n",
       "min         1.000000       1.000000       0.000000              -4.000000   \n",
       "25%         2.000000    1686.000000    1400.000000              17.000000   \n",
       "50%         3.000000    3592.000000    2200.000000              37.000000   \n",
       "75%         4.000000    5299.000000    3395.000000              65.000000   \n",
       "max         6.000000    6987.000000   27100.000000             171.000000   \n",
       "\n",
       "       total_busy_dashers  total_outstanding_orders  \\\n",
       "count       181159.000000             181159.000000   \n",
       "mean            41.738787                 58.047969   \n",
       "std             32.145163                 52.660056   \n",
       "min             -5.000000                 -6.000000   \n",
       "25%             15.000000                 17.000000   \n",
       "50%             34.000000                 41.000000   \n",
       "75%             62.000000                 85.000000   \n",
       "max            154.000000                285.000000   \n",
       "\n",
       "       estimated_store_to_consumer_driving_duration         target  \n",
       "count                                 196894.000000  197420.000000  \n",
       "mean                                     545.357766    2865.131294  \n",
       "std                                      219.354328    1613.285907  \n",
       "min                                        0.000000     101.000000  \n",
       "25%                                      382.000000    2104.000000  \n",
       "50%                                      544.000000    2660.000000  \n",
       "75%                                      702.000000    3381.000000  \n",
       "max                                     2088.000000  373879.000000  "
      ]
     },
     "execution_count": 18,
     "metadata": {},
     "output_type": "execute_result"
    }
   ],
   "source": [
    "data.describe()"
   ]
  },
  {
   "cell_type": "code",
   "execution_count": 19,
   "metadata": {},
   "outputs": [
    {
     "data": {
      "text/html": [
       "<div>\n",
       "<style scoped>\n",
       "    .dataframe tbody tr th:only-of-type {\n",
       "        vertical-align: middle;\n",
       "    }\n",
       "\n",
       "    .dataframe tbody tr th {\n",
       "        vertical-align: top;\n",
       "    }\n",
       "\n",
       "    .dataframe thead th {\n",
       "        text-align: right;\n",
       "    }\n",
       "</style>\n",
       "<table border=\"1\" class=\"dataframe\">\n",
       "  <thead>\n",
       "    <tr style=\"text-align: right;\">\n",
       "      <th></th>\n",
       "      <th>market_id</th>\n",
       "      <th>store_id</th>\n",
       "      <th>subtotal</th>\n",
       "      <th>total_onshift_dashers</th>\n",
       "      <th>total_busy_dashers</th>\n",
       "      <th>total_outstanding_orders</th>\n",
       "      <th>estimated_store_to_consumer_driving_duration</th>\n",
       "      <th>delivery_id</th>\n",
       "    </tr>\n",
       "  </thead>\n",
       "  <tbody>\n",
       "    <tr>\n",
       "      <th>count</th>\n",
       "      <td>54528.000000</td>\n",
       "      <td>54778.000000</td>\n",
       "      <td>54778.000000</td>\n",
       "      <td>50145.000000</td>\n",
       "      <td>50145.000000</td>\n",
       "      <td>50145.000000</td>\n",
       "      <td>54767.000000</td>\n",
       "      <td>54778.000000</td>\n",
       "    </tr>\n",
       "    <tr>\n",
       "      <th>mean</th>\n",
       "      <td>3.031360</td>\n",
       "      <td>3489.640969</td>\n",
       "      <td>2715.758772</td>\n",
       "      <td>49.076179</td>\n",
       "      <td>43.515206</td>\n",
       "      <td>62.566756</td>\n",
       "      <td>547.765406</td>\n",
       "      <td>126118.103454</td>\n",
       "    </tr>\n",
       "    <tr>\n",
       "      <th>std</th>\n",
       "      <td>1.531606</td>\n",
       "      <td>2050.221801</td>\n",
       "      <td>1897.919808</td>\n",
       "      <td>37.594714</td>\n",
       "      <td>34.051339</td>\n",
       "      <td>56.378953</td>\n",
       "      <td>220.459715</td>\n",
       "      <td>72683.611935</td>\n",
       "    </tr>\n",
       "    <tr>\n",
       "      <th>min</th>\n",
       "      <td>1.000000</td>\n",
       "      <td>2.000000</td>\n",
       "      <td>0.000000</td>\n",
       "      <td>-1.000000</td>\n",
       "      <td>-4.000000</td>\n",
       "      <td>-9.000000</td>\n",
       "      <td>0.000000</td>\n",
       "      <td>20.000000</td>\n",
       "    </tr>\n",
       "    <tr>\n",
       "      <th>25%</th>\n",
       "      <td>2.000000</td>\n",
       "      <td>1661.000000</td>\n",
       "      <td>1420.000000</td>\n",
       "      <td>19.000000</td>\n",
       "      <td>16.000000</td>\n",
       "      <td>19.000000</td>\n",
       "      <td>385.000000</td>\n",
       "      <td>62938.500000</td>\n",
       "    </tr>\n",
       "    <tr>\n",
       "      <th>50%</th>\n",
       "      <td>3.000000</td>\n",
       "      <td>3518.000000</td>\n",
       "      <td>2220.000000</td>\n",
       "      <td>41.000000</td>\n",
       "      <td>36.000000</td>\n",
       "      <td>45.000000</td>\n",
       "      <td>544.000000</td>\n",
       "      <td>126194.000000</td>\n",
       "    </tr>\n",
       "    <tr>\n",
       "      <th>75%</th>\n",
       "      <td>4.000000</td>\n",
       "      <td>5247.000000</td>\n",
       "      <td>3415.000000</td>\n",
       "      <td>71.000000</td>\n",
       "      <td>63.000000</td>\n",
       "      <td>91.000000</td>\n",
       "      <td>703.000000</td>\n",
       "      <td>188916.000000</td>\n",
       "    </tr>\n",
       "    <tr>\n",
       "      <th>max</th>\n",
       "      <td>6.000000</td>\n",
       "      <td>6986.000000</td>\n",
       "      <td>29925.000000</td>\n",
       "      <td>175.000000</td>\n",
       "      <td>169.000000</td>\n",
       "      <td>292.000000</td>\n",
       "      <td>1550.000000</td>\n",
       "      <td>252031.000000</td>\n",
       "    </tr>\n",
       "  </tbody>\n",
       "</table>\n",
       "</div>"
      ],
      "text/plain": [
       "          market_id      store_id      subtotal  total_onshift_dashers  \\\n",
       "count  54528.000000  54778.000000  54778.000000           50145.000000   \n",
       "mean       3.031360   3489.640969   2715.758772              49.076179   \n",
       "std        1.531606   2050.221801   1897.919808              37.594714   \n",
       "min        1.000000      2.000000      0.000000              -1.000000   \n",
       "25%        2.000000   1661.000000   1420.000000              19.000000   \n",
       "50%        3.000000   3518.000000   2220.000000              41.000000   \n",
       "75%        4.000000   5247.000000   3415.000000              71.000000   \n",
       "max        6.000000   6986.000000  29925.000000             175.000000   \n",
       "\n",
       "       total_busy_dashers  total_outstanding_orders  \\\n",
       "count        50145.000000              50145.000000   \n",
       "mean            43.515206                 62.566756   \n",
       "std             34.051339                 56.378953   \n",
       "min             -4.000000                 -9.000000   \n",
       "25%             16.000000                 19.000000   \n",
       "50%             36.000000                 45.000000   \n",
       "75%             63.000000                 91.000000   \n",
       "max            169.000000                292.000000   \n",
       "\n",
       "       estimated_store_to_consumer_driving_duration    delivery_id  \n",
       "count                                  54767.000000   54778.000000  \n",
       "mean                                     547.765406  126118.103454  \n",
       "std                                      220.459715   72683.611935  \n",
       "min                                        0.000000      20.000000  \n",
       "25%                                      385.000000   62938.500000  \n",
       "50%                                      544.000000  126194.000000  \n",
       "75%                                      703.000000  188916.000000  \n",
       "max                                     1550.000000  252031.000000  "
      ]
     },
     "execution_count": 19,
     "metadata": {},
     "output_type": "execute_result"
    }
   ],
   "source": [
    "test_data.describe()"
   ]
  },
  {
   "cell_type": "markdown",
   "metadata": {},
   "source": [
    "### some data which doesn't make sense eg. negative total_onshift_dashers,total_busy_dashers,total_outstanding_orders"
   ]
  },
  {
   "cell_type": "code",
   "execution_count": 20,
   "metadata": {},
   "outputs": [
    {
     "data": {
      "text/plain": [
       "(21, 11)"
      ]
     },
     "execution_count": 20,
     "metadata": {},
     "output_type": "execute_result"
    }
   ],
   "source": [
    "data[data['total_onshift_dashers'] <0].shape"
   ]
  },
  {
   "cell_type": "code",
   "execution_count": 21,
   "metadata": {},
   "outputs": [
    {
     "data": {
      "text/plain": [
       "(21, 11)"
      ]
     },
     "execution_count": 21,
     "metadata": {},
     "output_type": "execute_result"
    }
   ],
   "source": [
    "data[data['total_busy_dashers'] <0].shape"
   ]
  },
  {
   "cell_type": "code",
   "execution_count": 22,
   "metadata": {},
   "outputs": [
    {
     "data": {
      "text/plain": [
       "(44, 11)"
      ]
     },
     "execution_count": 22,
     "metadata": {},
     "output_type": "execute_result"
    }
   ],
   "source": [
    "data[data['total_outstanding_orders'] <0].shape"
   ]
  },
  {
   "cell_type": "code",
   "execution_count": 23,
   "metadata": {},
   "outputs": [
    {
     "data": {
      "text/plain": [
       "(2, 10)"
      ]
     },
     "execution_count": 23,
     "metadata": {},
     "output_type": "execute_result"
    }
   ],
   "source": [
    "test_data[test_data['total_onshift_dashers'] <0].shape"
   ]
  },
  {
   "cell_type": "code",
   "execution_count": 24,
   "metadata": {},
   "outputs": [
    {
     "data": {
      "text/plain": [
       "(10, 10)"
      ]
     },
     "execution_count": 24,
     "metadata": {},
     "output_type": "execute_result"
    }
   ],
   "source": [
    "test_data[test_data['total_busy_dashers'] <0].shape"
   ]
  },
  {
   "cell_type": "code",
   "execution_count": 25,
   "metadata": {},
   "outputs": [
    {
     "data": {
      "text/plain": [
       "(13, 10)"
      ]
     },
     "execution_count": 25,
     "metadata": {},
     "output_type": "execute_result"
    }
   ],
   "source": [
    "test_data[test_data['total_outstanding_orders'] <0].shape"
   ]
  },
  {
   "cell_type": "markdown",
   "metadata": {},
   "source": [
    "### Train data and test data both have negative number. First I wil reach out to the data engineering team why this happend. \n",
    "### For this case becasue I still need to provide prediction for the test data. therefore even if these number don't make sense, I suspect there is some reason behind it.\n",
    "### eg. customer used coupon or dashers are overloading. This could be a feature and also prevent model fail to predict for the test data\n",
    "### the feature engineering part will cover this"
   ]
  },
  {
   "cell_type": "code",
   "execution_count": 26,
   "metadata": {},
   "outputs": [
    {
     "name": "stdout",
     "output_type": "stream",
     "text": [
      "min date:  2015-01-21 07:22:03\n"
     ]
    }
   ],
   "source": [
    "print('min date: ',data['created_at'].min())"
   ]
  },
  {
   "cell_type": "code",
   "execution_count": 27,
   "metadata": {},
   "outputs": [
    {
     "name": "stdout",
     "output_type": "stream",
     "text": [
      "max date:  2015-02-17 22:00:44\n"
     ]
    }
   ],
   "source": [
    "print('max date: ',data['created_at'].max())"
   ]
  },
  {
   "cell_type": "code",
   "execution_count": 28,
   "metadata": {},
   "outputs": [
    {
     "name": "stdout",
     "output_type": "stream",
     "text": [
      "test min date:  2015-02-18 06:50:28\n"
     ]
    }
   ],
   "source": [
    "print('test min date: ',test_data['created_at'].min())"
   ]
  },
  {
   "cell_type": "code",
   "execution_count": 29,
   "metadata": {},
   "outputs": [
    {
     "name": "stdout",
     "output_type": "stream",
     "text": [
      "test max date:  2015-02-24 21:59:49\n"
     ]
    }
   ],
   "source": [
    "print('test max date: ',test_data['created_at'].max())"
   ]
  },
  {
   "cell_type": "code",
   "execution_count": 30,
   "metadata": {},
   "outputs": [
    {
     "data": {
      "text/plain": [
       "{'actual_delivery_time', 'target'}"
      ]
     },
     "execution_count": 30,
     "metadata": {},
     "output_type": "execute_result"
    }
   ],
   "source": [
    "set(data.columns) - set(test_data.columns)"
   ]
  },
  {
   "cell_type": "code",
   "execution_count": 31,
   "metadata": {},
   "outputs": [
    {
     "data": {
      "text/plain": [
       "{'delivery_id'}"
      ]
     },
     "execution_count": 31,
     "metadata": {},
     "output_type": "execute_result"
    }
   ],
   "source": [
    "set(test_data.columns) - set(data.columns)"
   ]
  },
  {
   "cell_type": "code",
   "execution_count": 32,
   "metadata": {},
   "outputs": [
    {
     "name": "stdout",
     "output_type": "stream",
     "text": [
      "<class 'pandas.core.frame.DataFrame'>\n",
      "Int64Index: 197420 entries, 0 to 197427\n",
      "Data columns (total 11 columns):\n",
      " #   Column                                        Non-Null Count   Dtype         \n",
      "---  ------                                        --------------   -----         \n",
      " 0   market_id                                     196433 non-null  float64       \n",
      " 1   created_at                                    197420 non-null  datetime64[ns]\n",
      " 2   actual_delivery_time                          197420 non-null  datetime64[ns]\n",
      " 3   store_id                                      197420 non-null  int64         \n",
      " 4   subtotal                                      197420 non-null  int64         \n",
      " 5   total_onshift_dashers                         181159 non-null  float64       \n",
      " 6   total_busy_dashers                            181159 non-null  float64       \n",
      " 7   total_outstanding_orders                      181159 non-null  float64       \n",
      " 8   estimated_store_to_consumer_driving_duration  196894 non-null  float64       \n",
      " 9   created_date                                  197420 non-null  object        \n",
      " 10  target                                        197420 non-null  float64       \n",
      "dtypes: datetime64[ns](2), float64(6), int64(2), object(1)\n",
      "memory usage: 18.1+ MB\n"
     ]
    }
   ],
   "source": [
    "data.info()"
   ]
  },
  {
   "cell_type": "code",
   "execution_count": 33,
   "metadata": {},
   "outputs": [
    {
     "name": "stdout",
     "output_type": "stream",
     "text": [
      "<class 'pandas.core.frame.DataFrame'>\n",
      "RangeIndex: 54778 entries, 0 to 54777\n",
      "Data columns (total 10 columns):\n",
      " #   Column                                        Non-Null Count  Dtype         \n",
      "---  ------                                        --------------  -----         \n",
      " 0   market_id                                     54528 non-null  float64       \n",
      " 1   created_at                                    54778 non-null  datetime64[ns]\n",
      " 2   store_id                                      54778 non-null  int64         \n",
      " 3   subtotal                                      54778 non-null  int64         \n",
      " 4   total_onshift_dashers                         50145 non-null  float64       \n",
      " 5   total_busy_dashers                            50145 non-null  float64       \n",
      " 6   total_outstanding_orders                      50145 non-null  float64       \n",
      " 7   estimated_store_to_consumer_driving_duration  54767 non-null  float64       \n",
      " 8   delivery_id                                   54778 non-null  int64         \n",
      " 9   created_date                                  54778 non-null  object        \n",
      "dtypes: datetime64[ns](1), float64(5), int64(3), object(1)\n",
      "memory usage: 4.2+ MB\n"
     ]
    }
   ],
   "source": [
    "test_data.info()"
   ]
  },
  {
   "cell_type": "code",
   "execution_count": 34,
   "metadata": {},
   "outputs": [
    {
     "data": {
      "text/html": [
       "<div>\n",
       "<style scoped>\n",
       "    .dataframe tbody tr th:only-of-type {\n",
       "        vertical-align: middle;\n",
       "    }\n",
       "\n",
       "    .dataframe tbody tr th {\n",
       "        vertical-align: top;\n",
       "    }\n",
       "\n",
       "    .dataframe thead th {\n",
       "        text-align: right;\n",
       "    }\n",
       "</style>\n",
       "<table border=\"1\" class=\"dataframe\">\n",
       "  <thead>\n",
       "    <tr style=\"text-align: right;\">\n",
       "      <th></th>\n",
       "      <th>target</th>\n",
       "    </tr>\n",
       "  </thead>\n",
       "  <tbody>\n",
       "    <tr>\n",
       "      <th>count</th>\n",
       "      <td>197420.000000</td>\n",
       "    </tr>\n",
       "    <tr>\n",
       "      <th>mean</th>\n",
       "      <td>2865.131294</td>\n",
       "    </tr>\n",
       "    <tr>\n",
       "      <th>std</th>\n",
       "      <td>1613.285907</td>\n",
       "    </tr>\n",
       "    <tr>\n",
       "      <th>min</th>\n",
       "      <td>101.000000</td>\n",
       "    </tr>\n",
       "    <tr>\n",
       "      <th>25%</th>\n",
       "      <td>2104.000000</td>\n",
       "    </tr>\n",
       "    <tr>\n",
       "      <th>50%</th>\n",
       "      <td>2660.000000</td>\n",
       "    </tr>\n",
       "    <tr>\n",
       "      <th>75%</th>\n",
       "      <td>3381.000000</td>\n",
       "    </tr>\n",
       "    <tr>\n",
       "      <th>max</th>\n",
       "      <td>373879.000000</td>\n",
       "    </tr>\n",
       "  </tbody>\n",
       "</table>\n",
       "</div>"
      ],
      "text/plain": [
       "              target\n",
       "count  197420.000000\n",
       "mean     2865.131294\n",
       "std      1613.285907\n",
       "min       101.000000\n",
       "25%      2104.000000\n",
       "50%      2660.000000\n",
       "75%      3381.000000\n",
       "max    373879.000000"
      ]
     },
     "execution_count": 34,
     "metadata": {},
     "output_type": "execute_result"
    }
   ],
   "source": [
    "data[['target']].describe()"
   ]
  },
  {
   "cell_type": "code",
   "execution_count": 35,
   "metadata": {},
   "outputs": [
    {
     "name": "stdout",
     "output_type": "stream",
     "text": [
      "median:  2660.0\n",
      "mean:  2865.131293688583\n",
      "mode:  0    2483.0\n",
      "dtype: float64\n",
      "positive skew\n"
     ]
    }
   ],
   "source": [
    "print('median: ',data['target'].median())\n",
    "print('mean: ',data['target'].mean())\n",
    "print('mode: ',data['target'].mode())\n",
    "print('positive skew')"
   ]
  },
  {
   "cell_type": "markdown",
   "metadata": {},
   "source": [
    "### remove target outlier by IQR"
   ]
  },
  {
   "cell_type": "code",
   "execution_count": 36,
   "metadata": {},
   "outputs": [],
   "source": [
    "# becaasue the target must be always non negative and it's also positive skewed\n",
    "# therefore I appplied with log transform\n",
    "data['log_target'] = np.log(data['target'])"
   ]
  },
  {
   "cell_type": "code",
   "execution_count": 37,
   "metadata": {},
   "outputs": [
    {
     "name": "stdout",
     "output_type": "stream",
     "text": [
      "lower bound:  17.214536433312002\n",
      "upper bound:  114.78709719088786\n"
     ]
    },
    {
     "data": {
      "text/plain": [
       "<AxesSubplot:xlabel='log_target', ylabel='Density'>"
      ]
     },
     "execution_count": 37,
     "metadata": {},
     "output_type": "execute_result"
    },
    {
     "data": {
      "image/png": "[encoded data removed]",
      "text/plain": [
       "<Figure size 432x288 with 1 Axes>"
      ]
     },
     "metadata": {
      "needs_background": "light"
     },
     "output_type": "display_data"
    }
   ],
   "source": [
    "# Applied with IQR\n",
    "Q1 = data['log_target'].quantile(0.25)\n",
    "Q3 = data['log_target'].quantile(0.75)\n",
    "IQR = Q3 - Q1\n",
    "data = data[~ ( (data['log_target'] < (Q1 - 1.5 * IQR)) | (data['log_target'] > (Q3 + 1.5 * IQR)))]\n",
    "print('lower bound: ',np.exp(Q1 - 1.5 * IQR)/60)\n",
    "print('upper bound: ',np.exp(Q3 + 1.5 * IQR)/60)\n",
    "sns.distplot(data['log_target'])"
   ]
  },
  {
   "cell_type": "code",
   "execution_count": 38,
   "metadata": {},
   "outputs": [],
   "source": [
    "### seasonality check \n",
    "data['created_at_date'] = data['created_at'].dt.date\n",
    "created_cnt = data.groupby('created_at_date')['store_id'].count().reset_index().sort_values(by='created_at_date')"
   ]
  },
  {
   "cell_type": "code",
   "execution_count": 39,
   "metadata": {},
   "outputs": [],
   "source": [
    "test_data['created_at_date'] = test_data['created_at'].dt.date\n",
    "test_created_cnt = test_data.groupby('created_at_date')['store_id'].count().reset_index().sort_values(by='created_at_date')"
   ]
  },
  {
   "cell_type": "code",
   "execution_count": 40,
   "metadata": {},
   "outputs": [],
   "source": [
    "total = pd.concat([created_cnt, test_created_cnt])"
   ]
  },
  {
   "cell_type": "code",
   "execution_count": 41,
   "metadata": {},
   "outputs": [
    {
     "data": {
      "image/png": "[encoded data removed]",
      "text/plain": [
       "<Figure size 432x288 with 1 Axes>"
      ]
     },
     "metadata": {
      "needs_background": "light"
     },
     "output_type": "display_data"
    }
   ],
   "source": [
    "# remove 2014-10-19\t data\n",
    "#created_cnt = created_cnt[(created_cnt['created_at_date'] > date(2015,1,1)) & (created_cnt['created_at_date'] < date(2015,2,18))]\n",
    "t = total['created_at_date']\n",
    "sales = total['store_id']\n",
    "past = t <= date(2015,2,17)\n",
    "future = t >= date(2015,2,18)\n",
    "plt.plot(t[past], sales[past],'o--')\n",
    "plt.plot(t[future], sales[future],'o--')\n",
    "#plt.plot(total['created_at_date'], total['store_id'],'o--')\n",
    "plt.title('Orders over date')\n",
    "plt.xlabel('order date')\n",
    "plt.ylabel('Number of orders')\n",
    "plt.xticks(rotation=90)\n",
    "plt.show()"
   ]
  },
  {
   "cell_type": "code",
   "execution_count": 42,
   "metadata": {},
   "outputs": [
    {
     "name": "stdout",
     "output_type": "stream",
     "text": [
      "Cardinality Check\n",
      "store_id:  6732\n"
     ]
    }
   ],
   "source": [
    "print('Cardinality Check')\n",
    "print('store_id: ',data['store_id'].nunique())"
   ]
  },
  {
   "cell_type": "code",
   "execution_count": 43,
   "metadata": {},
   "outputs": [
    {
     "data": {
      "text/plain": [
       "54768"
      ]
     },
     "execution_count": 43,
     "metadata": {},
     "output_type": "execute_result"
    }
   ],
   "source": [
    "## it seems like one store_id has multiple market_id, I assume probably this is a franchise.\n",
    "test_data['delivery_id'].nunique()"
   ]
  },
  {
   "cell_type": "code",
   "execution_count": 44,
   "metadata": {},
   "outputs": [
    {
     "data": {
      "text/html": [
       "<div>\n",
       "<style scoped>\n",
       "    .dataframe tbody tr th:only-of-type {\n",
       "        vertical-align: middle;\n",
       "    }\n",
       "\n",
       "    .dataframe tbody tr th {\n",
       "        vertical-align: top;\n",
       "    }\n",
       "\n",
       "    .dataframe thead th {\n",
       "        text-align: right;\n",
       "    }\n",
       "</style>\n",
       "<table border=\"1\" class=\"dataframe\">\n",
       "  <thead>\n",
       "    <tr style=\"text-align: right;\">\n",
       "      <th></th>\n",
       "      <th>market_id</th>\n",
       "      <th>created_at</th>\n",
       "      <th>store_id</th>\n",
       "      <th>subtotal</th>\n",
       "      <th>total_onshift_dashers</th>\n",
       "      <th>total_busy_dashers</th>\n",
       "      <th>total_outstanding_orders</th>\n",
       "      <th>estimated_store_to_consumer_driving_duration</th>\n",
       "      <th>delivery_id</th>\n",
       "      <th>created_date</th>\n",
       "      <th>created_at_date</th>\n",
       "    </tr>\n",
       "  </thead>\n",
       "  <tbody>\n",
       "    <tr>\n",
       "      <th>38909</th>\n",
       "      <td>4.0</td>\n",
       "      <td>2015-02-21 15:20:00</td>\n",
       "      <td>6255</td>\n",
       "      <td>1295</td>\n",
       "      <td>37.0</td>\n",
       "      <td>37.0</td>\n",
       "      <td>42.0</td>\n",
       "      <td>373.0</td>\n",
       "      <td>39677</td>\n",
       "      <td>2015-02-21</td>\n",
       "      <td>2015-02-21</td>\n",
       "    </tr>\n",
       "    <tr>\n",
       "      <th>38905</th>\n",
       "      <td>4.0</td>\n",
       "      <td>2015-02-21 15:20:00</td>\n",
       "      <td>6255</td>\n",
       "      <td>1295</td>\n",
       "      <td>38.0</td>\n",
       "      <td>36.0</td>\n",
       "      <td>41.0</td>\n",
       "      <td>373.0</td>\n",
       "      <td>39677</td>\n",
       "      <td>2015-02-21</td>\n",
       "      <td>2015-02-21</td>\n",
       "    </tr>\n",
       "    <tr>\n",
       "      <th>45728</th>\n",
       "      <td>1.0</td>\n",
       "      <td>2015-02-18 21:10:01</td>\n",
       "      <td>3969</td>\n",
       "      <td>2935</td>\n",
       "      <td>3.0</td>\n",
       "      <td>3.0</td>\n",
       "      <td>5.0</td>\n",
       "      <td>489.0</td>\n",
       "      <td>44340</td>\n",
       "      <td>2015-02-19</td>\n",
       "      <td>2015-02-18</td>\n",
       "    </tr>\n",
       "    <tr>\n",
       "      <th>45723</th>\n",
       "      <td>1.0</td>\n",
       "      <td>2015-02-18 21:10:01</td>\n",
       "      <td>3969</td>\n",
       "      <td>2935</td>\n",
       "      <td>3.0</td>\n",
       "      <td>3.0</td>\n",
       "      <td>3.0</td>\n",
       "      <td>489.0</td>\n",
       "      <td>44340</td>\n",
       "      <td>2015-02-19</td>\n",
       "      <td>2015-02-18</td>\n",
       "    </tr>\n",
       "    <tr>\n",
       "      <th>49698</th>\n",
       "      <td>2.0</td>\n",
       "      <td>2015-02-21 18:35:00</td>\n",
       "      <td>4829</td>\n",
       "      <td>4898</td>\n",
       "      <td>141.0</td>\n",
       "      <td>141.0</td>\n",
       "      <td>276.0</td>\n",
       "      <td>665.0</td>\n",
       "      <td>63138</td>\n",
       "      <td>2015-02-22</td>\n",
       "      <td>2015-02-21</td>\n",
       "    </tr>\n",
       "    <tr>\n",
       "      <th>49686</th>\n",
       "      <td>2.0</td>\n",
       "      <td>2015-02-21 18:35:00</td>\n",
       "      <td>4829</td>\n",
       "      <td>4898</td>\n",
       "      <td>143.0</td>\n",
       "      <td>141.0</td>\n",
       "      <td>273.0</td>\n",
       "      <td>665.0</td>\n",
       "      <td>63138</td>\n",
       "      <td>2015-02-22</td>\n",
       "      <td>2015-02-21</td>\n",
       "    </tr>\n",
       "    <tr>\n",
       "      <th>44913</th>\n",
       "      <td>5.0</td>\n",
       "      <td>2015-02-22 17:15:01</td>\n",
       "      <td>1895</td>\n",
       "      <td>2277</td>\n",
       "      <td>20.0</td>\n",
       "      <td>14.0</td>\n",
       "      <td>20.0</td>\n",
       "      <td>342.0</td>\n",
       "      <td>113422</td>\n",
       "      <td>2015-02-23</td>\n",
       "      <td>2015-02-22</td>\n",
       "    </tr>\n",
       "    <tr>\n",
       "      <th>44910</th>\n",
       "      <td>5.0</td>\n",
       "      <td>2015-02-22 17:15:01</td>\n",
       "      <td>1895</td>\n",
       "      <td>2277</td>\n",
       "      <td>21.0</td>\n",
       "      <td>15.0</td>\n",
       "      <td>19.0</td>\n",
       "      <td>342.0</td>\n",
       "      <td>113422</td>\n",
       "      <td>2015-02-23</td>\n",
       "      <td>2015-02-22</td>\n",
       "    </tr>\n",
       "    <tr>\n",
       "      <th>15432</th>\n",
       "      <td>2.0</td>\n",
       "      <td>2015-02-18 17:45:02</td>\n",
       "      <td>768</td>\n",
       "      <td>3008</td>\n",
       "      <td>88.0</td>\n",
       "      <td>68.0</td>\n",
       "      <td>77.0</td>\n",
       "      <td>394.0</td>\n",
       "      <td>116041</td>\n",
       "      <td>2015-02-19</td>\n",
       "      <td>2015-02-18</td>\n",
       "    </tr>\n",
       "    <tr>\n",
       "      <th>15438</th>\n",
       "      <td>2.0</td>\n",
       "      <td>2015-02-18 17:45:02</td>\n",
       "      <td>768</td>\n",
       "      <td>3008</td>\n",
       "      <td>91.0</td>\n",
       "      <td>68.0</td>\n",
       "      <td>77.0</td>\n",
       "      <td>394.0</td>\n",
       "      <td>116041</td>\n",
       "      <td>2015-02-19</td>\n",
       "      <td>2015-02-18</td>\n",
       "    </tr>\n",
       "    <tr>\n",
       "      <th>1879</th>\n",
       "      <td>3.0</td>\n",
       "      <td>2015-02-21 17:20:01</td>\n",
       "      <td>390</td>\n",
       "      <td>1485</td>\n",
       "      <td>5.0</td>\n",
       "      <td>5.0</td>\n",
       "      <td>4.0</td>\n",
       "      <td>706.0</td>\n",
       "      <td>163323</td>\n",
       "      <td>2015-02-22</td>\n",
       "      <td>2015-02-21</td>\n",
       "    </tr>\n",
       "    <tr>\n",
       "      <th>1906</th>\n",
       "      <td>3.0</td>\n",
       "      <td>2015-02-21 17:20:01</td>\n",
       "      <td>390</td>\n",
       "      <td>1485</td>\n",
       "      <td>4.0</td>\n",
       "      <td>4.0</td>\n",
       "      <td>4.0</td>\n",
       "      <td>706.0</td>\n",
       "      <td>163323</td>\n",
       "      <td>2015-02-22</td>\n",
       "      <td>2015-02-21</td>\n",
       "    </tr>\n",
       "    <tr>\n",
       "      <th>46203</th>\n",
       "      <td>4.0</td>\n",
       "      <td>2015-02-19 11:25:01</td>\n",
       "      <td>3931</td>\n",
       "      <td>2220</td>\n",
       "      <td>56.0</td>\n",
       "      <td>48.0</td>\n",
       "      <td>85.0</td>\n",
       "      <td>386.0</td>\n",
       "      <td>189835</td>\n",
       "      <td>2015-02-19</td>\n",
       "      <td>2015-02-19</td>\n",
       "    </tr>\n",
       "    <tr>\n",
       "      <th>46246</th>\n",
       "      <td>4.0</td>\n",
       "      <td>2015-02-19 11:25:01</td>\n",
       "      <td>3931</td>\n",
       "      <td>2220</td>\n",
       "      <td>57.0</td>\n",
       "      <td>53.0</td>\n",
       "      <td>86.0</td>\n",
       "      <td>386.0</td>\n",
       "      <td>189835</td>\n",
       "      <td>2015-02-19</td>\n",
       "      <td>2015-02-19</td>\n",
       "    </tr>\n",
       "    <tr>\n",
       "      <th>11213</th>\n",
       "      <td>1.0</td>\n",
       "      <td>2015-02-19 20:25:02</td>\n",
       "      <td>1548</td>\n",
       "      <td>649</td>\n",
       "      <td>37.0</td>\n",
       "      <td>36.0</td>\n",
       "      <td>37.0</td>\n",
       "      <td>539.0</td>\n",
       "      <td>207201</td>\n",
       "      <td>2015-02-20</td>\n",
       "      <td>2015-02-19</td>\n",
       "    </tr>\n",
       "    <tr>\n",
       "      <th>11209</th>\n",
       "      <td>1.0</td>\n",
       "      <td>2015-02-19 20:25:02</td>\n",
       "      <td>1548</td>\n",
       "      <td>649</td>\n",
       "      <td>41.0</td>\n",
       "      <td>38.0</td>\n",
       "      <td>40.0</td>\n",
       "      <td>539.0</td>\n",
       "      <td>207201</td>\n",
       "      <td>2015-02-20</td>\n",
       "      <td>2015-02-19</td>\n",
       "    </tr>\n",
       "    <tr>\n",
       "      <th>18407</th>\n",
       "      <td>2.0</td>\n",
       "      <td>2015-02-22 19:40:01</td>\n",
       "      <td>6762</td>\n",
       "      <td>2320</td>\n",
       "      <td>88.0</td>\n",
       "      <td>69.0</td>\n",
       "      <td>105.0</td>\n",
       "      <td>382.0</td>\n",
       "      <td>214615</td>\n",
       "      <td>2015-02-23</td>\n",
       "      <td>2015-02-22</td>\n",
       "    </tr>\n",
       "    <tr>\n",
       "      <th>19158</th>\n",
       "      <td>2.0</td>\n",
       "      <td>2015-02-22 19:40:01</td>\n",
       "      <td>6762</td>\n",
       "      <td>2320</td>\n",
       "      <td>85.0</td>\n",
       "      <td>66.0</td>\n",
       "      <td>103.0</td>\n",
       "      <td>382.0</td>\n",
       "      <td>214615</td>\n",
       "      <td>2015-02-23</td>\n",
       "      <td>2015-02-22</td>\n",
       "    </tr>\n",
       "    <tr>\n",
       "      <th>16789</th>\n",
       "      <td>2.0</td>\n",
       "      <td>2015-02-21 19:40:01</td>\n",
       "      <td>5773</td>\n",
       "      <td>3585</td>\n",
       "      <td>103.0</td>\n",
       "      <td>102.0</td>\n",
       "      <td>125.0</td>\n",
       "      <td>699.0</td>\n",
       "      <td>231531</td>\n",
       "      <td>2015-02-22</td>\n",
       "      <td>2015-02-21</td>\n",
       "    </tr>\n",
       "    <tr>\n",
       "      <th>16788</th>\n",
       "      <td>2.0</td>\n",
       "      <td>2015-02-21 19:40:01</td>\n",
       "      <td>5773</td>\n",
       "      <td>3585</td>\n",
       "      <td>102.0</td>\n",
       "      <td>100.0</td>\n",
       "      <td>120.0</td>\n",
       "      <td>699.0</td>\n",
       "      <td>231531</td>\n",
       "      <td>2015-02-22</td>\n",
       "      <td>2015-02-21</td>\n",
       "    </tr>\n",
       "  </tbody>\n",
       "</table>\n",
       "</div>"
      ],
      "text/plain": [
       "       market_id          created_at  store_id  subtotal  \\\n",
       "38909        4.0 2015-02-21 15:20:00      6255      1295   \n",
       "38905        4.0 2015-02-21 15:20:00      6255      1295   \n",
       "45728        1.0 2015-02-18 21:10:01      3969      2935   \n",
       "45723        1.0 2015-02-18 21:10:01      3969      2935   \n",
       "49698        2.0 2015-02-21 18:35:00      4829      4898   \n",
       "49686        2.0 2015-02-21 18:35:00      4829      4898   \n",
       "44913        5.0 2015-02-22 17:15:01      1895      2277   \n",
       "44910        5.0 2015-02-22 17:15:01      1895      2277   \n",
       "15432        2.0 2015-02-18 17:45:02       768      3008   \n",
       "15438        2.0 2015-02-18 17:45:02       768      3008   \n",
       "1879         3.0 2015-02-21 17:20:01       390      1485   \n",
       "1906         3.0 2015-02-21 17:20:01       390      1485   \n",
       "46203        4.0 2015-02-19 11:25:01      3931      2220   \n",
       "46246        4.0 2015-02-19 11:25:01      3931      2220   \n",
       "11213        1.0 2015-02-19 20:25:02      1548       649   \n",
       "11209        1.0 2015-02-19 20:25:02      1548       649   \n",
       "18407        2.0 2015-02-22 19:40:01      6762      2320   \n",
       "19158        2.0 2015-02-22 19:40:01      6762      2320   \n",
       "16789        2.0 2015-02-21 19:40:01      5773      3585   \n",
       "16788        2.0 2015-02-21 19:40:01      5773      3585   \n",
       "\n",
       "       total_onshift_dashers  total_busy_dashers  total_outstanding_orders  \\\n",
       "38909                   37.0                37.0                      42.0   \n",
       "38905                   38.0                36.0                      41.0   \n",
       "45728                    3.0                 3.0                       5.0   \n",
       "45723                    3.0                 3.0                       3.0   \n",
       "49698                  141.0               141.0                     276.0   \n",
       "49686                  143.0               141.0                     273.0   \n",
       "44913                   20.0                14.0                      20.0   \n",
       "44910                   21.0                15.0                      19.0   \n",
       "15432                   88.0                68.0                      77.0   \n",
       "15438                   91.0                68.0                      77.0   \n",
       "1879                     5.0                 5.0                       4.0   \n",
       "1906                     4.0                 4.0                       4.0   \n",
       "46203                   56.0                48.0                      85.0   \n",
       "46246                   57.0                53.0                      86.0   \n",
       "11213                   37.0                36.0                      37.0   \n",
       "11209                   41.0                38.0                      40.0   \n",
       "18407                   88.0                69.0                     105.0   \n",
       "19158                   85.0                66.0                     103.0   \n",
       "16789                  103.0               102.0                     125.0   \n",
       "16788                  102.0               100.0                     120.0   \n",
       "\n",
       "       estimated_store_to_consumer_driving_duration  delivery_id created_date  \\\n",
       "38909                                         373.0        39677   2015-02-21   \n",
       "38905                                         373.0        39677   2015-02-21   \n",
       "45728                                         489.0        44340   2015-02-19   \n",
       "45723                                         489.0        44340   2015-02-19   \n",
       "49698                                         665.0        63138   2015-02-22   \n",
       "49686                                         665.0        63138   2015-02-22   \n",
       "44913                                         342.0       113422   2015-02-23   \n",
       "44910                                         342.0       113422   2015-02-23   \n",
       "15432                                         394.0       116041   2015-02-19   \n",
       "15438                                         394.0       116041   2015-02-19   \n",
       "1879                                          706.0       163323   2015-02-22   \n",
       "1906                                          706.0       163323   2015-02-22   \n",
       "46203                                         386.0       189835   2015-02-19   \n",
       "46246                                         386.0       189835   2015-02-19   \n",
       "11213                                         539.0       207201   2015-02-20   \n",
       "11209                                         539.0       207201   2015-02-20   \n",
       "18407                                         382.0       214615   2015-02-23   \n",
       "19158                                         382.0       214615   2015-02-23   \n",
       "16789                                         699.0       231531   2015-02-22   \n",
       "16788                                         699.0       231531   2015-02-22   \n",
       "\n",
       "      created_at_date  \n",
       "38909      2015-02-21  \n",
       "38905      2015-02-21  \n",
       "45728      2015-02-18  \n",
       "45723      2015-02-18  \n",
       "49698      2015-02-21  \n",
       "49686      2015-02-21  \n",
       "44913      2015-02-22  \n",
       "44910      2015-02-22  \n",
       "15432      2015-02-18  \n",
       "15438      2015-02-18  \n",
       "1879       2015-02-21  \n",
       "1906       2015-02-21  \n",
       "46203      2015-02-19  \n",
       "46246      2015-02-19  \n",
       "11213      2015-02-19  \n",
       "11209      2015-02-19  \n",
       "18407      2015-02-22  \n",
       "19158      2015-02-22  \n",
       "16789      2015-02-21  \n",
       "16788      2015-02-21  "
      ]
     },
     "execution_count": 44,
     "metadata": {},
     "output_type": "execute_result"
    }
   ],
   "source": [
    "### it seems like the duplicate id is due to the realtime features \n",
    "### such as total_onshift_dashers,total_busy_dashers,total_outstanding_orders\n",
    "ids = test_data[\"delivery_id\"]\n",
    "test_data[ids.isin(ids[ids.duplicated()])].sort_values(by=\"delivery_id\")"
   ]
  },
  {
   "cell_type": "code",
   "execution_count": 45,
   "metadata": {},
   "outputs": [
    {
     "data": {
      "text/plain": [
       "Index(['market_id', 'created_at', 'store_id', 'subtotal',\n",
       "       'total_onshift_dashers', 'total_busy_dashers',\n",
       "       'total_outstanding_orders',\n",
       "       'estimated_store_to_consumer_driving_duration', 'delivery_id',\n",
       "       'created_date', 'created_at_date'],\n",
       "      dtype='object')"
      ]
     },
     "execution_count": 45,
     "metadata": {},
     "output_type": "execute_result"
    }
   ],
   "source": [
    "test_data.columns"
   ]
  },
  {
   "cell_type": "code",
   "execution_count": 46,
   "metadata": {},
   "outputs": [],
   "source": [
    "# Fro the cuplicated data, I keep the last one\n",
    "clean_test_data = test_data.drop_duplicates(subset=['market_id', 'created_at', 'store_id', 'subtotal',\n",
    "       'estimated_store_to_consumer_driving_duration', 'delivery_id',\n",
    "       'created_at_date'],keep='last')"
   ]
  },
  {
   "cell_type": "code",
   "execution_count": 47,
   "metadata": {},
   "outputs": [
    {
     "data": {
      "text/plain": [
       "(54768, 11)"
      ]
     },
     "execution_count": 47,
     "metadata": {},
     "output_type": "execute_result"
    }
   ],
   "source": [
    "clean_test_data.shape # match with uniqueness of delivery_id "
   ]
  },
  {
   "cell_type": "markdown",
   "metadata": {},
   "source": [
    "### feature engineering"
   ]
  },
  {
   "cell_type": "code",
   "execution_count": 48,
   "metadata": {},
   "outputs": [],
   "source": [
    "data['created_date'] = data['created_at'].dt.date\n",
    "data['day_of_week'] = data['created_at'].dt.dayofweek\n",
    "data['is_weekend'] = data['day_of_week'].apply(lambda x: 1 if x in [5, 6] else 0)\n",
    "data['hours'] = data['created_at'].dt.hour\n",
    "data['is_holiday'] = np.where(data['created_at'].dt.date == date(2015,2,16),1,0)"
   ]
  },
  {
   "cell_type": "code",
   "execution_count": 49,
   "metadata": {},
   "outputs": [
    {
     "name": "stdout",
     "output_type": "stream",
     "text": [
      "<class 'pandas.core.frame.DataFrame'>\n",
      "Int64Index: 195139 entries, 0 to 197427\n",
      "Data columns (total 17 columns):\n",
      " #   Column                                        Non-Null Count   Dtype         \n",
      "---  ------                                        --------------   -----         \n",
      " 0   market_id                                     194166 non-null  float64       \n",
      " 1   created_at                                    195139 non-null  datetime64[ns]\n",
      " 2   actual_delivery_time                          195139 non-null  datetime64[ns]\n",
      " 3   store_id                                      195139 non-null  int64         \n",
      " 4   subtotal                                      195139 non-null  int64         \n",
      " 5   total_onshift_dashers                         179064 non-null  float64       \n",
      " 6   total_busy_dashers                            179064 non-null  float64       \n",
      " 7   total_outstanding_orders                      179064 non-null  float64       \n",
      " 8   estimated_store_to_consumer_driving_duration  194616 non-null  float64       \n",
      " 9   created_date                                  195139 non-null  object        \n",
      " 10  target                                        195139 non-null  float64       \n",
      " 11  log_target                                    195139 non-null  float64       \n",
      " 12  created_at_date                               195139 non-null  object        \n",
      " 13  day_of_week                                   195139 non-null  int64         \n",
      " 14  is_weekend                                    195139 non-null  int64         \n",
      " 15  hours                                         195139 non-null  int64         \n",
      " 16  is_holiday                                    195139 non-null  int64         \n",
      "dtypes: datetime64[ns](2), float64(7), int64(6), object(2)\n",
      "memory usage: 26.8+ MB\n"
     ]
    }
   ],
   "source": [
    "data.info()"
   ]
  },
  {
   "cell_type": "code",
   "execution_count": 50,
   "metadata": {},
   "outputs": [],
   "source": [
    "### Usually missing feature is pretty predictive, and the negative number is not random \n",
    "### therefore I map null to -1, negative number to -2, the reason \n",
    "### which would work well with the tree based model I am going to use later"
   ]
  },
  {
   "cell_type": "code",
   "execution_count": 51,
   "metadata": {},
   "outputs": [],
   "source": [
    "data['total_onshift_dashers'] = np.where(data['total_onshift_dashers'] < 0, -2, data['total_onshift_dashers'])\n",
    "data['total_onshift_dashers'].fillna(-1, inplace=True)\n",
    "data['total_busy_dashers'] = np.where(data['total_busy_dashers'] < 0, -2, data['total_busy_dashers'])\n",
    "data['total_busy_dashers'].fillna(-1, inplace=True)\n",
    "data['total_outstanding_orders'] = np.where(data['total_outstanding_orders'] < 0, -2, data['total_outstanding_orders'])\n",
    "data['total_outstanding_orders'].fillna(-1, inplace=True)"
   ]
  },
  {
   "cell_type": "code",
   "execution_count": 52,
   "metadata": {},
   "outputs": [],
   "source": [
    "## I create two feature: dasher_busy_ratio & order_dasher_ratio\n",
    "## again if negative map to -2, null map to -1"
   ]
  },
  {
   "cell_type": "code",
   "execution_count": 53,
   "metadata": {},
   "outputs": [],
   "source": [
    "data['dasher_busy_ratio'] = data['total_busy_dashers']/data['total_onshift_dashers']\n",
    "data['order_dasher_ratio'] = data['total_outstanding_orders']/data['total_onshift_dashers']\n",
    "data['dasher_busy_ratio'] = np.where( (data['total_onshift_dashers'] < 0) | (data['total_busy_dashers'] < 0) | (data['total_outstanding_orders'] < 0), -2, data['dasher_busy_ratio'])\n",
    "data['order_dasher_ratio'] = np.where( (data['total_onshift_dashers'] < 0) | (data['total_busy_dashers'] < 0) | (data['total_outstanding_orders'] < 0), -2, data['order_dasher_ratio'])\n",
    "data['dasher_busy_ratio'].fillna(-1,inplace=True)\n",
    "data['order_dasher_ratio'].fillna(-1,inplace=True)"
   ]
  },
  {
   "cell_type": "code",
   "execution_count": 54,
   "metadata": {},
   "outputs": [
    {
     "name": "stdout",
     "output_type": "stream",
     "text": [
      "-2.0\n",
      "inf\n",
      "-2.0\n",
      "inf\n"
     ]
    }
   ],
   "source": [
    "# there is a divied by zero error\n",
    "print(data['order_dasher_ratio'].min())\n",
    "print(data['order_dasher_ratio'].max())\n",
    "print(data['dasher_busy_ratio'].min())\n",
    "print(data['dasher_busy_ratio'].max())"
   ]
  },
  {
   "cell_type": "code",
   "execution_count": 55,
   "metadata": {},
   "outputs": [],
   "source": [
    "data['market_id'].fillna('missing', inplace=True)\n",
    "data['market_id'] = data['market_id'].astype(str)\n",
    "data['store_id'] = data['store_id'].astype(str)\n",
    "data['estimated_store_to_consumer_driving_duration'].fillna(-1, inplace=True)"
   ]
  },
  {
   "cell_type": "code",
   "execution_count": 56,
   "metadata": {},
   "outputs": [],
   "source": [
    "data.replace([np.inf], -1, inplace=True)"
   ]
  },
  {
   "cell_type": "code",
   "execution_count": 57,
   "metadata": {},
   "outputs": [
    {
     "name": "stdout",
     "output_type": "stream",
     "text": [
      "<class 'pandas.core.frame.DataFrame'>\n",
      "Int64Index: 195139 entries, 0 to 197427\n",
      "Data columns (total 19 columns):\n",
      " #   Column                                        Non-Null Count   Dtype         \n",
      "---  ------                                        --------------   -----         \n",
      " 0   market_id                                     195139 non-null  object        \n",
      " 1   created_at                                    195139 non-null  datetime64[ns]\n",
      " 2   actual_delivery_time                          195139 non-null  datetime64[ns]\n",
      " 3   store_id                                      195139 non-null  object        \n",
      " 4   subtotal                                      195139 non-null  int64         \n",
      " 5   total_onshift_dashers                         195139 non-null  float64       \n",
      " 6   total_busy_dashers                            195139 non-null  float64       \n",
      " 7   total_outstanding_orders                      195139 non-null  float64       \n",
      " 8   estimated_store_to_consumer_driving_duration  195139 non-null  float64       \n",
      " 9   created_date                                  195139 non-null  object        \n",
      " 10  target                                        195139 non-null  float64       \n",
      " 11  log_target                                    195139 non-null  float64       \n",
      " 12  created_at_date                               195139 non-null  object        \n",
      " 13  day_of_week                                   195139 non-null  int64         \n",
      " 14  is_weekend                                    195139 non-null  int64         \n",
      " 15  hours                                         195139 non-null  int64         \n",
      " 16  is_holiday                                    195139 non-null  int64         \n",
      " 17  dasher_busy_ratio                             195139 non-null  float64       \n",
      " 18  order_dasher_ratio                            195139 non-null  float64       \n",
      "dtypes: datetime64[ns](2), float64(8), int64(5), object(4)\n",
      "memory usage: 29.8+ MB\n"
     ]
    }
   ],
   "source": [
    "data.info()"
   ]
  },
  {
   "cell_type": "code",
   "execution_count": 58,
   "metadata": {},
   "outputs": [],
   "source": [
    "data = data.sort_values(by=['created_at']).reset_index()"
   ]
  },
  {
   "cell_type": "markdown",
   "metadata": {},
   "source": [
    "### Based on the information provided in the guide, \n",
    "### underestimating delivery time is roughly twice as costly as overestimating it. \n",
    "### Orders that are very early / late are also much worse than those that are only slightly early / late\n",
    "### Therefore I customize a asymmetric squared error and loss function\n",
    "### square error in order to penalize large error\n",
    "### 2 times penalty for underprediction -> 4 for square error"
   ]
  },
  {
   "cell_type": "code",
   "execution_count": 59,
   "metadata": {},
   "outputs": [],
   "source": [
    "def custom_asymmetric_objective(y_true, y_pred):\n",
    "    residual = (y_true - y_pred).astype(\"float\")\n",
    "    grad = np.where(residual<0, -2*residual, -2*4*residual)\n",
    "    hess = np.where(residual<0, 2, 4.0*2)\n",
    "    return grad, hess\n",
    "\n",
    "def custom_asymmetric_eval(y_true, y_pred):\n",
    "    residual = (y_true - y_pred).astype(\"float\")\n",
    "    loss = np.where(residual < 0, residual**2, (residual**2)*4.0) \n",
    "    return \"custom_asymmetric_eval\", np.mean(loss), False\n",
    "# Create custom metric\n",
    "def custom_metric(y_test, y_pred):\n",
    "    # Calculate r-squared score\n",
    "    i = 0\n",
    "    res = 0\n",
    "    for tf in y_test > y_pred:\n",
    "        if tf:\n",
    "            res += 4*((y_test.values[i] - y_pred[i])**2)\n",
    "        else:\n",
    "            res += ((y_test.values[i] - y_pred[i])**2)\n",
    "        i += 1\n",
    "\n",
    "    # Return r-squared score\n",
    "    return -res/i\n",
    "cus_scorer = make_scorer(custom_metric)"
   ]
  },
  {
   "cell_type": "code",
   "execution_count": 60,
   "metadata": {},
   "outputs": [],
   "source": [
    "def process_df(data1, data2, feat_start_date, feat_end_date, target_start_date, target_end_date):\n",
    "    data1_feat = data1[(data1['created_date'] >= feat_start_date) & (data1['created_date'] <= feat_end_date)]\n",
    "    data1_target = data2[(data2['created_date'] >= target_start_date) & (data2['created_date'] <= target_end_date)]\n",
    "    #data1_target['next_week'] = np.where(data1_target['created_date'] == target_end_date,1,0)\n",
    "    #market, time of day\n",
    "    data1_target['prev_avg_target_per_market'] = data1_target['market_id'].map(data1_feat.groupby(['market_id'])['target'].mean().to_dict())\n",
    "    data1_target['prev_avg_target_per_market'].fillna(-1,inplace=True)\n",
    "    # store\n",
    "    dct = data1_feat.groupby(by=['market_id','store_id'])['target'].mean().to_dict()\n",
    "    data1_target['prev_avg_target_per_store_market'] = data1_target.set_index(['market_id', 'store_id']).index.map(dct.get)\n",
    "    data1_target['prev_avg_target_per_store_market'].fillna(-1,inplace=True)\n",
    "    data1_target['prev_avg_target_per_store'] = data1_target['store_id'].map(data1_feat.groupby(['store_id'])['target'].mean().to_dict())\n",
    "    data1_target['prev_avg_target_per_store'].fillna(-1,inplace=True)\n",
    "    # time of day\n",
    "    data1_target['prev_avg_target_per_hours'] = data1_target['hours'].map(data1_feat.groupby(['hours'])['target'].mean().to_dict())\n",
    "    data1_target['prev_avg_target_per_hours'].fillna(-1,inplace=True)\n",
    "    # day of week\n",
    "    data1_target['prev_avg_target_per_dow'] = data1_target['day_of_week'].map(data1_feat.groupby(['day_of_week'])['target'].mean().to_dict())\n",
    "    data1_target['prev_avg_target_per_dow'].fillna(-1,inplace=True)\n",
    "    ### var\n",
    "    #market, time of day\n",
    "    data1_target['prev_var_target_per_market'] = data1_target['market_id'].map(data1_feat.groupby(['market_id'])['target'].var(ddof=0).to_dict())\n",
    "    data1_target['prev_var_target_per_market'].fillna(-1,inplace=True)\n",
    "    # store\n",
    "    dct = data1_feat.groupby(by=['market_id','store_id'])['target'].var(ddof=0).to_dict()\n",
    "    data1_target['prev_var_target_per_store_market'] = data1_target.set_index(['market_id', 'store_id']).index.map(dct.get)\n",
    "    data1_target['prev_var_target_per_store_market'].fillna(-1,inplace=True)\n",
    "    data1_target['prev_var_target_per_store'] = data1_target['store_id'].map(data1_feat.groupby(['store_id'])['target'].var(ddof=0).to_dict())\n",
    "    data1_target['prev_var_target_per_store'].fillna(-1,inplace=True)\n",
    "    # time of day\n",
    "    data1_target['prev_var_target_per_hours'] = data1_target['hours'].map(data1_feat.groupby(['hours'])['target'].var(ddof=0).to_dict())\n",
    "    data1_target['prev_var_target_per_hours'].fillna(-1,inplace=True)\n",
    "    return data1_target"
   ]
  },
  {
   "cell_type": "code",
   "execution_count": 61,
   "metadata": {},
   "outputs": [],
   "source": [
    "(feat_start_date, feat_end_date) = (date(2015,1,21),date(2015,1,27))\n",
    "(target_start_date, target_end_date) = (date(2015,1,28),date(2015,2,3))\n",
    "data1_target = process_df(data, data,feat_start_date, feat_end_date, target_start_date, target_end_date)\n",
    "(feat_start_date, feat_end_date) = (date(2015,1,28),date(2015,2,3))\n",
    "(target_start_date, target_end_date) = (date(2015,2,4),date(2015,2,10))\n",
    "data2_target = process_df(data, data, feat_start_date, feat_end_date, target_start_date, target_end_date)\n",
    "(feat_start_date, feat_end_date) = (date(2015,2,4),date(2015,2,10))\n",
    "(target_start_date, target_end_date) = (date(2015,2,11),date(2015,2,17))\n",
    "data3_target = process_df(data, data, feat_start_date, feat_end_date, target_start_date, target_end_date)"
   ]
  },
  {
   "cell_type": "code",
   "execution_count": 62,
   "metadata": {},
   "outputs": [
    {
     "name": "stdout",
     "output_type": "stream",
     "text": [
      "<class 'pandas.core.frame.DataFrame'>\n",
      "Int64Index: 46877 entries, 45094 to 91970\n",
      "Data columns (total 29 columns):\n",
      " #   Column                                        Non-Null Count  Dtype         \n",
      "---  ------                                        --------------  -----         \n",
      " 0   index                                         46877 non-null  int64         \n",
      " 1   market_id                                     46877 non-null  object        \n",
      " 2   created_at                                    46877 non-null  datetime64[ns]\n",
      " 3   actual_delivery_time                          46877 non-null  datetime64[ns]\n",
      " 4   store_id                                      46877 non-null  object        \n",
      " 5   subtotal                                      46877 non-null  int64         \n",
      " 6   total_onshift_dashers                         46877 non-null  float64       \n",
      " 7   total_busy_dashers                            46877 non-null  float64       \n",
      " 8   total_outstanding_orders                      46877 non-null  float64       \n",
      " 9   estimated_store_to_consumer_driving_duration  46877 non-null  float64       \n",
      " 10  created_date                                  46877 non-null  object        \n",
      " 11  target                                        46877 non-null  float64       \n",
      " 12  log_target                                    46877 non-null  float64       \n",
      " 13  created_at_date                               46877 non-null  object        \n",
      " 14  day_of_week                                   46877 non-null  int64         \n",
      " 15  is_weekend                                    46877 non-null  int64         \n",
      " 16  hours                                         46877 non-null  int64         \n",
      " 17  is_holiday                                    46877 non-null  int64         \n",
      " 18  dasher_busy_ratio                             46877 non-null  float64       \n",
      " 19  order_dasher_ratio                            46877 non-null  float64       \n",
      " 20  prev_avg_target_per_market                    46877 non-null  float64       \n",
      " 21  prev_avg_target_per_store_market              46877 non-null  float64       \n",
      " 22  prev_avg_target_per_store                     46877 non-null  float64       \n",
      " 23  prev_avg_target_per_hours                     46877 non-null  float64       \n",
      " 24  prev_avg_target_per_dow                       46877 non-null  float64       \n",
      " 25  prev_var_target_per_market                    46877 non-null  float64       \n",
      " 26  prev_var_target_per_store_market              46877 non-null  float64       \n",
      " 27  prev_var_target_per_store                     46877 non-null  float64       \n",
      " 28  prev_var_target_per_hours                     46877 non-null  float64       \n",
      "dtypes: datetime64[ns](2), float64(17), int64(6), object(4)\n",
      "memory usage: 10.7+ MB\n"
     ]
    }
   ],
   "source": [
    "data1_target.info()"
   ]
  },
  {
   "cell_type": "code",
   "execution_count": 63,
   "metadata": {},
   "outputs": [],
   "source": [
    "# numerical\n",
    "num_cols = ['subtotal',\n",
    "'total_onshift_dashers', 'total_busy_dashers',\n",
    "'total_outstanding_orders', \n",
    "'estimated_store_to_consumer_driving_duration',\n",
    "# feature engineering\n",
    "'day_of_week', 'is_weekend', 'hours','is_holiday']\n",
    "# categorical\n",
    "one_hot_cat_cols = ['market_id']\n",
    "bin_cat_cols = ['store_id']\n",
    "agg_cols = ['prev_avg_target_per_market', 'prev_avg_target_per_store_market','prev_avg_target_per_hours']\n",
    "           #, 'prev_avg_target_per_store'\n",
    "            #,'prev_avg_target_per_dow']\n",
    "           #,'prev_var_target_per_market', 'prev_var_target_per_store_market','prev_var_target_per_hours'\n",
    "           #, 'prev_var_target_per_store']\n",
    "            #,'prev_avg_target_per_market_two', 'prev_avg_target_per_store_market_two','prev_avg_target_per_hours_two']\n",
    "cat_cols = bin_cat_cols + one_hot_cat_cols"
   ]
  },
  {
   "cell_type": "code",
   "execution_count": 64,
   "metadata": {},
   "outputs": [],
   "source": [
    "select_cols = num_cols+agg_cols+cat_cols\n",
    "X_1 = data1_target[select_cols]\n",
    "y_1 = data1_target['target']\n",
    "X_2 = data2_target[select_cols]\n",
    "y_2 = data2_target['target']\n",
    "X_3 = data3_target[select_cols]\n",
    "y_3 = data3_target['target']"
   ]
  },
  {
   "cell_type": "markdown",
   "metadata": {},
   "source": [
    "# Feature Selection"
   ]
  },
  {
   "cell_type": "code",
   "execution_count": 65,
   "metadata": {},
   "outputs": [
    {
     "name": "stdout",
     "output_type": "stream",
     "text": [
      "3000 1614417.741224744\n",
      "4000 1608815.3238152638\n",
      "5000 1608596.3686866318\n",
      "--------------------------------\n",
      "5000 1608596.3686866318 950690.3210181702\n"
     ]
    }
   ],
   "source": [
    "frames = [X_1, X_2, X_3]\n",
    "X = pd.concat(frames)\n",
    "v = DictVectorizer()\n",
    "v.fit(X.to_dict('records')) \n",
    "X_1_2 = pd.concat([X_1, X_2])\n",
    "X_train = v.transform(X_1_2.to_dict('records'))\n",
    "X_test = v.transform(X_3.to_dict('records'))\n",
    "y_train = np.append(y_1, y_2)\n",
    "y_test = y_3\n",
    "best_score = np.inf\n",
    "for k_cols in [3000, 4000, 5000]:\n",
    "    selectors = SelectKBest(f_classif, k=k_cols).fit(X_train, y_train)\n",
    "    X_train_s = X_train[:,selectors.get_support()].copy()\n",
    "    X_test_s = X_test[:,selectors.get_support()].copy()\n",
    "    lgbm = LGBMRegressor(random_state=seed, objective=custom_asymmetric_objective)\n",
    "    lgbm.fit(X_train_s, y_train)\n",
    "    pred = lgbm.predict(X_test_s)\n",
    "    score = -custom_metric(y_test,pred)\n",
    "    if best_score > score:\n",
    "        best_score = score\n",
    "        best_k = k_cols\n",
    "        best_index = selectors.get_support()\n",
    "        mean_score = mean_squared_error(y_test,pred)\n",
    "    print(k_cols,score)\n",
    "print('--------------------------------')    \n",
    "print(best_k,best_score, mean_score)    "
   ]
  },
  {
   "cell_type": "markdown",
   "metadata": {},
   "source": [
    "# Hyperparameter tuning with customized cross validation, time block randomization in order to avoid network effect"
   ]
  },
  {
   "cell_type": "code",
   "execution_count": 66,
   "metadata": {},
   "outputs": [
    {
     "name": "stdout",
     "output_type": "stream",
     "text": [
      "{'max_depth': 20, 'min_child_samples': 30, 'n_estimators': 800, 'num_leaves': 30, 'objective': <function custom_asymmetric_objective at 0x7fb933e4d200>, 'random_state': 11} 1580783.5868334568 1011269.938230474\n"
     ]
    }
   ],
   "source": [
    "param_grid = {'num_leaves': [30, 50, 70], 'min_child_samples': [10, 20, 30], \n",
    "              'max_depth': [10,20,30], 'n_estimators': [300,500,800]\n",
    "              ,'random_state':[seed], 'objective': [custom_asymmetric_objective] }\n",
    "\n",
    "best_score = np.inf\n",
    "X_11 = v.transform(X_1.to_dict('records'))\n",
    "X_22 = v.transform(X_2.to_dict('records'))\n",
    "X_33 = v.transform(X_3.to_dict('records'))\n",
    "XX = [X_11, X_22, X_33]\n",
    "yy = [y_1, y_2, y_3]\n",
    "for (ia,ib,ic) in [(0,1,2),(0,2,1),(1,2,0)]:\n",
    "    for param in list(ParameterGrid(param_grid)):\n",
    "        lgbm = LGBMRegressor(**param)\n",
    "        X_train = vstack((XX[ia], XX[ib]))\n",
    "        y_train = np.append(yy[ia], yy[ib])\n",
    "        X_test = XX[ic]\n",
    "        y_test = yy[ic]\n",
    "        lgbm.fit(X_train[:,best_index], y_train, eval_metric=custom_asymmetric_eval)\n",
    "        y_pred = lgbm.predict(X_test[:,best_index])\n",
    "        score = custom_asymmetric_eval(y_test,y_pred)[1]\n",
    "        if score < best_score:\n",
    "            best_score = score\n",
    "            best_param = param\n",
    "            mean_score = mean_squared_error(y_test,y_pred)\n",
    "print(best_param, best_score, mean_score)"
   ]
  },
  {
   "cell_type": "code",
   "execution_count": 67,
   "metadata": {},
   "outputs": [
    {
     "data": {
      "text/plain": [
       "LGBMRegressor(max_depth=20, min_child_samples=30, n_estimators=800,\n",
       "              num_leaves=30,\n",
       "              objective=<function custom_asymmetric_objective at 0x7fb933e4d200>,\n",
       "              random_state=11)"
      ]
     },
     "execution_count": 67,
     "metadata": {},
     "output_type": "execute_result"
    }
   ],
   "source": [
    "X_t = v.transform(X.to_dict('records'))\n",
    "y_t = np.concatenate([y_1, y_2, y_3], axis=0)\n",
    "lgbm = LGBMRegressor(**best_param)\n",
    "lgbm.fit(X_t[:,best_index], y_t, eval_metric=custom_asymmetric_eval)"
   ]
  },
  {
   "cell_type": "markdown",
   "metadata": {},
   "source": [
    "### feature importance"
   ]
  },
  {
   "cell_type": "code",
   "execution_count": 68,
   "metadata": {},
   "outputs": [
    {
     "data": {
      "image/png": "[encoded data removed]",
      "text/plain": [
       "<Figure size 864x432 with 1 Axes>"
      ]
     },
     "metadata": {
      "needs_background": "light"
     },
     "output_type": "display_data"
    }
   ],
   "source": [
    "whole_feature_cols = np.array(v.get_feature_names())\n",
    "selected_feature_cols = whole_feature_cols[best_index]\n",
    "feature_imp = pd.DataFrame(sorted(zip(lgbm.feature_importances_, selected_feature_cols)), columns=['Value','Feature'])\n",
    "plt.figure(figsize=(12, 6))\n",
    "sns.barplot(x=\"Value\", y=\"Feature\", data=feature_imp.sort_values(by=\"Value\", ascending=False).head(10))\n",
    "plt.title('LightGBM Features (avg over folds)')\n",
    "plt.tight_layout()\n",
    "plt.show()"
   ]
  },
  {
   "cell_type": "markdown",
   "metadata": {},
   "source": [
    "### apply trained model to test data"
   ]
  },
  {
   "cell_type": "code",
   "execution_count": 69,
   "metadata": {},
   "outputs": [
    {
     "data": {
      "text/html": [
       "<div>\n",
       "<style scoped>\n",
       "    .dataframe tbody tr th:only-of-type {\n",
       "        vertical-align: middle;\n",
       "    }\n",
       "\n",
       "    .dataframe tbody tr th {\n",
       "        vertical-align: top;\n",
       "    }\n",
       "\n",
       "    .dataframe thead th {\n",
       "        text-align: right;\n",
       "    }\n",
       "</style>\n",
       "<table border=\"1\" class=\"dataframe\">\n",
       "  <thead>\n",
       "    <tr style=\"text-align: right;\">\n",
       "      <th></th>\n",
       "      <th>market_id</th>\n",
       "      <th>created_at</th>\n",
       "      <th>store_id</th>\n",
       "      <th>subtotal</th>\n",
       "      <th>total_onshift_dashers</th>\n",
       "      <th>total_busy_dashers</th>\n",
       "      <th>total_outstanding_orders</th>\n",
       "      <th>estimated_store_to_consumer_driving_duration</th>\n",
       "      <th>delivery_id</th>\n",
       "      <th>created_date</th>\n",
       "      <th>created_at_date</th>\n",
       "    </tr>\n",
       "  </thead>\n",
       "  <tbody>\n",
       "    <tr>\n",
       "      <th>0</th>\n",
       "      <td>3.0</td>\n",
       "      <td>2015-02-24 18:22:30</td>\n",
       "      <td>5477</td>\n",
       "      <td>7500</td>\n",
       "      <td>4.0</td>\n",
       "      <td>4.0</td>\n",
       "      <td>4.0</td>\n",
       "      <td>670.0</td>\n",
       "      <td>194096</td>\n",
       "      <td>2015-02-25</td>\n",
       "      <td>2015-02-24</td>\n",
       "    </tr>\n",
       "    <tr>\n",
       "      <th>1</th>\n",
       "      <td>3.0</td>\n",
       "      <td>2015-02-24 17:14:19</td>\n",
       "      <td>5477</td>\n",
       "      <td>7100</td>\n",
       "      <td>4.0</td>\n",
       "      <td>1.0</td>\n",
       "      <td>1.0</td>\n",
       "      <td>446.0</td>\n",
       "      <td>236895</td>\n",
       "      <td>2015-02-25</td>\n",
       "      <td>2015-02-24</td>\n",
       "    </tr>\n",
       "    <tr>\n",
       "      <th>2</th>\n",
       "      <td>4.0</td>\n",
       "      <td>2015-02-21 18:27:44</td>\n",
       "      <td>5477</td>\n",
       "      <td>4500</td>\n",
       "      <td>9.0</td>\n",
       "      <td>7.0</td>\n",
       "      <td>6.0</td>\n",
       "      <td>504.0</td>\n",
       "      <td>190868</td>\n",
       "      <td>2015-02-22</td>\n",
       "      <td>2015-02-21</td>\n",
       "    </tr>\n",
       "    <tr>\n",
       "      <th>3</th>\n",
       "      <td>3.0</td>\n",
       "      <td>2015-02-24 17:32:39</td>\n",
       "      <td>5477</td>\n",
       "      <td>1700</td>\n",
       "      <td>3.0</td>\n",
       "      <td>3.0</td>\n",
       "      <td>3.0</td>\n",
       "      <td>687.0</td>\n",
       "      <td>183076</td>\n",
       "      <td>2015-02-25</td>\n",
       "      <td>2015-02-24</td>\n",
       "    </tr>\n",
       "    <tr>\n",
       "      <th>4</th>\n",
       "      <td>1.0</td>\n",
       "      <td>2015-02-23 21:20:45</td>\n",
       "      <td>2841</td>\n",
       "      <td>3150</td>\n",
       "      <td>4.0</td>\n",
       "      <td>4.0</td>\n",
       "      <td>4.0</td>\n",
       "      <td>528.0</td>\n",
       "      <td>186200</td>\n",
       "      <td>2015-02-24</td>\n",
       "      <td>2015-02-23</td>\n",
       "    </tr>\n",
       "    <tr>\n",
       "      <th>...</th>\n",
       "      <td>...</td>\n",
       "      <td>...</td>\n",
       "      <td>...</td>\n",
       "      <td>...</td>\n",
       "      <td>...</td>\n",
       "      <td>...</td>\n",
       "      <td>...</td>\n",
       "      <td>...</td>\n",
       "      <td>...</td>\n",
       "      <td>...</td>\n",
       "      <td>...</td>\n",
       "    </tr>\n",
       "    <tr>\n",
       "      <th>54773</th>\n",
       "      <td>1.0</td>\n",
       "      <td>2015-02-20 10:11:18</td>\n",
       "      <td>2956</td>\n",
       "      <td>1088</td>\n",
       "      <td>13.0</td>\n",
       "      <td>11.0</td>\n",
       "      <td>11.0</td>\n",
       "      <td>824.0</td>\n",
       "      <td>174203</td>\n",
       "      <td>2015-02-20</td>\n",
       "      <td>2015-02-20</td>\n",
       "    </tr>\n",
       "    <tr>\n",
       "      <th>54774</th>\n",
       "      <td>1.0</td>\n",
       "      <td>2015-02-21 13:01:44</td>\n",
       "      <td>2956</td>\n",
       "      <td>1824</td>\n",
       "      <td>26.0</td>\n",
       "      <td>26.0</td>\n",
       "      <td>32.0</td>\n",
       "      <td>477.0</td>\n",
       "      <td>138333</td>\n",
       "      <td>2015-02-21</td>\n",
       "      <td>2015-02-21</td>\n",
       "    </tr>\n",
       "    <tr>\n",
       "      <th>54775</th>\n",
       "      <td>1.0</td>\n",
       "      <td>2015-02-21 10:19:19</td>\n",
       "      <td>2956</td>\n",
       "      <td>2933</td>\n",
       "      <td>10.0</td>\n",
       "      <td>10.0</td>\n",
       "      <td>12.0</td>\n",
       "      <td>318.0</td>\n",
       "      <td>34110</td>\n",
       "      <td>2015-02-21</td>\n",
       "      <td>2015-02-21</td>\n",
       "    </tr>\n",
       "    <tr>\n",
       "      <th>54776</th>\n",
       "      <td>1.0</td>\n",
       "      <td>2015-02-19 15:43:26</td>\n",
       "      <td>2956</td>\n",
       "      <td>1438</td>\n",
       "      <td>12.0</td>\n",
       "      <td>12.0</td>\n",
       "      <td>18.0</td>\n",
       "      <td>593.0</td>\n",
       "      <td>178028</td>\n",
       "      <td>2015-02-19</td>\n",
       "      <td>2015-02-19</td>\n",
       "    </tr>\n",
       "    <tr>\n",
       "      <th>54777</th>\n",
       "      <td>1.0</td>\n",
       "      <td>2015-02-22 18:27:02</td>\n",
       "      <td>3630</td>\n",
       "      <td>1433</td>\n",
       "      <td>72.0</td>\n",
       "      <td>55.0</td>\n",
       "      <td>81.0</td>\n",
       "      <td>454.0</td>\n",
       "      <td>132824</td>\n",
       "      <td>2015-02-23</td>\n",
       "      <td>2015-02-22</td>\n",
       "    </tr>\n",
       "  </tbody>\n",
       "</table>\n",
       "<p>54768 rows × 11 columns</p>\n",
       "</div>"
      ],
      "text/plain": [
       "       market_id          created_at  store_id  subtotal  \\\n",
       "0            3.0 2015-02-24 18:22:30      5477      7500   \n",
       "1            3.0 2015-02-24 17:14:19      5477      7100   \n",
       "2            4.0 2015-02-21 18:27:44      5477      4500   \n",
       "3            3.0 2015-02-24 17:32:39      5477      1700   \n",
       "4            1.0 2015-02-23 21:20:45      2841      3150   \n",
       "...          ...                 ...       ...       ...   \n",
       "54773        1.0 2015-02-20 10:11:18      2956      1088   \n",
       "54774        1.0 2015-02-21 13:01:44      2956      1824   \n",
       "54775        1.0 2015-02-21 10:19:19      2956      2933   \n",
       "54776        1.0 2015-02-19 15:43:26      2956      1438   \n",
       "54777        1.0 2015-02-22 18:27:02      3630      1433   \n",
       "\n",
       "       total_onshift_dashers  total_busy_dashers  total_outstanding_orders  \\\n",
       "0                        4.0                 4.0                       4.0   \n",
       "1                        4.0                 1.0                       1.0   \n",
       "2                        9.0                 7.0                       6.0   \n",
       "3                        3.0                 3.0                       3.0   \n",
       "4                        4.0                 4.0                       4.0   \n",
       "...                      ...                 ...                       ...   \n",
       "54773                   13.0                11.0                      11.0   \n",
       "54774                   26.0                26.0                      32.0   \n",
       "54775                   10.0                10.0                      12.0   \n",
       "54776                   12.0                12.0                      18.0   \n",
       "54777                   72.0                55.0                      81.0   \n",
       "\n",
       "       estimated_store_to_consumer_driving_duration  delivery_id created_date  \\\n",
       "0                                             670.0       194096   2015-02-25   \n",
       "1                                             446.0       236895   2015-02-25   \n",
       "2                                             504.0       190868   2015-02-22   \n",
       "3                                             687.0       183076   2015-02-25   \n",
       "4                                             528.0       186200   2015-02-24   \n",
       "...                                             ...          ...          ...   \n",
       "54773                                         824.0       174203   2015-02-20   \n",
       "54774                                         477.0       138333   2015-02-21   \n",
       "54775                                         318.0        34110   2015-02-21   \n",
       "54776                                         593.0       178028   2015-02-19   \n",
       "54777                                         454.0       132824   2015-02-23   \n",
       "\n",
       "      created_at_date  \n",
       "0          2015-02-24  \n",
       "1          2015-02-24  \n",
       "2          2015-02-21  \n",
       "3          2015-02-24  \n",
       "4          2015-02-23  \n",
       "...               ...  \n",
       "54773      2015-02-20  \n",
       "54774      2015-02-21  \n",
       "54775      2015-02-21  \n",
       "54776      2015-02-19  \n",
       "54777      2015-02-22  \n",
       "\n",
       "[54768 rows x 11 columns]"
      ]
     },
     "execution_count": 69,
     "metadata": {},
     "output_type": "execute_result"
    }
   ],
   "source": [
    "clean_test_data"
   ]
  },
  {
   "cell_type": "code",
   "execution_count": 70,
   "metadata": {},
   "outputs": [],
   "source": [
    "def preprocess_fill_df(data):\n",
    "    ## create time feature\n",
    "    data['created_date'] = data['created_at'].dt.date\n",
    "    data['day_of_week'] = data['created_at'].dt.dayofweek\n",
    "    data['is_weekend'] = data['day_of_week'].apply(lambda x: 1 if x in [5, 6] else 0)\n",
    "    data['hours'] = data['created_at'].dt.hour\n",
    "    data['is_holiday'] = np.where(data['created_at'].dt.date == date(2015,2,16),1,0)\n",
    "    # create ratio and fill up weird and missing number\n",
    "    data['total_onshift_dashers'] = np.where(data['total_onshift_dashers'] < 0, -2, data['total_onshift_dashers'])\n",
    "    data['total_onshift_dashers'].fillna(-1, inplace=True)\n",
    "    data['total_busy_dashers'] = np.where(data['total_busy_dashers'] < 0, -2, data['total_busy_dashers'])\n",
    "    data['total_busy_dashers'].fillna(-1, inplace=True)\n",
    "    data['total_outstanding_orders'] = np.where(data['total_outstanding_orders'] < 0, -2, data['total_outstanding_orders'])\n",
    "    data['total_outstanding_orders'].fillna(-1, inplace=True)\n",
    "    data['dasher_busy_ratio'] = data['total_busy_dashers']/data['total_onshift_dashers']\n",
    "    data['order_dasher_ratio'] = data['total_outstanding_orders']/data['total_onshift_dashers']\n",
    "    data['dasher_busy_ratio'] = np.where( (data['total_onshift_dashers'] < 0) | (data['total_busy_dashers'] < 0) | (data['total_outstanding_orders'] < 0), -2, data['dasher_busy_ratio'])\n",
    "    data['order_dasher_ratio'] = np.where( (data['total_onshift_dashers'] < 0) | (data['total_busy_dashers'] < 0) | (data['total_outstanding_orders'] < 0), -2, data['order_dasher_ratio'])\n",
    "    data['dasher_busy_ratio'].fillna(-1,inplace=True)\n",
    "    data['order_dasher_ratio'].fillna(-1,inplace=True)\n",
    "    data['market_id'].fillna('missing', inplace=True)\n",
    "    data['market_id'] = data['market_id'].astype(str)\n",
    "    data['store_id'] = data['store_id'].astype(str)\n",
    "    data['estimated_store_to_consumer_driving_duration'].fillna(-1, inplace=True)\n",
    "    data.replace([np.inf], -1, inplace=True)\n",
    "    return data"
   ]
  },
  {
   "cell_type": "code",
   "execution_count": 71,
   "metadata": {},
   "outputs": [],
   "source": [
    "processed_clean_test_data = preprocess_fill_df(clean_test_data)"
   ]
  },
  {
   "cell_type": "code",
   "execution_count": 72,
   "metadata": {},
   "outputs": [
    {
     "data": {
      "text/html": [
       "<div>\n",
       "<style scoped>\n",
       "    .dataframe tbody tr th:only-of-type {\n",
       "        vertical-align: middle;\n",
       "    }\n",
       "\n",
       "    .dataframe tbody tr th {\n",
       "        vertical-align: top;\n",
       "    }\n",
       "\n",
       "    .dataframe thead th {\n",
       "        text-align: right;\n",
       "    }\n",
       "</style>\n",
       "<table border=\"1\" class=\"dataframe\">\n",
       "  <thead>\n",
       "    <tr style=\"text-align: right;\">\n",
       "      <th></th>\n",
       "      <th>market_id</th>\n",
       "      <th>created_at</th>\n",
       "      <th>store_id</th>\n",
       "      <th>subtotal</th>\n",
       "      <th>total_onshift_dashers</th>\n",
       "      <th>total_busy_dashers</th>\n",
       "      <th>total_outstanding_orders</th>\n",
       "      <th>estimated_store_to_consumer_driving_duration</th>\n",
       "      <th>delivery_id</th>\n",
       "      <th>created_date</th>\n",
       "      <th>created_at_date</th>\n",
       "      <th>day_of_week</th>\n",
       "      <th>is_weekend</th>\n",
       "      <th>hours</th>\n",
       "      <th>is_holiday</th>\n",
       "      <th>dasher_busy_ratio</th>\n",
       "      <th>order_dasher_ratio</th>\n",
       "    </tr>\n",
       "  </thead>\n",
       "  <tbody>\n",
       "    <tr>\n",
       "      <th>0</th>\n",
       "      <td>3.0</td>\n",
       "      <td>2015-02-24 18:22:30</td>\n",
       "      <td>5477</td>\n",
       "      <td>7500</td>\n",
       "      <td>4.0</td>\n",
       "      <td>4.0</td>\n",
       "      <td>4.0</td>\n",
       "      <td>670.0</td>\n",
       "      <td>194096</td>\n",
       "      <td>2015-02-24</td>\n",
       "      <td>2015-02-24</td>\n",
       "      <td>1</td>\n",
       "      <td>0</td>\n",
       "      <td>18</td>\n",
       "      <td>0</td>\n",
       "      <td>1.000000</td>\n",
       "      <td>1.000000</td>\n",
       "    </tr>\n",
       "    <tr>\n",
       "      <th>1</th>\n",
       "      <td>3.0</td>\n",
       "      <td>2015-02-24 17:14:19</td>\n",
       "      <td>5477</td>\n",
       "      <td>7100</td>\n",
       "      <td>4.0</td>\n",
       "      <td>1.0</td>\n",
       "      <td>1.0</td>\n",
       "      <td>446.0</td>\n",
       "      <td>236895</td>\n",
       "      <td>2015-02-24</td>\n",
       "      <td>2015-02-24</td>\n",
       "      <td>1</td>\n",
       "      <td>0</td>\n",
       "      <td>17</td>\n",
       "      <td>0</td>\n",
       "      <td>0.250000</td>\n",
       "      <td>0.250000</td>\n",
       "    </tr>\n",
       "    <tr>\n",
       "      <th>2</th>\n",
       "      <td>4.0</td>\n",
       "      <td>2015-02-21 18:27:44</td>\n",
       "      <td>5477</td>\n",
       "      <td>4500</td>\n",
       "      <td>9.0</td>\n",
       "      <td>7.0</td>\n",
       "      <td>6.0</td>\n",
       "      <td>504.0</td>\n",
       "      <td>190868</td>\n",
       "      <td>2015-02-21</td>\n",
       "      <td>2015-02-21</td>\n",
       "      <td>5</td>\n",
       "      <td>1</td>\n",
       "      <td>18</td>\n",
       "      <td>0</td>\n",
       "      <td>0.777778</td>\n",
       "      <td>0.666667</td>\n",
       "    </tr>\n",
       "    <tr>\n",
       "      <th>3</th>\n",
       "      <td>3.0</td>\n",
       "      <td>2015-02-24 17:32:39</td>\n",
       "      <td>5477</td>\n",
       "      <td>1700</td>\n",
       "      <td>3.0</td>\n",
       "      <td>3.0</td>\n",
       "      <td>3.0</td>\n",
       "      <td>687.0</td>\n",
       "      <td>183076</td>\n",
       "      <td>2015-02-24</td>\n",
       "      <td>2015-02-24</td>\n",
       "      <td>1</td>\n",
       "      <td>0</td>\n",
       "      <td>17</td>\n",
       "      <td>0</td>\n",
       "      <td>1.000000</td>\n",
       "      <td>1.000000</td>\n",
       "    </tr>\n",
       "    <tr>\n",
       "      <th>4</th>\n",
       "      <td>1.0</td>\n",
       "      <td>2015-02-23 21:20:45</td>\n",
       "      <td>2841</td>\n",
       "      <td>3150</td>\n",
       "      <td>4.0</td>\n",
       "      <td>4.0</td>\n",
       "      <td>4.0</td>\n",
       "      <td>528.0</td>\n",
       "      <td>186200</td>\n",
       "      <td>2015-02-23</td>\n",
       "      <td>2015-02-23</td>\n",
       "      <td>0</td>\n",
       "      <td>0</td>\n",
       "      <td>21</td>\n",
       "      <td>0</td>\n",
       "      <td>1.000000</td>\n",
       "      <td>1.000000</td>\n",
       "    </tr>\n",
       "  </tbody>\n",
       "</table>\n",
       "</div>"
      ],
      "text/plain": [
       "  market_id          created_at store_id  subtotal  total_onshift_dashers  \\\n",
       "0       3.0 2015-02-24 18:22:30     5477      7500                    4.0   \n",
       "1       3.0 2015-02-24 17:14:19     5477      7100                    4.0   \n",
       "2       4.0 2015-02-21 18:27:44     5477      4500                    9.0   \n",
       "3       3.0 2015-02-24 17:32:39     5477      1700                    3.0   \n",
       "4       1.0 2015-02-23 21:20:45     2841      3150                    4.0   \n",
       "\n",
       "   total_busy_dashers  total_outstanding_orders  \\\n",
       "0                 4.0                       4.0   \n",
       "1                 1.0                       1.0   \n",
       "2                 7.0                       6.0   \n",
       "3                 3.0                       3.0   \n",
       "4                 4.0                       4.0   \n",
       "\n",
       "   estimated_store_to_consumer_driving_duration  delivery_id created_date  \\\n",
       "0                                         670.0       194096   2015-02-24   \n",
       "1                                         446.0       236895   2015-02-24   \n",
       "2                                         504.0       190868   2015-02-21   \n",
       "3                                         687.0       183076   2015-02-24   \n",
       "4                                         528.0       186200   2015-02-23   \n",
       "\n",
       "  created_at_date  day_of_week  is_weekend  hours  is_holiday  \\\n",
       "0      2015-02-24            1           0     18           0   \n",
       "1      2015-02-24            1           0     17           0   \n",
       "2      2015-02-21            5           1     18           0   \n",
       "3      2015-02-24            1           0     17           0   \n",
       "4      2015-02-23            0           0     21           0   \n",
       "\n",
       "   dasher_busy_ratio  order_dasher_ratio  \n",
       "0           1.000000            1.000000  \n",
       "1           0.250000            0.250000  \n",
       "2           0.777778            0.666667  \n",
       "3           1.000000            1.000000  \n",
       "4           1.000000            1.000000  "
      ]
     },
     "execution_count": 72,
     "metadata": {},
     "output_type": "execute_result"
    }
   ],
   "source": [
    "clean_test_data.head()"
   ]
  },
  {
   "cell_type": "code",
   "execution_count": 73,
   "metadata": {},
   "outputs": [],
   "source": [
    "(feat_start_date, feat_end_date) = (date(2015,2,11),date(2015,2,17))\n",
    "(target_start_date, target_end_date) = (date(2015,2,18),date(2015,2,24))\n",
    "data4_no_target = process_df(data, processed_clean_test_data, feat_start_date, feat_end_date, target_start_date, target_end_date)"
   ]
  },
  {
   "cell_type": "code",
   "execution_count": 74,
   "metadata": {},
   "outputs": [],
   "source": [
    "X_4 = data4_no_target[select_cols]\n",
    "X_4_t = v.transform(X_4.to_dict('records'))"
   ]
  },
  {
   "cell_type": "code",
   "execution_count": 75,
   "metadata": {},
   "outputs": [],
   "source": [
    "test_data_predict = lgbm.predict(X_4_t[:,best_index])"
   ]
  },
  {
   "cell_type": "code",
   "execution_count": 76,
   "metadata": {},
   "outputs": [
    {
     "data": {
      "text/plain": [
       "(54768,)"
      ]
     },
     "execution_count": 76,
     "metadata": {},
     "output_type": "execute_result"
    }
   ],
   "source": [
    "test_data_predict.shape"
   ]
  },
  {
   "cell_type": "code",
   "execution_count": 77,
   "metadata": {},
   "outputs": [
    {
     "name": "stdout",
     "output_type": "stream",
     "text": [
      "previous week mean delivery time  true 2928.3835783006593 pred 3161.801902573401\n",
      "new predicted mean delivery time 3212.679150146226\n",
      "previous week median delivery time  true 2730.0 pred 3102.5282556593747\n",
      "new predicted median delivery time 3163.5500319305875\n"
     ]
    }
   ],
   "source": [
    "# prediction QA\n",
    "print('previous week mean delivery time  true {} pred {}'.format(y_test.mean(), y_pred.mean()))\n",
    "print('new predicted mean delivery time {}'.format(test_data_predict.mean()))\n",
    "print('previous week median delivery time  true {} pred {}'.format(y_test.median(), np.median(y_pred)))\n",
    "print('new predicted median delivery time {}'.format(np.median(test_data_predict)))"
   ]
  },
  {
   "cell_type": "code",
   "execution_count": 78,
   "metadata": {},
   "outputs": [],
   "source": [
    "# first week true delivery time\n",
    "(feat_start_date, feat_end_date) = (date(2015,1,21),date(2015,1,27))\n",
    "data1_delivery_time = data[(data['created_date'] >= feat_start_date) & (data['created_date'] <= feat_end_date)]"
   ]
  },
  {
   "cell_type": "code",
   "execution_count": 79,
   "metadata": {},
   "outputs": [
    {
     "data": {
      "image/png": "[encoded data removed]",
      "text/plain": [
       "<Figure size 864x432 with 1 Axes>"
      ]
     },
     "metadata": {
      "needs_background": "light"
     },
     "output_type": "display_data"
    }
   ],
   "source": [
    "fig, ax = plt.subplots(figsize=(12,6))\n",
    "ax = sns.distplot(y_pred , hist = False, kde = True,\n",
    "             kde_kws = {'shade': True, 'linewidth': 3}, axlabel=\"delivery time prediction\", label = \"2/11-2/17 pred\")\n",
    "ax = sns.distplot(y_test , hist = False, kde = True,\n",
    "             kde_kws = {'shade': True, 'linewidth': 3}, axlabel=\"delivery time prediction\", label = \"2/11-2/17 true\")\n",
    "ax = sns.distplot(test_data_predict, hist = False, kde = True,\n",
    "             kde_kws = {'shade': True, 'linewidth': 3},  label = \"2/18-2/24 pred\")\n",
    "ax.legend()\n",
    "title = ax.set_title('density plot of delivery prediction', size=15)"
   ]
  },
  {
   "cell_type": "markdown",
   "metadata": {},
   "source": [
    "### From the plot above, we can aww 2/11-2/17 true is the most right skewed which make senses because we tried to build a model which tried to penalize more on the underprediction that's why our prediction tends to be more overprediction.\n",
    "### Based on the insight from the orders over date plot, we can infer the volume of orders is increasing over weeks. therefore \n",
    "### which the prediction stats is higher than the previous week prediction makes sense to me."
   ]
  },
  {
   "cell_type": "code",
   "execution_count": 80,
   "metadata": {},
   "outputs": [],
   "source": [
    "final_data = {'delivery_id':list(data4_no_target['delivery_id']),\n",
    "        'predicted_duration':list(test_data_predict)}\n",
    " \n",
    "# Creates pandas DataFrame.\n",
    "final_df = pd.DataFrame(final_data)"
   ]
  },
  {
   "cell_type": "code",
   "execution_count": 81,
   "metadata": {},
   "outputs": [],
   "source": [
    "final_df.to_csv('data_to_predict.csv',index=False)"
   ]
  },
  {
   "cell_type": "code",
   "execution_count": 82,
   "metadata": {},
   "outputs": [],
   "source": [
    "frames = [X_1, X_2, X_3]\n",
    "X = pd.concat(frames)"
   ]
  },
  {
   "cell_type": "code",
   "execution_count": 83,
   "metadata": {},
   "outputs": [
    {
     "data": {
      "text/plain": [
       "(150045, 14)"
      ]
     },
     "execution_count": 83,
     "metadata": {},
     "output_type": "execute_result"
    }
   ],
   "source": [
    "X.shape"
   ]
  },
  {
   "cell_type": "code",
   "execution_count": 84,
   "metadata": {},
   "outputs": [
    {
     "data": {
      "text/plain": [
       "array([5182., 3529., 5646., ..., 2092., 1682., 2926.])"
      ]
     },
     "execution_count": 84,
     "metadata": {},
     "output_type": "execute_result"
    }
   ],
   "source": [
    "y_t"
   ]
  },
  {
   "cell_type": "code",
   "execution_count": null,
   "metadata": {},
   "outputs": [],
   "source": []
  },
  {
   "cell_type": "code",
   "execution_count": 85,
   "metadata": {},
   "outputs": [
    {
     "data": {
      "image/png": "[encoded data removed]",
      "text/plain": [
       "<Figure size 1296x864 with 6 Axes>"
      ]
     },
     "metadata": {
      "needs_background": "light"
     },
     "output_type": "display_data"
    }
   ],
   "source": [
    "data = data[(data['total_outstanding_orders'] >=0) & (data['total_onshift_dashers'] >= 0)]\n",
    "# Visualization of different cities\n",
    "#grouped = data[['market_id', 'target']].groupby('city_name').mean().reset_index()\n",
    "fig, ax = plt.subplots(nrows=2, ncols=3, figsize=(18, 12))\n",
    "sns.countplot(x='market_id', data=data, ax=ax[0][0])\n",
    "ax[0][0].set_title('Order Count of market_id', fontsize=16)\n",
    "#ax[0].set_yscale('log')\n",
    "#sns.boxplot(x='market_id', y='target', data=data, ax=ax[0][1]);\n",
    "#ax[0][1].set_title('Mean delivery time per market_id', fontsize=16)\n",
    "grouped = data[['market_id', 'store_id']].groupby('market_id')['store_id'].nunique().reset_index()\n",
    "sns.barplot(x='market_id', y='store_id', data=grouped, ax=ax[0][1]);\n",
    "ax[0][1].set_title('restaurant count per market_id', fontsize=16)\n",
    "grouped = data[['market_id', 'store_id']].groupby('market_id')['store_id'].nunique().reset_index()\n",
    "grouped2 = data[['market_id', 'created_at']].groupby('market_id')['created_at'].count().reset_index()\n",
    "gt = grouped.merge(grouped2, on='market_id')\n",
    "gt['orders_per_store'] = gt['created_at'] / gt['store_id']\n",
    "sns.barplot(x='market_id', y='orders_per_store', data=gt, ax=ax[0][2]);\n",
    "ax[0][2].set_title('orders per store per market_id', fontsize=16)\n",
    "sns.boxplot(x='market_id', y='total_outstanding_orders', data=data, ax=ax[1][0]);\n",
    "ax[1][0].set_title('outstanding order per market_id', fontsize=16)\n",
    "sns.boxplot(x='market_id', y='total_onshift_dashers', data=data, ax=ax[1][1]);\n",
    "ax[1][1].set_title('total_onshift_dashers per market_id', fontsize=16)\n",
    "sns.boxplot(x='market_id', y='total_busy_dashers', data=data, ax=ax[1][2]);\n",
    "ax[1][2].set_title('total_busy_dashers per market_id', fontsize=16)\n",
    "#sns.boxplot(x='market_id', y='estimated_store_to_consumer_driving_duration', data=data, ax=ax[3][1]);\n",
    "#ax[3][1].set_title('Mean estimated_store_to_consumer_driving_duration per market_id', fontsize=16)\n",
    "plt.tight_layout()\n",
    "plt.show()"
   ]
  },
  {
   "cell_type": "code",
   "execution_count": 86,
   "metadata": {},
   "outputs": [
    {
     "data": {
      "image/png": "[encoded data removed]",
      "text/plain": [
       "<Figure size 1080x720 with 5 Axes>"
      ]
     },
     "metadata": {
      "needs_background": "light"
     },
     "output_type": "display_data"
    }
   ],
   "source": [
    "data_clean = data[(data['total_outstanding_orders'] >=0) & (data['total_onshift_dashers'] >= 0)]\n",
    "fig, axes, summary_df = info_plots.target_plot_interact(\n",
    "    df=data_clean, features=['total_outstanding_orders', 'total_onshift_dashers'], feature_names=['total_outstanding_orders', 'total_onshift_dashers'], target='target'\n",
    ")"
   ]
  },
  {
   "cell_type": "code",
   "execution_count": 87,
   "metadata": {},
   "outputs": [
    {
     "data": {
      "image/png": "[encoded data removed]",
      "text/plain": [
       "<Figure size 1080x648 with 4 Axes>"
      ]
     },
     "metadata": {
      "needs_background": "light"
     },
     "output_type": "display_data"
    }
   ],
   "source": [
    "fig, axes, summary_df = info_plots.target_plot(\n",
    "    df=data_clean, feature='subtotal', feature_name='subtotal', target='target', show_percentile=True\n",
    ")"
   ]
  }
 ],
 "metadata": {
  "kernelspec": {
   "display_name": "Python 3",
   "language": "python",
   "name": "python3"
  },
  "language_info": {
   "codemirror_mode": {
    "name": "ipython",
    "version": 3
   },
   "file_extension": ".py",
   "mimetype": "text/x-python",
   "name": "python",
   "nbconvert_exporter": "python",
   "pygments_lexer": "ipython3",
   "version": "3.7.4"
  }
 },
 "nbformat": 4,
 "nbformat_minor": 2
}
