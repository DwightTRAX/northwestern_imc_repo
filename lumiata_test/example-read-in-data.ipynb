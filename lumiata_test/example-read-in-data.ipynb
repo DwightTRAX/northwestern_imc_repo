{
 "cells": [
  {
   "cell_type": "markdown",
   "metadata": {},
   "source": [
    "# Lumiata Data Science take-home assignment\n",
    "\n",
    "## This notebook is structured in two parts\n",
    "###   - The first portion is exploration of the data\n",
    "###    - The second portion is where to put your code"
   ]
  },
  {
   "cell_type": "markdown",
   "metadata": {},
   "source": [
    "# Explore the structure of the data first"
   ]
  },
  {
   "cell_type": "markdown",
   "metadata": {},
   "source": [
    "## Read in train.txt data"
   ]
  },
  {
   "cell_type": "code",
   "execution_count": 1,
   "metadata": {},
   "outputs": [],
   "source": [
    "import json\n",
    "from pprint import pprint\n",
    "\n",
    "ls = []\n",
    "with open('train.txt') as f:\n",
    "    for line in f:\n",
    "        ls.append(json.loads(line))"
   ]
  },
  {
   "cell_type": "markdown",
   "metadata": {},
   "source": [
    "## Show structure of each patient json\n",
    "### (key_name, type_of_value_associated_to_key)"
   ]
  },
  {
   "cell_type": "code",
   "execution_count": 2,
   "metadata": {},
   "outputs": [
    {
     "name": "stdout",
     "output_type": "stream",
     "text": [
      "<zip object at 0x1c58efc30>\n"
     ]
    }
   ],
   "source": [
    "pprint(zip(ls[0].keys(), [type(ls[0][x]) for x in ls[0].keys()]))"
   ]
  },
  {
   "cell_type": "markdown",
   "metadata": {},
   "source": [
    "## Display patient json"
   ]
  },
  {
   "cell_type": "code",
   "execution_count": 3,
   "metadata": {
    "scrolled": true
   },
   "outputs": [
    {
     "name": "stdout",
     "output_type": "stream",
     "text": [
      "{'bday': '1959-10-10',\n",
      " 'is_male': False,\n",
      " 'observations': {'2014-05-21': [{'code': 'loinc_24111-7',\n",
      "                                  'interpretation': None,\n",
      "                                  'value': None},\n",
      "                                 {'code': 'loinc_6356-0',\n",
      "                                  'interpretation': None,\n",
      "                                  'value': None}],\n",
      "                  '2014-10-30': [{'code': 'loinc_20405-7',\n",
      "                                  'interpretation': 'L',\n",
      "                                  'value': '0.0'},\n",
      "                                 {'code': 'loinc_21000-5',\n",
      "                                  'interpretation': 'N',\n",
      "                                  'value': '13.0'},\n",
      "                                 {'code': 'loinc_2514-8',\n",
      "                                  'interpretation': None,\n",
      "                                  'value': None},\n",
      "                                 {'code': 'loinc_25428-4',\n",
      "                                  'interpretation': None,\n",
      "                                  'value': None},\n",
      "                                 {'code': 'loinc_26444-0',\n",
      "                                  'interpretation': 'N',\n",
      "                                  'value': '1.0'},\n",
      "                                 {'code': 'loinc_26449-9',\n",
      "                                  'interpretation': 'H',\n",
      "                                  'value': '5.0'},\n",
      "                                 {'code': 'loinc_26474-7',\n",
      "                                  'interpretation': 'N',\n",
      "                                  'value': '32.0'},\n",
      "                                 {'code': 'loinc_26484-6',\n",
      "                                  'interpretation': 'H',\n",
      "                                  'value': '9.0'},\n",
      "                                 {'code': 'loinc_28539-5',\n",
      "                                  'interpretation': 'N',\n",
      "                                  'value': '31.0'},\n",
      "                                 {'code': 'loinc_30451-9',\n",
      "                                  'interpretation': None,\n",
      "                                  'value': '51.0'},\n",
      "                                 {'code': 'loinc_32167-9',\n",
      "                                  'interpretation': None,\n",
      "                                  'value': None},\n",
      "                                 {'code': 'loinc_32623-1',\n",
      "                                  'interpretation': 'N',\n",
      "                                  'value': '9.0'},\n",
      "                                 {'code': 'loinc_32776-7',\n",
      "                                  'interpretation': 'N',\n",
      "                                  'value': None},\n",
      "                                 {'code': 'loinc_33825-1',\n",
      "                                  'interpretation': None,\n",
      "                                  'value': None},\n",
      "                                 {'code': 'loinc_4544-3',\n",
      "                                  'interpretation': 'L',\n",
      "                                  'value': '34.0'},\n",
      "                                 {'code': 'loinc_49754-5',\n",
      "                                  'interpretation': None,\n",
      "                                  'value': None},\n",
      "                                 {'code': 'loinc_5770-3',\n",
      "                                  'interpretation': None,\n",
      "                                  'value': None},\n",
      "                                 {'code': 'loinc_5778-6',\n",
      "                                  'interpretation': None,\n",
      "                                  'value': None},\n",
      "                                 {'code': 'loinc_5794-3',\n",
      "                                  'interpretation': None,\n",
      "                                  'value': None},\n",
      "                                 {'code': 'loinc_5799-2',\n",
      "                                  'interpretation': None,\n",
      "                                  'value': None},\n",
      "                                 {'code': 'loinc_5802-4',\n",
      "                                  'interpretation': None,\n",
      "                                  'value': None},\n",
      "                                 {'code': 'loinc_5803-2',\n",
      "                                  'interpretation': None,\n",
      "                                  'value': '6.0'},\n",
      "                                 {'code': 'loinc_5804-0',\n",
      "                                  'interpretation': 'N',\n",
      "                                  'value': None},\n",
      "                                 {'code': 'loinc_5811-5',\n",
      "                                  'interpretation': None,\n",
      "                                  'value': '1.0'},\n",
      "                                 {'code': 'loinc_6690-2',\n",
      "                                  'interpretation': 'N',\n",
      "                                  'value': '5.0'},\n",
      "                                 {'code': 'loinc_718-7',\n",
      "                                  'interpretation': 'L',\n",
      "                                  'value': '11.0'},\n",
      "                                 {'code': 'loinc_777-3',\n",
      "                                  'interpretation': 'N',\n",
      "                                  'value': '220.0'},\n",
      "                                 {'code': 'loinc_786-4',\n",
      "                                  'interpretation': 'N',\n",
      "                                  'value': '33.0'},\n",
      "                                 {'code': 'loinc_787-2',\n",
      "                                  'interpretation': 'N',\n",
      "                                  'value': '91.0'},\n",
      "                                 {'code': 'loinc_789-8',\n",
      "                                  'interpretation': 'L',\n",
      "                                  'value': '3.0'}],\n",
      "                  '2014-11-13': [{'code': 'loinc_13457-7',\n",
      "                                  'interpretation': 'N',\n",
      "                                  'value': '82.0'},\n",
      "                                 {'code': 'loinc_1742-6',\n",
      "                                  'interpretation': 'N',\n",
      "                                  'value': '21.0'},\n",
      "                                 {'code': 'loinc_1751-7',\n",
      "                                  'interpretation': 'L',\n",
      "                                  'value': '3.0'},\n",
      "                                 {'code': 'loinc_1759-0',\n",
      "                                  'interpretation': 'N',\n",
      "                                  'value': '1.0'},\n",
      "                                 {'code': 'loinc_17861-6',\n",
      "                                  'interpretation': 'N',\n",
      "                                  'value': '9.0'},\n",
      "                                 {'code': 'loinc_1920-8',\n",
      "                                  'interpretation': 'N',\n",
      "                                  'value': '18.0'},\n",
      "                                 {'code': 'loinc_1975-2',\n",
      "                                  'interpretation': 'L',\n",
      "                                  'value': '0.0'},\n",
      "                                 {'code': 'loinc_1989-3',\n",
      "                                  'interpretation': 'N',\n",
      "                                  'value': '43.0'},\n",
      "                                 {'code': 'loinc_2028-9',\n",
      "                                  'interpretation': 'N',\n",
      "                                  'value': '29.0'},\n",
      "                                 {'code': 'loinc_2075-0',\n",
      "                                  'interpretation': 'N',\n",
      "                                  'value': '105.0'},\n",
      "                                 {'code': 'loinc_2085-9',\n",
      "                                  'interpretation': 'N',\n",
      "                                  'value': '61.0'},\n",
      "                                 {'code': 'loinc_2093-3',\n",
      "                                  'interpretation': 'N',\n",
      "                                  'value': '156.0'},\n",
      "                                 {'code': 'loinc_2160-0',\n",
      "                                  'interpretation': 'L',\n",
      "                                  'value': '0.0'},\n",
      "                                 {'code': 'loinc_2276-4',\n",
      "                                  'interpretation': 'N',\n",
      "                                  'value': '24.0'},\n",
      "                                 {'code': 'loinc_2345-7',\n",
      "                                  'interpretation': 'N',\n",
      "                                  'value': '72.0'},\n",
      "                                 {'code': 'loinc_2498-4',\n",
      "                                  'interpretation': 'N',\n",
      "                                  'value': '65.0'},\n",
      "                                 {'code': 'loinc_2500-7',\n",
      "                                  'interpretation': 'N',\n",
      "                                  'value': '318.0'},\n",
      "                                 {'code': 'loinc_2571-8',\n",
      "                                  'interpretation': 'N',\n",
      "                                  'value': '66.0'},\n",
      "                                 {'code': 'loinc_2823-3',\n",
      "                                  'interpretation': 'N',\n",
      "                                  'value': '4.0'},\n",
      "                                 {'code': 'loinc_2885-2',\n",
      "                                  'interpretation': 'N',\n",
      "                                  'value': '7.0'},\n",
      "                                 {'code': 'loinc_2951-2',\n",
      "                                  'interpretation': 'N',\n",
      "                                  'value': '141.0'},\n",
      "                                 {'code': 'loinc_3016-3',\n",
      "                                  'interpretation': 'N',\n",
      "                                  'value': '1.0'},\n",
      "                                 {'code': 'loinc_3094-0',\n",
      "                                  'interpretation': 'N',\n",
      "                                  'value': '14.0'},\n",
      "                                 {'code': 'loinc_33037-3',\n",
      "                                  'interpretation': 'N',\n",
      "                                  'value': '7.0'},\n",
      "                                 {'code': 'loinc_33914-3',\n",
      "                                  'interpretation': None,\n",
      "                                  'value': '79.0'},\n",
      "                                 {'code': 'loinc_44734-2',\n",
      "                                  'interpretation': 'N',\n",
      "                                  'value': '17.0'},\n",
      "                                 {'code': 'loinc_6768-6',\n",
      "                                  'interpretation': 'N',\n",
      "                                  'value': '89.0'},\n",
      "                                 {'code': 'loinc_9830-1',\n",
      "                                  'interpretation': 'L',\n",
      "                                  'value': '2.0'}]},\n",
      " 'patient_id': 'pat_0',\n",
      " 'resources': {'2014-01-13': [],\n",
      "               '2014-02-18': [],\n",
      "               '2014-03-21': [],\n",
      "               '2014-04-30': [],\n",
      "               '2014-05-21': ['cpt_99213',\n",
      "                              'icd9_V85.23',\n",
      "                              'cpt_87210',\n",
      "                              'icd9_789.03',\n",
      "                              'cpt_87591',\n",
      "                              'cpt_87491',\n",
      "                              'icd9_616.10'],\n",
      "               '2014-06-05': [],\n",
      "               '2014-07-02': ['cpt_99213', 'icd9_789.03', 'icd9_278.02'],\n",
      "               '2014-07-10': ['cpt_72195', 'icd9_789.09'],\n",
      "               '2014-07-30': [],\n",
      "               '2014-08-06': ['cpt_73510', 'icd9_789.03', 'cpt_99213'],\n",
      "               '2014-08-20': ['icd9_564.00',\n",
      "                              'cpt_99213',\n",
      "                              'cpt_74000',\n",
      "                              'icd9_V85.1',\n",
      "                              'icd9_789.00'],\n",
      "               '2014-08-27': [],\n",
      "               '2014-09-06': ['cpt_76856',\n",
      "                              'icd9_789.03',\n",
      "                              'icd9_625.9',\n",
      "                              'cpt_76830',\n",
      "                              'cpt_73721',\n",
      "                              'icd9_719.05'],\n",
      "               '2014-09-17': ['icd9_V76.12', 'cpt_77057'],\n",
      "               '2014-09-20': ['icd9_727.9', 'cpt_99213'],\n",
      "               '2014-09-30': [],\n",
      "               '2014-10-01': ['cpt_97140',\n",
      "                              'icd9_719.45',\n",
      "                              'cpt_97110',\n",
      "                              'cpt_97001'],\n",
      "               '2014-10-07': ['cpt_97140', 'icd9_719.45', 'cpt_97110'],\n",
      "               '2014-10-08': ['cpt_97140', 'icd9_719.45', 'cpt_97110'],\n",
      "               '2014-10-14': ['cpt_97140', 'icd9_719.45', 'cpt_97110'],\n",
      "               '2014-10-15': ['icd9_719.45', 'cpt_97110'],\n",
      "               '2014-10-30': ['icd9_780.79',\n",
      "                              'icd9_V72.31',\n",
      "                              'cpt_97110',\n",
      "                              'cpt_81003',\n",
      "                              'icd9_V49.81',\n",
      "                              'cpt_81001',\n",
      "                              'cpt_85025',\n",
      "                              'icd9_719.45',\n",
      "                              'cpt_77080',\n",
      "                              'icd9_599.72'],\n",
      "               '2014-11-13': ['cpt_83540',\n",
      "                              'cpt_83550',\n",
      "                              'cpt_80053',\n",
      "                              'cpt_82728',\n",
      "                              'icd9_V72.31',\n",
      "                              'cpt_82306',\n",
      "                              'cpt_77080',\n",
      "                              'cpt_84443',\n",
      "                              'icd9_733.90',\n",
      "                              'cpt_80061'],\n",
      "               '2014-12-02': [],\n",
      "               '2014-12-23': ['cpt_73610', 'icd9_719.47', 'cpt_99213'],\n",
      "               '2014-12-30': [],\n",
      "               '2015-01-20': ['icd9_715.97',\n",
      "                              'icd9_796.2',\n",
      "                              'cpt_73590',\n",
      "                              'icd9_719.47',\n",
      "                              'cpt_99213',\n",
      "                              'cpt_L1902'],\n",
      "               '2015-01-21': [],\n",
      "               '2015-01-28': [],\n",
      "               '2015-02-24': [],\n",
      "               '2015-02-26': [],\n",
      "               '2015-03-22': [],\n",
      "               '2015-04-08': [],\n",
      "               '2015-04-19': [],\n",
      "               '2015-05-16': [],\n",
      "               '2015-06-11': [],\n",
      "               '2015-06-16': [],\n",
      "               '2015-07-07': ['icd9_733.99',\n",
      "                              'icd9_729.5',\n",
      "                              'cpt_73630',\n",
      "                              'cpt_99213',\n",
      "                              'icd9_703.0'],\n",
      "               '2015-07-15': [],\n",
      "               '2015-08-13': [],\n",
      "               '2015-08-14': [],\n",
      "               '2015-09-12': [],\n",
      "               '2015-09-18': ['cpt_99213',\n",
      "                              'icd9_V85.22',\n",
      "                              'icd9_278.02',\n",
      "                              'icd9_700'],\n",
      "               '2015-09-19': [],\n",
      "               '2015-10-02': ['icd9_V76.12', 'cpt_77057'],\n",
      "               '2015-10-14': [],\n",
      "               '2015-10-30': [],\n",
      "               '2015-11-05': ['cpt_73620',\n",
      "                              'cpt_99213',\n",
      "                              'icd10_L84',\n",
      "                              'cpt_11055'],\n",
      "               '2015-11-11': [],\n",
      "               '2015-12-11': [],\n",
      "               '2016-01-10': [],\n",
      "               '2016-01-14': [],\n",
      "               '2016-01-20': ['icd10_L57.0',\n",
      "                              'cpt_99213',\n",
      "                              'icd10_L84',\n",
      "                              'cpt_17000'],\n",
      "               '2016-01-21': [],\n",
      "               '2016-02-11': [],\n",
      "               '2016-03-10': [],\n",
      "               '2016-03-14': [],\n",
      "               '2016-04-07': [],\n",
      "               '2016-04-13': ['icd10_J40', 'cpt_87804', 'cpt_99213'],\n",
      "               '2016-04-17': ['icd10_R30.0', 'cpt_99213'],\n",
      "               '2016-05-06': [],\n",
      "               '2016-06-08': [],\n",
      "               '2016-07-06': [],\n",
      "               '2016-07-13': [],\n",
      "               '2016-08-04': [],\n",
      "               '2016-08-10': [],\n",
      "               '2016-09-01': [],\n",
      "               '2016-09-06': [],\n",
      "               '2016-10-01': [],\n",
      "               '2016-10-29': [],\n",
      "               '2016-11-26': [],\n",
      "               '2016-12-14': [],\n",
      "               '2016-12-24': [],\n",
      "               '2017-01-07': [],\n",
      "               '2017-01-21': [],\n",
      "               '2017-02-21': [],\n",
      "               '2017-03-26': [],\n",
      "               '2017-04-07': ['cpt_92133', 'icd10_H40.003', 'cpt_92083'],\n",
      "               '2017-04-28': [],\n",
      "               '2017-05-11': ['icd10_F41.1', 'cpt_99213'],\n",
      "               '2017-06-10': [],\n",
      "               '2017-06-23': ['icd10_Z12.31'],\n",
      "               '2017-07-02': [],\n",
      "               '2017-08-07': [],\n",
      "               '2017-10-31': []},\n",
      " 'split': 'train',\n",
      " 'tag_dm2': ''}\n"
     ]
    }
   ],
   "source": [
    "pprint(ls[0])"
   ]
  },
  {
   "cell_type": "markdown",
   "metadata": {},
   "source": [
    "## Show 'resources' key"
   ]
  },
  {
   "cell_type": "code",
   "execution_count": 4,
   "metadata": {},
   "outputs": [
    {
     "name": "stdout",
     "output_type": "stream",
     "text": [
      "{'2014-01-13': [],\n",
      " '2014-02-18': [],\n",
      " '2014-03-21': [],\n",
      " '2014-04-30': [],\n",
      " '2014-05-21': ['cpt_99213',\n",
      "                'icd9_V85.23',\n",
      "                'cpt_87210',\n",
      "                'icd9_789.03',\n",
      "                'cpt_87591',\n",
      "                'cpt_87491',\n",
      "                'icd9_616.10'],\n",
      " '2014-06-05': [],\n",
      " '2014-07-02': ['cpt_99213', 'icd9_789.03', 'icd9_278.02'],\n",
      " '2014-07-10': ['cpt_72195', 'icd9_789.09'],\n",
      " '2014-07-30': [],\n",
      " '2014-08-06': ['cpt_73510', 'icd9_789.03', 'cpt_99213'],\n",
      " '2014-08-20': ['icd9_564.00',\n",
      "                'cpt_99213',\n",
      "                'cpt_74000',\n",
      "                'icd9_V85.1',\n",
      "                'icd9_789.00'],\n",
      " '2014-08-27': [],\n",
      " '2014-09-06': ['cpt_76856',\n",
      "                'icd9_789.03',\n",
      "                'icd9_625.9',\n",
      "                'cpt_76830',\n",
      "                'cpt_73721',\n",
      "                'icd9_719.05'],\n",
      " '2014-09-17': ['icd9_V76.12', 'cpt_77057'],\n",
      " '2014-09-20': ['icd9_727.9', 'cpt_99213'],\n",
      " '2014-09-30': [],\n",
      " '2014-10-01': ['cpt_97140', 'icd9_719.45', 'cpt_97110', 'cpt_97001'],\n",
      " '2014-10-07': ['cpt_97140', 'icd9_719.45', 'cpt_97110'],\n",
      " '2014-10-08': ['cpt_97140', 'icd9_719.45', 'cpt_97110'],\n",
      " '2014-10-14': ['cpt_97140', 'icd9_719.45', 'cpt_97110'],\n",
      " '2014-10-15': ['icd9_719.45', 'cpt_97110'],\n",
      " '2014-10-30': ['icd9_780.79',\n",
      "                'icd9_V72.31',\n",
      "                'cpt_97110',\n",
      "                'cpt_81003',\n",
      "                'icd9_V49.81',\n",
      "                'cpt_81001',\n",
      "                'cpt_85025',\n",
      "                'icd9_719.45',\n",
      "                'cpt_77080',\n",
      "                'icd9_599.72'],\n",
      " '2014-11-13': ['cpt_83540',\n",
      "                'cpt_83550',\n",
      "                'cpt_80053',\n",
      "                'cpt_82728',\n",
      "                'icd9_V72.31',\n",
      "                'cpt_82306',\n",
      "                'cpt_77080',\n",
      "                'cpt_84443',\n",
      "                'icd9_733.90',\n",
      "                'cpt_80061'],\n",
      " '2014-12-02': [],\n",
      " '2014-12-23': ['cpt_73610', 'icd9_719.47', 'cpt_99213'],\n",
      " '2014-12-30': [],\n",
      " '2015-01-20': ['icd9_715.97',\n",
      "                'icd9_796.2',\n",
      "                'cpt_73590',\n",
      "                'icd9_719.47',\n",
      "                'cpt_99213',\n",
      "                'cpt_L1902'],\n",
      " '2015-01-21': [],\n",
      " '2015-01-28': [],\n",
      " '2015-02-24': [],\n",
      " '2015-02-26': [],\n",
      " '2015-03-22': [],\n",
      " '2015-04-08': [],\n",
      " '2015-04-19': [],\n",
      " '2015-05-16': [],\n",
      " '2015-06-11': [],\n",
      " '2015-06-16': [],\n",
      " '2015-07-07': ['icd9_733.99',\n",
      "                'icd9_729.5',\n",
      "                'cpt_73630',\n",
      "                'cpt_99213',\n",
      "                'icd9_703.0'],\n",
      " '2015-07-15': [],\n",
      " '2015-08-13': [],\n",
      " '2015-08-14': [],\n",
      " '2015-09-12': [],\n",
      " '2015-09-18': ['cpt_99213', 'icd9_V85.22', 'icd9_278.02', 'icd9_700'],\n",
      " '2015-09-19': [],\n",
      " '2015-10-02': ['icd9_V76.12', 'cpt_77057'],\n",
      " '2015-10-14': [],\n",
      " '2015-10-30': [],\n",
      " '2015-11-05': ['cpt_73620', 'cpt_99213', 'icd10_L84', 'cpt_11055'],\n",
      " '2015-11-11': [],\n",
      " '2015-12-11': [],\n",
      " '2016-01-10': [],\n",
      " '2016-01-14': [],\n",
      " '2016-01-20': ['icd10_L57.0', 'cpt_99213', 'icd10_L84', 'cpt_17000'],\n",
      " '2016-01-21': [],\n",
      " '2016-02-11': [],\n",
      " '2016-03-10': [],\n",
      " '2016-03-14': [],\n",
      " '2016-04-07': [],\n",
      " '2016-04-13': ['icd10_J40', 'cpt_87804', 'cpt_99213'],\n",
      " '2016-04-17': ['icd10_R30.0', 'cpt_99213'],\n",
      " '2016-05-06': [],\n",
      " '2016-06-08': [],\n",
      " '2016-07-06': [],\n",
      " '2016-07-13': [],\n",
      " '2016-08-04': [],\n",
      " '2016-08-10': [],\n",
      " '2016-09-01': [],\n",
      " '2016-09-06': [],\n",
      " '2016-10-01': [],\n",
      " '2016-10-29': [],\n",
      " '2016-11-26': [],\n",
      " '2016-12-14': [],\n",
      " '2016-12-24': [],\n",
      " '2017-01-07': [],\n",
      " '2017-01-21': [],\n",
      " '2017-02-21': [],\n",
      " '2017-03-26': [],\n",
      " '2017-04-07': ['cpt_92133', 'icd10_H40.003', 'cpt_92083'],\n",
      " '2017-04-28': [],\n",
      " '2017-05-11': ['icd10_F41.1', 'cpt_99213'],\n",
      " '2017-06-10': [],\n",
      " '2017-06-23': ['icd10_Z12.31'],\n",
      " '2017-07-02': [],\n",
      " '2017-08-07': [],\n",
      " '2017-10-31': []}\n"
     ]
    }
   ],
   "source": [
    "pprint(ls[0]['resources'])"
   ]
  },
  {
   "cell_type": "markdown",
   "metadata": {},
   "source": [
    "## Show 'observations' key"
   ]
  },
  {
   "cell_type": "code",
   "execution_count": 5,
   "metadata": {},
   "outputs": [
    {
     "name": "stdout",
     "output_type": "stream",
     "text": [
      "{'2014-05-21': [{'code': 'loinc_24111-7',\n",
      "                 'interpretation': None,\n",
      "                 'value': None},\n",
      "                {'code': 'loinc_6356-0',\n",
      "                 'interpretation': None,\n",
      "                 'value': None}],\n",
      " '2014-10-30': [{'code': 'loinc_20405-7',\n",
      "                 'interpretation': 'L',\n",
      "                 'value': '0.0'},\n",
      "                {'code': 'loinc_21000-5',\n",
      "                 'interpretation': 'N',\n",
      "                 'value': '13.0'},\n",
      "                {'code': 'loinc_2514-8', 'interpretation': None, 'value': None},\n",
      "                {'code': 'loinc_25428-4',\n",
      "                 'interpretation': None,\n",
      "                 'value': None},\n",
      "                {'code': 'loinc_26444-0',\n",
      "                 'interpretation': 'N',\n",
      "                 'value': '1.0'},\n",
      "                {'code': 'loinc_26449-9',\n",
      "                 'interpretation': 'H',\n",
      "                 'value': '5.0'},\n",
      "                {'code': 'loinc_26474-7',\n",
      "                 'interpretation': 'N',\n",
      "                 'value': '32.0'},\n",
      "                {'code': 'loinc_26484-6',\n",
      "                 'interpretation': 'H',\n",
      "                 'value': '9.0'},\n",
      "                {'code': 'loinc_28539-5',\n",
      "                 'interpretation': 'N',\n",
      "                 'value': '31.0'},\n",
      "                {'code': 'loinc_30451-9',\n",
      "                 'interpretation': None,\n",
      "                 'value': '51.0'},\n",
      "                {'code': 'loinc_32167-9',\n",
      "                 'interpretation': None,\n",
      "                 'value': None},\n",
      "                {'code': 'loinc_32623-1',\n",
      "                 'interpretation': 'N',\n",
      "                 'value': '9.0'},\n",
      "                {'code': 'loinc_32776-7', 'interpretation': 'N', 'value': None},\n",
      "                {'code': 'loinc_33825-1',\n",
      "                 'interpretation': None,\n",
      "                 'value': None},\n",
      "                {'code': 'loinc_4544-3',\n",
      "                 'interpretation': 'L',\n",
      "                 'value': '34.0'},\n",
      "                {'code': 'loinc_49754-5',\n",
      "                 'interpretation': None,\n",
      "                 'value': None},\n",
      "                {'code': 'loinc_5770-3', 'interpretation': None, 'value': None},\n",
      "                {'code': 'loinc_5778-6', 'interpretation': None, 'value': None},\n",
      "                {'code': 'loinc_5794-3', 'interpretation': None, 'value': None},\n",
      "                {'code': 'loinc_5799-2', 'interpretation': None, 'value': None},\n",
      "                {'code': 'loinc_5802-4', 'interpretation': None, 'value': None},\n",
      "                {'code': 'loinc_5803-2',\n",
      "                 'interpretation': None,\n",
      "                 'value': '6.0'},\n",
      "                {'code': 'loinc_5804-0', 'interpretation': 'N', 'value': None},\n",
      "                {'code': 'loinc_5811-5',\n",
      "                 'interpretation': None,\n",
      "                 'value': '1.0'},\n",
      "                {'code': 'loinc_6690-2', 'interpretation': 'N', 'value': '5.0'},\n",
      "                {'code': 'loinc_718-7', 'interpretation': 'L', 'value': '11.0'},\n",
      "                {'code': 'loinc_777-3',\n",
      "                 'interpretation': 'N',\n",
      "                 'value': '220.0'},\n",
      "                {'code': 'loinc_786-4', 'interpretation': 'N', 'value': '33.0'},\n",
      "                {'code': 'loinc_787-2', 'interpretation': 'N', 'value': '91.0'},\n",
      "                {'code': 'loinc_789-8', 'interpretation': 'L', 'value': '3.0'}],\n",
      " '2014-11-13': [{'code': 'loinc_13457-7',\n",
      "                 'interpretation': 'N',\n",
      "                 'value': '82.0'},\n",
      "                {'code': 'loinc_1742-6',\n",
      "                 'interpretation': 'N',\n",
      "                 'value': '21.0'},\n",
      "                {'code': 'loinc_1751-7', 'interpretation': 'L', 'value': '3.0'},\n",
      "                {'code': 'loinc_1759-0', 'interpretation': 'N', 'value': '1.0'},\n",
      "                {'code': 'loinc_17861-6',\n",
      "                 'interpretation': 'N',\n",
      "                 'value': '9.0'},\n",
      "                {'code': 'loinc_1920-8',\n",
      "                 'interpretation': 'N',\n",
      "                 'value': '18.0'},\n",
      "                {'code': 'loinc_1975-2', 'interpretation': 'L', 'value': '0.0'},\n",
      "                {'code': 'loinc_1989-3',\n",
      "                 'interpretation': 'N',\n",
      "                 'value': '43.0'},\n",
      "                {'code': 'loinc_2028-9',\n",
      "                 'interpretation': 'N',\n",
      "                 'value': '29.0'},\n",
      "                {'code': 'loinc_2075-0',\n",
      "                 'interpretation': 'N',\n",
      "                 'value': '105.0'},\n",
      "                {'code': 'loinc_2085-9',\n",
      "                 'interpretation': 'N',\n",
      "                 'value': '61.0'},\n",
      "                {'code': 'loinc_2093-3',\n",
      "                 'interpretation': 'N',\n",
      "                 'value': '156.0'},\n",
      "                {'code': 'loinc_2160-0', 'interpretation': 'L', 'value': '0.0'},\n",
      "                {'code': 'loinc_2276-4',\n",
      "                 'interpretation': 'N',\n",
      "                 'value': '24.0'},\n",
      "                {'code': 'loinc_2345-7',\n",
      "                 'interpretation': 'N',\n",
      "                 'value': '72.0'},\n",
      "                {'code': 'loinc_2498-4',\n",
      "                 'interpretation': 'N',\n",
      "                 'value': '65.0'},\n",
      "                {'code': 'loinc_2500-7',\n",
      "                 'interpretation': 'N',\n",
      "                 'value': '318.0'},\n",
      "                {'code': 'loinc_2571-8',\n",
      "                 'interpretation': 'N',\n",
      "                 'value': '66.0'},\n",
      "                {'code': 'loinc_2823-3', 'interpretation': 'N', 'value': '4.0'},\n",
      "                {'code': 'loinc_2885-2', 'interpretation': 'N', 'value': '7.0'},\n",
      "                {'code': 'loinc_2951-2',\n",
      "                 'interpretation': 'N',\n",
      "                 'value': '141.0'},\n",
      "                {'code': 'loinc_3016-3', 'interpretation': 'N', 'value': '1.0'},\n",
      "                {'code': 'loinc_3094-0',\n",
      "                 'interpretation': 'N',\n",
      "                 'value': '14.0'},\n",
      "                {'code': 'loinc_33037-3',\n",
      "                 'interpretation': 'N',\n",
      "                 'value': '7.0'},\n",
      "                {'code': 'loinc_33914-3',\n",
      "                 'interpretation': None,\n",
      "                 'value': '79.0'},\n",
      "                {'code': 'loinc_44734-2',\n",
      "                 'interpretation': 'N',\n",
      "                 'value': '17.0'},\n",
      "                {'code': 'loinc_6768-6',\n",
      "                 'interpretation': 'N',\n",
      "                 'value': '89.0'},\n",
      "                {'code': 'loinc_9830-1',\n",
      "                 'interpretation': 'L',\n",
      "                 'value': '2.0'}]}\n"
     ]
    }
   ],
   "source": [
    "pprint(ls[0]['observations'])"
   ]
  },
  {
   "cell_type": "markdown",
   "metadata": {},
   "source": [
    "# Fill your code below this line"
   ]
  },
  {
   "cell_type": "markdown",
   "metadata": {},
   "source": [
    "## 1. Experimental setup/design"
   ]
  },
  {
   "cell_type": "markdown",
   "metadata": {},
   "source": [
    "## we try to build up a prediction model with a dataset.\n",
    "### 1. it's a binary classification. It already gives me some sense that we could try logistic regression as baseline. Diabetes prediction (Yes/No)\n",
    "### 2. It has big chance that the datasets is imbalance therefore I keep in mind, bossting algorithm would be a good choice instead of logit model.\n",
    "### 3. Because this problem would be more like a detection rather than classification, Precision/Recall would be a suitable metrics at the first glance.\n",
    "### My workflow would be\n",
    "### (A) Process data into a format, defining features (feature extraction will be dicussed in the second part) and target variables.\n",
    "###  (B) model buidling and tuning\n",
    "###  (C) feature importance and interpretation                    "
   ]
  },
  {
   "cell_type": "markdown",
   "metadata": {},
   "source": [
    "## 2. Feature design/feature selection"
   ]
  },
  {
   "cell_type": "code",
   "execution_count": 6,
   "metadata": {},
   "outputs": [],
   "source": [
    "## We should understand the data euther in technical aspect like structure, data type, variation\n",
    "## or in the meaning, what's the specification, mapping code,etc.\n",
    "## In brief 1. demorgraphic: gender, birthday which we can convert into age 2.recources 3. observations\n",
    "## for resources and observation, I'd like to apply marketing customer segments framework RFM into this feature engineering.\n",
    "### R: Recency: when is the last time the patient did something, we create recency which is how many days between today and the last time the patient, and it's health performance \n",
    "### F: Frequency: How many times the patient went to hospital. How days between the first time visit and last time visit\n",
    "### M: Monetary: What's the average health performance during the first time visit and lat time visit?\n",
    "### More granular feature: medical code mapping, once I tried to build up a model, one of the top influnetial features is ICD10, therefore, I choose ICD10 and make a mapping, all of the value are startinug with from A-Z,\n",
    "### therefore I create a icdTenMapping class method.\n",
    "### In order to keep the mssing, some missing value seems to be not random, \n",
    "###for eg, some patients probably went to a hospital but for certian reasons, the health record is missing. most of the time, missing record is not random, therefore I imputed the data with missing features."
   ]
  },
  {
   "cell_type": "code",
   "execution_count": 7,
   "metadata": {},
   "outputs": [
    {
     "name": "stdout",
     "output_type": "stream",
     "text": [
      "{'cpt', 'icd10', 'hcpcs', 'icd9'}\n"
     ]
    }
   ],
   "source": [
    "from collections import defaultdict\n",
    "d = defaultdict(list)\n",
    "disease = set()\n",
    "for feature in ls:        \n",
    "    for resource in feature['resources']:\n",
    "        for item in feature['resources'][resource]:      \n",
    "            disease.add(item.split('_')[0])\n",
    "            d[item.split('_')[0]].append(item.split('_')[1])\n",
    "print(disease)"
   ]
  },
  {
   "cell_type": "code",
   "execution_count": 8,
   "metadata": {},
   "outputs": [
    {
     "name": "stdout",
     "output_type": "stream",
     "text": [
      "create Train Data set\n",
      "Train json file generated and asved at same folder called processed_train_dataset.json\n",
      "create Test Data set\n",
      "Test json file generated and asved at same folder called processed_test_dataset.json\n"
     ]
    }
   ],
   "source": [
    "!python process_json.py"
   ]
  },
  {
   "cell_type": "code",
   "execution_count": 9,
   "metadata": {},
   "outputs": [
    {
     "name": "stderr",
     "output_type": "stream",
     "text": [
      "/Users/dwightliu/opt/anaconda3/lib/python3.7/site-packages/lightgbm/__init__.py:48: UserWarning: Starting from version 2.2.1, the library file in distribution wheels for macOS is built by the Apple Clang (Xcode_8.3.3) compiler.\n",
      "This means that in case of installing LightGBM from PyPI via the ``pip install lightgbm`` command, you don't need to install the gcc compiler anymore.\n",
      "Instead of that, you need to install the OpenMP library, which is required for running LightGBM on the system with the Apple Clang compiler.\n",
      "You can install the OpenMP library by the following command: ``brew install libomp``.\n",
      "  \"You can install the OpenMP library by the following command: ``brew install libomp``.\", UserWarning)\n"
     ]
    }
   ],
   "source": [
    "import json\n",
    "import numpy as np\n",
    "import pandas as pd\n",
    "from sklearn.feature_extraction import DictVectorizer\n",
    "from sklearn.metrics import classification_report\n",
    "import matplotlib.pyplot as plt\n",
    "import seaborn as sns\n",
    "from sklearn.metrics import average_precision_score\n",
    "from sklearn.metrics import roc_curve,precision_recall_curve\n",
    "from sklearn.model_selection import train_test_split,GridSearchCV\n",
    "from sklearn.feature_selection import SelectKBest, f_classif\n",
    "from lightgbm.sklearn import LGBMClassifier\n",
    "seed = 11"
   ]
  },
  {
   "cell_type": "markdown",
   "metadata": {},
   "source": [
    "## 3. Model selection/tuning"
   ]
  },
  {
   "cell_type": "markdown",
   "metadata": {},
   "source": [
    "### I'd like to try LGBM becaseu of some points.\n",
    "### 1. This datasets is imbalance datasets. therefore I choose boosting algo.Becasue this modeling is judge by the metrics 'precision-recall curve' and the area under it.\n",
    "### 2. I imputed with missing value and create lable. Tree model can better handle with nonlinear relationship and correlated features.\n",
    "### 3. Tree model will return feature importance and I can leverage them to conduct feature selection.\n",
    "### 4. tree model doesn't need feature scailing and not sensitive to outliers.\n",
    "## model paramater tuning:\n",
    "### LGBM complexity is controlled mainly by 'num_leaves', 'min_child_samples', and 'max_depth'. There are still other paramaters which controll like 'bagging_fraction', 'bagging_freq', 'feature_fraction'. But to be simple, we use 'num_leaves', 'min_child_samples', and 'max_depth'\n",
    "### the default value for 'num_leaves'= 31 'min_child_samples'= 20 and 'max_depth'= -1 (unlimited)"
   ]
  },
  {
   "cell_type": "code",
   "execution_count": 10,
   "metadata": {},
   "outputs": [],
   "source": [
    "def roc_pr_curve_plot(trained_model, X_train, y_train, X_test, y_test):\n",
    "    '''\n",
    "    A customized visualization hanlder\n",
    "    '''\n",
    "    fig = plt.figure(figsize=(15,8))\n",
    "    ax1 = fig.add_subplot(1,2,1)\n",
    "    ax1.set_xlim([-0.05,1.05])\n",
    "    ax1.set_ylim([-0.05,1.05])\n",
    "    ax1.set_xlabel('Recall')\n",
    "    ax1.set_ylabel('Precision')\n",
    "    ax1.set_title('PR Curve')\n",
    "\n",
    "    ax2 = fig.add_subplot(1,2,2)\n",
    "    ax2.set_xlim([-0.05,1.05])\n",
    "    ax2.set_ylim([-0.05,1.05])\n",
    "    ax2.set_xlabel('False Positive Rate')\n",
    "    ax2.set_ylabel('True Positive Rate')\n",
    "    ax2.set_title('ROC Curve')\n",
    "\n",
    "    pred_prob = trained_model.predict_proba(X_train)[:,1]\n",
    "\n",
    "    p_train,r_train,_ = precision_recall_curve(y_train,pred_prob)\n",
    "    tpr_train,fpr_train,_ = roc_curve(y_train,pred_prob) \n",
    "\n",
    "    ax1.plot(r_train,p_train,c='r',label='train')\n",
    "    ax2.plot(tpr_train,fpr_train,c='r',label='train')\n",
    "\n",
    "    pred_prob = trained_model.predict_proba(X_test)[:,1]\n",
    "\n",
    "    p_test,r_test,_ = precision_recall_curve(y_test,pred_prob)\n",
    "    tpr_test,fpr_test,_ = roc_curve(y_test,pred_prob) \n",
    "\n",
    "    ax1.plot(r_test,p_test,c='b',label='test')\n",
    "    ax2.plot(tpr_test,fpr_test,c='b',label='test')\n",
    "    ax1.legend(loc='lower left')    \n",
    "    ax2.legend(loc='lower left')\n",
    "    return fig"
   ]
  },
  {
   "cell_type": "code",
   "execution_count": 11,
   "metadata": {},
   "outputs": [],
   "source": [
    "# import processed json data (lists of dictionaries)\n",
    "with open('processed_train_dataset.json', 'r') as fp:\n",
    "    data = json.load(fp)"
   ]
  },
  {
   "cell_type": "code",
   "execution_count": 12,
   "metadata": {},
   "outputs": [],
   "source": [
    "# extract features and target variable\n",
    "features = data['features']\n",
    "y = np.array(data['target'])"
   ]
  },
  {
   "cell_type": "code",
   "execution_count": 13,
   "metadata": {},
   "outputs": [
    {
     "name": "stdout",
     "output_type": "stream",
     "text": [
      "feature space:  (73503, 57727)\n",
      "target space:  (73503,)\n"
     ]
    }
   ],
   "source": [
    "v = DictVectorizer()\n",
    "X = v.fit_transform(features)\n",
    "print('feature space: ',X.shape)\n",
    "print('target space: ',y.shape)"
   ]
  },
  {
   "cell_type": "markdown",
   "metadata": {},
   "source": [
    "# Train data split"
   ]
  },
  {
   "cell_type": "code",
   "execution_count": 14,
   "metadata": {},
   "outputs": [],
   "source": [
    "X_train, X_test, y_train, y_test = train_test_split(X, y, test_size=0.2, random_state=seed, stratify=y)"
   ]
  },
  {
   "cell_type": "code",
   "execution_count": 15,
   "metadata": {},
   "outputs": [
    {
     "data": {
      "text/plain": [
       "LGBMClassifier(boosting_type='gbdt', class_weight='balanced',\n",
       "               colsample_bytree=1.0, importance_type='split', learning_rate=0.1,\n",
       "               max_depth=-1, min_child_samples=20, min_child_weight=0.001,\n",
       "               min_split_gain=0.0, n_estimators=100, n_jobs=-1, num_leaves=31,\n",
       "               objective=None, random_state=11, reg_alpha=0.0, reg_lambda=0.0,\n",
       "               silent=True, subsample=1.0, subsample_for_bin=200000,\n",
       "               subsample_freq=0)"
      ]
     },
     "execution_count": 15,
     "metadata": {},
     "output_type": "execute_result"
    }
   ],
   "source": [
    "lgbm = LGBMClassifier(class_weight='balanced',random_state=seed)\n",
    "lgbm.fit(X_train,y_train)"
   ]
  },
  {
   "cell_type": "code",
   "execution_count": 16,
   "metadata": {},
   "outputs": [
    {
     "data": {
      "image/png": "[encoded data removed]",
      "text/plain": [
       "<Figure size 1080x576 with 2 Axes>"
      ]
     },
     "metadata": {
      "needs_background": "light"
     },
     "output_type": "display_data"
    }
   ],
   "source": [
    "fig = roc_pr_curve_plot(lgbm,X_train,y_train,X_test,y_test)"
   ]
  },
  {
   "cell_type": "markdown",
   "metadata": {},
   "source": [
    "### we can see that the training curve and testing curve didn't converge the model seems to overfit the data.\n",
    "### We can try to reduce the features\n",
    "### Here we used SelectKBest to do feature selection"
   ]
  },
  {
   "cell_type": "code",
   "execution_count": 17,
   "metadata": {},
   "outputs": [
    {
     "name": "stdout",
     "output_type": "stream",
     "text": [
      "500 0.17753734924101813\n",
      "1000 0.16780820824727946\n",
      "1500 0.1859834409575017\n",
      "2000 0.1859834409575017\n",
      "2500 0.1743410973083171\n"
     ]
    }
   ],
   "source": [
    "for k_cols in [500,1000,1500,2000,2500]:\n",
    "    selectors = SelectKBest(f_classif, k=k_cols).fit(X, y)\n",
    "    X_s = X[:,selectors.get_support()].copy()\n",
    "    X_train, X_test, y_train, y_test = train_test_split(X_s, y, test_size=0.2, random_state=seed, stratify=y)\n",
    "    lgbm = LGBMClassifier(class_weight='balanced',random_state=seed)\n",
    "    lgbm.fit(X_train,y_train)\n",
    "    pred = lgbm.predict_proba(X_test)[:,1]\n",
    "    print(k_cols,average_precision_score(y_test,pred))"
   ]
  },
  {
   "cell_type": "code",
   "execution_count": 18,
   "metadata": {},
   "outputs": [],
   "source": [
    "selectors = SelectKBest(f_classif, k=1500).fit(X, y)\n",
    "X_s = X[:, selectors.get_support()].copy()\n",
    "X_train, X_test, y_train, y_test = train_test_split(X_s, y, test_size=0.2, random_state=seed, stratify=y)"
   ]
  },
  {
   "cell_type": "code",
   "execution_count": 19,
   "metadata": {},
   "outputs": [
    {
     "data": {
      "text/plain": [
       "LGBMClassifier(boosting_type='gbdt', class_weight='balanced',\n",
       "               colsample_bytree=1.0, importance_type='split', learning_rate=0.1,\n",
       "               max_depth=-1, min_child_samples=20, min_child_weight=0.001,\n",
       "               min_split_gain=0.0, n_estimators=100, n_jobs=-1, num_leaves=31,\n",
       "               objective=None, random_state=11, reg_alpha=0.0, reg_lambda=0.0,\n",
       "               silent=True, subsample=1.0, subsample_for_bin=200000,\n",
       "               subsample_freq=0)"
      ]
     },
     "execution_count": 19,
     "metadata": {},
     "output_type": "execute_result"
    }
   ],
   "source": [
    "lgbm = LGBMClassifier(class_weight='balanced',random_state=seed)\n",
    "lgbm.fit(X_train,y_train)"
   ]
  },
  {
   "cell_type": "code",
   "execution_count": 20,
   "metadata": {},
   "outputs": [
    {
     "data": {
      "image/png": "[encoded data removed]",
      "text/plain": [
       "<Figure size 1080x576 with 2 Axes>"
      ]
     },
     "metadata": {
      "needs_background": "light"
     },
     "output_type": "display_data"
    }
   ],
   "source": [
    "fig = roc_pr_curve_plot(lgbm,X_train,y_train,X_test,y_test)"
   ]
  },
  {
   "cell_type": "code",
   "execution_count": 21,
   "metadata": {},
   "outputs": [
    {
     "name": "stdout",
     "output_type": "stream",
     "text": [
      "              precision    recall  f1-score   support\n",
      "\n",
      "           0       0.98      0.77      0.86     14019\n",
      "           1       0.12      0.63      0.20       682\n",
      "\n",
      "    accuracy                           0.76     14701\n",
      "   macro avg       0.55      0.70      0.53     14701\n",
      "weighted avg       0.94      0.76      0.83     14701\n",
      "\n",
      "average precision score:  0.1859834409575017\n"
     ]
    }
   ],
   "source": [
    "pred = lgbm.predict(X_test)\n",
    "print(classification_report(y_test,pred))\n",
    "pred = lgbm.predict_proba(X_test)[:,1]\n",
    "print('average precision score: ',average_precision_score(y_test,pred))"
   ]
  },
  {
   "cell_type": "markdown",
   "metadata": {},
   "source": [
    "### we can see that the training curve and testing curve still didn't converge the model still seems to overfit the data.\n",
    "### therefore we can start to tune paramaters from lowering num_leaves increasing min_child_samples, limiting max_depth"
   ]
  },
  {
   "cell_type": "code",
   "execution_count": 22,
   "metadata": {},
   "outputs": [
    {
     "data": {
      "text/plain": [
       "LGBMClassifier(boosting_type='gbdt', class_weight='balanced',\n",
       "               colsample_bytree=1.0, importance_type='split', learning_rate=0.1,\n",
       "               max_depth=5, min_child_samples=30, min_child_weight=0.001,\n",
       "               min_split_gain=0.0, n_estimators=100, n_jobs=-1, num_leaves=15,\n",
       "               objective=None, random_state=11, reg_alpha=0.0, reg_lambda=0.0,\n",
       "               silent=True, subsample=1.0, subsample_for_bin=200000,\n",
       "               subsample_freq=0)"
      ]
     },
     "execution_count": 22,
     "metadata": {},
     "output_type": "execute_result"
    }
   ],
   "source": [
    "cus_params = {'max_depth': 5, 'min_child_samples': 30, 'num_leaves': 15}\n",
    "lgbm = LGBMClassifier(class_weight='balanced',random_state=seed,**cus_params)\n",
    "lgbm.fit(X_train,y_train)"
   ]
  },
  {
   "cell_type": "code",
   "execution_count": 23,
   "metadata": {},
   "outputs": [
    {
     "data": {
      "image/png": "[encoded data removed]",
      "text/plain": [
       "<Figure size 1080x576 with 2 Axes>"
      ]
     },
     "metadata": {
      "needs_background": "light"
     },
     "output_type": "display_data"
    }
   ],
   "source": [
    "fig = roc_pr_curve_plot(lgbm,X_train,y_train,X_test,y_test)"
   ]
  },
  {
   "cell_type": "code",
   "execution_count": 24,
   "metadata": {},
   "outputs": [
    {
     "name": "stdout",
     "output_type": "stream",
     "text": [
      "              precision    recall  f1-score   support\n",
      "\n",
      "           0       0.98      0.70      0.81     14019\n",
      "           1       0.11      0.74      0.18       682\n",
      "\n",
      "    accuracy                           0.70     14701\n",
      "   macro avg       0.54      0.72      0.50     14701\n",
      "weighted avg       0.94      0.70      0.78     14701\n",
      "\n",
      "average precision score:  0.1806919623425406\n"
     ]
    }
   ],
   "source": [
    "pred = lgbm.predict(X_test)\n",
    "print(classification_report(y_test,pred))\n",
    "pred = lgbm.predict_proba(X_test)[:,1]\n",
    "print('average precision score: ',average_precision_score(y_test,pred))"
   ]
  },
  {
   "cell_type": "markdown",
   "metadata": {},
   "source": [
    "### we can see that the curves are getting closer to each other, the model tend to better fit the data."
   ]
  },
  {
   "cell_type": "markdown",
   "metadata": {},
   "source": [
    "## 4. Model performance evaluation (i.e how well it does along the metrics above)\n"
   ]
  },
  {
   "cell_type": "markdown",
   "metadata": {},
   "source": [
    "### now we don't know whether it's a bias data split and we also want to better find the optimal combination of paramaters."
   ]
  },
  {
   "cell_type": "code",
   "execution_count": 25,
   "metadata": {},
   "outputs": [
    {
     "name": "stdout",
     "output_type": "stream",
     "text": [
      "Fitting 5 folds for each of 27 candidates, totalling 135 fits\n"
     ]
    },
    {
     "name": "stderr",
     "output_type": "stream",
     "text": [
      "[Parallel(n_jobs=-1)]: Using backend LokyBackend with 8 concurrent workers.\n",
      "[Parallel(n_jobs=-1)]: Done  34 tasks      | elapsed:   39.3s\n",
      "[Parallel(n_jobs=-1)]: Done 135 out of 135 | elapsed:  2.4min finished\n"
     ]
    },
    {
     "name": "stdout",
     "output_type": "stream",
     "text": [
      "best_params:  {'max_depth': 6, 'min_child_samples': 40, 'num_leaves': 15}\n",
      "best_average_precision_score 0.18477433472857144\n"
     ]
    }
   ],
   "source": [
    "X_train, X_test, y_train, y_test = train_test_split(X_s, y, test_size=0.2, random_state=seed, stratify=y)\n",
    "model = LGBMClassifier(class_weight='balanced',random_state=seed)\n",
    "params_opt = {'num_leaves':[14, 15, 16], \n",
    "            'max_depth':[4, 5, 6],\n",
    "            'min_child_samples': [20, 30, 40]}\n",
    "gridSearchCV = GridSearchCV(estimator = model, \n",
    "                            param_grid = params_opt, \n",
    "                            scoring='average_precision',\n",
    "                            n_jobs=-1,\n",
    "                            iid=False, \n",
    "                            verbose=1,\n",
    "                            cv=5)\n",
    "gridSearchCV.fit(X_train,y_train)\n",
    "print('best_params: ',gridSearchCV.best_params_)\n",
    "print('best_average_precision_score',gridSearchCV.best_score_)"
   ]
  },
  {
   "cell_type": "code",
   "execution_count": 26,
   "metadata": {},
   "outputs": [
    {
     "name": "stdout",
     "output_type": "stream",
     "text": [
      "best paramaters:  {'max_depth': 6, 'min_child_samples': 40, 'num_leaves': 15}\n",
      "best average precision score:  0.18477433472857144\n"
     ]
    }
   ],
   "source": [
    "best_params = gridSearchCV.best_params_\n",
    "print('best paramaters: ', best_params)\n",
    "print('best average precision score: ',gridSearchCV.best_score_)"
   ]
  },
  {
   "cell_type": "code",
   "execution_count": 27,
   "metadata": {},
   "outputs": [
    {
     "data": {
      "text/plain": [
       "LGBMClassifier(boosting_type='gbdt', class_weight='balanced',\n",
       "               colsample_bytree=1.0, importance_type='split', learning_rate=0.1,\n",
       "               max_depth=6, min_child_samples=40, min_child_weight=0.001,\n",
       "               min_split_gain=0.0, n_estimators=100, n_jobs=-1, num_leaves=15,\n",
       "               objective=None, random_state=11, reg_alpha=0.0, reg_lambda=0.0,\n",
       "               silent=True, subsample=1.0, subsample_for_bin=200000,\n",
       "               subsample_freq=0)"
      ]
     },
     "execution_count": 27,
     "metadata": {},
     "output_type": "execute_result"
    }
   ],
   "source": [
    "lgbm = LGBMClassifier(class_weight='balanced', random_state=seed, **best_params)\n",
    "lgbm.fit(X_train,y_train)"
   ]
  },
  {
   "cell_type": "code",
   "execution_count": 28,
   "metadata": {},
   "outputs": [
    {
     "data": {
      "image/png": "[encoded data removed]",
      "text/plain": [
       "<Figure size 1080x576 with 2 Axes>"
      ]
     },
     "metadata": {
      "needs_background": "light"
     },
     "output_type": "display_data"
    }
   ],
   "source": [
    "fig = roc_pr_curve_plot(lgbm,X_train, y_train, X_test, y_test)"
   ]
  },
  {
   "cell_type": "code",
   "execution_count": 29,
   "metadata": {},
   "outputs": [
    {
     "name": "stdout",
     "output_type": "stream",
     "text": [
      "              precision    recall  f1-score   support\n",
      "\n",
      "           0       0.98      0.70      0.82     14019\n",
      "           1       0.11      0.73      0.19       682\n",
      "\n",
      "    accuracy                           0.71     14701\n",
      "   macro avg       0.54      0.72      0.50     14701\n",
      "weighted avg       0.94      0.71      0.79     14701\n",
      "\n",
      "average precision score:  0.18086460928275963\n"
     ]
    }
   ],
   "source": [
    "pred = lgbm.predict(X_test)\n",
    "print(classification_report(y_test, pred))\n",
    "pred = lgbm.predict_proba(X_test)[:,1]\n",
    "print('average precision score: ',average_precision_score(y_test, pred))"
   ]
  },
  {
   "cell_type": "code",
   "execution_count": 30,
   "metadata": {},
   "outputs": [
    {
     "data": {
      "image/png": "[encoded data removed]",
      "text/plain": [
       "<Figure size 1440x720 with 1 Axes>"
      ]
     },
     "metadata": {
      "needs_background": "light"
     },
     "output_type": "display_data"
    }
   ],
   "source": [
    "whole_feature_cols = np.array(v.get_feature_names())\n",
    "selected_feature_cols = whole_feature_cols[selectors.get_support()]\n",
    "feature_imp = pd.DataFrame(sorted(zip(lgbm.feature_importances_, selected_feature_cols)), columns=['Value','Feature'])\n",
    "\n",
    "plt.figure(figsize=(20, 10))\n",
    "sns.barplot(x=\"Value\", y=\"Feature\", data=feature_imp.sort_values(by=\"Value\", ascending=False).head(10))\n",
    "plt.title('LightGBM Features (avg over folds)')\n",
    "plt.tight_layout()\n",
    "plt.show()"
   ]
  },
  {
   "cell_type": "code",
   "execution_count": 31,
   "metadata": {},
   "outputs": [
    {
     "data": {
      "text/html": [
       "<div>\n",
       "<style scoped>\n",
       "    .dataframe tbody tr th:only-of-type {\n",
       "        vertical-align: middle;\n",
       "    }\n",
       "\n",
       "    .dataframe tbody tr th {\n",
       "        vertical-align: top;\n",
       "    }\n",
       "\n",
       "    .dataframe thead th {\n",
       "        text-align: right;\n",
       "    }\n",
       "</style>\n",
       "<table border=\"1\" class=\"dataframe\">\n",
       "  <thead>\n",
       "    <tr style=\"text-align: right;\">\n",
       "      <th></th>\n",
       "      <th>Value</th>\n",
       "      <th>Feature</th>\n",
       "    </tr>\n",
       "  </thead>\n",
       "  <tbody>\n",
       "    <tr>\n",
       "      <td>1499</td>\n",
       "      <td>106</td>\n",
       "      <td>Age</td>\n",
       "    </tr>\n",
       "    <tr>\n",
       "      <td>1498</td>\n",
       "      <td>58</td>\n",
       "      <td>res_days</td>\n",
       "    </tr>\n",
       "    <tr>\n",
       "      <td>1497</td>\n",
       "      <td>49</td>\n",
       "      <td>last_loinc_2345-7_val</td>\n",
       "    </tr>\n",
       "    <tr>\n",
       "      <td>1496</td>\n",
       "      <td>37</td>\n",
       "      <td>hospital_visits</td>\n",
       "    </tr>\n",
       "    <tr>\n",
       "      <td>1495</td>\n",
       "      <td>35</td>\n",
       "      <td>cpt_83036</td>\n",
       "    </tr>\n",
       "    <tr>\n",
       "      <td>1494</td>\n",
       "      <td>32</td>\n",
       "      <td>icd9</td>\n",
       "    </tr>\n",
       "    <tr>\n",
       "      <td>1493</td>\n",
       "      <td>30</td>\n",
       "      <td>icd10</td>\n",
       "    </tr>\n",
       "    <tr>\n",
       "      <td>1492</td>\n",
       "      <td>27</td>\n",
       "      <td>loinc_2345-7_H</td>\n",
       "    </tr>\n",
       "    <tr>\n",
       "      <td>1491</td>\n",
       "      <td>17</td>\n",
       "      <td>cpt</td>\n",
       "    </tr>\n",
       "    <tr>\n",
       "      <td>1490</td>\n",
       "      <td>14</td>\n",
       "      <td>last_loinc_4548-4_val</td>\n",
       "    </tr>\n",
       "  </tbody>\n",
       "</table>\n",
       "</div>"
      ],
      "text/plain": [
       "      Value                Feature\n",
       "1499    106                    Age\n",
       "1498     58               res_days\n",
       "1497     49  last_loinc_2345-7_val\n",
       "1496     37        hospital_visits\n",
       "1495     35              cpt_83036\n",
       "1494     32                   icd9\n",
       "1493     30                  icd10\n",
       "1492     27         loinc_2345-7_H\n",
       "1491     17                    cpt\n",
       "1490     14  last_loinc_4548-4_val"
      ]
     },
     "execution_count": 31,
     "metadata": {},
     "output_type": "execute_result"
    }
   ],
   "source": [
    "feature_imp.sort_values(by=\"Value\", ascending=False).head(10)"
   ]
  },
  {
   "cell_type": "markdown",
   "metadata": {},
   "source": [
    "### we can see that the top 5 most influential features are \n",
    "### Age: patient's age in year, today's date is 2016-12-31\n",
    "### res_days: how many days between the first doctor and last doctor visit. it kind of tells us how long this patient keep going to see a doctor.\n",
    "### last_loinc_2345-7_val: the most recent value of observation for loinc_2345-7 test\n",
    "### hospital_visits : how many times the patient went to hospital.\n",
    "### cpt_83036: how many timess the patient gow diagnoised with cpt_83036."
   ]
  },
  {
   "cell_type": "markdown",
   "metadata": {},
   "source": [
    "# The Last steps\n",
    "## Use all of the data to train model"
   ]
  },
  {
   "cell_type": "code",
   "execution_count": 32,
   "metadata": {},
   "outputs": [
    {
     "name": "stdout",
     "output_type": "stream",
     "text": [
      "Whole of train data feature dimesions:  (73503, 1500)\n",
      "Whole of train data target dimesions:  (73503,)\n"
     ]
    }
   ],
   "source": [
    "print('Whole of train data feature dimesions: ', X_s.shape)\n",
    "print('Whole of train data target dimesions: ', y.shape)"
   ]
  },
  {
   "cell_type": "code",
   "execution_count": 33,
   "metadata": {},
   "outputs": [
    {
     "data": {
      "text/plain": [
       "LGBMClassifier(boosting_type='gbdt', class_weight='balanced',\n",
       "               colsample_bytree=1.0, importance_type='split', learning_rate=0.1,\n",
       "               max_depth=6, min_child_samples=40, min_child_weight=0.001,\n",
       "               min_split_gain=0.0, n_estimators=100, n_jobs=-1, num_leaves=15,\n",
       "               objective=None, random_state=11, reg_alpha=0.0, reg_lambda=0.0,\n",
       "               silent=True, subsample=1.0, subsample_for_bin=200000,\n",
       "               subsample_freq=0)"
      ]
     },
     "execution_count": 33,
     "metadata": {},
     "output_type": "execute_result"
    }
   ],
   "source": [
    "lgbm = LGBMClassifier(class_weight='balanced', random_state=seed, **best_params)\n",
    "lgbm.fit(X_s, y)"
   ]
  },
  {
   "cell_type": "code",
   "execution_count": 34,
   "metadata": {},
   "outputs": [],
   "source": [
    "# import processed json data (lists of dictionaries)\n",
    "with open('processed_test_dataset.json', 'r') as fp:\n",
    "    test_data = json.load(fp)\n",
    "# extract features and target variable\n",
    "test_features = test_data['features']\n",
    "test_patient_id = np.array(test_data['patient_id'])"
   ]
  },
  {
   "cell_type": "code",
   "execution_count": 35,
   "metadata": {},
   "outputs": [
    {
     "name": "stdout",
     "output_type": "stream",
     "text": [
      "feature space:  (31403, 57727)\n",
      "patient_id space:  (31403,)\n"
     ]
    }
   ],
   "source": [
    "test_X = v.transform(test_features)\n",
    "print('feature space: ',test_X.shape)\n",
    "print('patient_id space: ',test_patient_id.shape)"
   ]
  },
  {
   "cell_type": "code",
   "execution_count": 36,
   "metadata": {},
   "outputs": [],
   "source": [
    "# select the features we need based on the RFE method\n",
    "test_X_s = test_X[:, selectors.get_support()].copy()"
   ]
  },
  {
   "cell_type": "code",
   "execution_count": 37,
   "metadata": {},
   "outputs": [
    {
     "name": "stdout",
     "output_type": "stream",
     "text": [
      "(31403, 1500)\n"
     ]
    }
   ],
   "source": [
    "print(test_X_s.shape)"
   ]
  },
  {
   "cell_type": "code",
   "execution_count": 38,
   "metadata": {},
   "outputs": [],
   "source": [
    "test_pred = lgbm.predict_proba(test_X_s)[:,1]\n",
    "output_data = {'patient_id':list(test_patient_id), 'dm2_prob':list(test_pred)} \n",
    "output_df = pd.DataFrame(output_data)"
   ]
  },
  {
   "cell_type": "code",
   "execution_count": 39,
   "metadata": {},
   "outputs": [
    {
     "data": {
      "text/html": [
       "<div>\n",
       "<style scoped>\n",
       "    .dataframe tbody tr th:only-of-type {\n",
       "        vertical-align: middle;\n",
       "    }\n",
       "\n",
       "    .dataframe tbody tr th {\n",
       "        vertical-align: top;\n",
       "    }\n",
       "\n",
       "    .dataframe thead th {\n",
       "        text-align: right;\n",
       "    }\n",
       "</style>\n",
       "<table border=\"1\" class=\"dataframe\">\n",
       "  <thead>\n",
       "    <tr style=\"text-align: right;\">\n",
       "      <th></th>\n",
       "      <th>patient_id</th>\n",
       "      <th>dm2_prob</th>\n",
       "    </tr>\n",
       "  </thead>\n",
       "  <tbody>\n",
       "    <tr>\n",
       "      <td>0</td>\n",
       "      <td>pat_1</td>\n",
       "      <td>0.251030</td>\n",
       "    </tr>\n",
       "    <tr>\n",
       "      <td>1</td>\n",
       "      <td>pat_2</td>\n",
       "      <td>0.663659</td>\n",
       "    </tr>\n",
       "    <tr>\n",
       "      <td>2</td>\n",
       "      <td>pat_4</td>\n",
       "      <td>0.570407</td>\n",
       "    </tr>\n",
       "    <tr>\n",
       "      <td>3</td>\n",
       "      <td>pat_8</td>\n",
       "      <td>0.443706</td>\n",
       "    </tr>\n",
       "    <tr>\n",
       "      <td>4</td>\n",
       "      <td>pat_11</td>\n",
       "      <td>0.359476</td>\n",
       "    </tr>\n",
       "    <tr>\n",
       "      <td>5</td>\n",
       "      <td>pat_17</td>\n",
       "      <td>0.006002</td>\n",
       "    </tr>\n",
       "    <tr>\n",
       "      <td>6</td>\n",
       "      <td>pat_18</td>\n",
       "      <td>0.143928</td>\n",
       "    </tr>\n",
       "    <tr>\n",
       "      <td>7</td>\n",
       "      <td>pat_19</td>\n",
       "      <td>0.019428</td>\n",
       "    </tr>\n",
       "    <tr>\n",
       "      <td>8</td>\n",
       "      <td>pat_20</td>\n",
       "      <td>0.523495</td>\n",
       "    </tr>\n",
       "    <tr>\n",
       "      <td>9</td>\n",
       "      <td>pat_23</td>\n",
       "      <td>0.753685</td>\n",
       "    </tr>\n",
       "  </tbody>\n",
       "</table>\n",
       "</div>"
      ],
      "text/plain": [
       "  patient_id  dm2_prob\n",
       "0      pat_1  0.251030\n",
       "1      pat_2  0.663659\n",
       "2      pat_4  0.570407\n",
       "3      pat_8  0.443706\n",
       "4     pat_11  0.359476\n",
       "5     pat_17  0.006002\n",
       "6     pat_18  0.143928\n",
       "7     pat_19  0.019428\n",
       "8     pat_20  0.523495\n",
       "9     pat_23  0.753685"
      ]
     },
     "execution_count": 39,
     "metadata": {},
     "output_type": "execute_result"
    }
   ],
   "source": [
    "output_df.head(10)"
   ]
  },
  {
   "cell_type": "code",
   "execution_count": 40,
   "metadata": {},
   "outputs": [],
   "source": [
    "output_df.to_csv('dwight_dm2_solution.csv', index=False)"
   ]
  },
  {
   "cell_type": "code",
   "execution_count": 41,
   "metadata": {},
   "outputs": [],
   "source": [
    "check = pd.read_csv('dwight_dm2_solution.csv')"
   ]
  },
  {
   "cell_type": "code",
   "execution_count": 42,
   "metadata": {},
   "outputs": [
    {
     "data": {
      "text/html": [
       "<div>\n",
       "<style scoped>\n",
       "    .dataframe tbody tr th:only-of-type {\n",
       "        vertical-align: middle;\n",
       "    }\n",
       "\n",
       "    .dataframe tbody tr th {\n",
       "        vertical-align: top;\n",
       "    }\n",
       "\n",
       "    .dataframe thead th {\n",
       "        text-align: right;\n",
       "    }\n",
       "</style>\n",
       "<table border=\"1\" class=\"dataframe\">\n",
       "  <thead>\n",
       "    <tr style=\"text-align: right;\">\n",
       "      <th></th>\n",
       "      <th>patient_id</th>\n",
       "      <th>dm2_prob</th>\n",
       "    </tr>\n",
       "  </thead>\n",
       "  <tbody>\n",
       "    <tr>\n",
       "      <td>0</td>\n",
       "      <td>pat_1</td>\n",
       "      <td>0.251030</td>\n",
       "    </tr>\n",
       "    <tr>\n",
       "      <td>1</td>\n",
       "      <td>pat_2</td>\n",
       "      <td>0.663659</td>\n",
       "    </tr>\n",
       "    <tr>\n",
       "      <td>2</td>\n",
       "      <td>pat_4</td>\n",
       "      <td>0.570407</td>\n",
       "    </tr>\n",
       "    <tr>\n",
       "      <td>3</td>\n",
       "      <td>pat_8</td>\n",
       "      <td>0.443706</td>\n",
       "    </tr>\n",
       "    <tr>\n",
       "      <td>4</td>\n",
       "      <td>pat_11</td>\n",
       "      <td>0.359476</td>\n",
       "    </tr>\n",
       "    <tr>\n",
       "      <td>5</td>\n",
       "      <td>pat_17</td>\n",
       "      <td>0.006002</td>\n",
       "    </tr>\n",
       "    <tr>\n",
       "      <td>6</td>\n",
       "      <td>pat_18</td>\n",
       "      <td>0.143928</td>\n",
       "    </tr>\n",
       "    <tr>\n",
       "      <td>7</td>\n",
       "      <td>pat_19</td>\n",
       "      <td>0.019428</td>\n",
       "    </tr>\n",
       "    <tr>\n",
       "      <td>8</td>\n",
       "      <td>pat_20</td>\n",
       "      <td>0.523495</td>\n",
       "    </tr>\n",
       "    <tr>\n",
       "      <td>9</td>\n",
       "      <td>pat_23</td>\n",
       "      <td>0.753685</td>\n",
       "    </tr>\n",
       "  </tbody>\n",
       "</table>\n",
       "</div>"
      ],
      "text/plain": [
       "  patient_id  dm2_prob\n",
       "0      pat_1  0.251030\n",
       "1      pat_2  0.663659\n",
       "2      pat_4  0.570407\n",
       "3      pat_8  0.443706\n",
       "4     pat_11  0.359476\n",
       "5     pat_17  0.006002\n",
       "6     pat_18  0.143928\n",
       "7     pat_19  0.019428\n",
       "8     pat_20  0.523495\n",
       "9     pat_23  0.753685"
      ]
     },
     "execution_count": 42,
     "metadata": {},
     "output_type": "execute_result"
    }
   ],
   "source": [
    "check.head(10)"
   ]
  },
  {
   "cell_type": "markdown",
   "metadata": {},
   "source": [
    "## 5. A short write-up (2-3 paragraph) of your approach. Be sure to include the following:\n",
    "### - Top 5 most important features for predicting diabetes - have a rationale for why you think these are most important\n",
    "### - Briefly describe the model you used for training\n",
    "### - Explain how you optimized your model, and what performance metrics you optimized for\n",
    "### -How did you prevent overfitting?"
   ]
  },
  {
   "cell_type": "markdown",
   "metadata": {},
   "source": [
    "# Summary: \n",
    "## The top 5 features\n",
    "### Age: patient's age in year, today's date is 2016-12-31\n",
    "### res_days: how many days between the first doctor and last doctor visit. it kind of tells us how long this patient keep going to see a doctor.\n",
    "### last_loinc_2345-7_val: the most recent value of observation for loinc_2345-7 test\n",
    "### hospital_visits : how many times the patient went to hospital.\n",
    "### cpt_83036: how many timess the patient gow diagnoised with cpt_83036."
   ]
  },
  {
   "cell_type": "markdown",
   "metadata": {},
   "source": [
    "## I decided to choose LGBM because \n",
    "### 1. This datasets is imbalance datasets. therefore I choose boosting algo.Becasue this modeling is judge by the metrics 'precision-recall curve' and the area under it.\n",
    "### 2. I imputed with missing value and create lable. Tree model can better handle with nonlinear relationship and correlated features.\n",
    "### 3. Tree model will return feature importance and I can leverage them to conduct feature selection.\n",
    "### 4. tree model doesn't need feature scailing and not sensitive to outliers."
   ]
  },
  {
   "cell_type": "markdown",
   "metadata": {},
   "source": [
    "## The most important part is feature engineering.\n",
    "### We can see the top 5 features 2 of them are obtained by feature negineering. The length of the days between the first time and last time\n",
    "### It seems like the marketing model, RFM analysis helps quite much.\n",
    "### How to map the medical code is another challenging part. either we can also try to use all of the variation but it will easily oversitting and gives too much granular information.\n",
    "### If I have more time, I would dig into the mdeical mapping for 'hcpcs', 'cpt', 'icd9'. I believe it would help a lot but it needs quite much time."
   ]
  },
  {
   "cell_type": "markdown",
   "metadata": {},
   "source": [
    "## Overfitting prevention\n",
    "### I used the training/testing curves plot and cross_validation to prevent overfitting. cross validation prevent the bias train'test data split and curves plot tells us the discrepency \n",
    "### between traing performance and testing performance based on the targeting metrics"
   ]
  },
  {
   "cell_type": "markdown",
   "metadata": {},
   "source": [
    "# end of the script"
   ]
  },
  {
   "cell_type": "code",
   "execution_count": null,
   "metadata": {},
   "outputs": [],
   "source": []
  }
 ],
 "metadata": {
  "kernelspec": {
   "display_name": "Python 3",
   "language": "python",
   "name": "python3"
  },
  "language_info": {
   "codemirror_mode": {
    "name": "ipython",
    "version": 3
   },
   "file_extension": ".py",
   "mimetype": "text/x-python",
   "name": "python",
   "nbconvert_exporter": "python",
   "pygments_lexer": "ipython3",
   "version": "3.7.4"
  }
 },
 "nbformat": 4,
 "nbformat_minor": 2
}
