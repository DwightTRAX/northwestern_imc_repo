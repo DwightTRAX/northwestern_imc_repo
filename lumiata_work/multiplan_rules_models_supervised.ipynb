{
 "cells": [
  {
   "cell_type": "code",
   "execution_count": 1,
   "metadata": {},
   "outputs": [],
   "source": [
    "import pandas as pd\n",
    "import numpy as np\n",
    "from dscost.pipeline import utils\n",
    "from dsfunction.resources import load_map\n",
    "from collections import defaultdict, Counter\n",
    "import json\n",
    "import matplotlib.pyplot as plt\n",
    "from dsfunction.resources import load_map\n",
    "import scipy.sparse as sparse\n",
    "from dateutil.relativedelta import relativedelta\n",
    "from datetime import datetime\n",
    "from pyspark.sql.types import *\n",
    "import pyspark.sql.functions as fn\n",
    "from google.cloud import bigquery\n",
    "from dateutil import relativedelta\n",
    "from sklearn.feature_extraction import DictVectorizer\n",
    "from random import sample\n",
    "from sklearn.metrics import precision_recall_curve, precision_score, recall_score, auc"
   ]
  },
  {
   "cell_type": "code",
   "execution_count": 2,
   "metadata": {},
   "outputs": [],
   "source": [
    "sql = SQLContext(sc)\n",
    "inpath = 'lumiata-internal-6f5a.dwight_multiplan.tbl_202011_CNXNonPar_FinalExtract_V2'\n",
    "LDM = sql.read.format('bigquery').option('table', inpath).load()\n",
    "df = LDM.toPandas()"
   ]
  },
  {
   "cell_type": "code",
   "execution_count": 3,
   "metadata": {},
   "outputs": [
    {
     "data": {
      "text/plain": [
       "(924755, 57)"
      ]
     },
     "execution_count": 3,
     "metadata": {},
     "output_type": "execute_result"
    }
   ],
   "source": [
    "df.shape"
   ]
  },
  {
   "cell_type": "code",
   "execution_count": 4,
   "metadata": {},
   "outputs": [
    {
     "data": {
      "text/plain": [
       "Index(['ClaimID', 'PriorClaimID', 'ClaimType', 'MemberDOB', 'MemberSex',\n",
       "       'ProductCode', 'BillType', 'ServiceFrom', 'ServiceTo', 'AdmitDate',\n",
       "       'AdmitType', 'AdmitSource', 'DischargeStatus', 'ProviderID',\n",
       "       'ProviderOrg', 'ProviderLName', 'ProviderFName', 'ProviderTIN',\n",
       "       'ProviderNP', 'ProviderState', 'HdrCharges', 'ASOFlag',\n",
       "       'ContractedFlag', 'PrimaryFlag', 'DRGCode', 'DRGVersion',\n",
       "       'PrincipalDiag1', 'AdmittingDiag', 'Diag2', 'Diag3', 'Diag4', 'Diag5',\n",
       "       'Diag6', 'Diag7', 'ICDProc1Princ', 'ICDProc1Date', 'ICDProc2',\n",
       "       'ICDProc2Date', 'ICDProc3', 'ICDProc3Date', 'ICDProc4', 'ICDProc4Date',\n",
       "       'LineNumber', 'LineRevCode', 'LinePOS', 'LineProcCode', 'MOD1', 'MOD2',\n",
       "       'MOD3', 'MOD4', 'LineStartDate', 'LineEndDate', 'LineUnits', 'LineNPI',\n",
       "       'LineCharges', 'LineNonCovCharges', 'CLAIM_PAR_SCORE'],\n",
       "      dtype='object')"
      ]
     },
     "execution_count": 4,
     "metadata": {},
     "output_type": "execute_result"
    }
   ],
   "source": [
    "df.columns"
   ]
  },
  {
   "cell_type": "code",
   "execution_count": 5,
   "metadata": {},
   "outputs": [],
   "source": [
    "single_columns = ['PriorClaimID',\n",
    " 'ClaimType',\n",
    " 'ProductCode',\n",
    " 'ProviderID',\n",
    " 'ProviderNP',\n",
    " 'ASOFlag',\n",
    " 'ContractedFlag',\n",
    " 'PrimaryFlag',\n",
    " 'DRGVersion',\n",
    " 'LinePOS',\n",
    " 'LineNPI']\n",
    "df = df.drop(columns=single_columns)"
   ]
  },
  {
   "cell_type": "code",
   "execution_count": 6,
   "metadata": {},
   "outputs": [],
   "source": [
    "df['bday'] = pd.to_datetime(df['MemberDOB'].str[:10], errors='coerce')\n",
    "now = pd.Timestamp('now')\n",
    "df['bday'] = pd.to_datetime(df['bday'], format='%m%d%y')    # 1\n",
    "df['age'] = now.year - df['bday'].dt.year\n",
    "df['CLAIM_PAR_SCORE'] = pd.to_numeric(df['CLAIM_PAR_SCORE'], errors='coerce')\n",
    "df['LineUnits'] = pd.to_numeric(df['LineUnits'], errors='coerce')\n",
    "df['LineNumber'] = pd.to_numeric(df['LineNumber'], errors='coerce')\n",
    "df['LineCharges'] = pd.to_numeric(df['LineCharges'], errors='coerce')\n",
    "df['LineNonCovCharges'] = pd.to_numeric(df['LineNonCovCharges'], errors='coerce')\n",
    "df['HdrCharges'] = pd.to_numeric(df['HdrCharges'], errors='coerce')"
   ]
  },
  {
   "cell_type": "code",
   "execution_count": 7,
   "metadata": {},
   "outputs": [],
   "source": [
    "need_cols = ['ClaimID', 'MemberSex', 'age','PrincipalDiag1','AdmittingDiag', 'Diag2', 'Diag3', 'Diag4',\n",
    "'LineRevCode','LineProcCode', 'LineNumber',\n",
    "'CLAIM_PAR_SCORE']"
   ]
  },
  {
   "cell_type": "code",
   "execution_count": 8,
   "metadata": {},
   "outputs": [],
   "source": [
    "df = df[need_cols]"
   ]
  },
  {
   "cell_type": "code",
   "execution_count": 9,
   "metadata": {},
   "outputs": [
    {
     "name": "stdout",
     "output_type": "stream",
     "text": [
      "<class 'pandas.core.frame.DataFrame'>\n",
      "RangeIndex: 924755 entries, 0 to 924754\n",
      "Data columns (total 12 columns):\n",
      "ClaimID            924755 non-null object\n",
      "MemberSex          924755 non-null object\n",
      "age                924755 non-null int64\n",
      "PrincipalDiag1     924755 non-null object\n",
      "AdmittingDiag      924755 non-null object\n",
      "Diag2              924755 non-null object\n",
      "Diag3              924755 non-null object\n",
      "Diag4              924755 non-null object\n",
      "LineRevCode        924755 non-null object\n",
      "LineProcCode       924755 non-null object\n",
      "LineNumber         924755 non-null int64\n",
      "CLAIM_PAR_SCORE    918108 non-null float64\n",
      "dtypes: float64(1), int64(2), object(9)\n",
      "memory usage: 84.7+ MB\n"
     ]
    }
   ],
   "source": [
    "df.info()"
   ]
  },
  {
   "cell_type": "code",
   "execution_count": 10,
   "metadata": {},
   "outputs": [
    {
     "name": "stdout",
     "output_type": "stream",
     "text": [
      "AdmittingDiag\n",
      "Diag2\n",
      "Diag3\n",
      "Diag4\n"
     ]
    }
   ],
   "source": [
    "dx_claim = defaultdict(dict)\n",
    "\n",
    "#for col in ['MemberSex', 'age']:\n",
    "d = dict(zip(df['ClaimID'].values, df['MemberSex'].values))\n",
    "for cl in d:\n",
    "    dx_claim[cl]['gender_'+d[cl]] = 1\n",
    "\n",
    "d = dict(zip(df['ClaimID'].values, df['age'].values))\n",
    "for cl in d:\n",
    "    dx_claim[cl]['age'] = d[cl]    \n",
    "\n",
    "d = dict(zip(df['ClaimID'].values, df['LineNumber'].values))\n",
    "for cl in d:\n",
    "    dx_claim[cl]['LineNumber'] = d[cl]      \n",
    "\n",
    "for col in ['AdmittingDiag', 'Diag2', 'Diag3', 'Diag4']:\n",
    "    print(col)\n",
    "    d = dict(zip(df['ClaimID'].values, df[col].values))\n",
    "    for cl in d:\n",
    "        if type(d[cl]) == str:\n",
    "            dx_claim[cl]['diag_'+d[cl]] = 1            "
   ]
  },
  {
   "cell_type": "code",
   "execution_count": 11,
   "metadata": {},
   "outputs": [
    {
     "name": "stdout",
     "output_type": "stream",
     "text": [
      "200000 103652\n"
     ]
    }
   ],
   "source": [
    "train_keys = sample(list(dx_claim), 200000)\n",
    "train_dic = {k:dx_claim[k] for k in train_keys}\n",
    "test_keys = [k for k in dx_claim if k not in train_dic]\n",
    "print(len(train_keys), len(test_keys))"
   ]
  },
  {
   "cell_type": "code",
   "execution_count": 12,
   "metadata": {},
   "outputs": [
    {
     "data": {
      "text/plain": [
       "((200000, 7831), (103652, 7831))"
      ]
     },
     "execution_count": 12,
     "metadata": {},
     "output_type": "execute_result"
    }
   ],
   "source": [
    "train_dx = [train_dic[i] for i in train_keys]\n",
    "test_dx = [dx_claim[i] for i in test_keys]\n",
    "dv1 = DictVectorizer()\n",
    "train_mat = dv1.fit_transform(train_dx)\n",
    "test_mat = dv1.transform(test_dx)\n",
    "train_mat.shape, test_mat.shape"
   ]
  },
  {
   "cell_type": "code",
   "execution_count": 13,
   "metadata": {},
   "outputs": [],
   "source": [
    "proc_claim = defaultdict(dict)\n",
    "for col in ['LineProcCode']:\n",
    "    d = dict(zip(df['ClaimID'].values, df[col].values))\n",
    "    for cl in d:\n",
    "        if type(d[cl]) == str:\n",
    "            proc_claim[cl]['line_proc_'+d[cl]] = 1"
   ]
  },
  {
   "cell_type": "code",
   "execution_count": 14,
   "metadata": {},
   "outputs": [
    {
     "data": {
      "text/plain": [
       "((200000, 2930), (103652, 2930))"
      ]
     },
     "execution_count": 14,
     "metadata": {},
     "output_type": "execute_result"
    }
   ],
   "source": [
    "train_proc_lst = [proc_claim[i] for i in train_keys]\n",
    "test_proc_lst = [proc_claim[i] for i in test_keys]\n",
    "dv2 = DictVectorizer()\n",
    "train_proc_mat = dv2.fit_transform(train_proc_lst)\n",
    "test_proc_mat = dv2.transform(test_proc_lst)\n",
    "train_proc_mat.shape, test_proc_mat.shape"
   ]
  },
  {
   "cell_type": "code",
   "execution_count": 15,
   "metadata": {},
   "outputs": [],
   "source": [
    "rev_claim = defaultdict(dict)\n",
    "for col in ['LineRevCode']:\n",
    "    d = dict(zip(df['ClaimID'].values, df[col].values))\n",
    "    for cl in d:\n",
    "        if type(d[cl]) == str:\n",
    "            rev_claim[cl]['line_rev_'+d[cl]] = 1"
   ]
  },
  {
   "cell_type": "code",
   "execution_count": 17,
   "metadata": {},
   "outputs": [
    {
     "data": {
      "text/plain": [
       "((200000, 207), (103652, 207))"
      ]
     },
     "execution_count": 17,
     "metadata": {},
     "output_type": "execute_result"
    }
   ],
   "source": [
    "train_rev_lst = [rev_claim[i] for i in train_keys]\n",
    "test_rev_lst = [rev_claim[i] for i in test_keys]\n",
    "dv3 = DictVectorizer()\n",
    "train_rev_mat = dv3.fit_transform(train_rev_lst)\n",
    "test_rev_mat = dv3.transform(test_rev_lst)\n",
    "train_rev_mat.shape, test_rev_mat.shape"
   ]
  },
  {
   "cell_type": "code",
   "execution_count": 18,
   "metadata": {},
   "outputs": [
    {
     "data": {
      "text/plain": [
       "((200000, 10761), (103652, 10761))"
      ]
     },
     "execution_count": 18,
     "metadata": {},
     "output_type": "execute_result"
    }
   ],
   "source": [
    "train_mat = sparse.hstack((train_mat, train_proc_mat), format='csr')\n",
    "test_mat = sparse.hstack((test_mat, test_proc_mat), format='csr')\n",
    "train_mat.shape, test_mat.shape"
   ]
  },
  {
   "cell_type": "code",
   "execution_count": 19,
   "metadata": {},
   "outputs": [
    {
     "data": {
      "text/plain": [
       "((200000, 10968), (103652, 10968))"
      ]
     },
     "execution_count": 19,
     "metadata": {},
     "output_type": "execute_result"
    }
   ],
   "source": [
    "train_mat = sparse.hstack((train_mat, train_rev_mat), format='csr')\n",
    "test_mat = sparse.hstack((test_mat, test_rev_mat), format='csr')\n",
    "train_mat.shape, test_mat.shape"
   ]
  },
  {
   "cell_type": "code",
   "execution_count": 20,
   "metadata": {},
   "outputs": [],
   "source": [
    "df_grouped = pd.DataFrame(df.groupby('ClaimID')['CLAIM_PAR_SCORE'].mean()).reset_index()\n",
    "target = dict(zip(df_grouped['ClaimID'].values, df_grouped['CLAIM_PAR_SCORE'].values))"
   ]
  },
  {
   "cell_type": "code",
   "execution_count": 21,
   "metadata": {},
   "outputs": [],
   "source": [
    "train_target = [ target[i] for i in train_keys]\n",
    "test_target = [ target[i] for i in test_keys]"
   ]
  },
  {
   "cell_type": "code",
   "execution_count": 23,
   "metadata": {},
   "outputs": [],
   "source": [
    "lgb_reg_params = {\n",
    "    'min_data_in_leaf': 100,\n",
    "    'num_leaves': 100,\n",
    "    'min_gain_to_split': 75,\n",
    "    'sub_feature': 1.0,\n",
    "    'objective': 'regression',\n",
    "    'learning_rate': 0.1,\n",
    "    'num_iterations': 100}"
   ]
  },
  {
   "cell_type": "code",
   "execution_count": 24,
   "metadata": {},
   "outputs": [
    {
     "name": "stderr",
     "output_type": "stream",
     "text": [
      "/usr/local/lib/python3.6/site-packages/lightgbm/engine.py:118: UserWarning: Found `num_iterations` in params. Will use it instead of argument\n",
      "  warnings.warn(\"Found `{}` in params. Will use it instead of argument\".format(alias))\n"
     ]
    }
   ],
   "source": [
    "import lightgbm as lgb\n",
    "lgb_train = lgb.Dataset(train_mat, train_target)\n",
    "reg = lgb.train(lgb_reg_params, lgb_train)"
   ]
  },
  {
   "cell_type": "code",
   "execution_count": 25,
   "metadata": {},
   "outputs": [],
   "source": [
    "def feature_rank_plot(model, top_num_feature, feature_lst,\n",
    "                           importance_type):\n",
    "    feature_importance = model.feature_importance(importance_type)\n",
    "    feature_importance = 100.0*(feature_importance/feature_importance.max())\n",
    "    sorted_idx = np.argsort(feature_importance)\n",
    "    pos = np.arange(sorted_idx.shape[0]) + 0.5\n",
    "    featfig = plt.figure(figsize=(20, 20))\n",
    "    featax = featfig.add_subplot(1, 1, 1)\n",
    "    featax.barh(pos[-top_num_feature:],\n",
    "                feature_importance[sorted_idx][-top_num_feature:],\n",
    "                align='center')\n",
    "    featax.set_yticks(pos[-top_num_feature:])\n",
    "    featax.set_yticklabels(\n",
    "        np.array(feature_lst)[sorted_idx][-top_num_feature:], fontsize=15)\n",
    "    featax.set_xlabel('relative feature importance', fontsize=15)\n",
    "    plt.title(type(model).__name__)\n",
    "    plt.tight_layout()\n",
    "    plt.show()"
   ]
  },
  {
   "cell_type": "code",
   "execution_count": 29,
   "metadata": {},
   "outputs": [
    {
     "data": {
      "image/png": "[encoded data removed]",
      "text/plain": [
       "<Figure size 1440x1440 with 1 Axes>"
      ]
     },
     "metadata": {
      "needs_background": "light"
     },
     "output_type": "display_data"
    }
   ],
   "source": [
    "feature_lst = dv1.get_feature_names() + dv2.get_feature_names() + dv3.get_feature_names()\n",
    "feature_rank_plot(reg, 10, feature_lst, 'gain')"
   ]
  }
 ],
 "metadata": {
  "kernelspec": {
   "display_name": "PySpark",
   "language": "python",
   "name": "pyspark"
  },
  "language_info": {
   "codemirror_mode": {
    "name": "ipython",
    "version": 3
   },
   "file_extension": ".py",
   "mimetype": "text/x-python",
   "name": "python",
   "nbconvert_exporter": "python",
   "pygments_lexer": "ipython3",
   "version": "3.6.8"
  }
 },
 "nbformat": 4,
 "nbformat_minor": 2
}